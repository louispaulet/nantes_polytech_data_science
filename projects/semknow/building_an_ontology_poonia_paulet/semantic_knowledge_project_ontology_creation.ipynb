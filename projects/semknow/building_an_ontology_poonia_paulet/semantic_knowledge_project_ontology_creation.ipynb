{
  "nbformat": 4,
  "nbformat_minor": 0,
  "metadata": {
    "colab": {
      "name": "semantic_knowledge_project_ontology_creation.ipynb",
      "provenance": [],
      "collapsed_sections": [
        "YQcLXAQjGyr4",
        "b7XLxYCNdEvZ",
        "FIp0i3XtiRvV",
        "v7s3K3OMVqr2",
        "l4zv01Pvf31m",
        "OGMd1BZKo79J"
      ],
      "toc_visible": true
    },
    "kernelspec": {
      "name": "python3",
      "display_name": "Python 3"
    },
    "widgets": {
      "application/vnd.jupyter.widget-state+json": {
        "64da5538cc2942308e4e36a9ff844a7d": {
          "model_module": "@jupyter-widgets/controls",
          "model_name": "HBoxModel",
          "state": {
            "_view_name": "HBoxView",
            "_dom_classes": [],
            "_model_name": "HBoxModel",
            "_view_module": "@jupyter-widgets/controls",
            "_model_module_version": "1.5.0",
            "_view_count": null,
            "_view_module_version": "1.5.0",
            "box_style": "",
            "layout": "IPY_MODEL_aab08bf8592340478d7d7fe50060a4cc",
            "_model_module": "@jupyter-widgets/controls",
            "children": [
              "IPY_MODEL_7578998c95e04ea7b3625faadf078069",
              "IPY_MODEL_1d13cd7a856f46189698a7bc2d850348"
            ]
          }
        },
        "aab08bf8592340478d7d7fe50060a4cc": {
          "model_module": "@jupyter-widgets/base",
          "model_name": "LayoutModel",
          "state": {
            "_view_name": "LayoutView",
            "grid_template_rows": null,
            "right": null,
            "justify_content": null,
            "_view_module": "@jupyter-widgets/base",
            "overflow": null,
            "_model_module_version": "1.2.0",
            "_view_count": null,
            "flex_flow": null,
            "width": null,
            "min_width": null,
            "border": null,
            "align_items": null,
            "bottom": null,
            "_model_module": "@jupyter-widgets/base",
            "top": null,
            "grid_column": null,
            "overflow_y": null,
            "overflow_x": null,
            "grid_auto_flow": null,
            "grid_area": null,
            "grid_template_columns": null,
            "flex": null,
            "_model_name": "LayoutModel",
            "justify_items": null,
            "grid_row": null,
            "max_height": null,
            "align_content": null,
            "visibility": null,
            "align_self": null,
            "height": null,
            "min_height": null,
            "padding": null,
            "grid_auto_rows": null,
            "grid_gap": null,
            "max_width": null,
            "order": null,
            "_view_module_version": "1.2.0",
            "grid_template_areas": null,
            "object_position": null,
            "object_fit": null,
            "grid_auto_columns": null,
            "margin": null,
            "display": null,
            "left": null
          }
        },
        "7578998c95e04ea7b3625faadf078069": {
          "model_module": "@jupyter-widgets/controls",
          "model_name": "FloatProgressModel",
          "state": {
            "_view_name": "ProgressView",
            "style": "IPY_MODEL_dcc381365338490b8b7423dfe331a4e6",
            "_dom_classes": [],
            "description": "100%",
            "_model_name": "FloatProgressModel",
            "bar_style": "success",
            "max": 64,
            "_view_module": "@jupyter-widgets/controls",
            "_model_module_version": "1.5.0",
            "value": 64,
            "_view_count": null,
            "_view_module_version": "1.5.0",
            "orientation": "horizontal",
            "min": 0,
            "description_tooltip": null,
            "_model_module": "@jupyter-widgets/controls",
            "layout": "IPY_MODEL_96c0f786569b46228d24067b8308ab84"
          }
        },
        "1d13cd7a856f46189698a7bc2d850348": {
          "model_module": "@jupyter-widgets/controls",
          "model_name": "HTMLModel",
          "state": {
            "_view_name": "HTMLView",
            "style": "IPY_MODEL_c7538b7263f940038b68c7b4423db53c",
            "_dom_classes": [],
            "description": "",
            "_model_name": "HTMLModel",
            "placeholder": "​",
            "_view_module": "@jupyter-widgets/controls",
            "_model_module_version": "1.5.0",
            "value": " 64/64 [00:00&lt;00:00, 103.64it/s]",
            "_view_count": null,
            "_view_module_version": "1.5.0",
            "description_tooltip": null,
            "_model_module": "@jupyter-widgets/controls",
            "layout": "IPY_MODEL_d7f4e5e82a5b4371a671148a508b262e"
          }
        },
        "dcc381365338490b8b7423dfe331a4e6": {
          "model_module": "@jupyter-widgets/controls",
          "model_name": "ProgressStyleModel",
          "state": {
            "_view_name": "StyleView",
            "_model_name": "ProgressStyleModel",
            "description_width": "initial",
            "_view_module": "@jupyter-widgets/base",
            "_model_module_version": "1.5.0",
            "_view_count": null,
            "_view_module_version": "1.2.0",
            "bar_color": null,
            "_model_module": "@jupyter-widgets/controls"
          }
        },
        "96c0f786569b46228d24067b8308ab84": {
          "model_module": "@jupyter-widgets/base",
          "model_name": "LayoutModel",
          "state": {
            "_view_name": "LayoutView",
            "grid_template_rows": null,
            "right": null,
            "justify_content": null,
            "_view_module": "@jupyter-widgets/base",
            "overflow": null,
            "_model_module_version": "1.2.0",
            "_view_count": null,
            "flex_flow": null,
            "width": null,
            "min_width": null,
            "border": null,
            "align_items": null,
            "bottom": null,
            "_model_module": "@jupyter-widgets/base",
            "top": null,
            "grid_column": null,
            "overflow_y": null,
            "overflow_x": null,
            "grid_auto_flow": null,
            "grid_area": null,
            "grid_template_columns": null,
            "flex": null,
            "_model_name": "LayoutModel",
            "justify_items": null,
            "grid_row": null,
            "max_height": null,
            "align_content": null,
            "visibility": null,
            "align_self": null,
            "height": null,
            "min_height": null,
            "padding": null,
            "grid_auto_rows": null,
            "grid_gap": null,
            "max_width": null,
            "order": null,
            "_view_module_version": "1.2.0",
            "grid_template_areas": null,
            "object_position": null,
            "object_fit": null,
            "grid_auto_columns": null,
            "margin": null,
            "display": null,
            "left": null
          }
        },
        "c7538b7263f940038b68c7b4423db53c": {
          "model_module": "@jupyter-widgets/controls",
          "model_name": "DescriptionStyleModel",
          "state": {
            "_view_name": "StyleView",
            "_model_name": "DescriptionStyleModel",
            "description_width": "",
            "_view_module": "@jupyter-widgets/base",
            "_model_module_version": "1.5.0",
            "_view_count": null,
            "_view_module_version": "1.2.0",
            "_model_module": "@jupyter-widgets/controls"
          }
        },
        "d7f4e5e82a5b4371a671148a508b262e": {
          "model_module": "@jupyter-widgets/base",
          "model_name": "LayoutModel",
          "state": {
            "_view_name": "LayoutView",
            "grid_template_rows": null,
            "right": null,
            "justify_content": null,
            "_view_module": "@jupyter-widgets/base",
            "overflow": null,
            "_model_module_version": "1.2.0",
            "_view_count": null,
            "flex_flow": null,
            "width": null,
            "min_width": null,
            "border": null,
            "align_items": null,
            "bottom": null,
            "_model_module": "@jupyter-widgets/base",
            "top": null,
            "grid_column": null,
            "overflow_y": null,
            "overflow_x": null,
            "grid_auto_flow": null,
            "grid_area": null,
            "grid_template_columns": null,
            "flex": null,
            "_model_name": "LayoutModel",
            "justify_items": null,
            "grid_row": null,
            "max_height": null,
            "align_content": null,
            "visibility": null,
            "align_self": null,
            "height": null,
            "min_height": null,
            "padding": null,
            "grid_auto_rows": null,
            "grid_gap": null,
            "max_width": null,
            "order": null,
            "_view_module_version": "1.2.0",
            "grid_template_areas": null,
            "object_position": null,
            "object_fit": null,
            "grid_auto_columns": null,
            "margin": null,
            "display": null,
            "left": null
          }
        },
        "9c016dc273ba435f99a583c705491c8c": {
          "model_module": "@jupyter-widgets/controls",
          "model_name": "HBoxModel",
          "state": {
            "_view_name": "HBoxView",
            "_dom_classes": [],
            "_model_name": "HBoxModel",
            "_view_module": "@jupyter-widgets/controls",
            "_model_module_version": "1.5.0",
            "_view_count": null,
            "_view_module_version": "1.5.0",
            "box_style": "",
            "layout": "IPY_MODEL_9fc06af0980a41658c919905220b165c",
            "_model_module": "@jupyter-widgets/controls",
            "children": [
              "IPY_MODEL_c4f6fe97f4354634b6d7ce0a7101a8bc",
              "IPY_MODEL_c00a763a35ed45a6824d59c7383ec87a"
            ]
          }
        },
        "9fc06af0980a41658c919905220b165c": {
          "model_module": "@jupyter-widgets/base",
          "model_name": "LayoutModel",
          "state": {
            "_view_name": "LayoutView",
            "grid_template_rows": null,
            "right": null,
            "justify_content": null,
            "_view_module": "@jupyter-widgets/base",
            "overflow": null,
            "_model_module_version": "1.2.0",
            "_view_count": null,
            "flex_flow": null,
            "width": null,
            "min_width": null,
            "border": null,
            "align_items": null,
            "bottom": null,
            "_model_module": "@jupyter-widgets/base",
            "top": null,
            "grid_column": null,
            "overflow_y": null,
            "overflow_x": null,
            "grid_auto_flow": null,
            "grid_area": null,
            "grid_template_columns": null,
            "flex": null,
            "_model_name": "LayoutModel",
            "justify_items": null,
            "grid_row": null,
            "max_height": null,
            "align_content": null,
            "visibility": null,
            "align_self": null,
            "height": null,
            "min_height": null,
            "padding": null,
            "grid_auto_rows": null,
            "grid_gap": null,
            "max_width": null,
            "order": null,
            "_view_module_version": "1.2.0",
            "grid_template_areas": null,
            "object_position": null,
            "object_fit": null,
            "grid_auto_columns": null,
            "margin": null,
            "display": null,
            "left": null
          }
        },
        "c4f6fe97f4354634b6d7ce0a7101a8bc": {
          "model_module": "@jupyter-widgets/controls",
          "model_name": "FloatProgressModel",
          "state": {
            "_view_name": "ProgressView",
            "style": "IPY_MODEL_27278617875644169ca209819bd84db9",
            "_dom_classes": [],
            "description": "100%",
            "_model_name": "FloatProgressModel",
            "bar_style": "success",
            "max": 64,
            "_view_module": "@jupyter-widgets/controls",
            "_model_module_version": "1.5.0",
            "value": 64,
            "_view_count": null,
            "_view_module_version": "1.5.0",
            "orientation": "horizontal",
            "min": 0,
            "description_tooltip": null,
            "_model_module": "@jupyter-widgets/controls",
            "layout": "IPY_MODEL_d444cb21a4ac443bbe73f5725543bd52"
          }
        },
        "c00a763a35ed45a6824d59c7383ec87a": {
          "model_module": "@jupyter-widgets/controls",
          "model_name": "HTMLModel",
          "state": {
            "_view_name": "HTMLView",
            "style": "IPY_MODEL_7a2211d1a9ea43a08b7802b331a86a38",
            "_dom_classes": [],
            "description": "",
            "_model_name": "HTMLModel",
            "placeholder": "​",
            "_view_module": "@jupyter-widgets/controls",
            "_model_module_version": "1.5.0",
            "value": " 64/64 [04:08&lt;00:00,  3.88s/it]",
            "_view_count": null,
            "_view_module_version": "1.5.0",
            "description_tooltip": null,
            "_model_module": "@jupyter-widgets/controls",
            "layout": "IPY_MODEL_22329a24332c461d9558cc14cf2f9f47"
          }
        },
        "27278617875644169ca209819bd84db9": {
          "model_module": "@jupyter-widgets/controls",
          "model_name": "ProgressStyleModel",
          "state": {
            "_view_name": "StyleView",
            "_model_name": "ProgressStyleModel",
            "description_width": "initial",
            "_view_module": "@jupyter-widgets/base",
            "_model_module_version": "1.5.0",
            "_view_count": null,
            "_view_module_version": "1.2.0",
            "bar_color": null,
            "_model_module": "@jupyter-widgets/controls"
          }
        },
        "d444cb21a4ac443bbe73f5725543bd52": {
          "model_module": "@jupyter-widgets/base",
          "model_name": "LayoutModel",
          "state": {
            "_view_name": "LayoutView",
            "grid_template_rows": null,
            "right": null,
            "justify_content": null,
            "_view_module": "@jupyter-widgets/base",
            "overflow": null,
            "_model_module_version": "1.2.0",
            "_view_count": null,
            "flex_flow": null,
            "width": null,
            "min_width": null,
            "border": null,
            "align_items": null,
            "bottom": null,
            "_model_module": "@jupyter-widgets/base",
            "top": null,
            "grid_column": null,
            "overflow_y": null,
            "overflow_x": null,
            "grid_auto_flow": null,
            "grid_area": null,
            "grid_template_columns": null,
            "flex": null,
            "_model_name": "LayoutModel",
            "justify_items": null,
            "grid_row": null,
            "max_height": null,
            "align_content": null,
            "visibility": null,
            "align_self": null,
            "height": null,
            "min_height": null,
            "padding": null,
            "grid_auto_rows": null,
            "grid_gap": null,
            "max_width": null,
            "order": null,
            "_view_module_version": "1.2.0",
            "grid_template_areas": null,
            "object_position": null,
            "object_fit": null,
            "grid_auto_columns": null,
            "margin": null,
            "display": null,
            "left": null
          }
        },
        "7a2211d1a9ea43a08b7802b331a86a38": {
          "model_module": "@jupyter-widgets/controls",
          "model_name": "DescriptionStyleModel",
          "state": {
            "_view_name": "StyleView",
            "_model_name": "DescriptionStyleModel",
            "description_width": "",
            "_view_module": "@jupyter-widgets/base",
            "_model_module_version": "1.5.0",
            "_view_count": null,
            "_view_module_version": "1.2.0",
            "_model_module": "@jupyter-widgets/controls"
          }
        },
        "22329a24332c461d9558cc14cf2f9f47": {
          "model_module": "@jupyter-widgets/base",
          "model_name": "LayoutModel",
          "state": {
            "_view_name": "LayoutView",
            "grid_template_rows": null,
            "right": null,
            "justify_content": null,
            "_view_module": "@jupyter-widgets/base",
            "overflow": null,
            "_model_module_version": "1.2.0",
            "_view_count": null,
            "flex_flow": null,
            "width": null,
            "min_width": null,
            "border": null,
            "align_items": null,
            "bottom": null,
            "_model_module": "@jupyter-widgets/base",
            "top": null,
            "grid_column": null,
            "overflow_y": null,
            "overflow_x": null,
            "grid_auto_flow": null,
            "grid_area": null,
            "grid_template_columns": null,
            "flex": null,
            "_model_name": "LayoutModel",
            "justify_items": null,
            "grid_row": null,
            "max_height": null,
            "align_content": null,
            "visibility": null,
            "align_self": null,
            "height": null,
            "min_height": null,
            "padding": null,
            "grid_auto_rows": null,
            "grid_gap": null,
            "max_width": null,
            "order": null,
            "_view_module_version": "1.2.0",
            "grid_template_areas": null,
            "object_position": null,
            "object_fit": null,
            "grid_auto_columns": null,
            "margin": null,
            "display": null,
            "left": null
          }
        },
        "6155d25341664b0abca89efbf1c0de67": {
          "model_module": "@jupyter-widgets/controls",
          "model_name": "HBoxModel",
          "state": {
            "_view_name": "HBoxView",
            "_dom_classes": [],
            "_model_name": "HBoxModel",
            "_view_module": "@jupyter-widgets/controls",
            "_model_module_version": "1.5.0",
            "_view_count": null,
            "_view_module_version": "1.5.0",
            "box_style": "",
            "layout": "IPY_MODEL_94a3a2bc39f245d497ed02b21b05f346",
            "_model_module": "@jupyter-widgets/controls",
            "children": [
              "IPY_MODEL_46e9dc80ed1b44c983ce4dd72671623a",
              "IPY_MODEL_421df66d66fc41e784a5be58c9c2ac7c"
            ]
          }
        },
        "94a3a2bc39f245d497ed02b21b05f346": {
          "model_module": "@jupyter-widgets/base",
          "model_name": "LayoutModel",
          "state": {
            "_view_name": "LayoutView",
            "grid_template_rows": null,
            "right": null,
            "justify_content": null,
            "_view_module": "@jupyter-widgets/base",
            "overflow": null,
            "_model_module_version": "1.2.0",
            "_view_count": null,
            "flex_flow": null,
            "width": null,
            "min_width": null,
            "border": null,
            "align_items": null,
            "bottom": null,
            "_model_module": "@jupyter-widgets/base",
            "top": null,
            "grid_column": null,
            "overflow_y": null,
            "overflow_x": null,
            "grid_auto_flow": null,
            "grid_area": null,
            "grid_template_columns": null,
            "flex": null,
            "_model_name": "LayoutModel",
            "justify_items": null,
            "grid_row": null,
            "max_height": null,
            "align_content": null,
            "visibility": null,
            "align_self": null,
            "height": null,
            "min_height": null,
            "padding": null,
            "grid_auto_rows": null,
            "grid_gap": null,
            "max_width": null,
            "order": null,
            "_view_module_version": "1.2.0",
            "grid_template_areas": null,
            "object_position": null,
            "object_fit": null,
            "grid_auto_columns": null,
            "margin": null,
            "display": null,
            "left": null
          }
        },
        "46e9dc80ed1b44c983ce4dd72671623a": {
          "model_module": "@jupyter-widgets/controls",
          "model_name": "FloatProgressModel",
          "state": {
            "_view_name": "ProgressView",
            "style": "IPY_MODEL_6083bd9fb44745f4879e13f9f8efd58f",
            "_dom_classes": [],
            "description": "100%",
            "_model_name": "FloatProgressModel",
            "bar_style": "success",
            "max": 64,
            "_view_module": "@jupyter-widgets/controls",
            "_model_module_version": "1.5.0",
            "value": 64,
            "_view_count": null,
            "_view_module_version": "1.5.0",
            "orientation": "horizontal",
            "min": 0,
            "description_tooltip": null,
            "_model_module": "@jupyter-widgets/controls",
            "layout": "IPY_MODEL_c4e0579d3104494bbf3657b574c89b16"
          }
        },
        "421df66d66fc41e784a5be58c9c2ac7c": {
          "model_module": "@jupyter-widgets/controls",
          "model_name": "HTMLModel",
          "state": {
            "_view_name": "HTMLView",
            "style": "IPY_MODEL_a5cacf65cbbf4524809b79ddb242a528",
            "_dom_classes": [],
            "description": "",
            "_model_name": "HTMLModel",
            "placeholder": "​",
            "_view_module": "@jupyter-widgets/controls",
            "_model_module_version": "1.5.0",
            "value": " 64/64 [03:41&lt;00:00,  3.47s/it]",
            "_view_count": null,
            "_view_module_version": "1.5.0",
            "description_tooltip": null,
            "_model_module": "@jupyter-widgets/controls",
            "layout": "IPY_MODEL_2563b0c8d615485abaae4b9aa10433ad"
          }
        },
        "6083bd9fb44745f4879e13f9f8efd58f": {
          "model_module": "@jupyter-widgets/controls",
          "model_name": "ProgressStyleModel",
          "state": {
            "_view_name": "StyleView",
            "_model_name": "ProgressStyleModel",
            "description_width": "initial",
            "_view_module": "@jupyter-widgets/base",
            "_model_module_version": "1.5.0",
            "_view_count": null,
            "_view_module_version": "1.2.0",
            "bar_color": null,
            "_model_module": "@jupyter-widgets/controls"
          }
        },
        "c4e0579d3104494bbf3657b574c89b16": {
          "model_module": "@jupyter-widgets/base",
          "model_name": "LayoutModel",
          "state": {
            "_view_name": "LayoutView",
            "grid_template_rows": null,
            "right": null,
            "justify_content": null,
            "_view_module": "@jupyter-widgets/base",
            "overflow": null,
            "_model_module_version": "1.2.0",
            "_view_count": null,
            "flex_flow": null,
            "width": null,
            "min_width": null,
            "border": null,
            "align_items": null,
            "bottom": null,
            "_model_module": "@jupyter-widgets/base",
            "top": null,
            "grid_column": null,
            "overflow_y": null,
            "overflow_x": null,
            "grid_auto_flow": null,
            "grid_area": null,
            "grid_template_columns": null,
            "flex": null,
            "_model_name": "LayoutModel",
            "justify_items": null,
            "grid_row": null,
            "max_height": null,
            "align_content": null,
            "visibility": null,
            "align_self": null,
            "height": null,
            "min_height": null,
            "padding": null,
            "grid_auto_rows": null,
            "grid_gap": null,
            "max_width": null,
            "order": null,
            "_view_module_version": "1.2.0",
            "grid_template_areas": null,
            "object_position": null,
            "object_fit": null,
            "grid_auto_columns": null,
            "margin": null,
            "display": null,
            "left": null
          }
        },
        "a5cacf65cbbf4524809b79ddb242a528": {
          "model_module": "@jupyter-widgets/controls",
          "model_name": "DescriptionStyleModel",
          "state": {
            "_view_name": "StyleView",
            "_model_name": "DescriptionStyleModel",
            "description_width": "",
            "_view_module": "@jupyter-widgets/base",
            "_model_module_version": "1.5.0",
            "_view_count": null,
            "_view_module_version": "1.2.0",
            "_model_module": "@jupyter-widgets/controls"
          }
        },
        "2563b0c8d615485abaae4b9aa10433ad": {
          "model_module": "@jupyter-widgets/base",
          "model_name": "LayoutModel",
          "state": {
            "_view_name": "LayoutView",
            "grid_template_rows": null,
            "right": null,
            "justify_content": null,
            "_view_module": "@jupyter-widgets/base",
            "overflow": null,
            "_model_module_version": "1.2.0",
            "_view_count": null,
            "flex_flow": null,
            "width": null,
            "min_width": null,
            "border": null,
            "align_items": null,
            "bottom": null,
            "_model_module": "@jupyter-widgets/base",
            "top": null,
            "grid_column": null,
            "overflow_y": null,
            "overflow_x": null,
            "grid_auto_flow": null,
            "grid_area": null,
            "grid_template_columns": null,
            "flex": null,
            "_model_name": "LayoutModel",
            "justify_items": null,
            "grid_row": null,
            "max_height": null,
            "align_content": null,
            "visibility": null,
            "align_self": null,
            "height": null,
            "min_height": null,
            "padding": null,
            "grid_auto_rows": null,
            "grid_gap": null,
            "max_width": null,
            "order": null,
            "_view_module_version": "1.2.0",
            "grid_template_areas": null,
            "object_position": null,
            "object_fit": null,
            "grid_auto_columns": null,
            "margin": null,
            "display": null,
            "left": null
          }
        },
        "0168965adcc544dca4ce57158d8102e8": {
          "model_module": "@jupyter-widgets/controls",
          "model_name": "HBoxModel",
          "state": {
            "_view_name": "HBoxView",
            "_dom_classes": [],
            "_model_name": "HBoxModel",
            "_view_module": "@jupyter-widgets/controls",
            "_model_module_version": "1.5.0",
            "_view_count": null,
            "_view_module_version": "1.5.0",
            "box_style": "",
            "layout": "IPY_MODEL_205c449883ac40b79879702c80561bd2",
            "_model_module": "@jupyter-widgets/controls",
            "children": [
              "IPY_MODEL_1c2237b1a26d4da4aee348e7d49eec85",
              "IPY_MODEL_779a334895d2411e8199dcc6030627c7"
            ]
          }
        },
        "205c449883ac40b79879702c80561bd2": {
          "model_module": "@jupyter-widgets/base",
          "model_name": "LayoutModel",
          "state": {
            "_view_name": "LayoutView",
            "grid_template_rows": null,
            "right": null,
            "justify_content": null,
            "_view_module": "@jupyter-widgets/base",
            "overflow": null,
            "_model_module_version": "1.2.0",
            "_view_count": null,
            "flex_flow": null,
            "width": null,
            "min_width": null,
            "border": null,
            "align_items": null,
            "bottom": null,
            "_model_module": "@jupyter-widgets/base",
            "top": null,
            "grid_column": null,
            "overflow_y": null,
            "overflow_x": null,
            "grid_auto_flow": null,
            "grid_area": null,
            "grid_template_columns": null,
            "flex": null,
            "_model_name": "LayoutModel",
            "justify_items": null,
            "grid_row": null,
            "max_height": null,
            "align_content": null,
            "visibility": null,
            "align_self": null,
            "height": null,
            "min_height": null,
            "padding": null,
            "grid_auto_rows": null,
            "grid_gap": null,
            "max_width": null,
            "order": null,
            "_view_module_version": "1.2.0",
            "grid_template_areas": null,
            "object_position": null,
            "object_fit": null,
            "grid_auto_columns": null,
            "margin": null,
            "display": null,
            "left": null
          }
        },
        "1c2237b1a26d4da4aee348e7d49eec85": {
          "model_module": "@jupyter-widgets/controls",
          "model_name": "FloatProgressModel",
          "state": {
            "_view_name": "ProgressView",
            "style": "IPY_MODEL_ea7d804c77884914a6b4b4f33dcbf6bf",
            "_dom_classes": [],
            "description": "",
            "_model_name": "FloatProgressModel",
            "bar_style": "success",
            "max": 1,
            "_view_module": "@jupyter-widgets/controls",
            "_model_module_version": "1.5.0",
            "value": 1,
            "_view_count": null,
            "_view_module_version": "1.5.0",
            "orientation": "horizontal",
            "min": 0,
            "description_tooltip": null,
            "_model_module": "@jupyter-widgets/controls",
            "layout": "IPY_MODEL_9ac9ecfb0e3e4e3a8375767956ca43b4"
          }
        },
        "779a334895d2411e8199dcc6030627c7": {
          "model_module": "@jupyter-widgets/controls",
          "model_name": "HTMLModel",
          "state": {
            "_view_name": "HTMLView",
            "style": "IPY_MODEL_042132c838e44374b7a430ca6cf71c08",
            "_dom_classes": [],
            "description": "",
            "_model_name": "HTMLModel",
            "placeholder": "​",
            "_view_module": "@jupyter-widgets/controls",
            "_model_module_version": "1.5.0",
            "value": " 6400/? [00:19&lt;00:00, 325.63it/s]",
            "_view_count": null,
            "_view_module_version": "1.5.0",
            "description_tooltip": null,
            "_model_module": "@jupyter-widgets/controls",
            "layout": "IPY_MODEL_3eb9b05abe9740fd9d126d34ef931f12"
          }
        },
        "ea7d804c77884914a6b4b4f33dcbf6bf": {
          "model_module": "@jupyter-widgets/controls",
          "model_name": "ProgressStyleModel",
          "state": {
            "_view_name": "StyleView",
            "_model_name": "ProgressStyleModel",
            "description_width": "initial",
            "_view_module": "@jupyter-widgets/base",
            "_model_module_version": "1.5.0",
            "_view_count": null,
            "_view_module_version": "1.2.0",
            "bar_color": null,
            "_model_module": "@jupyter-widgets/controls"
          }
        },
        "9ac9ecfb0e3e4e3a8375767956ca43b4": {
          "model_module": "@jupyter-widgets/base",
          "model_name": "LayoutModel",
          "state": {
            "_view_name": "LayoutView",
            "grid_template_rows": null,
            "right": null,
            "justify_content": null,
            "_view_module": "@jupyter-widgets/base",
            "overflow": null,
            "_model_module_version": "1.2.0",
            "_view_count": null,
            "flex_flow": null,
            "width": null,
            "min_width": null,
            "border": null,
            "align_items": null,
            "bottom": null,
            "_model_module": "@jupyter-widgets/base",
            "top": null,
            "grid_column": null,
            "overflow_y": null,
            "overflow_x": null,
            "grid_auto_flow": null,
            "grid_area": null,
            "grid_template_columns": null,
            "flex": null,
            "_model_name": "LayoutModel",
            "justify_items": null,
            "grid_row": null,
            "max_height": null,
            "align_content": null,
            "visibility": null,
            "align_self": null,
            "height": null,
            "min_height": null,
            "padding": null,
            "grid_auto_rows": null,
            "grid_gap": null,
            "max_width": null,
            "order": null,
            "_view_module_version": "1.2.0",
            "grid_template_areas": null,
            "object_position": null,
            "object_fit": null,
            "grid_auto_columns": null,
            "margin": null,
            "display": null,
            "left": null
          }
        },
        "042132c838e44374b7a430ca6cf71c08": {
          "model_module": "@jupyter-widgets/controls",
          "model_name": "DescriptionStyleModel",
          "state": {
            "_view_name": "StyleView",
            "_model_name": "DescriptionStyleModel",
            "description_width": "",
            "_view_module": "@jupyter-widgets/base",
            "_model_module_version": "1.5.0",
            "_view_count": null,
            "_view_module_version": "1.2.0",
            "_model_module": "@jupyter-widgets/controls"
          }
        },
        "3eb9b05abe9740fd9d126d34ef931f12": {
          "model_module": "@jupyter-widgets/base",
          "model_name": "LayoutModel",
          "state": {
            "_view_name": "LayoutView",
            "grid_template_rows": null,
            "right": null,
            "justify_content": null,
            "_view_module": "@jupyter-widgets/base",
            "overflow": null,
            "_model_module_version": "1.2.0",
            "_view_count": null,
            "flex_flow": null,
            "width": null,
            "min_width": null,
            "border": null,
            "align_items": null,
            "bottom": null,
            "_model_module": "@jupyter-widgets/base",
            "top": null,
            "grid_column": null,
            "overflow_y": null,
            "overflow_x": null,
            "grid_auto_flow": null,
            "grid_area": null,
            "grid_template_columns": null,
            "flex": null,
            "_model_name": "LayoutModel",
            "justify_items": null,
            "grid_row": null,
            "max_height": null,
            "align_content": null,
            "visibility": null,
            "align_self": null,
            "height": null,
            "min_height": null,
            "padding": null,
            "grid_auto_rows": null,
            "grid_gap": null,
            "max_width": null,
            "order": null,
            "_view_module_version": "1.2.0",
            "grid_template_areas": null,
            "object_position": null,
            "object_fit": null,
            "grid_auto_columns": null,
            "margin": null,
            "display": null,
            "left": null
          }
        },
        "6a175955f92049cd8e454c3d164fb080": {
          "model_module": "@jupyter-widgets/controls",
          "model_name": "HBoxModel",
          "state": {
            "_view_name": "HBoxView",
            "_dom_classes": [],
            "_model_name": "HBoxModel",
            "_view_module": "@jupyter-widgets/controls",
            "_model_module_version": "1.5.0",
            "_view_count": null,
            "_view_module_version": "1.5.0",
            "box_style": "",
            "layout": "IPY_MODEL_6459b724471d4ab98cf5c1ac7d3ad815",
            "_model_module": "@jupyter-widgets/controls",
            "children": [
              "IPY_MODEL_420477db2e3741e08c7d94428bb868a8",
              "IPY_MODEL_ceebb3c84dce44db90875348c9908581"
            ]
          }
        },
        "6459b724471d4ab98cf5c1ac7d3ad815": {
          "model_module": "@jupyter-widgets/base",
          "model_name": "LayoutModel",
          "state": {
            "_view_name": "LayoutView",
            "grid_template_rows": null,
            "right": null,
            "justify_content": null,
            "_view_module": "@jupyter-widgets/base",
            "overflow": null,
            "_model_module_version": "1.2.0",
            "_view_count": null,
            "flex_flow": null,
            "width": null,
            "min_width": null,
            "border": null,
            "align_items": null,
            "bottom": null,
            "_model_module": "@jupyter-widgets/base",
            "top": null,
            "grid_column": null,
            "overflow_y": null,
            "overflow_x": null,
            "grid_auto_flow": null,
            "grid_area": null,
            "grid_template_columns": null,
            "flex": null,
            "_model_name": "LayoutModel",
            "justify_items": null,
            "grid_row": null,
            "max_height": null,
            "align_content": null,
            "visibility": null,
            "align_self": null,
            "height": null,
            "min_height": null,
            "padding": null,
            "grid_auto_rows": null,
            "grid_gap": null,
            "max_width": null,
            "order": null,
            "_view_module_version": "1.2.0",
            "grid_template_areas": null,
            "object_position": null,
            "object_fit": null,
            "grid_auto_columns": null,
            "margin": null,
            "display": null,
            "left": null
          }
        },
        "420477db2e3741e08c7d94428bb868a8": {
          "model_module": "@jupyter-widgets/controls",
          "model_name": "FloatProgressModel",
          "state": {
            "_view_name": "ProgressView",
            "style": "IPY_MODEL_023118161fc24d3db552bb7e21e0d940",
            "_dom_classes": [],
            "description": "100%",
            "_model_name": "FloatProgressModel",
            "bar_style": "success",
            "max": 100,
            "_view_module": "@jupyter-widgets/controls",
            "_model_module_version": "1.5.0",
            "value": 100,
            "_view_count": null,
            "_view_module_version": "1.5.0",
            "orientation": "horizontal",
            "min": 0,
            "description_tooltip": null,
            "_model_module": "@jupyter-widgets/controls",
            "layout": "IPY_MODEL_1e307ca98f4e442ca04a6850b8b28f94"
          }
        },
        "ceebb3c84dce44db90875348c9908581": {
          "model_module": "@jupyter-widgets/controls",
          "model_name": "HTMLModel",
          "state": {
            "_view_name": "HTMLView",
            "style": "IPY_MODEL_75c1f0e328284fed932bb8eec632c1c4",
            "_dom_classes": [],
            "description": "",
            "_model_name": "HTMLModel",
            "placeholder": "​",
            "_view_module": "@jupyter-widgets/controls",
            "_model_module_version": "1.5.0",
            "value": " 100/100 [00:21&lt;00:00,  4.55it/s]",
            "_view_count": null,
            "_view_module_version": "1.5.0",
            "description_tooltip": null,
            "_model_module": "@jupyter-widgets/controls",
            "layout": "IPY_MODEL_14cb5fe880da43f1a6e5a11c967e7fd6"
          }
        },
        "023118161fc24d3db552bb7e21e0d940": {
          "model_module": "@jupyter-widgets/controls",
          "model_name": "ProgressStyleModel",
          "state": {
            "_view_name": "StyleView",
            "_model_name": "ProgressStyleModel",
            "description_width": "initial",
            "_view_module": "@jupyter-widgets/base",
            "_model_module_version": "1.5.0",
            "_view_count": null,
            "_view_module_version": "1.2.0",
            "bar_color": null,
            "_model_module": "@jupyter-widgets/controls"
          }
        },
        "1e307ca98f4e442ca04a6850b8b28f94": {
          "model_module": "@jupyter-widgets/base",
          "model_name": "LayoutModel",
          "state": {
            "_view_name": "LayoutView",
            "grid_template_rows": null,
            "right": null,
            "justify_content": null,
            "_view_module": "@jupyter-widgets/base",
            "overflow": null,
            "_model_module_version": "1.2.0",
            "_view_count": null,
            "flex_flow": null,
            "width": null,
            "min_width": null,
            "border": null,
            "align_items": null,
            "bottom": null,
            "_model_module": "@jupyter-widgets/base",
            "top": null,
            "grid_column": null,
            "overflow_y": null,
            "overflow_x": null,
            "grid_auto_flow": null,
            "grid_area": null,
            "grid_template_columns": null,
            "flex": null,
            "_model_name": "LayoutModel",
            "justify_items": null,
            "grid_row": null,
            "max_height": null,
            "align_content": null,
            "visibility": null,
            "align_self": null,
            "height": null,
            "min_height": null,
            "padding": null,
            "grid_auto_rows": null,
            "grid_gap": null,
            "max_width": null,
            "order": null,
            "_view_module_version": "1.2.0",
            "grid_template_areas": null,
            "object_position": null,
            "object_fit": null,
            "grid_auto_columns": null,
            "margin": null,
            "display": null,
            "left": null
          }
        },
        "75c1f0e328284fed932bb8eec632c1c4": {
          "model_module": "@jupyter-widgets/controls",
          "model_name": "DescriptionStyleModel",
          "state": {
            "_view_name": "StyleView",
            "_model_name": "DescriptionStyleModel",
            "description_width": "",
            "_view_module": "@jupyter-widgets/base",
            "_model_module_version": "1.5.0",
            "_view_count": null,
            "_view_module_version": "1.2.0",
            "_model_module": "@jupyter-widgets/controls"
          }
        },
        "14cb5fe880da43f1a6e5a11c967e7fd6": {
          "model_module": "@jupyter-widgets/base",
          "model_name": "LayoutModel",
          "state": {
            "_view_name": "LayoutView",
            "grid_template_rows": null,
            "right": null,
            "justify_content": null,
            "_view_module": "@jupyter-widgets/base",
            "overflow": null,
            "_model_module_version": "1.2.0",
            "_view_count": null,
            "flex_flow": null,
            "width": null,
            "min_width": null,
            "border": null,
            "align_items": null,
            "bottom": null,
            "_model_module": "@jupyter-widgets/base",
            "top": null,
            "grid_column": null,
            "overflow_y": null,
            "overflow_x": null,
            "grid_auto_flow": null,
            "grid_area": null,
            "grid_template_columns": null,
            "flex": null,
            "_model_name": "LayoutModel",
            "justify_items": null,
            "grid_row": null,
            "max_height": null,
            "align_content": null,
            "visibility": null,
            "align_self": null,
            "height": null,
            "min_height": null,
            "padding": null,
            "grid_auto_rows": null,
            "grid_gap": null,
            "max_width": null,
            "order": null,
            "_view_module_version": "1.2.0",
            "grid_template_areas": null,
            "object_position": null,
            "object_fit": null,
            "grid_auto_columns": null,
            "margin": null,
            "display": null,
            "left": null
          }
        },
        "acea183c79ec4ec4b934ba5a3ff622ea": {
          "model_module": "@jupyter-widgets/controls",
          "model_name": "HBoxModel",
          "state": {
            "_view_name": "HBoxView",
            "_dom_classes": [],
            "_model_name": "HBoxModel",
            "_view_module": "@jupyter-widgets/controls",
            "_model_module_version": "1.5.0",
            "_view_count": null,
            "_view_module_version": "1.5.0",
            "box_style": "",
            "layout": "IPY_MODEL_35a2591df7404ffe923e4c1cd400cce6",
            "_model_module": "@jupyter-widgets/controls",
            "children": [
              "IPY_MODEL_61f5d80d1a9e43e3800170b48b721e47",
              "IPY_MODEL_1af6f71dadff4e17a9d318439d1ac9a1"
            ]
          }
        },
        "35a2591df7404ffe923e4c1cd400cce6": {
          "model_module": "@jupyter-widgets/base",
          "model_name": "LayoutModel",
          "state": {
            "_view_name": "LayoutView",
            "grid_template_rows": null,
            "right": null,
            "justify_content": null,
            "_view_module": "@jupyter-widgets/base",
            "overflow": null,
            "_model_module_version": "1.2.0",
            "_view_count": null,
            "flex_flow": null,
            "width": null,
            "min_width": null,
            "border": null,
            "align_items": null,
            "bottom": null,
            "_model_module": "@jupyter-widgets/base",
            "top": null,
            "grid_column": null,
            "overflow_y": null,
            "overflow_x": null,
            "grid_auto_flow": null,
            "grid_area": null,
            "grid_template_columns": null,
            "flex": null,
            "_model_name": "LayoutModel",
            "justify_items": null,
            "grid_row": null,
            "max_height": null,
            "align_content": null,
            "visibility": null,
            "align_self": null,
            "height": null,
            "min_height": null,
            "padding": null,
            "grid_auto_rows": null,
            "grid_gap": null,
            "max_width": null,
            "order": null,
            "_view_module_version": "1.2.0",
            "grid_template_areas": null,
            "object_position": null,
            "object_fit": null,
            "grid_auto_columns": null,
            "margin": null,
            "display": null,
            "left": null
          }
        },
        "61f5d80d1a9e43e3800170b48b721e47": {
          "model_module": "@jupyter-widgets/controls",
          "model_name": "FloatProgressModel",
          "state": {
            "_view_name": "ProgressView",
            "style": "IPY_MODEL_9d16acd7c1594339835be78adbde2b40",
            "_dom_classes": [],
            "description": "100%",
            "_model_name": "FloatProgressModel",
            "bar_style": "success",
            "max": 100,
            "_view_module": "@jupyter-widgets/controls",
            "_model_module_version": "1.5.0",
            "value": 100,
            "_view_count": null,
            "_view_module_version": "1.5.0",
            "orientation": "horizontal",
            "min": 0,
            "description_tooltip": null,
            "_model_module": "@jupyter-widgets/controls",
            "layout": "IPY_MODEL_5fdeca74c4de47a9adb127dffeaf080b"
          }
        },
        "1af6f71dadff4e17a9d318439d1ac9a1": {
          "model_module": "@jupyter-widgets/controls",
          "model_name": "HTMLModel",
          "state": {
            "_view_name": "HTMLView",
            "style": "IPY_MODEL_e4dd0752527844deb65666618090448e",
            "_dom_classes": [],
            "description": "",
            "_model_name": "HTMLModel",
            "placeholder": "​",
            "_view_module": "@jupyter-widgets/controls",
            "_model_module_version": "1.5.0",
            "value": " 100/100 [00:21&lt;00:00,  4.65it/s]",
            "_view_count": null,
            "_view_module_version": "1.5.0",
            "description_tooltip": null,
            "_model_module": "@jupyter-widgets/controls",
            "layout": "IPY_MODEL_ebb8d87f67a84006a52661d44a971ec1"
          }
        },
        "9d16acd7c1594339835be78adbde2b40": {
          "model_module": "@jupyter-widgets/controls",
          "model_name": "ProgressStyleModel",
          "state": {
            "_view_name": "StyleView",
            "_model_name": "ProgressStyleModel",
            "description_width": "initial",
            "_view_module": "@jupyter-widgets/base",
            "_model_module_version": "1.5.0",
            "_view_count": null,
            "_view_module_version": "1.2.0",
            "bar_color": null,
            "_model_module": "@jupyter-widgets/controls"
          }
        },
        "5fdeca74c4de47a9adb127dffeaf080b": {
          "model_module": "@jupyter-widgets/base",
          "model_name": "LayoutModel",
          "state": {
            "_view_name": "LayoutView",
            "grid_template_rows": null,
            "right": null,
            "justify_content": null,
            "_view_module": "@jupyter-widgets/base",
            "overflow": null,
            "_model_module_version": "1.2.0",
            "_view_count": null,
            "flex_flow": null,
            "width": null,
            "min_width": null,
            "border": null,
            "align_items": null,
            "bottom": null,
            "_model_module": "@jupyter-widgets/base",
            "top": null,
            "grid_column": null,
            "overflow_y": null,
            "overflow_x": null,
            "grid_auto_flow": null,
            "grid_area": null,
            "grid_template_columns": null,
            "flex": null,
            "_model_name": "LayoutModel",
            "justify_items": null,
            "grid_row": null,
            "max_height": null,
            "align_content": null,
            "visibility": null,
            "align_self": null,
            "height": null,
            "min_height": null,
            "padding": null,
            "grid_auto_rows": null,
            "grid_gap": null,
            "max_width": null,
            "order": null,
            "_view_module_version": "1.2.0",
            "grid_template_areas": null,
            "object_position": null,
            "object_fit": null,
            "grid_auto_columns": null,
            "margin": null,
            "display": null,
            "left": null
          }
        },
        "e4dd0752527844deb65666618090448e": {
          "model_module": "@jupyter-widgets/controls",
          "model_name": "DescriptionStyleModel",
          "state": {
            "_view_name": "StyleView",
            "_model_name": "DescriptionStyleModel",
            "description_width": "",
            "_view_module": "@jupyter-widgets/base",
            "_model_module_version": "1.5.0",
            "_view_count": null,
            "_view_module_version": "1.2.0",
            "_model_module": "@jupyter-widgets/controls"
          }
        },
        "ebb8d87f67a84006a52661d44a971ec1": {
          "model_module": "@jupyter-widgets/base",
          "model_name": "LayoutModel",
          "state": {
            "_view_name": "LayoutView",
            "grid_template_rows": null,
            "right": null,
            "justify_content": null,
            "_view_module": "@jupyter-widgets/base",
            "overflow": null,
            "_model_module_version": "1.2.0",
            "_view_count": null,
            "flex_flow": null,
            "width": null,
            "min_width": null,
            "border": null,
            "align_items": null,
            "bottom": null,
            "_model_module": "@jupyter-widgets/base",
            "top": null,
            "grid_column": null,
            "overflow_y": null,
            "overflow_x": null,
            "grid_auto_flow": null,
            "grid_area": null,
            "grid_template_columns": null,
            "flex": null,
            "_model_name": "LayoutModel",
            "justify_items": null,
            "grid_row": null,
            "max_height": null,
            "align_content": null,
            "visibility": null,
            "align_self": null,
            "height": null,
            "min_height": null,
            "padding": null,
            "grid_auto_rows": null,
            "grid_gap": null,
            "max_width": null,
            "order": null,
            "_view_module_version": "1.2.0",
            "grid_template_areas": null,
            "object_position": null,
            "object_fit": null,
            "grid_auto_columns": null,
            "margin": null,
            "display": null,
            "left": null
          }
        }
      }
    }
  },
  "cells": [
    {
      "cell_type": "markdown",
      "metadata": {
        "id": "X5RqYWz-k3Bn"
      },
      "source": [
        "# All the dependencies are loaded in this section"
      ]
    },
    {
      "cell_type": "markdown",
      "metadata": {
        "id": "I_5rVWaetbzV"
      },
      "source": [
        "In this section, we load all the libraries needed for the ontology building process.  \r\n",
        "Then, we import given functions (the python files are converted into functions for a cleaner look when used in the test section). Important parameters, like minimal frequencies, are extracted as parameters to these functions.  \r\n",
        "\r\n",
        "This section doesn't contain new code, it is only a preparatory step.  "
      ]
    },
    {
      "cell_type": "markdown",
      "metadata": {
        "id": "g4KbztjX8-hA"
      },
      "source": [
        "## Library Installation"
      ]
    },
    {
      "cell_type": "code",
      "metadata": {
        "colab": {
          "base_uri": "https://localhost:8080/"
        },
        "id": "hs1OJ_Hj7-jp",
        "outputId": "7408e379-f827-4885-a786-be688fb39fec"
      },
      "source": [
        "# Setup\r\n",
        "!pip install -q wordcloud\r\n",
        "import wordcloud\r\n",
        "\r\n",
        "import nltk\r\n",
        "nltk.download('stopwords')\r\n",
        "nltk.download('wordnet')\r\n",
        "nltk.download('punkt')\r\n",
        "nltk.download('averaged_perceptron_tagger') \r\n",
        "\r\n",
        "import pandas as pd\r\n",
        "import numpy as np\r\n",
        "import matplotlib.pyplot as plt\r\n",
        "import io\r\n",
        "import unicodedata\r\n",
        "import re\r\n",
        "import string\r\n",
        "import tqdm.notebook as tq\r\n",
        "from sklearn.decomposition import PCA\r\n",
        "from sklearn.cluster import OPTICS\r\n",
        "import seaborn as sns\r\n",
        "import seaborn as sns; sns.set()"
      ],
      "execution_count": 1,
      "outputs": [
        {
          "output_type": "stream",
          "text": [
            "[nltk_data] Downloading package stopwords to /root/nltk_data...\n",
            "[nltk_data]   Unzipping corpora/stopwords.zip.\n",
            "[nltk_data] Downloading package wordnet to /root/nltk_data...\n",
            "[nltk_data]   Unzipping corpora/wordnet.zip.\n",
            "[nltk_data] Downloading package punkt to /root/nltk_data...\n",
            "[nltk_data]   Unzipping tokenizers/punkt.zip.\n",
            "[nltk_data] Downloading package averaged_perceptron_tagger to\n",
            "[nltk_data]     /root/nltk_data...\n",
            "[nltk_data]   Unzipping taggers/averaged_perceptron_tagger.zip.\n"
          ],
          "name": "stdout"
        }
      ]
    },
    {
      "cell_type": "code",
      "metadata": {
        "colab": {
          "base_uri": "https://localhost:8080/"
        },
        "id": "TufPRiEvZHKx",
        "outputId": "868e1b92-91af-4ad5-aab0-946f2bb53d81"
      },
      "source": [
        "#option to allow infinite width on dataframe column display\r\n",
        "pd.set_option('max_colwidth', -1)"
      ],
      "execution_count": 2,
      "outputs": [
        {
          "output_type": "stream",
          "text": [
            "/usr/local/lib/python3.6/dist-packages/ipykernel_launcher.py:2: FutureWarning: Passing a negative integer is deprecated in version 1.0 and will not be supported in future version. Instead, use None to not limit the column width.\n",
            "  \n"
          ],
          "name": "stderr"
        }
      ]
    },
    {
      "cell_type": "code",
      "metadata": {
        "colab": {
          "base_uri": "https://localhost:8080/"
        },
        "id": "QuvHUhr_8Ehz",
        "outputId": "4523aa1d-a9c2-45d8-e72a-92375926f0c6"
      },
      "source": [
        "!pip install pdfminer.six"
      ],
      "execution_count": 3,
      "outputs": [
        {
          "output_type": "stream",
          "text": [
            "Collecting pdfminer.six\n",
            "\u001b[?25l  Downloading https://files.pythonhosted.org/packages/93/f3/4fec7dabe8802ebec46141345bf714cd1fc7d93cb74ddde917e4b6d97d88/pdfminer.six-20201018-py3-none-any.whl (5.6MB)\n",
            "\u001b[K     |████████████████████████████████| 5.6MB 2.0MB/s \n",
            "\u001b[?25hRequirement already satisfied: chardet; python_version > \"3.0\" in /usr/local/lib/python3.6/dist-packages (from pdfminer.six) (3.0.4)\n",
            "Requirement already satisfied: sortedcontainers in /usr/local/lib/python3.6/dist-packages (from pdfminer.six) (2.3.0)\n",
            "Collecting cryptography\n",
            "\u001b[?25l  Downloading https://files.pythonhosted.org/packages/c9/de/7054df0620b5411ba45480f0261e1fb66a53f3db31b28e3aa52c026e72d9/cryptography-3.3.1-cp36-abi3-manylinux2010_x86_64.whl (2.6MB)\n",
            "\u001b[K     |████████████████████████████████| 2.6MB 24.2MB/s \n",
            "\u001b[?25hRequirement already satisfied: cffi>=1.12 in /usr/local/lib/python3.6/dist-packages (from cryptography->pdfminer.six) (1.14.4)\n",
            "Requirement already satisfied: six>=1.4.1 in /usr/local/lib/python3.6/dist-packages (from cryptography->pdfminer.six) (1.15.0)\n",
            "Requirement already satisfied: pycparser in /usr/local/lib/python3.6/dist-packages (from cffi>=1.12->cryptography->pdfminer.six) (2.20)\n",
            "Installing collected packages: cryptography, pdfminer.six\n",
            "Successfully installed cryptography-3.3.1 pdfminer.six-20201018\n"
          ],
          "name": "stdout"
        }
      ]
    },
    {
      "cell_type": "code",
      "metadata": {
        "id": "mtrQc7C_8GUs"
      },
      "source": [
        "import spacy\r\n",
        "nlp = spacy.load(\"en_core_web_sm\")"
      ],
      "execution_count": 4,
      "outputs": []
    },
    {
      "cell_type": "markdown",
      "metadata": {
        "id": "YQcLXAQjGyr4"
      },
      "source": [
        "## Pdf2Text"
      ]
    },
    {
      "cell_type": "code",
      "metadata": {
        "id": "J5T6jJjtFt2E"
      },
      "source": [
        "def pdf_2_text(path):\r\n",
        "  from io import StringIO\r\n",
        "  from pdfminer.pdfinterp import PDFResourceManager, PDFPageInterpreter\r\n",
        "  from pdfminer.converter import TextConverter\r\n",
        "  from pdfminer.layout import LAParams\r\n",
        "  from pdfminer.pdfpage import PDFPage\r\n",
        "  from os.path import isfile, join\r\n",
        "  from os import listdir\r\n",
        "  from spacy.lang.en import English\r\n",
        "  nlp = English()\r\n",
        "  nlp.add_pipe(nlp.create_pipe('sentencizer'))\r\n",
        "\r\n",
        "  def main():\r\n",
        "      \"\"\"\r\n",
        "      An algorithm that convert a list of pdf files into text files.\r\n",
        "      DocsDir: a directory where pdf files exists\r\n",
        "      DataDir: a directory where you want to save the results file\r\n",
        "      \"\"\"\r\n",
        "      DocsDir= path+\"/pdf_docs\"\r\n",
        "      DataDir = path+\"/Corpus\"\r\n",
        "      alldocs = [f for f in listdir(DocsDir) if isfile(join(DocsDir, f)) and f.__contains__(\".pdf\")]\r\n",
        "      for doc in alldocs:\r\n",
        "          text = convert(join(DocsDir, doc))\r\n",
        "          of = doc.replace(\".pdf\", \".txt\")\r\n",
        "          f1 = open(join(DataDir, of), 'w', errors='ignore')\r\n",
        "          p = \"\"\r\n",
        "          lines = text.split(\"\\n\")\r\n",
        "          for i, line in enumerate(lines):\r\n",
        "              if line == \"\":\r\n",
        "                  continue\r\n",
        "              if not line.endswith(\".\") and (len(line.split(\" \")) >= 5 or len(p.split(\" \")) >= 5) and len(lines[i+1].split(\" \")) > 0:\r\n",
        "                  p += line.strip() + \" \"\r\n",
        "                  continue\r\n",
        "              elif line.endswith(\".\"):\r\n",
        "                  p += line\r\n",
        "                  if len(p.split(\" \")) >= 5:\r\n",
        "                      f1.write(preprocess(p) + \"\\n\")\r\n",
        "                  p = \"\"\r\n",
        "              else:\r\n",
        "                  if len(line.split(\" \")) >= 5:\r\n",
        "                      f1.write(preprocess(line) + \"\\n\")\r\n",
        "                  p = \"\"\r\n",
        "\r\n",
        "          f1.close()\r\n",
        "\r\n",
        "\r\n",
        "  def preprocess(file_str):\r\n",
        "      doc = nlp(file_str)\r\n",
        "      sents = [sent.string.strip() for sent in doc.sents]\r\n",
        "      cleaned = list(map(lambda x: x.replace('-\\n', '').replace('\\n', ' ').replace(u'\u0004', 'fi'), sents))\r\n",
        "      return '\\n'.join(cleaned)\r\n",
        "\r\n",
        "  #converts pdf, returns its text content as a string\r\n",
        "  def convert(fname, pages=None):\r\n",
        "      if not pages:\r\n",
        "          pagenums = set()\r\n",
        "      else:\r\n",
        "          pagenums = set(pages)\r\n",
        "\r\n",
        "      output = StringIO()\r\n",
        "      manager = PDFResourceManager()\r\n",
        "      converter = TextConverter(manager, output, laparams=LAParams())\r\n",
        "      interpreter = PDFPageInterpreter(manager, converter)\r\n",
        "\r\n",
        "      infile = open(fname, 'rb')\r\n",
        "      for page in PDFPage.get_pages(infile, pagenums):\r\n",
        "          interpreter.process_page(page)\r\n",
        "      infile.close()\r\n",
        "      converter.close()\r\n",
        "      text = output.getvalue()\r\n",
        "      output.close()\r\n",
        "      return ' '.join(text.split())\r\n",
        "\r\n",
        "  if __name__ == '__main__':\r\n",
        "      main()\r\n",
        "\r\n",
        "\r\n",
        "#test\r\n",
        "# path = '/content/drive/MyDrive/nantes/semantic/OL_Python'\r\n",
        "# pdf_2_text(path)"
      ],
      "execution_count": 5,
      "outputs": []
    },
    {
      "cell_type": "markdown",
      "metadata": {
        "id": "VL5qjbtpGuRk"
      },
      "source": [
        "## Corpus_Parsing.py"
      ]
    },
    {
      "cell_type": "code",
      "metadata": {
        "id": "xK_vSy-NDPk8"
      },
      "source": [
        "def corpus_parsing(path, min_freq):\r\n",
        "  from os import listdir\r\n",
        "  from os.path import isfile, join\r\n",
        "  nlp = spacy.load('en_core_web_sm')\r\n",
        "\r\n",
        "  def main():\r\n",
        "      \"\"\"\r\n",
        "          corpus parsing + creation of frequent terms file above given minimum threshold\r\n",
        "      \"\"\"\r\n",
        "      # inputs\r\n",
        "      corpus_dir = path+\"/Corpus\"  #directory for corpus documents\r\n",
        "      output_dir = path+\"/OutputDir\" # result file output directory\r\n",
        "      output_file = output_dir + r\"/processedTestCorpus.txt\" # name of the output file (the processed corpus)\r\n",
        "      freqTerms_output_file = output_dir + r\"/freqTerms.txt\" # name of the output file (the frequent terms)\r\n",
        "      isDep = True #True for depenceny parsing; False for shallow parsing\r\n",
        "      #Process Result: create the processed corpus file and the frequent terms file\r\n",
        "\r\n",
        "      lemmas = dict()\r\n",
        "      alldocs = [join(corpus_dir, f) for f in listdir(corpus_dir) if isfile(join(corpus_dir, f))]\r\n",
        "      f2 = open(output_file, \"w\", errors='ignore')\r\n",
        "      for doc in tq.tqdm(alldocs):\r\n",
        "          f2.write(\"<text>\" + \"\\n\") # new document\r\n",
        "          with open(doc, \"rb\")as docText:\r\n",
        "              for line in docText:\r\n",
        "                  f2.write(\"<s>\" + \"\\n\") #new sentence\r\n",
        "                  sent = line.strip().decode(\"utf-8\", \"ignore\")\r\n",
        "                  if isDep:\r\n",
        "                      parsedSent = nlp(sent) #dependency parsing\r\n",
        "                  else:\r\n",
        "                      parsedSent = nlp(sent, disable=['parser']) #shallow parsing\r\n",
        "                  index = 0\r\n",
        "                  for token in parsedSent:\r\n",
        "                      if isDep:\r\n",
        "                          w = token.text + \"\\t\" + token.lemma_ + \"\\t\" + token.pos_ + \"\\t\" + str(\r\n",
        "                              index) + \"\\t\" + token.head.text + \"\\t\" + token.dep_ + \"\\n\"\r\n",
        "                      else:\r\n",
        "                          w = token.text + \"\\t\" + token.lemma_  + \"\\t\" + token.pos_ + \"\\t\" + str(\r\n",
        "                              index) + \"\\tparent\\tdep\\n\"\r\n",
        "                      f2.write(w) #sentence word\r\n",
        "                      index += 1\r\n",
        "                      lemma = token.lemma_\r\n",
        "                      if lemma in lemmas.keys():\r\n",
        "                          lemmas[lemma] = lemmas[lemma] + 1\r\n",
        "                      else:\r\n",
        "                          lemmas[lemma] = 1\r\n",
        "                  f2.write(\"</s>\" + \"\\n\")\r\n",
        "          f2.write(\"</text>\" + \"\\n\")\r\n",
        "\r\n",
        "      #write the frequent lemmas into frequnet file\r\n",
        "      freq_file = open(freqTerms_output_file, \"w\")\r\n",
        "      for key in lemmas.keys():\r\n",
        "          if lemmas[key] >= min_freq:\r\n",
        "              freq_file.write(key + \"\\n\")\r\n",
        "      freq_file.close()\r\n",
        "      f2.close()\r\n",
        "\r\n",
        "  if __name__ == '__main__':\r\n",
        "      main()\r\n",
        "\r\n",
        "#test\r\n",
        "# min_freq = 3 #minimum frequent threshold for creating the file of frequent terms\r\n",
        "# corpus_parsing(path, min_freq)"
      ],
      "execution_count": 6,
      "outputs": []
    },
    {
      "cell_type": "markdown",
      "metadata": {
        "id": "kNDT9L4XG5GK"
      },
      "source": [
        "## TermExtraction.py"
      ]
    },
    {
      "cell_type": "code",
      "metadata": {
        "id": "w0-IhBbkG6KV"
      },
      "source": [
        "def term_extraction(path, minFreq):\r\n",
        "  import spacy\r\n",
        "  from os import listdir\r\n",
        "  from os.path import isfile, join\r\n",
        "  nlp = spacy.load('en_core_web_sm')\r\n",
        "  from spacy.lang.en.stop_words import STOP_WORDS\r\n",
        "  stopWords = set(STOP_WORDS)\r\n",
        "\r\n",
        "  def main():\r\n",
        "      \"\"\"\r\n",
        "      document terms extraction\r\n",
        "      \"\"\"\r\n",
        "      #inputs\r\n",
        "      corpus_dir = path+\"/Corpus\" #directory for corpus documents\r\n",
        "      output_dir = path+\"/OutputDir\" #result files output directory\r\n",
        "      output_file = output_dir + r\"/ExtractedTerms.txt\" #the path to save the extracted terms\r\n",
        "\r\n",
        "      terms_file = open(output_file, \"w\", errors='ignore')\r\n",
        "      #compute tf for each term in the corpus\r\n",
        "      tf= computerTf(corpus_dir)\r\n",
        "      #if tf of the term is greater than minimum freq save it to the output file\r\n",
        "      for term, score in tf.items():\r\n",
        "          if score >= minFreq:\r\n",
        "              terms_file.write(str(term) + \"\\n\")\r\n",
        "\r\n",
        "  def removeArticles(text):\r\n",
        "      #remove stop words from the begining of a NP\r\n",
        "      words = text.split()\r\n",
        "      if words[0] in stopWords:\r\n",
        "          return text.replace(words[0]+ \" \", \"\")\r\n",
        "      return text\r\n",
        "\r\n",
        "  def computerTf(dir):\r\n",
        "      alldocs = [join(dir, f) for f in listdir(dir) if isfile(join(dir, f))]\r\n",
        "      AllTerms = dict()\r\n",
        "      for doc in tq.tqdm(alldocs):\r\n",
        "          docText = open(doc, \"r\", errors='ignore').read()\r\n",
        "          docParsing = nlp(docText)\r\n",
        "          for chunk in docParsing.noun_chunks:\r\n",
        "              np = removeArticles(chunk.text.lower())\r\n",
        "              if np in stopWords:\r\n",
        "                  continue\r\n",
        "              if np in AllTerms.keys():\r\n",
        "                  AllTerms[np] += 1\r\n",
        "              else:\r\n",
        "                  AllTerms[np] = 1\r\n",
        "\r\n",
        "      return AllTerms\r\n",
        "\r\n",
        "  if __name__ == '__main__':\r\n",
        "      main()\r\n",
        "\r\n",
        "# test\r\n",
        "# minFreq = 5 #minimum frequency threshold\r\n",
        "# term_extraction(path, minFreq)"
      ],
      "execution_count": 7,
      "outputs": []
    },
    {
      "cell_type": "markdown",
      "metadata": {
        "id": "oA2zb4ODLy_Y"
      },
      "source": [
        "##Common Function import"
      ]
    },
    {
      "cell_type": "code",
      "metadata": {
        "id": "bsMF8KUFL1tJ"
      },
      "source": [
        "import gzip\r\n",
        "import string\r\n",
        "import numpy as np\r\n",
        "from collections import defaultdict\r\n",
        "\r\n",
        "def get_sentences(corpus_file):\r\n",
        "    \"\"\"\r\n",
        "    Returns all the (content) sentences in a corpus file\r\n",
        "    :param corpus_file: the corpus file\r\n",
        "    :return: the next sentence (yield)\r\n",
        "    \"\"\"\r\n",
        "\r\n",
        "    # Read all the sentences in the file\r\n",
        "    with open(corpus_file, 'r', errors='ignore') as f_in:\r\n",
        "\r\n",
        "        s = []\r\n",
        "\r\n",
        "        for line in f_in:\r\n",
        "            line = line\r\n",
        "\r\n",
        "            # Ignore start and end of doc\r\n",
        "            if '<text' in line or '</text' in line or '<s>' in line:\r\n",
        "                continue\r\n",
        "            # End of sentence\r\n",
        "            elif '</s>' in line:\r\n",
        "                yield s\r\n",
        "                s = []\r\n",
        "            else:\r\n",
        "                try:\r\n",
        "                    word, lemma, pos, index, parent, dep = line.split()\r\n",
        "                    s.append((word, lemma, pos, int(index), parent, dep))\r\n",
        "                # One of the items is a space - ignore this token\r\n",
        "                except Exception as e:\r\n",
        "                    print (str(e))\r\n",
        "                    continue\r\n",
        "\r\n",
        "def save_file_as_Matrix12(cooc_mat, frequent_contexts, output_Dir, MatrixFileName, MatrixSamplesFileName):\r\n",
        "    print(len(frequent_contexts))\r\n",
        "    cnts = [\"Terms/contexts\"]\r\n",
        "    list_of_lists = []\r\n",
        "    for context in frequent_contexts:\r\n",
        "        cnts.append(context)\r\n",
        "    list_of_lists.append(cnts)\r\n",
        "    for target, contexts in cooc_mat.items():\r\n",
        "        targets = []\r\n",
        "        targets.append(target)\r\n",
        "        for context in frequent_contexts:\r\n",
        "            if context in contexts.keys():\r\n",
        "                targets.append(str(contexts[context]))\r\n",
        "            else:\r\n",
        "                targets.append(str(0))\r\n",
        "        list_of_lists.append(targets)\r\n",
        "    res = np.array(list_of_lists)\r\n",
        "    np.savetxt(output_Dir + MatrixFileName, res, delimiter=\",\", fmt='%s')\r\n",
        "    return\r\n",
        "\r\n",
        "def save_file_as_Matrix1(cooc_mat, frequent_contexts, output_Dir, MatrixFileName, MatrixSamplesFileName):\r\n",
        "    f = open(output_Dir + MatrixSamplesFileName, \"w\")\r\n",
        "    list_of_lists = []\r\n",
        "    for target, contexts in cooc_mat.items():\r\n",
        "        targets = []\r\n",
        "        f.write(target+\"\\n\")\r\n",
        "        for context in frequent_contexts:\r\n",
        "            if context in contexts.keys():\r\n",
        "                targets.append(contexts[context])\r\n",
        "            else:\r\n",
        "                targets.append(0)\r\n",
        "        list_of_lists.append(targets)\r\n",
        "    res = np.array(list_of_lists)\r\n",
        "    np.savetxt(output_Dir + MatrixFileName, res, delimiter=\",\")\r\n",
        "    return\r\n",
        "\r\n",
        "def save_file_as_Matrix2(cooc_mat, frequent_contexts, output_Dir, MatrixFileName, frequent_couples):\r\n",
        "    list_of_lists = []\r\n",
        "    cnts = [\"NP_couples/contexts\"]\r\n",
        "    for context in frequent_contexts:\r\n",
        "        cnts.append(context)\r\n",
        "    list_of_lists.append(cnts)\r\n",
        "    for target, contexts in cooc_mat.items():\r\n",
        "        if target in frequent_couples:\r\n",
        "            targets = []\r\n",
        "            targets.append(str(target).replace(\"\\t\", \" ## \"))\r\n",
        "            for context in frequent_contexts:\r\n",
        "                if context in contexts.keys():\r\n",
        "                    targets.append(str(contexts[context]))\r\n",
        "                else:\r\n",
        "                    targets.append(str(0))\r\n",
        "            list_of_lists.append(targets)\r\n",
        "    res = np.array(list_of_lists)\r\n",
        "    np.savetxt(output_Dir + MatrixFileName, res, delimiter=\",\", fmt='%s')\r\n",
        "    return\r\n",
        "\r\n",
        "def save_file_as_Matrix(cooc_mat, frequent_contexts, output_Dir, MatrixFileName, MatrixSamplesFileName, frequent_couples):\r\n",
        "    f = open(output_Dir + MatrixSamplesFileName, \"w\")\r\n",
        "    list_of_lists = []\r\n",
        "    for target, contexts in cooc_mat.items():\r\n",
        "        if target in frequent_couples:\r\n",
        "            targets = []\r\n",
        "            f.write(target+\"\\n\")\r\n",
        "            for context in frequent_contexts:\r\n",
        "                if context in contexts.keys():\r\n",
        "                    targets.append(contexts[context])\r\n",
        "                else:\r\n",
        "                    targets.append(0)\r\n",
        "            list_of_lists.append(targets)\r\n",
        "    res = np.array(list_of_lists)\r\n",
        "    np.savetxt(output_Dir + MatrixFileName, res, delimiter=\",\")\r\n",
        "    return\r\n",
        "\r\n",
        "def filter_couples(cooc_mat, min_occurrences):\r\n",
        "    \"\"\"\r\n",
        "    Returns the couples that occurred at least min_occurrences times\r\n",
        "    :param cooc_mat: the co-occurrence matrix\r\n",
        "    :param min_occurrences: the minimum number of occurrences\r\n",
        "    :return: the frequent couples\r\n",
        "    \"\"\"\r\n",
        "\r\n",
        "    couple_freq = []\r\n",
        "    for target, contexts in cooc_mat.items():\r\n",
        "        occur = 0\r\n",
        "        for context, freq in contexts.items():\r\n",
        "            occur += freq\r\n",
        "        if occur >= min_occurrences:\r\n",
        "            couple_freq.append(target)\r\n",
        "    return couple_freq\r\n",
        "\r\n",
        "def filter_contexts(cooc_mat, min_occurrences):\r\n",
        "    \"\"\"\r\n",
        "    Returns the contexts that occurred at least min_occurrences times\r\n",
        "    :param cooc_mat: the co-occurrence matrix\r\n",
        "    :param min_occurrences: the minimum number of occurrences\r\n",
        "    :return: the frequent contexts\r\n",
        "    \"\"\"\r\n",
        "    context_freq = defaultdict(int)\r\n",
        "    for target, contexts in cooc_mat.items():\r\n",
        "        for context, freq in contexts.items():\r\n",
        "            try:\r\n",
        "                str(context)\r\n",
        "                context_freq[context] = context_freq[context] + freq\r\n",
        "            except:\r\n",
        "                continue\r\n",
        "\r\n",
        "    frequent_contexts = set([context for context, frequency in context_freq.items() if frequency >= min_occurrences and context not in string.punctuation])\r\n",
        "    return frequent_contexts\r\n",
        "\r\n",
        "def getSentence(strip_sentence):\r\n",
        "    \"\"\"\r\n",
        "            Returns sentence (space seperated tokens)\r\n",
        "            :param strip_sentence: the list of tokens with other information for each token\r\n",
        "            :return: the sentence as string\r\n",
        "    \"\"\"\r\n",
        "    sent = \"\"\r\n",
        "    for i, (t_word, t_lemma, t_pos, t_index, t_parent, t_dep) in enumerate(strip_sentence):\r\n",
        "        sent += t_word.lower() + \" \"\r\n",
        "    return sent"
      ],
      "execution_count": 8,
      "outputs": []
    },
    {
      "cell_type": "markdown",
      "metadata": {
        "id": "oJA--iEbOqCz"
      },
      "source": [
        "## window_based_matrix_creation.py"
      ]
    },
    {
      "cell_type": "code",
      "metadata": {
        "id": "sooT-fXNOuV7"
      },
      "source": [
        "def window_based_matrix_creation(path, MIN_FREQ):\r\n",
        "  import os\r\n",
        "  from collections import defaultdict\r\n",
        "\r\n",
        "\r\n",
        "  def main():\r\n",
        "      \"\"\"\r\n",
        "      Create window-based co-occurence file\r\n",
        "      \"\"\"\r\n",
        "      processed_corpus_dir = path+\"/OutputDir\"\r\n",
        "      freq_file = processed_corpus_dir+\"/freqTerms.txt\"\r\n",
        "      terms_file = processed_corpus_dir+\"/ExtractedTerms.txt\"\r\n",
        "      window_size = 5\r\n",
        "\r\n",
        "      # Load the frequent words file\r\n",
        "      with open(freq_file) as f_in:\r\n",
        "          freq_words = set([line.strip() for line in f_in])\r\n",
        "      with open(terms_file) as f_in2:\r\n",
        "          terms = set([line.strip() for line in f_in2])\r\n",
        "\r\n",
        "      cooc_mat = defaultdict(lambda: defaultdict(int))\r\n",
        "\r\n",
        "      corpus_files = sorted([processed_corpus_dir + '/' + file for file in os.listdir(processed_corpus_dir) if str(file).__contains__(\"processed\")])\r\n",
        "\r\n",
        "      for file_num, corpus_file in enumerate(corpus_files):\r\n",
        "\r\n",
        "          print('Processing corpus file %s (%d/%d)...' % (corpus_file, file_num + 1, len(corpus_files)))\r\n",
        "          for sentence in tq.tqdm(get_sentences(corpus_file)):\r\n",
        "              update_window_based_cooc_matrix(cooc_mat, freq_words, sentence, window_size, terms)\r\n",
        "\r\n",
        "      # Filter contexts to decrease sparsity\r\n",
        "      frequent_contexts = filter_contexts(cooc_mat, MIN_FREQ)\r\n",
        "      # Save the files\r\n",
        "      save_file_as_Matrix1(cooc_mat, frequent_contexts, processed_corpus_dir, r\"/window_matrix.csv\", r\"/window_matrix_terms.txt\")\r\n",
        "      save_file_as_Matrix12(cooc_mat, frequent_contexts, processed_corpus_dir, r\"/window_matrix2.csv\", r\"/window_matrix_terms.txt\")\r\n",
        "\r\n",
        "  def update_window_based_cooc_matrix(cooc_mat, freq_words, sentence, window_size, terms):\r\n",
        "      \"\"\"\r\n",
        "      Updates the co-occurrence matrix with the current sentence\r\n",
        "      :param cooc_mat: the co-occurrence matrix\r\n",
        "      :param freq_words: the list of frequent words\r\n",
        "      :param sentence: the current sentence\r\n",
        "      :param window_size: the number of words on each side of the target\r\n",
        "      :param directional: whether to distinguish between contexts before and after the target\r\n",
        "      :return: the update co-occurrence matrix\r\n",
        "      \"\"\"\r\n",
        "\r\n",
        "      # Remove all the non relevant words, keeping only NN, JJ and VB\r\n",
        "      strip_sentence = [(w_word, w_lemma, w_pos, w_index, w_parent, w_dep) for\r\n",
        "                        (w_word, w_lemma, w_pos, w_index, w_parent, w_dep) in sentence\r\n",
        "              if str(w_pos).__eq__('NOUN') or str(w_pos).__eq__('PROPN') or str(w_pos).__eq__('VERB') or str(w_pos).__eq__('ADJ')]\r\n",
        "\r\n",
        "      sent = getSentence(strip_sentence)\r\n",
        "      for term in terms:\r\n",
        "          ln = len(term.strip().split())\r\n",
        "          Indexes = getIndexes(sent, term)\r\n",
        "          for i in Indexes:\r\n",
        "              if i > 0:\r\n",
        "                  for l in range(max(0, i - window_size), i):\r\n",
        "                      _, c_lemma, c_pos, _, _, _ = strip_sentence[l]\r\n",
        "\r\n",
        "                      if c_lemma not in freq_words:\r\n",
        "                          continue\r\n",
        "\r\n",
        "                      context = c_lemma  # context lemma + left + lower pos\r\n",
        "                      cooc_mat[term][context] = cooc_mat[term][context] + 1\r\n",
        "              # Update right contexts if they are inside the window and before EOS (and frequent enough)\r\n",
        "              for r in range(i + ln, min(len(strip_sentence), i + ln + window_size)):\r\n",
        "\r\n",
        "                  _, c_lemma, c_pos, _, _, _ = strip_sentence[r]\r\n",
        "\r\n",
        "                  if c_lemma not in freq_words:\r\n",
        "                      continue\r\n",
        "\r\n",
        "                  context = c_lemma\r\n",
        "                  cooc_mat[term][context] = cooc_mat[term][context] + 1\r\n",
        "\r\n",
        "      return cooc_mat\r\n",
        "\r\n",
        "  def getIndexes(sent, term):\r\n",
        "      \"\"\"\r\n",
        "          Returns all indexes where a term occurs in a sentence\r\n",
        "          :param sent: a sentence (space separated words)\r\n",
        "          :param term: the term\r\n",
        "          :return: list of indexes where the term occurs in the sentence\r\n",
        "      \"\"\"\r\n",
        "      indexes = []\r\n",
        "      if (\" \" + sent).__contains__( \" \" + term + \" \"):\r\n",
        "          term2 = term.replace(\" \", \"_\")\r\n",
        "          sent = sent.replace(\" \" + term + \" \", \" \" + term2 + \" \")\r\n",
        "          twords = [t for t in term2.strip().split()]\r\n",
        "          swords = [st for st in sent.strip().split()]\r\n",
        "          ln = len(term.strip().split()) - 1\r\n",
        "          word = twords[0]\r\n",
        "          while True:\r\n",
        "              try:\r\n",
        "                  ind = swords.index(word)\r\n",
        "                  indlen = len(indexes)\r\n",
        "                  indexes.append(ind + (indlen * ln))\r\n",
        "                  swords[ind] = \"_\"\r\n",
        "              except:\r\n",
        "                  break\r\n",
        "      return indexes\r\n",
        "\r\n",
        "\r\n",
        "  if __name__ == '__main__':\r\n",
        "      main()\r\n",
        "\r\n",
        "#test\r\n",
        "# MIN_FREQ = 20\r\n",
        "# window_based_matrix_creation(path, MIN_FREQ)"
      ],
      "execution_count": 9,
      "outputs": []
    },
    {
      "cell_type": "markdown",
      "metadata": {
        "id": "uQQ9nIk-CbfO"
      },
      "source": [
        "## Matrix Sparsity"
      ]
    },
    {
      "cell_type": "code",
      "metadata": {
        "id": "KIByQcqtO-_T"
      },
      "source": [
        "def matrix_sparsity(path):\r\n",
        "  import matplotlib.pyplot as plt\r\n",
        "  import numpy as np\r\n",
        "\r\n",
        "  def main():\r\n",
        "      X = np.loadtxt(path+\"/OutputDir/window_matrix.csv\", delimiter=\",\")\r\n",
        "      sparsity = 1.0 - np.count_nonzero(X) * 1.0 / X.size\r\n",
        "      print(sparsity)\r\n",
        "      plt.matshow(X)\r\n",
        "      plt.show()\r\n",
        "\r\n",
        "  if __name__ == '__main__':\r\n",
        "      main()\r\n",
        "\r\n",
        "#test\r\n",
        "# matrix_sparsity(path)"
      ],
      "execution_count": 10,
      "outputs": []
    },
    {
      "cell_type": "markdown",
      "metadata": {
        "id": "pERk-iehC0br"
      },
      "source": [
        "## Kmeans clustering"
      ]
    },
    {
      "cell_type": "code",
      "metadata": {
        "id": "pWV-VivvC0Kz"
      },
      "source": [
        "def kmeans_clustering(path, nbClusters):\r\n",
        "  from sklearn.cluster import KMeans\r\n",
        "  import numpy as np\r\n",
        "  import matplotlib.pyplot as plt\r\n",
        "  from sklearn.decomposition import PCA\r\n",
        "\r\n",
        "  def main():\r\n",
        "      \r\n",
        "      #load the data\r\n",
        "      X = np.loadtxt(path+\"/OutputDir/window_matrix.csv\", delimiter=\",\")\r\n",
        "      #data shuffling\r\n",
        "      # np.random.shuffle(X)\r\n",
        "      #apply k-means\r\n",
        "      kmeans = KMeans(n_clusters=nbClusters, random_state=0).fit_predict(X)\r\n",
        "      print(kmeans)\r\n",
        "      plt.figure()\r\n",
        "      X = PCA(n_components=2).fit_transform(X)\r\n",
        "      plt.scatter(X[:, 0], X[:, 1], c=kmeans)\r\n",
        "      plt.show()\r\n",
        "      clusters = dict()\r\n",
        "      for i in range(0, nbClusters):\r\n",
        "          clusters[i] = []\r\n",
        "      i = 0\r\n",
        "      #get the clusters\r\n",
        "      with open(path+\"/OutputDir/window_matrix_terms.txt\", \"r\") as f:\r\n",
        "          for line in f:\r\n",
        "              term = line.strip()\r\n",
        "              clusterNb = kmeans[i]\r\n",
        "              i += 1\r\n",
        "              clusters[clusterNb].append(term)\r\n",
        "      for cluster_id, cluster  in clusters.items():\r\n",
        "          print(\"cluster: \" + str(cluster_id))\r\n",
        "          print(cluster)\r\n",
        "\r\n",
        "  if __name__ == '__main__':\r\n",
        "      main()\r\n",
        "\r\n",
        "#test\r\n",
        "# nbClusters = 5 #number of clusters\r\n",
        "# kmeans_clustering(path)"
      ],
      "execution_count": 11,
      "outputs": []
    },
    {
      "cell_type": "markdown",
      "metadata": {
        "id": "t-Id41c7DNHP"
      },
      "source": [
        "## Core-concept-based clustering"
      ]
    },
    {
      "cell_type": "code",
      "metadata": {
        "id": "pwXTEsUtDNln"
      },
      "source": [
        "def core_concept_based_clustering(path, CoreConcepts):\r\n",
        "  from sklearn.metrics.pairwise import cosine_similarity\r\n",
        "  import numpy as np\r\n",
        "\r\n",
        "\r\n",
        "  def main():\r\n",
        "      #load the matrix and the terms of the matrix\r\n",
        "      X = np.loadtxt(path+\"/OutputDir/window_matrix.csv\", delimiter=\",\")\r\n",
        "      Y = np.loadtxt(path+\"/OutputDir/window_matrix_terms.txt\", delimiter=\"\\t\", dtype=str)\r\n",
        "\r\n",
        "      coreConceptsDict = dict()\r\n",
        "      coreConceptsSpecializationDict = {core:[] for core in CoreConcepts}\r\n",
        "      otherConceptsDict = dict()\r\n",
        "      i = 0\r\n",
        "      #seperate the matirx data between core concepts data and other concepts data\r\n",
        "      for y in Y:\r\n",
        "          if y in CoreConcepts:\r\n",
        "              coreConceptsDict[y] = X[i]\r\n",
        "          else:\r\n",
        "              otherConceptsDict[y] = X[i]\r\n",
        "          i += 1\r\n",
        "\r\n",
        "      #calculate the similarity between each other concept and each concept\r\n",
        "      # then attach other concept to the core concept with highest similarity\r\n",
        "      for con, x in otherConceptsDict.items():\r\n",
        "          maxVal = 0\r\n",
        "          conCluster = \"\"\r\n",
        "          for coreCon, y in coreConceptsDict.items():\r\n",
        "              val = cosine_similarity(x.reshape(1, -1), y.reshape(1, -1))\r\n",
        "              if val > maxVal:\r\n",
        "                  maxVal = val\r\n",
        "                  conCluster = coreCon\r\n",
        "          if conCluster != \"\": #added condition as recommended by other students\r\n",
        "            coreConceptsSpecializationDict[conCluster].append(con)\r\n",
        "          # coreConceptsSpecializationDict[conCluster].append(con)\r\n",
        "\r\n",
        "      for core_concept, cluster in coreConceptsSpecializationDict.items():\r\n",
        "          print(\"cluster: \" + core_concept)\r\n",
        "          print(cluster)\r\n",
        "\r\n",
        "\r\n",
        "\r\n",
        "  if __name__ == '__main__':\r\n",
        "      main()\r\n",
        "\r\n",
        "#test\r\n",
        "#initialize the core concepts\r\n",
        "# CoreConcepts = [\"navy\", \"war\", \"ship\"]\r\n",
        "# core_concept_based_clustering(path, CoreConcepts)"
      ],
      "execution_count": 12,
      "outputs": []
    },
    {
      "cell_type": "markdown",
      "metadata": {
        "id": "c1iOgt_rEEnB"
      },
      "source": [
        "## KNN"
      ]
    },
    {
      "cell_type": "code",
      "metadata": {
        "id": "T2q8IgKUED2M"
      },
      "source": [
        "def KNN(path):\r\n",
        "  import numpy as np\r\n",
        "  from sklearn.metrics import accuracy_score\r\n",
        "\r\n",
        "  def main():\r\n",
        "      #load the data and labels\r\n",
        "      X = np.loadtxt(path+\"/OutputDir/window_matrix.csv\", delimiter=\",\", dtype=float)\r\n",
        "      Y = np.loadtxt(path+\"/InputDir/window_matrix_terms_labeled.txt\", delimiter=\",\", dtype=str)\r\n",
        "      #split the data between training and testing\r\n",
        "      from sklearn.model_selection import train_test_split\r\n",
        "      data_train, data_test, labels_train, labels_test, couples_train, couples_test = train_test_split(X, Y[:, 1], Y[:, 0], test_size=0.20)\r\n",
        "\r\n",
        "      #build the Knn model\r\n",
        "      from sklearn.neighbors import KNeighborsClassifier\r\n",
        "      neigh = KNeighborsClassifier(n_neighbors=3)\r\n",
        "      neigh.fit(data_train, labels_train)\r\n",
        "\r\n",
        "      #predict for the testing data\r\n",
        "      y = neigh.predict(data_test)\r\n",
        "      #pring the results\r\n",
        "      print (\"accuracy:\")\r\n",
        "      print (accuracy_score(labels_test, y))\r\n",
        "      i = 0\r\n",
        "      for couple in couples_test:\r\n",
        "          if int(y[i]) - int(labels_test[i]) == 0:\r\n",
        "              print(couple + \", \" + str(labels_test[i]) + \", \" + str(y[i]))\r\n",
        "          else:\r\n",
        "              print(couple + \", \" + str(labels_test[i]) + \", \" + str(y[i]))\r\n",
        "          i += 1\r\n",
        "\r\n",
        "\r\n",
        "  if __name__ == '__main__':\r\n",
        "      main()\r\n",
        "\r\n",
        "#test\r\n",
        "# KNN(path)"
      ],
      "execution_count": 13,
      "outputs": []
    },
    {
      "cell_type": "markdown",
      "metadata": {
        "id": "A_tlb3XHPaxH"
      },
      "source": [
        "# Ontology building"
      ]
    },
    {
      "cell_type": "markdown",
      "metadata": {
        "id": "HRPHss0qssLV"
      },
      "source": [
        "In this section, we use all the previously imported functions on the dataset.  \r\n",
        "First, we make a quick analysis of the texts provided to know how to package them and what terms to look for (domain analysis). \r\n",
        "\r\n",
        "Then, we perform term analysis by extracting frequent words, then frequent terms that might be related to the domain.\r\n",
        "\r\n",
        "Next steps are the co-occurence matrix building to get matrix sparsity of these terms relative to their occurence in a sentence.\r\n",
        "\r\n",
        "The final steps are the analysis of the matrix through clustering (unsupervised) and classification (supervised) algorithms.  "
      ]
    },
    {
      "cell_type": "code",
      "metadata": {
        "id": "XVcz1fZ5HTCj"
      },
      "source": [
        "corpus_path = '/content/drive/MyDrive/nantes/semantic/computerScienceCorpus'\r\n",
        "abstract_filename = '/TP_CS_Abstract.csv'\r\n",
        "subcore_concepts_filename = '/TP_CS_CoreConceptIn2Level.csv'\r\n",
        "core_concepts_filename = '/TP_CS_CoreConcepts.csv'  "
      ],
      "execution_count": 14,
      "outputs": []
    },
    {
      "cell_type": "code",
      "metadata": {
        "colab": {
          "base_uri": "https://localhost:8080/",
          "height": 1000
        },
        "id": "W33_l6WfHjEI",
        "outputId": "bb7ef1af-6e1e-4367-c9e9-50423b549605"
      },
      "source": [
        "abstract = pd.read_csv(corpus_path+abstract_filename, sep=',', header=None, names=['index2', 'text_content'])\r\n",
        "abstract.drop('index2', axis=1, inplace=True)\r\n",
        "abstract"
      ],
      "execution_count": 15,
      "outputs": [
        {
          "output_type": "execute_result",
          "data": {
            "text/html": [
              "<div>\n",
              "<style scoped>\n",
              "    .dataframe tbody tr th:only-of-type {\n",
              "        vertical-align: middle;\n",
              "    }\n",
              "\n",
              "    .dataframe tbody tr th {\n",
              "        vertical-align: top;\n",
              "    }\n",
              "\n",
              "    .dataframe thead th {\n",
              "        text-align: right;\n",
              "    }\n",
              "</style>\n",
              "<table border=\"1\" class=\"dataframe\">\n",
              "  <thead>\n",
              "    <tr style=\"text-align: right;\">\n",
              "      <th></th>\n",
              "      <th>text_content</th>\n",
              "    </tr>\n",
              "  </thead>\n",
              "  <tbody>\n",
              "    <tr>\n",
              "      <th>0</th>\n",
              "      <td>(2 + 1)-dimensional non-linear optical waves through the coherently excited resonant medium doped with the erbium atoms can be described by a (2 + 1)-dimensional non-linear Schrodinger equation coupled with the self-induced transparency equations. For such a system, via the Hirota method and symbolic computation, linear forms, one-, two-and N-soliton solutions are obtained. Asymptotic analysis is conducted and suggests that the interaction between the two solitons is elastic. Bright solitons are obtained for the fields E and P, while the dark ones for the field N, with E as the electric field, P as the polarization in the resonant medium induced by the electric field, and N as the population inversion profile of the dopant atoms. Head-on interaction between the bidirectional two solitons and overtaking interaction between the unidirectional two solitons are seen. Influence of the averaged natural frequency. on the solitons are studied: (1). can affect the velocities of all the solitons; (2) Amplitudes of the solitons for the fields P and N increase with. decreasing, and decrease with. increasing; (3) With. decreasing, for the fields P and N, one-peak one soliton turns into the two-peak one, as well as interaction type changes from the interaction between two one-peak ones to that between a one-peak one and a two-peak one; (4) For the field E, influence of. on the solitons cannot be found. The results of this paper might be of potential applications in the design of optical communication systems which can produce the bright and dark solitons simultaneously.</td>\n",
              "    </tr>\n",
              "    <tr>\n",
              "      <th>1</th>\n",
              "      <td>(Objective) In order to increase classification accuracy of tea-category identification (TCI) system, this paper proposed a novel approach. (Method) The proposed methods first extracted 64 color histogram to obtain color information, and 16 wavelet packet entropy to obtain the texture information. With the aim of reducing the 80 features, principal component analysis was harnessed. The reduced features were used as input to generalized eigenvalue proximal support vector machine (GEPSVM). Winner-takes-all (WTA) was used to handle the multiclass problem. Two kernels were tested, linear kernel and Radial basis function (RBF) kernel. Ten repetitions of 10-fold stratified cross validation technique were used to estimate the out-of-sample errors. We named our method as GEPSVM + RBF + WTA and GEPSVM + WTA. (Result) The results showed that PCA reduced the 80 features to merely five with explaining 99.90% of total variance. The recall rate of GEPSVM + RBF + WTA achieved the highest overall recall rate of 97.9%. (Conclusion) This was higher than the result of GEPSVM + WTA and other five state-of-the-art algorithms: back propagation neural network, RBF support vector machine, genetic neural-network, linear discriminant analysis, and fitness-scaling chaotic artificial bee colony artificial neural network.</td>\n",
              "    </tr>\n",
              "    <tr>\n",
              "      <th>2</th>\n",
              "      <td>[Purpose] This study verified that the smoothness of reaching movements is able to quantitatively evaluate the effects of two-and three-dimensional images on movement in healthy people. In addition, clinical data of cerebrovascular accident patients were also analyzed by the same method. [Subjects] Ten healthy adult volunteers and two male patients with previous cerebrovascular accidents participated. [Methods] The subjects were tasked with reaching for objects shown on a display. The target and virtual limb, rendered with computer graphics, were shown on the display. Movements of the virtual limb were synchronized with those of the subject. Healthy subjects reached for targets with their dominant arm, and cerebrovascular accident patients used their paretic arm. A polarized display and polarized glasses were used when the subjects were shown three-dimensional images. In the present study, jerk cost was used to quantify the smoothness of movement. [Results] Six of the 10 healthy subjects had significantly smoother reaching movements when viewing the three-dimensional images. The two cerebrovascular accident patients tended to have smoother movements in response to the three-dimensional images. [Conclusion] Analysis of the smoothness of movement was able to detect the influence of the depth cue in vision on movement quantitatively for the healthy subjects and cerebrovascular accident patients.</td>\n",
              "    </tr>\n",
              "    <tr>\n",
              "      <th>3</th>\n",
              "      <td>1. Camera trapping is a widely applied method to study mammalian biodiversity and is still gaining popularity. It can quickly generate large amounts of data which need to be managed in an efficient and transparent way that links data acquisition with analytical tools. 2. We describe the free and open-source R package camtrapR, a new toolbox for flexible and efficient management of data generated in camera trap-based wildlife studies. The package implements a complete workflow for processing camera trapping data. It assists in image organization, species and individual identification, data extraction from images, tabulation and visualization of results and export of data for subsequent analyses. There is no limitation to the number of images stored in this data management system; the system is portable and compatible across operating systems. 3. The functions provide extensive automation to minimize data entry mistakes and, apart from species and individual identification, require minimal manual user input. Species and individual identification are performed outside the R environment, either via tags assigned in dedicated image management software or by moving images into species directories. 4. Input for occupancy and (spatial) capture-recapture analyses for density and abundance estimation, for example in the R packages unmarked or secr, is computed in a flexible and reproducible manner. In addition, survey summary reports can be generated, spatial distributions of records can be plotted and exported to GIS software, and single-and two-species activity patterns can be visualized. 5. camtrapR allows for streamlined and flexible camera trap data management and should be most useful to researchers and practitioners who regularly handle large amounts of camera trapping data.</td>\n",
              "    </tr>\n",
              "    <tr>\n",
              "      <th>4</th>\n",
              "      <td>1. Species distribution modelling can be useful for the conservation of rare and endangered species. Freshwater mussel declines have thinned species ranges producing spatially fragmented distributions across large areas. Spatial fragmentation in combination with a complex life history and heterogeneous environment makes predictive modelling difficult. 2. A machine learning approach (maximum entropy) was used to model occurrences and suitable habitat for the federally endangered dwarf wedgemussel, Alasmidonta heterodon, in Maryland's Coastal Plain catchments. Landscape- scale predictors (e. g. land cover, land use, soil characteristics, geology, flow characteristics, and climate) were used to predict the suitability of individual stream segments for A. heterodon. 3. The best model contained variables at three scales: minimum elevation (segment scale), percentage Tertiary deposits, low intensity development, and woody wetlands (sub- catchment), and percentage low intensity development, pasture/ hay agriculture, and average depth to the water table (catchment). Despite a very small sample size owing to the rarity of A. heterodon, cross- validated prediction accuracy was 91%. 4. Most predicted suitable segments occur in catchments not known to contain A. heterodon, which provides opportunities for new discoveries or population restoration. These model predictions can guide surveys toward the streams with the best chance of containing the species or, alternatively, away from those streams with little chance of containing A. heterodon. 5. Developed reaches had low predicted suitability for A. heterodon in the Coastal Plain. Urban and exurban sprawl continues to modify stream ecosystems in the region, underscoring the need to preserve existing populations and to discover and protect new populations. Copyright # 2016 John Wiley &amp; Sons, Ltd.</td>\n",
              "    </tr>\n",
              "    <tr>\n",
              "      <th>...</th>\n",
              "      <td>...</td>\n",
              "    </tr>\n",
              "    <tr>\n",
              "      <th>6486</th>\n",
              "      <td>Zero-difference balanced (ZDB) functions have many applications in coding theory, cryptography and communications engineering and so on. Recently, the authors 0,11] generalized the definition of ZDB functions to be G-ZDB functions. In this paper, based on p-cyclotornic cosets, two classes of ZDB functions are obtained, and several new classes of C-ZDB functions are constructed. Furthermore, some frequency-hopping sequences are obtained directly from G-ZI)B functions.</td>\n",
              "    </tr>\n",
              "    <tr>\n",
              "      <th>6487</th>\n",
              "      <td>Zero-Suppressed Binary Decision Diagrams (ZDDs) are widely used data structures for representing and handling combination sets and Boolean functions. In particular, ZDDs are commonly used in CAD for the synthesis and verification of integrated circuits. The purpose of this article is to design an error-resilient version of this data structure: a self-repairing ZDD. More precisely, we design a new ZDD canonical form, called index-resilient reduced ZDD, such that a faulty index can be reconstructed in time O(k), where k is the number of nodes with a corrupted index. Moreover, we propose new versions of the standard algorithms for ZDD manipulation and construction that are error resilient during their execution and produce an index-resilient ZDD as output. The experimental results validate the proposed approach.</td>\n",
              "    </tr>\n",
              "    <tr>\n",
              "      <th>6488</th>\n",
              "      <td>Zinc is a modeling language in which a conceptual model is automatically mapped into different design models using well-known solving techniques: constraint programming, mathematical methods, and local search. As a result, Zinc is solver and technique independent. Since original conceptual models may be nonlinear, mapping to linear solvers requires the models to be linearized first. In this paper, we introduce LinZinc, a new library for Zinc which includes necessary functions to linearize high-level data structures and expressions in Zinc models. The interesting point is that, thanks to the extensibility of Zinc, LinZinc is written in Zinc itself instead of being implemented in the compiler. We have used LinZinc for linearizing a set of well-known nonlinear models. The experimental results show that on the one hand, there is no significant overhead in linearizing models and, on the other hand, the linearized models are sometimes faster than the original models. Using the proposed approach, Zinc users can implement their own linearizing techniques without any need to change the language and without being anxious about the mapping overhead.</td>\n",
              "    </tr>\n",
              "    <tr>\n",
              "      <th>6489</th>\n",
              "      <td>Z-Wave is an implementation of home automation, under the broad category of Internet of Things (IoT). To date, the ability to perform forensic investigations on Z-Wave devices has largely been ignored; however, the placement of these devices in homes and industrial facilities makes them valuable assets for the investigation of criminal and adversarial actors. Z-Wave devices consist of sensors and actuators, which can be connected to the Internet via a gateway. Therefore, their memory contents may contain sensor reports of criminal activity or, more indirectly, provide evidence that the devices have been manipulated to achieve physical or cyber access. This paper provides details on extracting and programming the Flash and EEPROM memory of the ZW0301, which is a common Z-Wave transceiver module found on many Z-Wave devices. Specifically, the memory usage is characterized and several artifacts are identified. The feasibility of conducting a firmware modification attack on the ZW0301 is also explored. The results of this work identify several data structures including the node protocol information table and node adjacency table. The compiler and coding language used for the firmware image are also fingerprinted. Published by Elsevier Ltd.</td>\n",
              "    </tr>\n",
              "    <tr>\n",
              "      <th>6490</th>\n",
              "      <td>ZY-3 has been acquiring high quality imagery since its launch in 2012 and its tri-stereo (three-view or three-line-array) imagery has become one of the top choices for extracting DSM (Digital Surface Model) products in China over the past few years. The ZY-3 tri-stereo sensors offer users the ability to capture imagery over large regions including an entire territory of a country, such as China, resulting in a large volume of ZY-3 tri-stereo scenes which require timely (e.g., near real time) processing, something that is not currently possible using traditional photogrammetry workstations. This paper presents a high performance computing solution which can efficiently and automatically extract DSM products from ZY-3 tri-stereo imagery. The high performance computing solution leverages certain parallel computing technologies to accelerate computation within an individual scene and then deploys a distributed computing technology to increase the overall data throughput in a robust and efficient manner. By taking advantage of the inherent efficiencies within the high performance computing environment, the DSM extraction process can exploit all combinations offered from a set of tri-stereo images (forward-backword, forward-nadir and backword-nadir). The DSM results merged from all of the potential combinations can minimize blunders (e.g., incorrect matches) and also offer the ability to remove potential occlusions which may exist in a single stereo pair, resulting in improved accuracy and quality versus those that are not merged. Accelerated performance is inherent within each of the individual steps of the DSM extraction workflow, including the collection of ground control points and tie points, image bundle adjustment, the creation of epipolar images, and computing elevations. Preliminary experiments over a large area in China have proven that the high performance computing system can generate high quality and accurate DSM products in a rapid manner.</td>\n",
              "    </tr>\n",
              "  </tbody>\n",
              "</table>\n",
              "<p>6491 rows × 1 columns</p>\n",
              "</div>"
            ],
            "text/plain": [
              "                                                                                                                                                                                                                                                                                                                                                                                                                                                                                                                                                                                                                                                                                                                                                                                                                                                                                                                                                                                                                                                                                                                                                                                                                                                                                                                                                                                                                                                                                                                                                                                                                                                                                                                                                                                                                                                                                                                                                                                                                                                       text_content\n",
              "0     (2 + 1)-dimensional non-linear optical waves through the coherently excited resonant medium doped with the erbium atoms can be described by a (2 + 1)-dimensional non-linear Schrodinger equation coupled with the self-induced transparency equations. For such a system, via the Hirota method and symbolic computation, linear forms, one-, two-and N-soliton solutions are obtained. Asymptotic analysis is conducted and suggests that the interaction between the two solitons is elastic. Bright solitons are obtained for the fields E and P, while the dark ones for the field N, with E as the electric field, P as the polarization in the resonant medium induced by the electric field, and N as the population inversion profile of the dopant atoms. Head-on interaction between the bidirectional two solitons and overtaking interaction between the unidirectional two solitons are seen. Influence of the averaged natural frequency. on the solitons are studied: (1). can affect the velocities of all the solitons; (2) Amplitudes of the solitons for the fields P and N increase with. decreasing, and decrease with. increasing; (3) With. decreasing, for the fields P and N, one-peak one soliton turns into the two-peak one, as well as interaction type changes from the interaction between two one-peak ones to that between a one-peak one and a two-peak one; (4) For the field E, influence of. on the solitons cannot be found. The results of this paper might be of potential applications in the design of optical communication systems which can produce the bright and dark solitons simultaneously.                                                                                                                                                                                                                                                                                                                                                                                                               \n",
              "1     (Objective) In order to increase classification accuracy of tea-category identification (TCI) system, this paper proposed a novel approach. (Method) The proposed methods first extracted 64 color histogram to obtain color information, and 16 wavelet packet entropy to obtain the texture information. With the aim of reducing the 80 features, principal component analysis was harnessed. The reduced features were used as input to generalized eigenvalue proximal support vector machine (GEPSVM). Winner-takes-all (WTA) was used to handle the multiclass problem. Two kernels were tested, linear kernel and Radial basis function (RBF) kernel. Ten repetitions of 10-fold stratified cross validation technique were used to estimate the out-of-sample errors. We named our method as GEPSVM + RBF + WTA and GEPSVM + WTA. (Result) The results showed that PCA reduced the 80 features to merely five with explaining 99.90% of total variance. The recall rate of GEPSVM + RBF + WTA achieved the highest overall recall rate of 97.9%. (Conclusion) This was higher than the result of GEPSVM + WTA and other five state-of-the-art algorithms: back propagation neural network, RBF support vector machine, genetic neural-network, linear discriminant analysis, and fitness-scaling chaotic artificial bee colony artificial neural network.                                                                                                                                                                                                                                                                                                                                                                                                                                                                                                                                                                                                                                                                                           \n",
              "2     [Purpose] This study verified that the smoothness of reaching movements is able to quantitatively evaluate the effects of two-and three-dimensional images on movement in healthy people. In addition, clinical data of cerebrovascular accident patients were also analyzed by the same method. [Subjects] Ten healthy adult volunteers and two male patients with previous cerebrovascular accidents participated. [Methods] The subjects were tasked with reaching for objects shown on a display. The target and virtual limb, rendered with computer graphics, were shown on the display. Movements of the virtual limb were synchronized with those of the subject. Healthy subjects reached for targets with their dominant arm, and cerebrovascular accident patients used their paretic arm. A polarized display and polarized glasses were used when the subjects were shown three-dimensional images. In the present study, jerk cost was used to quantify the smoothness of movement. [Results] Six of the 10 healthy subjects had significantly smoother reaching movements when viewing the three-dimensional images. The two cerebrovascular accident patients tended to have smoother movements in response to the three-dimensional images. [Conclusion] Analysis of the smoothness of movement was able to detect the influence of the depth cue in vision on movement quantitatively for the healthy subjects and cerebrovascular accident patients.                                                                                                                                                                                                                                                                                                                                                                                                                                                                                                                                                                                      \n",
              "3     1. Camera trapping is a widely applied method to study mammalian biodiversity and is still gaining popularity. It can quickly generate large amounts of data which need to be managed in an efficient and transparent way that links data acquisition with analytical tools. 2. We describe the free and open-source R package camtrapR, a new toolbox for flexible and efficient management of data generated in camera trap-based wildlife studies. The package implements a complete workflow for processing camera trapping data. It assists in image organization, species and individual identification, data extraction from images, tabulation and visualization of results and export of data for subsequent analyses. There is no limitation to the number of images stored in this data management system; the system is portable and compatible across operating systems. 3. The functions provide extensive automation to minimize data entry mistakes and, apart from species and individual identification, require minimal manual user input. Species and individual identification are performed outside the R environment, either via tags assigned in dedicated image management software or by moving images into species directories. 4. Input for occupancy and (spatial) capture-recapture analyses for density and abundance estimation, for example in the R packages unmarked or secr, is computed in a flexible and reproducible manner. In addition, survey summary reports can be generated, spatial distributions of records can be plotted and exported to GIS software, and single-and two-species activity patterns can be visualized. 5. camtrapR allows for streamlined and flexible camera trap data management and should be most useful to researchers and practitioners who regularly handle large amounts of camera trapping data.                                                                                                                                                                                   \n",
              "4     1. Species distribution modelling can be useful for the conservation of rare and endangered species. Freshwater mussel declines have thinned species ranges producing spatially fragmented distributions across large areas. Spatial fragmentation in combination with a complex life history and heterogeneous environment makes predictive modelling difficult. 2. A machine learning approach (maximum entropy) was used to model occurrences and suitable habitat for the federally endangered dwarf wedgemussel, Alasmidonta heterodon, in Maryland's Coastal Plain catchments. Landscape- scale predictors (e. g. land cover, land use, soil characteristics, geology, flow characteristics, and climate) were used to predict the suitability of individual stream segments for A. heterodon. 3. The best model contained variables at three scales: minimum elevation (segment scale), percentage Tertiary deposits, low intensity development, and woody wetlands (sub- catchment), and percentage low intensity development, pasture/ hay agriculture, and average depth to the water table (catchment). Despite a very small sample size owing to the rarity of A. heterodon, cross- validated prediction accuracy was 91%. 4. Most predicted suitable segments occur in catchments not known to contain A. heterodon, which provides opportunities for new discoveries or population restoration. These model predictions can guide surveys toward the streams with the best chance of containing the species or, alternatively, away from those streams with little chance of containing A. heterodon. 5. Developed reaches had low predicted suitability for A. heterodon in the Coastal Plain. Urban and exurban sprawl continues to modify stream ecosystems in the region, underscoring the need to preserve existing populations and to discover and protect new populations. Copyright # 2016 John Wiley & Sons, Ltd.                                                                                                                     \n",
              "...                                                                                                                                                                                                                                                                                                                                                                                                                                                                                                                                                                                                                                                                                                                                                                                                                                                                                                                                                                                                                                                                                                                                                                                                                                                                                                                                                                                                                                                                                                                                                                                                                                                                                                                                                                                                                                                                                                                                        ...                                                                                                                     \n",
              "6486  Zero-difference balanced (ZDB) functions have many applications in coding theory, cryptography and communications engineering and so on. Recently, the authors 0,11] generalized the definition of ZDB functions to be G-ZDB functions. In this paper, based on p-cyclotornic cosets, two classes of ZDB functions are obtained, and several new classes of C-ZDB functions are constructed. Furthermore, some frequency-hopping sequences are obtained directly from G-ZI)B functions.                                                                                                                                                                                                                                                                                                                                                                                                                                                                                                                                                                                                                                                                                                                                                                                                                                                                                                                                                                                                                                                                                                                                                                                                                                                                                                                                                                                                                                                                                                                                                                      \n",
              "6487  Zero-Suppressed Binary Decision Diagrams (ZDDs) are widely used data structures for representing and handling combination sets and Boolean functions. In particular, ZDDs are commonly used in CAD for the synthesis and verification of integrated circuits. The purpose of this article is to design an error-resilient version of this data structure: a self-repairing ZDD. More precisely, we design a new ZDD canonical form, called index-resilient reduced ZDD, such that a faulty index can be reconstructed in time O(k), where k is the number of nodes with a corrupted index. Moreover, we propose new versions of the standard algorithms for ZDD manipulation and construction that are error resilient during their execution and produce an index-resilient ZDD as output. The experimental results validate the proposed approach.                                                                                                                                                                                                                                                                                                                                                                                                                                                                                                                                                                                                                                                                                                                                                                                                                                                                                                                                                                                                                                                                                                                                                                                                         \n",
              "6488  Zinc is a modeling language in which a conceptual model is automatically mapped into different design models using well-known solving techniques: constraint programming, mathematical methods, and local search. As a result, Zinc is solver and technique independent. Since original conceptual models may be nonlinear, mapping to linear solvers requires the models to be linearized first. In this paper, we introduce LinZinc, a new library for Zinc which includes necessary functions to linearize high-level data structures and expressions in Zinc models. The interesting point is that, thanks to the extensibility of Zinc, LinZinc is written in Zinc itself instead of being implemented in the compiler. We have used LinZinc for linearizing a set of well-known nonlinear models. The experimental results show that on the one hand, there is no significant overhead in linearizing models and, on the other hand, the linearized models are sometimes faster than the original models. Using the proposed approach, Zinc users can implement their own linearizing techniques without any need to change the language and without being anxious about the mapping overhead.                                                                                                                                                                                                                                                                                                                                                                                                                                                                                                                                                                                                                                                                                                                                                                                                                                                         \n",
              "6489  Z-Wave is an implementation of home automation, under the broad category of Internet of Things (IoT). To date, the ability to perform forensic investigations on Z-Wave devices has largely been ignored; however, the placement of these devices in homes and industrial facilities makes them valuable assets for the investigation of criminal and adversarial actors. Z-Wave devices consist of sensors and actuators, which can be connected to the Internet via a gateway. Therefore, their memory contents may contain sensor reports of criminal activity or, more indirectly, provide evidence that the devices have been manipulated to achieve physical or cyber access. This paper provides details on extracting and programming the Flash and EEPROM memory of the ZW0301, which is a common Z-Wave transceiver module found on many Z-Wave devices. Specifically, the memory usage is characterized and several artifacts are identified. The feasibility of conducting a firmware modification attack on the ZW0301 is also explored. The results of this work identify several data structures including the node protocol information table and node adjacency table. The compiler and coding language used for the firmware image are also fingerprinted. Published by Elsevier Ltd.                                                                                                                                                                                                                                                                                                                                                                                                                                                                                                                                                                                                                                                                                                                                                      \n",
              "6490  ZY-3 has been acquiring high quality imagery since its launch in 2012 and its tri-stereo (three-view or three-line-array) imagery has become one of the top choices for extracting DSM (Digital Surface Model) products in China over the past few years. The ZY-3 tri-stereo sensors offer users the ability to capture imagery over large regions including an entire territory of a country, such as China, resulting in a large volume of ZY-3 tri-stereo scenes which require timely (e.g., near real time) processing, something that is not currently possible using traditional photogrammetry workstations. This paper presents a high performance computing solution which can efficiently and automatically extract DSM products from ZY-3 tri-stereo imagery. The high performance computing solution leverages certain parallel computing technologies to accelerate computation within an individual scene and then deploys a distributed computing technology to increase the overall data throughput in a robust and efficient manner. By taking advantage of the inherent efficiencies within the high performance computing environment, the DSM extraction process can exploit all combinations offered from a set of tri-stereo images (forward-backword, forward-nadir and backword-nadir). The DSM results merged from all of the potential combinations can minimize blunders (e.g., incorrect matches) and also offer the ability to remove potential occlusions which may exist in a single stereo pair, resulting in improved accuracy and quality versus those that are not merged. Accelerated performance is inherent within each of the individual steps of the DSM extraction workflow, including the collection of ground control points and tie points, image bundle adjustment, the creation of epipolar images, and computing elevations. Preliminary experiments over a large area in China have proven that the high performance computing system can generate high quality and accurate DSM products in a rapid manner.\n",
              "\n",
              "[6491 rows x 1 columns]"
            ]
          },
          "metadata": {
            "tags": []
          },
          "execution_count": 15
        }
      ]
    },
    {
      "cell_type": "code",
      "metadata": {
        "colab": {
          "base_uri": "https://localhost:8080/",
          "height": 301
        },
        "id": "m7DvhfnzYG0g",
        "outputId": "52ea7696-cba7-4888-dd74-f0c36c7b002a"
      },
      "source": [
        "word_stat_list = [\r\n",
        " ['total number of texts',abstract.text_content.str.contains('').sum()],\r\n",
        " ['paper', abstract.text_content.str.contains('paper').sum()],\r\n",
        " ['In this paper',abstract.text_content.str.contains('In this paper').sum()],\r\n",
        " ['This paper', abstract.text_content.str.contains('This paper').sum()],\r\n",
        " ['algorithm', abstract.text_content.str.contains('algorithm').sum()],\r\n",
        " ['network', abstract.text_content.str.contains('network').sum()],\r\n",
        " ['programming', abstract.text_content.str.contains('programming').sum()],\r\n",
        " ]\r\n",
        "\r\n",
        "word_stat_df = pd.DataFrame(word_stat_list, columns=['term', 'count'])\r\n",
        "\r\n",
        "sns.set_theme(style=\"whitegrid\")\r\n",
        "tips = sns.load_dataset(\"tips\")\r\n",
        "ax = sns.barplot(x=\"count\", y=\"term\", data=word_stat_df)\r\n",
        "plt.title('Term or sentence count compared to total number of texts')\r\n",
        "\r\n",
        "plt.show()"
      ],
      "execution_count": 16,
      "outputs": [
        {
          "output_type": "display_data",
          "data": {
            "image/png": "[encoded data removed]",
            "text/plain": [
              "<Figure size 432x288 with 1 Axes>"
            ]
          },
          "metadata": {
            "tags": []
          }
        }
      ]
    },
    {
      "cell_type": "markdown",
      "metadata": {
        "id": "j52F_nqEP8LM"
      },
      "source": [
        "## Corpus metrics"
      ]
    },
    {
      "cell_type": "markdown",
      "metadata": {
        "id": "_tlRG0wnvOG3"
      },
      "source": [
        "How many words are present in the dataset ?"
      ]
    },
    {
      "cell_type": "code",
      "metadata": {
        "colab": {
          "base_uri": "https://localhost:8080/"
        },
        "id": "BP2c9ggNJjBg",
        "outputId": "973dd6fd-6096-44e6-c441-7194a63ca660"
      },
      "source": [
        "abstract['text_len'] = abstract.apply(lambda row: len(row.text_content.split(' ')), axis=1)\r\n",
        "print('Total number of words : ' + str(abstract.text_len.sum()))"
      ],
      "execution_count": 17,
      "outputs": [
        {
          "output_type": "stream",
          "text": [
            "Total number of words : 1179868\n"
          ],
          "name": "stdout"
        }
      ]
    },
    {
      "cell_type": "markdown",
      "metadata": {
        "id": "w2gHV6SFvRyl"
      },
      "source": [
        "How many words are there per text ?"
      ]
    },
    {
      "cell_type": "code",
      "metadata": {
        "colab": {
          "base_uri": "https://localhost:8080/",
          "height": 285
        },
        "id": "DpTMd0B1Kt05",
        "outputId": "ee6d4a3a-86b0-40c6-fe20-1c2b8524a97a"
      },
      "source": [
        "kde_ax = abstract.text_len.plot(kind='hist')\r\n",
        "abstract.text_len.plot(kind='kde', ax=kde_ax, secondary_y=True)"
      ],
      "execution_count": 18,
      "outputs": [
        {
          "output_type": "execute_result",
          "data": {
            "text/plain": [
              "<matplotlib.axes._subplots.AxesSubplot at 0x7fe1c0994160>"
            ]
          },
          "metadata": {
            "tags": []
          },
          "execution_count": 18
        },
        {
          "output_type": "display_data",
          "data": {
            "image/png": "[encoded data removed]",
            "text/plain": [
              "<Figure size 432x288 with 2 Axes>"
            ]
          },
          "metadata": {
            "tags": []
          }
        }
      ]
    },
    {
      "cell_type": "code",
      "metadata": {
        "colab": {
          "base_uri": "https://localhost:8080/",
          "height": 1000
        },
        "id": "4jRPsOx5McPF",
        "outputId": "b54ad8ec-04d3-447f-e1b8-6b94d68bc921"
      },
      "source": [
        "def count_numbers(s):\r\n",
        "  return sum(c.isdigit() for c in s)\r\n",
        "\r\n",
        "def count_letters(s):\r\n",
        "  return sum(c.isalpha() for c in s)\r\n",
        "\r\n",
        "abstract['letter_count'] = abstract.apply(lambda row: count_letters(row.text_content), axis=1)\r\n",
        "abstract['number_count'] = abstract.apply(lambda row: count_numbers(row.text_content), axis=1)\r\n",
        "abstract"
      ],
      "execution_count": 19,
      "outputs": [
        {
          "output_type": "execute_result",
          "data": {
            "text/html": [
              "<div>\n",
              "<style scoped>\n",
              "    .dataframe tbody tr th:only-of-type {\n",
              "        vertical-align: middle;\n",
              "    }\n",
              "\n",
              "    .dataframe tbody tr th {\n",
              "        vertical-align: top;\n",
              "    }\n",
              "\n",
              "    .dataframe thead th {\n",
              "        text-align: right;\n",
              "    }\n",
              "</style>\n",
              "<table border=\"1\" class=\"dataframe\">\n",
              "  <thead>\n",
              "    <tr style=\"text-align: right;\">\n",
              "      <th></th>\n",
              "      <th>text_content</th>\n",
              "      <th>text_len</th>\n",
              "      <th>letter_count</th>\n",
              "      <th>number_count</th>\n",
              "    </tr>\n",
              "  </thead>\n",
              "  <tbody>\n",
              "    <tr>\n",
              "      <th>0</th>\n",
              "      <td>(2 + 1)-dimensional non-linear optical waves through the coherently excited resonant medium doped with the erbium atoms can be described by a (2 + 1)-dimensional non-linear Schrodinger equation coupled with the self-induced transparency equations. For such a system, via the Hirota method and symbolic computation, linear forms, one-, two-and N-soliton solutions are obtained. Asymptotic analysis is conducted and suggests that the interaction between the two solitons is elastic. Bright solitons are obtained for the fields E and P, while the dark ones for the field N, with E as the electric field, P as the polarization in the resonant medium induced by the electric field, and N as the population inversion profile of the dopant atoms. Head-on interaction between the bidirectional two solitons and overtaking interaction between the unidirectional two solitons are seen. Influence of the averaged natural frequency. on the solitons are studied: (1). can affect the velocities of all the solitons; (2) Amplitudes of the solitons for the fields P and N increase with. decreasing, and decrease with. increasing; (3) With. decreasing, for the fields P and N, one-peak one soliton turns into the two-peak one, as well as interaction type changes from the interaction between two one-peak ones to that between a one-peak one and a two-peak one; (4) For the field E, influence of. on the solitons cannot be found. The results of this paper might be of potential applications in the design of optical communication systems which can produce the bright and dark solitons simultaneously.</td>\n",
              "      <td>250</td>\n",
              "      <td>1267</td>\n",
              "      <td>8</td>\n",
              "    </tr>\n",
              "    <tr>\n",
              "      <th>1</th>\n",
              "      <td>(Objective) In order to increase classification accuracy of tea-category identification (TCI) system, this paper proposed a novel approach. (Method) The proposed methods first extracted 64 color histogram to obtain color information, and 16 wavelet packet entropy to obtain the texture information. With the aim of reducing the 80 features, principal component analysis was harnessed. The reduced features were used as input to generalized eigenvalue proximal support vector machine (GEPSVM). Winner-takes-all (WTA) was used to handle the multiclass problem. Two kernels were tested, linear kernel and Radial basis function (RBF) kernel. Ten repetitions of 10-fold stratified cross validation technique were used to estimate the out-of-sample errors. We named our method as GEPSVM + RBF + WTA and GEPSVM + WTA. (Result) The results showed that PCA reduced the 80 features to merely five with explaining 99.90% of total variance. The recall rate of GEPSVM + RBF + WTA achieved the highest overall recall rate of 97.9%. (Conclusion) This was higher than the result of GEPSVM + WTA and other five state-of-the-art algorithms: back propagation neural network, RBF support vector machine, genetic neural-network, linear discriminant analysis, and fitness-scaling chaotic artificial bee colony artificial neural network.</td>\n",
              "      <td>193</td>\n",
              "      <td>1048</td>\n",
              "      <td>17</td>\n",
              "    </tr>\n",
              "    <tr>\n",
              "      <th>2</th>\n",
              "      <td>[Purpose] This study verified that the smoothness of reaching movements is able to quantitatively evaluate the effects of two-and three-dimensional images on movement in healthy people. In addition, clinical data of cerebrovascular accident patients were also analyzed by the same method. [Subjects] Ten healthy adult volunteers and two male patients with previous cerebrovascular accidents participated. [Methods] The subjects were tasked with reaching for objects shown on a display. The target and virtual limb, rendered with computer graphics, were shown on the display. Movements of the virtual limb were synchronized with those of the subject. Healthy subjects reached for targets with their dominant arm, and cerebrovascular accident patients used their paretic arm. A polarized display and polarized glasses were used when the subjects were shown three-dimensional images. In the present study, jerk cost was used to quantify the smoothness of movement. [Results] Six of the 10 healthy subjects had significantly smoother reaching movements when viewing the three-dimensional images. The two cerebrovascular accident patients tended to have smoother movements in response to the three-dimensional images. [Conclusion] Analysis of the smoothness of movement was able to detect the influence of the depth cue in vision on movement quantitatively for the healthy subjects and cerebrovascular accident patients.</td>\n",
              "      <td>203</td>\n",
              "      <td>1179</td>\n",
              "      <td>2</td>\n",
              "    </tr>\n",
              "    <tr>\n",
              "      <th>3</th>\n",
              "      <td>1. Camera trapping is a widely applied method to study mammalian biodiversity and is still gaining popularity. It can quickly generate large amounts of data which need to be managed in an efficient and transparent way that links data acquisition with analytical tools. 2. We describe the free and open-source R package camtrapR, a new toolbox for flexible and efficient management of data generated in camera trap-based wildlife studies. The package implements a complete workflow for processing camera trapping data. It assists in image organization, species and individual identification, data extraction from images, tabulation and visualization of results and export of data for subsequent analyses. There is no limitation to the number of images stored in this data management system; the system is portable and compatible across operating systems. 3. The functions provide extensive automation to minimize data entry mistakes and, apart from species and individual identification, require minimal manual user input. Species and individual identification are performed outside the R environment, either via tags assigned in dedicated image management software or by moving images into species directories. 4. Input for occupancy and (spatial) capture-recapture analyses for density and abundance estimation, for example in the R packages unmarked or secr, is computed in a flexible and reproducible manner. In addition, survey summary reports can be generated, spatial distributions of records can be plotted and exported to GIS software, and single-and two-species activity patterns can be visualized. 5. camtrapR allows for streamlined and flexible camera trap data management and should be most useful to researchers and practitioners who regularly handle large amounts of camera trapping data.</td>\n",
              "      <td>265</td>\n",
              "      <td>1497</td>\n",
              "      <td>5</td>\n",
              "    </tr>\n",
              "    <tr>\n",
              "      <th>4</th>\n",
              "      <td>1. Species distribution modelling can be useful for the conservation of rare and endangered species. Freshwater mussel declines have thinned species ranges producing spatially fragmented distributions across large areas. Spatial fragmentation in combination with a complex life history and heterogeneous environment makes predictive modelling difficult. 2. A machine learning approach (maximum entropy) was used to model occurrences and suitable habitat for the federally endangered dwarf wedgemussel, Alasmidonta heterodon, in Maryland's Coastal Plain catchments. Landscape- scale predictors (e. g. land cover, land use, soil characteristics, geology, flow characteristics, and climate) were used to predict the suitability of individual stream segments for A. heterodon. 3. The best model contained variables at three scales: minimum elevation (segment scale), percentage Tertiary deposits, low intensity development, and woody wetlands (sub- catchment), and percentage low intensity development, pasture/ hay agriculture, and average depth to the water table (catchment). Despite a very small sample size owing to the rarity of A. heterodon, cross- validated prediction accuracy was 91%. 4. Most predicted suitable segments occur in catchments not known to contain A. heterodon, which provides opportunities for new discoveries or population restoration. These model predictions can guide surveys toward the streams with the best chance of containing the species or, alternatively, away from those streams with little chance of containing A. heterodon. 5. Developed reaches had low predicted suitability for A. heterodon in the Coastal Plain. Urban and exurban sprawl continues to modify stream ecosystems in the region, underscoring the need to preserve existing populations and to discover and protect new populations. Copyright # 2016 John Wiley &amp; Sons, Ltd.</td>\n",
              "      <td>262</td>\n",
              "      <td>1530</td>\n",
              "      <td>11</td>\n",
              "    </tr>\n",
              "    <tr>\n",
              "      <th>...</th>\n",
              "      <td>...</td>\n",
              "      <td>...</td>\n",
              "      <td>...</td>\n",
              "      <td>...</td>\n",
              "    </tr>\n",
              "    <tr>\n",
              "      <th>6486</th>\n",
              "      <td>Zero-difference balanced (ZDB) functions have many applications in coding theory, cryptography and communications engineering and so on. Recently, the authors 0,11] generalized the definition of ZDB functions to be G-ZDB functions. In this paper, based on p-cyclotornic cosets, two classes of ZDB functions are obtained, and several new classes of C-ZDB functions are constructed. Furthermore, some frequency-hopping sequences are obtained directly from G-ZI)B functions.</td>\n",
              "      <td>64</td>\n",
              "      <td>384</td>\n",
              "      <td>3</td>\n",
              "    </tr>\n",
              "    <tr>\n",
              "      <th>6487</th>\n",
              "      <td>Zero-Suppressed Binary Decision Diagrams (ZDDs) are widely used data structures for representing and handling combination sets and Boolean functions. In particular, ZDDs are commonly used in CAD for the synthesis and verification of integrated circuits. The purpose of this article is to design an error-resilient version of this data structure: a self-repairing ZDD. More precisely, we design a new ZDD canonical form, called index-resilient reduced ZDD, such that a faulty index can be reconstructed in time O(k), where k is the number of nodes with a corrupted index. Moreover, we propose new versions of the standard algorithms for ZDD manipulation and construction that are error resilient during their execution and produce an index-resilient ZDD as output. The experimental results validate the proposed approach.</td>\n",
              "      <td>123</td>\n",
              "      <td>676</td>\n",
              "      <td>0</td>\n",
              "    </tr>\n",
              "    <tr>\n",
              "      <th>6488</th>\n",
              "      <td>Zinc is a modeling language in which a conceptual model is automatically mapped into different design models using well-known solving techniques: constraint programming, mathematical methods, and local search. As a result, Zinc is solver and technique independent. Since original conceptual models may be nonlinear, mapping to linear solvers requires the models to be linearized first. In this paper, we introduce LinZinc, a new library for Zinc which includes necessary functions to linearize high-level data structures and expressions in Zinc models. The interesting point is that, thanks to the extensibility of Zinc, LinZinc is written in Zinc itself instead of being implemented in the compiler. We have used LinZinc for linearizing a set of well-known nonlinear models. The experimental results show that on the one hand, there is no significant overhead in linearizing models and, on the other hand, the linearized models are sometimes faster than the original models. Using the proposed approach, Zinc users can implement their own linearizing techniques without any need to change the language and without being anxious about the mapping overhead.</td>\n",
              "      <td>175</td>\n",
              "      <td>958</td>\n",
              "      <td>0</td>\n",
              "    </tr>\n",
              "    <tr>\n",
              "      <th>6489</th>\n",
              "      <td>Z-Wave is an implementation of home automation, under the broad category of Internet of Things (IoT). To date, the ability to perform forensic investigations on Z-Wave devices has largely been ignored; however, the placement of these devices in homes and industrial facilities makes them valuable assets for the investigation of criminal and adversarial actors. Z-Wave devices consist of sensors and actuators, which can be connected to the Internet via a gateway. Therefore, their memory contents may contain sensor reports of criminal activity or, more indirectly, provide evidence that the devices have been manipulated to achieve physical or cyber access. This paper provides details on extracting and programming the Flash and EEPROM memory of the ZW0301, which is a common Z-Wave transceiver module found on many Z-Wave devices. Specifically, the memory usage is characterized and several artifacts are identified. The feasibility of conducting a firmware modification attack on the ZW0301 is also explored. The results of this work identify several data structures including the node protocol information table and node adjacency table. The compiler and coding language used for the firmware image are also fingerprinted. Published by Elsevier Ltd.</td>\n",
              "      <td>188</td>\n",
              "      <td>1033</td>\n",
              "      <td>8</td>\n",
              "    </tr>\n",
              "    <tr>\n",
              "      <th>6490</th>\n",
              "      <td>ZY-3 has been acquiring high quality imagery since its launch in 2012 and its tri-stereo (three-view or three-line-array) imagery has become one of the top choices for extracting DSM (Digital Surface Model) products in China over the past few years. The ZY-3 tri-stereo sensors offer users the ability to capture imagery over large regions including an entire territory of a country, such as China, resulting in a large volume of ZY-3 tri-stereo scenes which require timely (e.g., near real time) processing, something that is not currently possible using traditional photogrammetry workstations. This paper presents a high performance computing solution which can efficiently and automatically extract DSM products from ZY-3 tri-stereo imagery. The high performance computing solution leverages certain parallel computing technologies to accelerate computation within an individual scene and then deploys a distributed computing technology to increase the overall data throughput in a robust and efficient manner. By taking advantage of the inherent efficiencies within the high performance computing environment, the DSM extraction process can exploit all combinations offered from a set of tri-stereo images (forward-backword, forward-nadir and backword-nadir). The DSM results merged from all of the potential combinations can minimize blunders (e.g., incorrect matches) and also offer the ability to remove potential occlusions which may exist in a single stereo pair, resulting in improved accuracy and quality versus those that are not merged. Accelerated performance is inherent within each of the individual steps of the DSM extraction workflow, including the collection of ground control points and tie points, image bundle adjustment, the creation of epipolar images, and computing elevations. Preliminary experiments over a large area in China have proven that the high performance computing system can generate high quality and accurate DSM products in a rapid manner.</td>\n",
              "      <td>288</td>\n",
              "      <td>1637</td>\n",
              "      <td>8</td>\n",
              "    </tr>\n",
              "  </tbody>\n",
              "</table>\n",
              "<p>6491 rows × 4 columns</p>\n",
              "</div>"
            ],
            "text/plain": [
              "                                                                                                                                                                                                                                                                                                                                                                                                                                                                                                                                                                                                                                                                                                                                                                                                                                                                                                                                                                                                                                                                                                                                                                                                                                                                                                                                                                                                                                                                                                                                                                                                                                                                                                                                                                                                                                                                                                                                                                                                                                                       text_content  ...  number_count\n",
              "0     (2 + 1)-dimensional non-linear optical waves through the coherently excited resonant medium doped with the erbium atoms can be described by a (2 + 1)-dimensional non-linear Schrodinger equation coupled with the self-induced transparency equations. For such a system, via the Hirota method and symbolic computation, linear forms, one-, two-and N-soliton solutions are obtained. Asymptotic analysis is conducted and suggests that the interaction between the two solitons is elastic. Bright solitons are obtained for the fields E and P, while the dark ones for the field N, with E as the electric field, P as the polarization in the resonant medium induced by the electric field, and N as the population inversion profile of the dopant atoms. Head-on interaction between the bidirectional two solitons and overtaking interaction between the unidirectional two solitons are seen. Influence of the averaged natural frequency. on the solitons are studied: (1). can affect the velocities of all the solitons; (2) Amplitudes of the solitons for the fields P and N increase with. decreasing, and decrease with. increasing; (3) With. decreasing, for the fields P and N, one-peak one soliton turns into the two-peak one, as well as interaction type changes from the interaction between two one-peak ones to that between a one-peak one and a two-peak one; (4) For the field E, influence of. on the solitons cannot be found. The results of this paper might be of potential applications in the design of optical communication systems which can produce the bright and dark solitons simultaneously.                                                                                                                                                                                                                                                                                                                                                                                                                 ...  8           \n",
              "1     (Objective) In order to increase classification accuracy of tea-category identification (TCI) system, this paper proposed a novel approach. (Method) The proposed methods first extracted 64 color histogram to obtain color information, and 16 wavelet packet entropy to obtain the texture information. With the aim of reducing the 80 features, principal component analysis was harnessed. The reduced features were used as input to generalized eigenvalue proximal support vector machine (GEPSVM). Winner-takes-all (WTA) was used to handle the multiclass problem. Two kernels were tested, linear kernel and Radial basis function (RBF) kernel. Ten repetitions of 10-fold stratified cross validation technique were used to estimate the out-of-sample errors. We named our method as GEPSVM + RBF + WTA and GEPSVM + WTA. (Result) The results showed that PCA reduced the 80 features to merely five with explaining 99.90% of total variance. The recall rate of GEPSVM + RBF + WTA achieved the highest overall recall rate of 97.9%. (Conclusion) This was higher than the result of GEPSVM + WTA and other five state-of-the-art algorithms: back propagation neural network, RBF support vector machine, genetic neural-network, linear discriminant analysis, and fitness-scaling chaotic artificial bee colony artificial neural network.                                                                                                                                                                                                                                                                                                                                                                                                                                                                                                                                                                                                                                                                                             ...  17          \n",
              "2     [Purpose] This study verified that the smoothness of reaching movements is able to quantitatively evaluate the effects of two-and three-dimensional images on movement in healthy people. In addition, clinical data of cerebrovascular accident patients were also analyzed by the same method. [Subjects] Ten healthy adult volunteers and two male patients with previous cerebrovascular accidents participated. [Methods] The subjects were tasked with reaching for objects shown on a display. The target and virtual limb, rendered with computer graphics, were shown on the display. Movements of the virtual limb were synchronized with those of the subject. Healthy subjects reached for targets with their dominant arm, and cerebrovascular accident patients used their paretic arm. A polarized display and polarized glasses were used when the subjects were shown three-dimensional images. In the present study, jerk cost was used to quantify the smoothness of movement. [Results] Six of the 10 healthy subjects had significantly smoother reaching movements when viewing the three-dimensional images. The two cerebrovascular accident patients tended to have smoother movements in response to the three-dimensional images. [Conclusion] Analysis of the smoothness of movement was able to detect the influence of the depth cue in vision on movement quantitatively for the healthy subjects and cerebrovascular accident patients.                                                                                                                                                                                                                                                                                                                                                                                                                                                                                                                                                                                        ...  2           \n",
              "3     1. Camera trapping is a widely applied method to study mammalian biodiversity and is still gaining popularity. It can quickly generate large amounts of data which need to be managed in an efficient and transparent way that links data acquisition with analytical tools. 2. We describe the free and open-source R package camtrapR, a new toolbox for flexible and efficient management of data generated in camera trap-based wildlife studies. The package implements a complete workflow for processing camera trapping data. It assists in image organization, species and individual identification, data extraction from images, tabulation and visualization of results and export of data for subsequent analyses. There is no limitation to the number of images stored in this data management system; the system is portable and compatible across operating systems. 3. The functions provide extensive automation to minimize data entry mistakes and, apart from species and individual identification, require minimal manual user input. Species and individual identification are performed outside the R environment, either via tags assigned in dedicated image management software or by moving images into species directories. 4. Input for occupancy and (spatial) capture-recapture analyses for density and abundance estimation, for example in the R packages unmarked or secr, is computed in a flexible and reproducible manner. In addition, survey summary reports can be generated, spatial distributions of records can be plotted and exported to GIS software, and single-and two-species activity patterns can be visualized. 5. camtrapR allows for streamlined and flexible camera trap data management and should be most useful to researchers and practitioners who regularly handle large amounts of camera trapping data.                                                                                                                                                                                     ...  5           \n",
              "4     1. Species distribution modelling can be useful for the conservation of rare and endangered species. Freshwater mussel declines have thinned species ranges producing spatially fragmented distributions across large areas. Spatial fragmentation in combination with a complex life history and heterogeneous environment makes predictive modelling difficult. 2. A machine learning approach (maximum entropy) was used to model occurrences and suitable habitat for the federally endangered dwarf wedgemussel, Alasmidonta heterodon, in Maryland's Coastal Plain catchments. Landscape- scale predictors (e. g. land cover, land use, soil characteristics, geology, flow characteristics, and climate) were used to predict the suitability of individual stream segments for A. heterodon. 3. The best model contained variables at three scales: minimum elevation (segment scale), percentage Tertiary deposits, low intensity development, and woody wetlands (sub- catchment), and percentage low intensity development, pasture/ hay agriculture, and average depth to the water table (catchment). Despite a very small sample size owing to the rarity of A. heterodon, cross- validated prediction accuracy was 91%. 4. Most predicted suitable segments occur in catchments not known to contain A. heterodon, which provides opportunities for new discoveries or population restoration. These model predictions can guide surveys toward the streams with the best chance of containing the species or, alternatively, away from those streams with little chance of containing A. heterodon. 5. Developed reaches had low predicted suitability for A. heterodon in the Coastal Plain. Urban and exurban sprawl continues to modify stream ecosystems in the region, underscoring the need to preserve existing populations and to discover and protect new populations. Copyright # 2016 John Wiley & Sons, Ltd.                                                                                                                       ...  11          \n",
              "...                                                                                                                                                                                                                                                                                                                                                                                                                                                                                                                                                                                                                                                                                                                                                                                                                                                                                                                                                                                                                                                                                                                                                                                                                                                                                                                                                                                                                                                                                                                                                                                                                                                                                                                                                                                                                                                                                                                                        ...                                                                                                                       ...  ..          \n",
              "6486  Zero-difference balanced (ZDB) functions have many applications in coding theory, cryptography and communications engineering and so on. Recently, the authors 0,11] generalized the definition of ZDB functions to be G-ZDB functions. In this paper, based on p-cyclotornic cosets, two classes of ZDB functions are obtained, and several new classes of C-ZDB functions are constructed. Furthermore, some frequency-hopping sequences are obtained directly from G-ZI)B functions.                                                                                                                                                                                                                                                                                                                                                                                                                                                                                                                                                                                                                                                                                                                                                                                                                                                                                                                                                                                                                                                                                                                                                                                                                                                                                                                                                                                                                                                                                                                                                                        ...  3           \n",
              "6487  Zero-Suppressed Binary Decision Diagrams (ZDDs) are widely used data structures for representing and handling combination sets and Boolean functions. In particular, ZDDs are commonly used in CAD for the synthesis and verification of integrated circuits. The purpose of this article is to design an error-resilient version of this data structure: a self-repairing ZDD. More precisely, we design a new ZDD canonical form, called index-resilient reduced ZDD, such that a faulty index can be reconstructed in time O(k), where k is the number of nodes with a corrupted index. Moreover, we propose new versions of the standard algorithms for ZDD manipulation and construction that are error resilient during their execution and produce an index-resilient ZDD as output. The experimental results validate the proposed approach.                                                                                                                                                                                                                                                                                                                                                                                                                                                                                                                                                                                                                                                                                                                                                                                                                                                                                                                                                                                                                                                                                                                                                                                                           ...  0           \n",
              "6488  Zinc is a modeling language in which a conceptual model is automatically mapped into different design models using well-known solving techniques: constraint programming, mathematical methods, and local search. As a result, Zinc is solver and technique independent. Since original conceptual models may be nonlinear, mapping to linear solvers requires the models to be linearized first. In this paper, we introduce LinZinc, a new library for Zinc which includes necessary functions to linearize high-level data structures and expressions in Zinc models. The interesting point is that, thanks to the extensibility of Zinc, LinZinc is written in Zinc itself instead of being implemented in the compiler. We have used LinZinc for linearizing a set of well-known nonlinear models. The experimental results show that on the one hand, there is no significant overhead in linearizing models and, on the other hand, the linearized models are sometimes faster than the original models. Using the proposed approach, Zinc users can implement their own linearizing techniques without any need to change the language and without being anxious about the mapping overhead.                                                                                                                                                                                                                                                                                                                                                                                                                                                                                                                                                                                                                                                                                                                                                                                                                                                           ...  0           \n",
              "6489  Z-Wave is an implementation of home automation, under the broad category of Internet of Things (IoT). To date, the ability to perform forensic investigations on Z-Wave devices has largely been ignored; however, the placement of these devices in homes and industrial facilities makes them valuable assets for the investigation of criminal and adversarial actors. Z-Wave devices consist of sensors and actuators, which can be connected to the Internet via a gateway. Therefore, their memory contents may contain sensor reports of criminal activity or, more indirectly, provide evidence that the devices have been manipulated to achieve physical or cyber access. This paper provides details on extracting and programming the Flash and EEPROM memory of the ZW0301, which is a common Z-Wave transceiver module found on many Z-Wave devices. Specifically, the memory usage is characterized and several artifacts are identified. The feasibility of conducting a firmware modification attack on the ZW0301 is also explored. The results of this work identify several data structures including the node protocol information table and node adjacency table. The compiler and coding language used for the firmware image are also fingerprinted. Published by Elsevier Ltd.                                                                                                                                                                                                                                                                                                                                                                                                                                                                                                                                                                                                                                                                                                                                                        ...  8           \n",
              "6490  ZY-3 has been acquiring high quality imagery since its launch in 2012 and its tri-stereo (three-view or three-line-array) imagery has become one of the top choices for extracting DSM (Digital Surface Model) products in China over the past few years. The ZY-3 tri-stereo sensors offer users the ability to capture imagery over large regions including an entire territory of a country, such as China, resulting in a large volume of ZY-3 tri-stereo scenes which require timely (e.g., near real time) processing, something that is not currently possible using traditional photogrammetry workstations. This paper presents a high performance computing solution which can efficiently and automatically extract DSM products from ZY-3 tri-stereo imagery. The high performance computing solution leverages certain parallel computing technologies to accelerate computation within an individual scene and then deploys a distributed computing technology to increase the overall data throughput in a robust and efficient manner. By taking advantage of the inherent efficiencies within the high performance computing environment, the DSM extraction process can exploit all combinations offered from a set of tri-stereo images (forward-backword, forward-nadir and backword-nadir). The DSM results merged from all of the potential combinations can minimize blunders (e.g., incorrect matches) and also offer the ability to remove potential occlusions which may exist in a single stereo pair, resulting in improved accuracy and quality versus those that are not merged. Accelerated performance is inherent within each of the individual steps of the DSM extraction workflow, including the collection of ground control points and tie points, image bundle adjustment, the creation of epipolar images, and computing elevations. Preliminary experiments over a large area in China have proven that the high performance computing system can generate high quality and accurate DSM products in a rapid manner.  ...  8           \n",
              "\n",
              "[6491 rows x 4 columns]"
            ]
          },
          "metadata": {
            "tags": []
          },
          "execution_count": 19
        }
      ]
    },
    {
      "cell_type": "code",
      "metadata": {
        "colab": {
          "base_uri": "https://localhost:8080/",
          "height": 80
        },
        "id": "6QOcqOW2OaCJ",
        "outputId": "50402ba2-5859-4a01-dd8f-873415108c36"
      },
      "source": [
        "pd.DataFrame([[abstract.letter_count.sum(), abstract.number_count.sum()]], columns=['sum of letters', 'sum of numbers'])"
      ],
      "execution_count": 20,
      "outputs": [
        {
          "output_type": "execute_result",
          "data": {
            "text/html": [
              "<div>\n",
              "<style scoped>\n",
              "    .dataframe tbody tr th:only-of-type {\n",
              "        vertical-align: middle;\n",
              "    }\n",
              "\n",
              "    .dataframe tbody tr th {\n",
              "        vertical-align: top;\n",
              "    }\n",
              "\n",
              "    .dataframe thead th {\n",
              "        text-align: right;\n",
              "    }\n",
              "</style>\n",
              "<table border=\"1\" class=\"dataframe\">\n",
              "  <thead>\n",
              "    <tr style=\"text-align: right;\">\n",
              "      <th></th>\n",
              "      <th>sum of letters</th>\n",
              "      <th>sum of numbers</th>\n",
              "    </tr>\n",
              "  </thead>\n",
              "  <tbody>\n",
              "    <tr>\n",
              "      <th>0</th>\n",
              "      <td>6665617</td>\n",
              "      <td>38677</td>\n",
              "    </tr>\n",
              "  </tbody>\n",
              "</table>\n",
              "</div>"
            ],
            "text/plain": [
              "   sum of letters  sum of numbers\n",
              "0  6665617         38677         "
            ]
          },
          "metadata": {
            "tags": []
          },
          "execution_count": 20
        }
      ]
    },
    {
      "cell_type": "markdown",
      "metadata": {
        "id": "Wcl2C-P_vb94"
      },
      "source": [
        "The graph below shows the proportion of numbers to letters (special characters are not counted)"
      ]
    },
    {
      "cell_type": "code",
      "metadata": {
        "colab": {
          "base_uri": "https://localhost:8080/",
          "height": 393
        },
        "id": "L_csfIeMNBs_",
        "outputId": "16c77090-8389-488e-8133-e29ba661e4f7"
      },
      "source": [
        "plt.figure(figsize=(8,6))\r\n",
        "sns.barplot(data=pd.DataFrame([[abstract.letter_count.sum(), abstract.number_count.sum()]], columns=['sum of letters', 'sum of numbers']))\r\n",
        "plt.title('Numbers vs letters')\r\n",
        "plt.show()"
      ],
      "execution_count": 21,
      "outputs": [
        {
          "output_type": "display_data",
          "data": {
            "image/png": "[encoded data removed]",
            "text/plain": [
              "<Figure size 576x432 with 1 Axes>"
            ]
          },
          "metadata": {
            "tags": []
          }
        }
      ]
    },
    {
      "cell_type": "markdown",
      "metadata": {
        "id": "fRDELzdgvmsa"
      },
      "source": [
        "We load the core concepts from the original csv file given in the project files :"
      ]
    },
    {
      "cell_type": "code",
      "metadata": {
        "colab": {
          "base_uri": "https://localhost:8080/",
          "height": 328
        },
        "id": "zIRSOh_MIHrE",
        "outputId": "9ccf83e2-4619-41bf-9fb5-0293c51f13bc"
      },
      "source": [
        "core_concepts = pd.read_csv(corpus_path+core_concepts_filename)\r\n",
        "core_concepts"
      ],
      "execution_count": 22,
      "outputs": [
        {
          "output_type": "execute_result",
          "data": {
            "text/html": [
              "<div>\n",
              "<style scoped>\n",
              "    .dataframe tbody tr th:only-of-type {\n",
              "        vertical-align: middle;\n",
              "    }\n",
              "\n",
              "    .dataframe tbody tr th {\n",
              "        vertical-align: top;\n",
              "    }\n",
              "\n",
              "    .dataframe thead th {\n",
              "        text-align: right;\n",
              "    }\n",
              "</style>\n",
              "<table border=\"1\" class=\"dataframe\">\n",
              "  <thead>\n",
              "    <tr style=\"text-align: right;\">\n",
              "      <th></th>\n",
              "      <th>Data structure</th>\n",
              "    </tr>\n",
              "  </thead>\n",
              "  <tbody>\n",
              "    <tr>\n",
              "      <th>0</th>\n",
              "      <td>Cryptography</td>\n",
              "    </tr>\n",
              "    <tr>\n",
              "      <th>1</th>\n",
              "      <td>Software engineering</td>\n",
              "    </tr>\n",
              "    <tr>\n",
              "      <th>2</th>\n",
              "      <td>Computer graphics</td>\n",
              "    </tr>\n",
              "    <tr>\n",
              "      <th>3</th>\n",
              "      <td>Network security</td>\n",
              "    </tr>\n",
              "    <tr>\n",
              "      <th>4</th>\n",
              "      <td>Computer programming</td>\n",
              "    </tr>\n",
              "    <tr>\n",
              "      <th>5</th>\n",
              "      <td>Algorithm design</td>\n",
              "    </tr>\n",
              "    <tr>\n",
              "      <th>6</th>\n",
              "      <td>Operating systems</td>\n",
              "    </tr>\n",
              "    <tr>\n",
              "      <th>7</th>\n",
              "      <td>Distributed computing</td>\n",
              "    </tr>\n",
              "    <tr>\n",
              "      <th>8</th>\n",
              "      <td>Machine learning</td>\n",
              "    </tr>\n",
              "  </tbody>\n",
              "</table>\n",
              "</div>"
            ],
            "text/plain": [
              "          Data structure\n",
              "0  Cryptography         \n",
              "1  Software engineering \n",
              "2  Computer graphics    \n",
              "3  Network security     \n",
              "4  Computer programming \n",
              "5  Algorithm design     \n",
              "6  Operating systems    \n",
              "7  Distributed computing\n",
              "8  Machine learning     "
            ]
          },
          "metadata": {
            "tags": []
          },
          "execution_count": 22
        }
      ]
    },
    {
      "cell_type": "markdown",
      "metadata": {
        "id": "QobSt0TsvspE"
      },
      "source": [
        "We also load the sub-core-concept file given in the project files :"
      ]
    },
    {
      "cell_type": "code",
      "metadata": {
        "colab": {
          "base_uri": "https://localhost:8080/",
          "height": 1000
        },
        "id": "pRzE7r7nSLJb",
        "outputId": "d1e2199b-0161-4fba-bf67-c1486e157f7a"
      },
      "source": [
        "subcore_concepts = pd.read_csv(corpus_path+subcore_concepts_filename)\r\n",
        "subcore_concepts.drop('Unnamed: 0', axis=1, inplace=True)\r\n",
        "subcore_concepts"
      ],
      "execution_count": 23,
      "outputs": [
        {
          "output_type": "execute_result",
          "data": {
            "text/html": [
              "<div>\n",
              "<style scoped>\n",
              "    .dataframe tbody tr th:only-of-type {\n",
              "        vertical-align: middle;\n",
              "    }\n",
              "\n",
              "    .dataframe tbody tr th {\n",
              "        vertical-align: top;\n",
              "    }\n",
              "\n",
              "    .dataframe thead th {\n",
              "        text-align: right;\n",
              "    }\n",
              "</style>\n",
              "<table border=\"1\" class=\"dataframe\">\n",
              "  <thead>\n",
              "    <tr style=\"text-align: right;\">\n",
              "      <th></th>\n",
              "      <th>level1_13CoreConcepts</th>\n",
              "      <th>level2_subCoreConcepts</th>\n",
              "    </tr>\n",
              "  </thead>\n",
              "  <tbody>\n",
              "    <tr>\n",
              "      <th>0</th>\n",
              "      <td>Computer graphics</td>\n",
              "      <td>computer vision</td>\n",
              "    </tr>\n",
              "    <tr>\n",
              "      <th>1</th>\n",
              "      <td>Image processing</td>\n",
              "      <td>image capture</td>\n",
              "    </tr>\n",
              "    <tr>\n",
              "      <th>2</th>\n",
              "      <td>Image processing</td>\n",
              "      <td>image compression</td>\n",
              "    </tr>\n",
              "    <tr>\n",
              "      <th>3</th>\n",
              "      <td>Image processing</td>\n",
              "      <td>image enhancement</td>\n",
              "    </tr>\n",
              "    <tr>\n",
              "      <th>4</th>\n",
              "      <td>Image processing</td>\n",
              "      <td>image restoration</td>\n",
              "    </tr>\n",
              "    <tr>\n",
              "      <th>5</th>\n",
              "      <td>Image processing</td>\n",
              "      <td>image reconstruction</td>\n",
              "    </tr>\n",
              "    <tr>\n",
              "      <th>6</th>\n",
              "      <td>Image processing</td>\n",
              "      <td>image segmentation</td>\n",
              "    </tr>\n",
              "    <tr>\n",
              "      <th>7</th>\n",
              "      <td>Image processing</td>\n",
              "      <td>image representation</td>\n",
              "    </tr>\n",
              "    <tr>\n",
              "      <th>8</th>\n",
              "      <td>Artificial intelligence</td>\n",
              "      <td>knowledge representation</td>\n",
              "    </tr>\n",
              "    <tr>\n",
              "      <th>9</th>\n",
              "      <td>Artificial intelligence</td>\n",
              "      <td>machine learning</td>\n",
              "    </tr>\n",
              "    <tr>\n",
              "      <th>10</th>\n",
              "      <td>Artificial intelligence</td>\n",
              "      <td>natural language processing</td>\n",
              "    </tr>\n",
              "    <tr>\n",
              "      <th>11</th>\n",
              "      <td>Artificial intelligence</td>\n",
              "      <td>robotic</td>\n",
              "    </tr>\n",
              "    <tr>\n",
              "      <th>12</th>\n",
              "      <td>Artificial intelligence</td>\n",
              "      <td>speech recognition</td>\n",
              "    </tr>\n",
              "    <tr>\n",
              "      <th>13</th>\n",
              "      <td>Artificial intelligence</td>\n",
              "      <td>information retrieval</td>\n",
              "    </tr>\n",
              "    <tr>\n",
              "      <th>14</th>\n",
              "      <td>network</td>\n",
              "      <td>network architecture</td>\n",
              "    </tr>\n",
              "    <tr>\n",
              "      <th>15</th>\n",
              "      <td>network</td>\n",
              "      <td>network protocol</td>\n",
              "    </tr>\n",
              "    <tr>\n",
              "      <th>16</th>\n",
              "      <td>network</td>\n",
              "      <td>network property</td>\n",
              "    </tr>\n",
              "    <tr>\n",
              "      <th>17</th>\n",
              "      <td>network</td>\n",
              "      <td>network service</td>\n",
              "    </tr>\n",
              "    <tr>\n",
              "      <th>18</th>\n",
              "      <td>Cryptography</td>\n",
              "      <td>security service</td>\n",
              "    </tr>\n",
              "    <tr>\n",
              "      <th>19</th>\n",
              "      <td>Cryptography</td>\n",
              "      <td>intrusion detection</td>\n",
              "    </tr>\n",
              "    <tr>\n",
              "      <th>20</th>\n",
              "      <td>Cryptography</td>\n",
              "      <td>system security</td>\n",
              "    </tr>\n",
              "    <tr>\n",
              "      <th>21</th>\n",
              "      <td>Cryptography</td>\n",
              "      <td>network security</td>\n",
              "    </tr>\n",
              "    <tr>\n",
              "      <th>22</th>\n",
              "      <td>Cryptography</td>\n",
              "      <td>storage security</td>\n",
              "    </tr>\n",
              "    <tr>\n",
              "      <th>23</th>\n",
              "      <td>Cryptography</td>\n",
              "      <td>software security</td>\n",
              "    </tr>\n",
              "    <tr>\n",
              "      <th>24</th>\n",
              "      <td>Software engineering</td>\n",
              "      <td>software organization</td>\n",
              "    </tr>\n",
              "    <tr>\n",
              "      <th>25</th>\n",
              "      <td>Software engineering</td>\n",
              "      <td>software property</td>\n",
              "    </tr>\n",
              "    <tr>\n",
              "      <th>26</th>\n",
              "      <td>Software engineering</td>\n",
              "      <td>software tool</td>\n",
              "    </tr>\n",
              "    <tr>\n",
              "      <th>27</th>\n",
              "      <td>Software engineering</td>\n",
              "      <td>software management</td>\n",
              "    </tr>\n",
              "    <tr>\n",
              "      <th>28</th>\n",
              "      <td>Software engineering</td>\n",
              "      <td>software metric</td>\n",
              "    </tr>\n",
              "    <tr>\n",
              "      <th>29</th>\n",
              "      <td>Software engineering</td>\n",
              "      <td>programming environment</td>\n",
              "    </tr>\n",
              "    <tr>\n",
              "      <th>30</th>\n",
              "      <td>Distributed computing</td>\n",
              "      <td>parallel computing</td>\n",
              "    </tr>\n",
              "    <tr>\n",
              "      <th>31</th>\n",
              "      <td>Distributed computing</td>\n",
              "      <td>distribute computing</td>\n",
              "    </tr>\n",
              "    <tr>\n",
              "      <th>32</th>\n",
              "      <td>Distributed computing</td>\n",
              "      <td>cluster computing</td>\n",
              "    </tr>\n",
              "    <tr>\n",
              "      <th>33</th>\n",
              "      <td>Distributed computing</td>\n",
              "      <td>distribute algorithm</td>\n",
              "    </tr>\n",
              "    <tr>\n",
              "      <th>34</th>\n",
              "      <td>Distributed computing</td>\n",
              "      <td>parallel computation</td>\n",
              "    </tr>\n",
              "    <tr>\n",
              "      <th>35</th>\n",
              "      <td>Symbolic computation</td>\n",
              "      <td>symbolic manipulation</td>\n",
              "    </tr>\n",
              "    <tr>\n",
              "      <th>36</th>\n",
              "      <td>Symbolic computation</td>\n",
              "      <td>algebraic manipulation</td>\n",
              "    </tr>\n",
              "    <tr>\n",
              "      <th>37</th>\n",
              "      <td>Symbolic computation</td>\n",
              "      <td>symbolic expression</td>\n",
              "    </tr>\n",
              "    <tr>\n",
              "      <th>38</th>\n",
              "      <td>Algorithm design</td>\n",
              "      <td>discrete mathematic</td>\n",
              "    </tr>\n",
              "    <tr>\n",
              "      <th>39</th>\n",
              "      <td>Algorithm design</td>\n",
              "      <td>information theory</td>\n",
              "    </tr>\n",
              "    <tr>\n",
              "      <th>40</th>\n",
              "      <td>Algorithm design</td>\n",
              "      <td>mathematical analysis</td>\n",
              "    </tr>\n",
              "    <tr>\n",
              "      <th>41</th>\n",
              "      <td>Algorithm design</td>\n",
              "      <td>continuous mathematic</td>\n",
              "    </tr>\n",
              "    <tr>\n",
              "      <th>42</th>\n",
              "      <td>Computer programming</td>\n",
              "      <td>programming language</td>\n",
              "    </tr>\n",
              "    <tr>\n",
              "      <th>43</th>\n",
              "      <td>Computer programming</td>\n",
              "      <td>formal language</td>\n",
              "    </tr>\n",
              "    <tr>\n",
              "      <th>44</th>\n",
              "      <td>Computer programming</td>\n",
              "      <td>computational complexity</td>\n",
              "    </tr>\n",
              "    <tr>\n",
              "      <th>45</th>\n",
              "      <td>Data structures</td>\n",
              "      <td>relational database</td>\n",
              "    </tr>\n",
              "    <tr>\n",
              "      <th>46</th>\n",
              "      <td>Data structures</td>\n",
              "      <td>structured storage</td>\n",
              "    </tr>\n",
              "    <tr>\n",
              "      <th>47</th>\n",
              "      <td>Data structures</td>\n",
              "      <td>data management system</td>\n",
              "    </tr>\n",
              "    <tr>\n",
              "      <th>48</th>\n",
              "      <td>Data structures</td>\n",
              "      <td>database management</td>\n",
              "    </tr>\n",
              "    <tr>\n",
              "      <th>49</th>\n",
              "      <td>Data structures</td>\n",
              "      <td>heterogeneous database</td>\n",
              "    </tr>\n",
              "    <tr>\n",
              "      <th>50</th>\n",
              "      <td>Data structures</td>\n",
              "      <td>information storage</td>\n",
              "    </tr>\n",
              "    <tr>\n",
              "      <th>51</th>\n",
              "      <td>Bioinformatics</td>\n",
              "      <td>biomolecule</td>\n",
              "    </tr>\n",
              "    <tr>\n",
              "      <th>52</th>\n",
              "      <td>Bioinformatics</td>\n",
              "      <td>genomic</td>\n",
              "    </tr>\n",
              "    <tr>\n",
              "      <th>53</th>\n",
              "      <td>Bioinformatics</td>\n",
              "      <td>molecular network</td>\n",
              "    </tr>\n",
              "  </tbody>\n",
              "</table>\n",
              "</div>"
            ],
            "text/plain": [
              "      level1_13CoreConcepts       level2_subCoreConcepts\n",
              "0   Computer graphics        computer vision            \n",
              "1   Image processing         image capture              \n",
              "2   Image processing         image compression          \n",
              "3   Image processing         image enhancement          \n",
              "4   Image processing         image restoration          \n",
              "5   Image processing         image reconstruction       \n",
              "6   Image processing         image segmentation         \n",
              "7   Image processing         image representation       \n",
              "8   Artificial intelligence  knowledge representation   \n",
              "9   Artificial intelligence  machine learning           \n",
              "10  Artificial intelligence  natural language processing\n",
              "11  Artificial intelligence  robotic                    \n",
              "12  Artificial intelligence  speech recognition         \n",
              "13  Artificial intelligence  information retrieval      \n",
              "14  network                  network architecture       \n",
              "15  network                  network protocol           \n",
              "16  network                  network property           \n",
              "17  network                  network service            \n",
              "18  Cryptography             security service           \n",
              "19  Cryptography             intrusion detection        \n",
              "20  Cryptography             system security            \n",
              "21  Cryptography             network security           \n",
              "22  Cryptography             storage security           \n",
              "23  Cryptography             software security          \n",
              "24  Software engineering     software organization      \n",
              "25  Software engineering     software property          \n",
              "26  Software engineering     software tool              \n",
              "27  Software engineering     software management        \n",
              "28  Software engineering     software metric            \n",
              "29  Software engineering     programming environment    \n",
              "30  Distributed computing    parallel computing         \n",
              "31  Distributed computing    distribute computing       \n",
              "32  Distributed computing    cluster computing          \n",
              "33  Distributed computing    distribute algorithm       \n",
              "34  Distributed computing    parallel computation       \n",
              "35  Symbolic computation     symbolic manipulation      \n",
              "36  Symbolic computation     algebraic manipulation     \n",
              "37  Symbolic computation     symbolic expression        \n",
              "38  Algorithm design         discrete mathematic        \n",
              "39  Algorithm design         information theory         \n",
              "40  Algorithm design         mathematical analysis      \n",
              "41  Algorithm design         continuous mathematic      \n",
              "42  Computer programming     programming language       \n",
              "43  Computer programming     formal language            \n",
              "44  Computer programming     computational complexity   \n",
              "45  Data structures          relational database        \n",
              "46  Data structures          structured storage         \n",
              "47  Data structures          data management system     \n",
              "48  Data structures          database management        \n",
              "49  Data structures          heterogeneous database     \n",
              "50  Data structures          information storage        \n",
              "51  Bioinformatics           biomolecule                \n",
              "52  Bioinformatics           genomic                    \n",
              "53  Bioinformatics           molecular network          "
            ]
          },
          "metadata": {
            "tags": []
          },
          "execution_count": 23
        }
      ]
    },
    {
      "cell_type": "markdown",
      "metadata": {
        "id": "KL6BLMmXQNhq"
      },
      "source": [
        "## Text corpus creation"
      ]
    },
    {
      "cell_type": "markdown",
      "metadata": {
        "id": "ewH7JmAAv8-S"
      },
      "source": [
        "We define two utility functions :  \r\n",
        "*   `delete_all_files_at` allows to delete all files in a given directory\r\n",
        "*   `split_list_every_n` creates batches of n texts from the dataframe of all the corpus. This allows to work on a subsection of the data to quickly try some parameters."
      ]
    },
    {
      "cell_type": "code",
      "metadata": {
        "id": "v2e7hMVt4ua7"
      },
      "source": [
        "import os\r\n",
        "\r\n",
        "def delete_all_files_at(path_to_delete):\r\n",
        "  if (len(os.listdir(path_to_delete))>0):\r\n",
        "    print('deleting files...')\r\n",
        "    for filename in tq.tqdm(os.listdir(path_to_delete)):\r\n",
        "      os.remove(path_to_delete+filename)\r\n",
        "  else:\r\n",
        "    print('no files to delete')\r\n",
        "\r\n",
        "#test\r\n",
        "# delete_all_files_at(path+'/Corpus')"
      ],
      "execution_count": 24,
      "outputs": []
    },
    {
      "cell_type": "code",
      "metadata": {
        "id": "s-0vYGWaWB0N"
      },
      "source": [
        "def internal_split_list_every_n(df, n):\r\n",
        "  n_rows_df, rest_df = (df[:n], df[n:]) if len(df) > n else (df, None)\r\n",
        "  return n_rows_df, rest_df\r\n",
        "\r\n",
        "def split_list_every_n(df, n):\r\n",
        "  rest_df = df\r\n",
        "  n_rows_df_list = []\r\n",
        "  while True:\r\n",
        "    n_rows_df, rest_df = internal_split_list_every_n(rest_df, n)\r\n",
        "    n_rows_df_list.append(n_rows_df)\r\n",
        "    if rest_df is None:\r\n",
        "      break;\r\n",
        "  return n_rows_df_list\r\n",
        "\r\n",
        "#test creation of 4 batches\r\n",
        "# split_list_every_n(list(core_concepts['Data structure'].values), 4)"
      ],
      "execution_count": 25,
      "outputs": []
    },
    {
      "cell_type": "markdown",
      "metadata": {
        "id": "PBAmm9liSz3o"
      },
      "source": [
        "/!\\ From now on, the project paths are defined below :\r\n",
        "\r\n",
        "Please change with your own to match the path where `computerScienceCorpus` and `computer_science` folders are located."
      ]
    },
    {
      "cell_type": "code",
      "metadata": {
        "id": "1kzyGjJvS3GL"
      },
      "source": [
        "main_path = '/content/drive/MyDrive/nantes/semantic'\r\n",
        "\r\n",
        "\r\n",
        "path = main_path+'/computer_science'\r\n",
        "corpus_path = main_path+'/computerScienceCorpus'\r\n",
        "abstract_filename = '/TP_CS_Abstract.csv'"
      ],
      "execution_count": 26,
      "outputs": []
    },
    {
      "cell_type": "markdown",
      "metadata": {
        "id": "gjxo06mWQQsY"
      },
      "source": [
        "Availiable dataframes are :\r\n",
        "*   abstract\r\n",
        "*   core_concepts\r\n",
        "*   subcore_concepts"
      ]
    },
    {
      "cell_type": "markdown",
      "metadata": {
        "id": "GwoRRapSxPhv"
      },
      "source": [
        "The function `load_abstract_and_export_to_txt` defined in the cell below loads the corpus text and saves it in txt form with each txt containing a batch of n texts aggregated."
      ]
    },
    {
      "cell_type": "code",
      "metadata": {
        "colab": {
          "base_uri": "https://localhost:8080/",
          "height": 117,
          "referenced_widgets": [
            "64da5538cc2942308e4e36a9ff844a7d",
            "aab08bf8592340478d7d7fe50060a4cc",
            "7578998c95e04ea7b3625faadf078069",
            "1d13cd7a856f46189698a7bc2d850348",
            "dcc381365338490b8b7423dfe331a4e6",
            "96c0f786569b46228d24067b8308ab84",
            "c7538b7263f940038b68c7b4423db53c",
            "d7f4e5e82a5b4371a671148a508b262e"
          ]
        },
        "id": "7nUAt1AGT5sO",
        "outputId": "885c4560-c2f4-435d-b446-4c46ab5cca64"
      },
      "source": [
        "def load_abstract_and_export_to_txt(corpus_path, project_path, max_batch_number):\r\n",
        "\r\n",
        "  #delete all previously created files\r\n",
        "  delete_all_files_at(path+'/Corpus/')\r\n",
        "\r\n",
        "  abstract = pd.read_csv(corpus_path, sep=',', header=None, names=['index2', 'text_content'])\r\n",
        "  abstract.drop('index2', axis=1, inplace=True)\r\n",
        "  #first step is to extract all csv data and store it in a text file, with one file per text\r\n",
        "  \r\n",
        "  cpt = 0\r\n",
        "  for bundle_of_texts in split_list_every_n(list(abstract['text_content'].values), 100)[:max_batch_number]:\r\n",
        "    corpus_filename = project_path + '/Corpus/abstract-' +str(cpt) +'.txt'\r\n",
        "    np.savetxt(corpus_filename,bundle_of_texts, fmt='%s')\r\n",
        "    cpt+=1\r\n",
        "\r\n",
        "  print('Saved corpus at : ' + corpus_filename)\r\n",
        "  print(str(cpt) + ' Batches of 100 texts made')\r\n",
        "\r\n",
        "load_abstract_and_export_to_txt(corpus_path + abstract_filename, path, -1)"
      ],
      "execution_count": 27,
      "outputs": [
        {
          "output_type": "stream",
          "text": [
            "deleting files...\n"
          ],
          "name": "stdout"
        },
        {
          "output_type": "display_data",
          "data": {
            "application/vnd.jupyter.widget-view+json": {
              "model_id": "64da5538cc2942308e4e36a9ff844a7d",
              "version_minor": 0,
              "version_major": 2
            },
            "text/plain": [
              "HBox(children=(FloatProgress(value=0.0, max=64.0), HTML(value='')))"
            ]
          },
          "metadata": {
            "tags": []
          }
        },
        {
          "output_type": "stream",
          "text": [
            "\n",
            "Saved corpus at : /content/drive/MyDrive/nantes/semantic/computer_science/Corpus/abstract-63.txt\n",
            "64 Batches of 100 texts made\n"
          ],
          "name": "stdout"
        }
      ]
    },
    {
      "cell_type": "markdown",
      "metadata": {
        "id": "FIp0i3XtiRvV"
      },
      "source": [
        "## Corpus parsing - Token Extraction test"
      ]
    },
    {
      "cell_type": "markdown",
      "metadata": {
        "id": "dUDj5YhIfa0g"
      },
      "source": [
        "WARNING : this test lasts 30+ minutes. Uncomment to refresh the graph at your own risk.\r\n",
        "\r\n",
        "Evaluation step : we measure how many words are extrated dependeing on minimal frequency. We can see an elbow at 12 so we keep minFreq = 8 for the next part.\r\n",
        "\r\n",
        "Uncomment to run this section."
      ]
    },
    {
      "cell_type": "code",
      "metadata": {
        "id": "L5LVbD6JiWX1"
      },
      "source": [
        "# #we try different min_freq values\r\n",
        "# freqTerms_path = path+'/OutputDir'+'/freqTerms.txt'\r\n",
        "# min_freq_list = [3, 5, 8, 12, 17, 23, 50] #minimum frequent threshold for creating the file of frequent terms\r\n",
        "# len_list = []\r\n",
        "# for min_freq in min_freq_list:\r\n",
        "#   corpus_parsing(path, min_freq)\r\n",
        "#   frequent_terms_df = pd.read_csv(freqTerms_path, sep='\\t*', names=['term'])\r\n",
        "#   len_list.append([min_freq, len(frequent_terms_df)])\r\n",
        "\r\n",
        "# min_freq_len_df = pd.DataFrame(len_list, columns=['minimum frequency', 'number of extracted terms'])\r\n",
        "# ax = min_freq_len_df.plot(x='minimum frequency', title='Extracted terms per minimum frequency in extraction process')"
      ],
      "execution_count": 28,
      "outputs": []
    },
    {
      "cell_type": "code",
      "metadata": {
        "id": "InWVbnwYiLSi",
        "colab": {
          "base_uri": "https://localhost:8080/",
          "height": 0,
          "referenced_widgets": [
            "9c016dc273ba435f99a583c705491c8c",
            "9fc06af0980a41658c919905220b165c",
            "c4f6fe97f4354634b6d7ce0a7101a8bc",
            "c00a763a35ed45a6824d59c7383ec87a",
            "27278617875644169ca209819bd84db9",
            "d444cb21a4ac443bbe73f5725543bd52",
            "7a2211d1a9ea43a08b7802b331a86a38",
            "22329a24332c461d9558cc14cf2f9f47"
          ]
        },
        "outputId": "e61adb98-2a0d-46d6-b443-0a9f5804ccaf"
      },
      "source": [
        "corpus_parsing(path, 50)"
      ],
      "execution_count": 29,
      "outputs": [
        {
          "output_type": "display_data",
          "data": {
            "application/vnd.jupyter.widget-view+json": {
              "model_id": "9c016dc273ba435f99a583c705491c8c",
              "version_minor": 0,
              "version_major": 2
            },
            "text/plain": [
              "HBox(children=(FloatProgress(value=0.0, max=64.0), HTML(value='')))"
            ]
          },
          "metadata": {
            "tags": []
          }
        },
        {
          "output_type": "stream",
          "text": [
            "\n"
          ],
          "name": "stdout"
        }
      ]
    },
    {
      "cell_type": "markdown",
      "metadata": {
        "id": "v7s3K3OMVqr2"
      },
      "source": [
        "## Frequent term extraction test"
      ]
    },
    {
      "cell_type": "markdown",
      "metadata": {
        "id": "nNUm10XwlTe2"
      },
      "source": [
        "WARNING : this test lasts 8+ minutes. Uncomment to refresh the graph at your own risk.\r\n",
        "\r\n",
        "We can see an elbow at around frequency=8, so we will use this value from now on."
      ]
    },
    {
      "cell_type": "code",
      "metadata": {
        "id": "NhLDoxcRi3XA"
      },
      "source": [
        "# #we try different min_freq values\r\n",
        "# freqTerms_path = path+'/OutputDir'+'/ExtractedTerms.txt'\r\n",
        "# min_freq_list = [3, 5, 8, 12, 17, 23, 50] #minimum frequent threshold for creating the file of frequent terms\r\n",
        "# len_list = []\r\n",
        "# for min_freq in min_freq_list:\r\n",
        "#   term_extraction(path, min_freq)\r\n",
        "#   frequent_terms_df = pd.read_csv(freqTerms_path, sep='\\t*', names=['term'])\r\n",
        "#   len_list.append([min_freq, len(frequent_terms_df)])\r\n",
        "\r\n",
        "# min_freq_len_df = pd.DataFrame(len_list, columns=['minimum frequency', 'number of frequent terms'])\r\n",
        "# ax = min_freq_len_df.plot(x='minimum frequency', title='Frequent terms per minimum frequency in extraction process')"
      ],
      "execution_count": 30,
      "outputs": []
    },
    {
      "cell_type": "code",
      "metadata": {
        "id": "Ed_d65ALVpLj",
        "colab": {
          "base_uri": "https://localhost:8080/",
          "height": 0,
          "referenced_widgets": [
            "6155d25341664b0abca89efbf1c0de67",
            "94a3a2bc39f245d497ed02b21b05f346",
            "46e9dc80ed1b44c983ce4dd72671623a",
            "421df66d66fc41e784a5be58c9c2ac7c",
            "6083bd9fb44745f4879e13f9f8efd58f",
            "c4e0579d3104494bbf3657b574c89b16",
            "a5cacf65cbbf4524809b79ddb242a528",
            "2563b0c8d615485abaae4b9aa10433ad"
          ]
        },
        "outputId": "e621872d-db57-49af-8aa1-48ca3f54262d"
      },
      "source": [
        "term_extraction(path, 50)"
      ],
      "execution_count": 31,
      "outputs": [
        {
          "output_type": "display_data",
          "data": {
            "application/vnd.jupyter.widget-view+json": {
              "model_id": "6155d25341664b0abca89efbf1c0de67",
              "version_minor": 0,
              "version_major": 2
            },
            "text/plain": [
              "HBox(children=(FloatProgress(value=0.0, max=64.0), HTML(value='')))"
            ]
          },
          "metadata": {
            "tags": []
          }
        },
        {
          "output_type": "stream",
          "text": [
            "\n"
          ],
          "name": "stdout"
        }
      ]
    },
    {
      "cell_type": "markdown",
      "metadata": {
        "id": "l4zv01Pvf31m"
      },
      "source": [
        "## window-based matrix creation test"
      ]
    },
    {
      "cell_type": "markdown",
      "metadata": {
        "id": "VlowvdpkxziT"
      },
      "source": [
        "In the same way than previous test, we have settled on a given frequency that depends on the 2 previous frequencies (term extraction and frequent terms).  \r\n",
        "The goal is to have a matrix as square as possible.  "
      ]
    },
    {
      "cell_type": "code",
      "metadata": {
        "colab": {
          "base_uri": "https://localhost:8080/",
          "height": 0,
          "referenced_widgets": [
            "0168965adcc544dca4ce57158d8102e8",
            "205c449883ac40b79879702c80561bd2",
            "1c2237b1a26d4da4aee348e7d49eec85",
            "779a334895d2411e8199dcc6030627c7",
            "ea7d804c77884914a6b4b4f33dcbf6bf",
            "9ac9ecfb0e3e4e3a8375767956ca43b4",
            "042132c838e44374b7a430ca6cf71c08",
            "3eb9b05abe9740fd9d126d34ef931f12"
          ]
        },
        "id": "wyA2ginmhzma",
        "outputId": "7f5cd6bd-e89a-4f30-d216-34bb61b681bd"
      },
      "source": [
        "window_based_matrix_creation(path, 800)"
      ],
      "execution_count": 32,
      "outputs": [
        {
          "output_type": "stream",
          "text": [
            "Processing corpus file /content/drive/MyDrive/nantes/semantic/computer_science/OutputDir/processedTestCorpus.txt (1/1)...\n"
          ],
          "name": "stdout"
        },
        {
          "output_type": "display_data",
          "data": {
            "application/vnd.jupyter.widget-view+json": {
              "model_id": "0168965adcc544dca4ce57158d8102e8",
              "version_minor": 0,
              "version_major": 2
            },
            "text/plain": [
              "HBox(children=(FloatProgress(value=1.0, bar_style='info', max=1.0), HTML(value='')))"
            ]
          },
          "metadata": {
            "tags": []
          }
        },
        {
          "output_type": "stream",
          "text": [
            "\n",
            "563\n"
          ],
          "name": "stdout"
        }
      ]
    },
    {
      "cell_type": "markdown",
      "metadata": {
        "id": "OGMd1BZKo79J"
      },
      "source": [
        "## Matrix sparsity test"
      ]
    },
    {
      "cell_type": "code",
      "metadata": {
        "colab": {
          "base_uri": "https://localhost:8080/",
          "height": 0
        },
        "id": "MqcpKU7To-BA",
        "outputId": "3a131926-9eda-4898-ebb0-37ed33f6e3dd"
      },
      "source": [
        "matrix_sparsity(path)"
      ],
      "execution_count": 33,
      "outputs": [
        {
          "output_type": "stream",
          "text": [
            "0.2818096778225089\n"
          ],
          "name": "stdout"
        },
        {
          "output_type": "display_data",
          "data": {
            "image/png": "[encoded data removed]",
            "text/plain": [
              "<Figure size 345.723x288 with 1 Axes>"
            ]
          },
          "metadata": {
            "tags": []
          }
        }
      ]
    },
    {
      "cell_type": "markdown",
      "metadata": {
        "id": "yqSZGqKGpDuE"
      },
      "source": [
        "## Kmeans test"
      ]
    },
    {
      "cell_type": "code",
      "metadata": {
        "colab": {
          "base_uri": "https://localhost:8080/",
          "height": 1000
        },
        "id": "XaYjy7a0pFW0",
        "outputId": "9599c687-ddc7-4bdc-9d70-354e07767ed2"
      },
      "source": [
        "kmeans_clustering(path, 11) #we test with 11 clusters as we have 11 core concepts"
      ],
      "execution_count": 34,
      "outputs": [
        {
          "output_type": "stream",
          "text": [
            "[ 1  1  1  1  6  6  1  1 10  1  1  6  5  1  1  3  7  5  3  7  6  1  1  3\n",
            "  1  1  6  1  6  1  1  5  1  1  6  1  6  1  6  1  1  3  3  6  3  6  1  1\n",
            "  6  1  5  8  1  6  3  1  2  1  1  1  1  1  1  6  1  1  3  1  6  1  1  3\n",
            "  1  6  1  1  6  1  6  3  6  1  1  6  1  1  6  5  1  6  1  3  3  1  1  1\n",
            "  1  6  6  1  5  1  1  9  1  1  1  1  1  6  1  1  1  1  1  1  6  1  6  6\n",
            "  1  6  1  1  6  0  1  1  1  1  1  6  1  8  1  1  6  1  1  1  1  1  3  1\n",
            "  1  6  6  6  1  1  6  1  1  1  1  1  1  1  6  1  1  1  1  1  3  1  6  4\n",
            "  6  1  1  6  1  1  1  6  1  1  1  1  6  6  1  1  1  6  1  6  6  6  1  1\n",
            "  1  1  1  1  1  1  6  1  1  1  1  6  1  1  6  1  1  1  1  1  1  1  6  6\n",
            "  1  1  1  7  1  1  1  1  6  6  1  1  1  1  1  6  3  1  1  1  1  6  1  1\n",
            "  1  1  1  6  6  1  1  6  5  1  1  1  1  1  1  1  1  1  9  1  1  1  6  1\n",
            "  1  1  1  1  1  1  1  1  6  1  1  1  1  3  1  1  1  1  1  1  1  1  1  6\n",
            "  1  1  6  6  1  1  1  1  1  1  1  1  1  1  6  1  6  1  1  1  6  6  6  1\n",
            "  6  1  1  1  1  1  1  1  1  1  1  1  1  1  1  1  6  1  1  1  1  1  1  1\n",
            "  1  1  1  1  1  1  6  1  1  1  1  1  1  1  1  1  1  1  1  1  1  1  1  1\n",
            "  1  1  1  1  1  1  1  6  1  1  1  1  1  1  1  6  1  1  1  1  1  1  1  1\n",
            "  1  1  1  1  1  1  1  1  1  1  1  1  1  1  1  1  1  1  6  1  1  1  1  1\n",
            "  1  1  1  6  1  1  1  1  1  1  1  1  1  1  1  1  1  1  1  1  1  1  1  1\n",
            "  6  1  1  1  1  1  1  1  1  1  1  1  1  1  1  1  1  1  1  1  1  1  1  1\n",
            "  1  1  1  1  1  1  1  1  1  1  1  1  1]\n"
          ],
          "name": "stdout"
        },
        {
          "output_type": "display_data",
          "data": {
            "image/png": "[encoded data removed]",
            "text/plain": [
              "<Figure size 432x288 with 1 Axes>"
            ]
          },
          "metadata": {
            "tags": []
          }
        },
        {
          "output_type": "stream",
          "text": [
            "cluster: 0\n",
            "['time']\n",
            "cluster: 1\n",
            "['solitons', 'p', 'hirota method', 'changes', 'increase', 'type', 'equation', 'symbolic computation', 'potential', 'equations', 'interaction', 'fields', 'n', 'influence', 'aim', 'result', 'errors', 'total', 'sample', 'validation', 'input', 'identification', 'objective', 'propagation', 'basis', 'conclusion', 'novel approach', 'people', 'purpose', 'target', 'patients', 'present study', 'subjects', 'objects', 'addition', 'computer graphics', 'response', 'effects', 'functions', 'researchers', 'need', 'estimation', 'example', 'operating systems', 'species', 'survey', 'patterns', 'way', 'visualization', 'characteristics', 'region', 'size', 'combination', 'prediction', 'opportunities', 'variables', 'distribution', 'john wiley', 'sons', 'areas', 'query', 'advantage', 'issues', 'parts', 'data structures', 'project', 'integration', 'services', 'mechanism', 'reduction', 'article', 'network security', 'devices', 'protocol', 'existing methods', 'energy consumption', 'future', 'operation', 'creation', 'effect', 'image processing', 'processes', 'shape', 'treatment', 'same time', 'feasibility', 'advantages', 'difference', 'sense', 'examples', 'regions', 'volume', 'detail', 'background', 'generation', 'elements', 'scalability', 'sets', 'contrast', 'modeling', 'computer vision', 'understanding', 'surface', 'means', 'view', 'distance', 'dataset', 'k', 'properties', 'point', 'wide range', 'goal', 'conditions', 'benefits', 'range', 'limitations', 'methodology', 'computer science', 'technologies', 'science', 'theory', 'differences', 'growth', 'experience', 'nature', 'object', 'comparison', 'tests', 'ability', 'testing', 'participants', 'training', 'challenge', 'proposal', 'issue', 'consideration', 'literature', 'degree', 'capability', 'kind', 'operations', 'value', 'needs', 'aid', 'investigation', 'dynamics', 'form', 'construction', 'applicability', 'length', 'edges', 'notion', 'context', 'resources', 'distributed computing', 'reliability', 'improvement', 'world', 'queries', 'line', 'points', 'relationship', 'question', 'extension', 'class', 'evidence', 'interest', 'fact', 'attacks', 'proposed system', 'noise', 'cases', 'datasets', 'idea', 'respect', 'algorithm design', 'presence', 'different types', 'types', 'concept', 'step', 'code', 'learners', 'execution', 'steps', 'computer programming', 'program', 'sequence', 'components', 'proposed model', 'precision', 'kinds', 'nodes', 'mapping', 'instance', 'complexity', 'flexibility', 'possibility', 'strategy', 'selection', 'attributes', 'focus', 'series', 'relational databases', 'domains', 'measurements', 'stability', 'authors', 'error', 'location', 'tasks', 'position', 'impact', 'risk', 'activities', 'relation', 'contribution', 'large number', 'practice', 'correlation', 'classifier', 'values', 'date', 'strategies', 'experiment', 'factors', 'software engineering', 'levels', 'bioinformatics', 'groups', 'probability', 'samples', 'uncertainty', 'variation', 'sequences', 'motion', 'measurement', 'other hand', 'internet', 'previous work', 'sensors', 'attack', 'collection', 'genetic algorithm', 'parallel computing', 'proposed approach', 'constraints', 'objectives', 'case study', 'group', 'usage', 'service', 'speed', 'convergence', 'expression', 'interactions', 'simulations', 'cells', 'area', 'end', 'aspects', 'device', 'challenges', 'change', 'evolution', 'proposed algorithm', 'difficulty', 'concepts', 'mechanisms', 'sensitivity', 'light', 'privacy', 'protocols', 'relationships', 'course', 'skills', 'content', 'help', 'observations', 'importance', 'classes', 'role', 'important role', 'deployment', 'events', 'simulation results', 'review', 'proposed framework', 'cryptography', 'majority', 'variants', 'output', 'requirement', 'ways', 'new method', 'account', 'node', 'behavior', 'rules', 'years', 'validity', 'linux', 'teaching', 'efficacy', 'robustness', 'encryption', 'gpu', 'clusters', 'cpu', 'education', 'games', 'server', 'industry', 'variety', 'diagnosis', 'developers', 'software development', 'better performance', 'availability', 'proposed scheme', 'magnitude', 'new approach', 'insight', 'gpus', 'proteins', 'bioinformatics analysis', 'correctness', 'threats', 'prototype', 'big data', 'lack', 'difficulties', 'mobile devices', 'computers', 'genes', 'lot', 'execution time', 'place', 'conclusions', 'cloud computing', 'attention', 'success', 'extensive experiments', 'individuals', 'recent years', 'introduction', 'wireless sensor networks', 'wsns', 'demand', 'findings', 'programs', 'teachers', 'game', 'overview', 'novel method', 'things', 'existence', 'sdn']\n",
            "cluster: 2\n",
            "['data']\n",
            "cluster: 3\n",
            "['systems', 'applications', 'design', 'information', 'problem', 'algorithms', 'study', 'computer', 'software', 'processing', 'use', 'learning', 'process', 'parallel', 'computing', 'programming']\n",
            "cluster: 4\n",
            "['rights']\n",
            "cluster: 5\n",
            "['analysis', 'system', 'approach', 'methods', 'image', 'model', 'performance']\n",
            "cluster: 6\n",
            "['solutions', 'computation', 'field', 'communication', 'classification', 'order', 'features', 'state', 'function', 'art', 'accuracy', 'technique', 'support', 'images', 'cost', 'user', 'source', 'number', 'studies', 'environment', 'tools', 'management', 'development', 'machine learning', 'set', 'structures', 'access', 'efficiency', 'work', 'energy', 'database', 'techniques', 'technology', 'research', 'application', 'solution', 'effectiveness', 'proposed method', 'experimental results', 'terms', 'models', 'engineering', 'quality', 'databases', 'parameters', 'case', 'control', 'users', 'approaches', 'experiments', 'problems', 'evaluation', 'scheme', 'networks', 'structure', 'graph', 'requirements', 'power', 'space', 'domain', 'detection', 'cloud', 'level', 'task', 'framework', 'knowledge', 'platform', 'real time', 'optimization', 'implementation', 'simulation', 'tool', 'architecture', 'storage', 'memory', 'students', 'hardware']\n",
            "cluster: 7\n",
            "['method', 'paper', 'algorithm']\n",
            "cluster: 8\n",
            "['network', 'security']\n",
            "cluster: 9\n",
            "['ltd.', 'elsevier b.v.']\n",
            "cluster: 10\n",
            "['results']\n"
          ],
          "name": "stdout"
        }
      ]
    },
    {
      "cell_type": "markdown",
      "metadata": {
        "id": "rZdW1TvUpOuP"
      },
      "source": [
        "## Core-concept-based clustering test"
      ]
    },
    {
      "cell_type": "markdown",
      "metadata": {
        "id": "HXSU5hRKyQuL"
      },
      "source": [
        "For this test, we select two global words related to the computer science domain : \"computer\" and \"information\".  \r\n",
        "We also add a more specialized value, \"bioinformatics\", to check if the biotech theme is detected.  "
      ]
    },
    {
      "cell_type": "code",
      "metadata": {
        "colab": {
          "base_uri": "https://localhost:8080/"
        },
        "id": "fAYmunxqpS3D",
        "outputId": "d95ce1fb-8e76-42ec-f957-b18bfbf169a3"
      },
      "source": [
        "CoreConcepts = ['computer', 'information', 'bioinformatics']\r\n",
        "core_concept_based_clustering(path, CoreConcepts)"
      ],
      "execution_count": 35,
      "outputs": [
        {
          "output_type": "stream",
          "text": [
            "cluster: computer\n",
            "['computer graphics', 'computer vision', 'computer science', 'science', 'experience', 'learners', 'programming', 'computer programming', 'concepts', 'course', 'skills', 'students', 'teaching', 'education', 'games', 'difficulties', 'success', 'teachers']\n",
            "cluster: information\n",
            "['solitons', 'p', 'hirota method', 'changes', 'solutions', 'computation', 'increase', 'type', 'results', 'equation', 'symbolic computation', 'field', 'analysis', 'potential', 'equations', 'systems', 'method', 'system', 'applications', 'paper', 'communication', 'interaction', 'fields', 'design', 'n', 'influence', 'classification', 'aim', 'order', 'result', 'errors', 'approach', 'total', 'sample', 'features', 'validation', 'state', 'input', 'function', 'identification', 'objective', 'problem', 'art', 'algorithms', 'accuracy', 'propagation', 'basis', 'technique', 'conclusion', 'methods', 'network', 'novel approach', 'support', 'study', 'people', 'data', 'purpose', 'target', 'patients', 'subjects', 'objects', 'images', 'addition', 'response', 'cost', 'effects', 'functions', 'software', 'researchers', 'user', 'need', 'estimation', 'source', 'example', 'number', 'processing', 'studies', 'operating systems', 'species', 'environment', 'survey', 'patterns', 'tools', 'image', 'way', 'management', 'visualization', 'use', 'learning', 'characteristics', 'region', 'size', 'combination', 'development', 'machine learning', 'prediction', 'model', 'opportunities', 'variables', 'ltd.', 'distribution', 'john wiley', 'sons', 'areas', 'query', 'set', 'advantage', 'issues', 'parts', 'data structures', 'project', 'integration', 'structures', 'services', 'access', 'efficiency', 'mechanism', 'work', 'reduction', 'article', 'energy', 'time', 'network security', 'devices', 'protocol', 'existing methods', 'energy consumption', 'database', 'future', 'security', 'operation', 'creation', 'techniques', 'effect', 'image processing', 'processes', 'shape', 'treatment', 'process', 'same time', 'feasibility', 'technology', 'research', 'application', 'advantages', 'difference', 'solution', 'sense', 'examples', 'regions', 'volume', 'detail', 'background', 'generation', 'effectiveness', 'elements', 'scalability', 'sets', 'contrast', 'modeling', 'parallel', 'proposed method', 'rights', 'experimental results', 'understanding', 'surface', 'terms', 'means', 'view', 'distance', 'models', 'dataset', 'k', 'properties', 'point', 'engineering', 'quality', 'wide range', 'goal', 'conditions', 'databases', 'benefits', 'parameters', 'case', 'control', 'range', 'limitations', 'methodology', 'technologies', 'theory', 'differences', 'users', 'growth', 'nature', 'object', 'approaches', 'comparison', 'tests', 'experiments', 'ability', 'testing', 'participants', 'training', 'challenge', 'proposal', 'issue', 'problems', 'evaluation', 'consideration', 'literature', 'degree', 'algorithm', 'capability', 'kind', 'operations', 'value', 'scheme', 'networks', 'needs', 'aid', 'investigation', 'dynamics', 'form', 'structure', 'computing', 'construction', 'applicability', 'length', 'edges', 'graph', 'notion', 'context', 'resources', 'distributed computing', 'reliability', 'requirements', 'power', 'improvement', 'world', 'space', 'performance', 'queries', 'line', 'points', 'relationship', 'question', 'extension', 'class', 'evidence', 'interest', 'elsevier b.v.', 'fact', 'attacks', 'proposed system', 'domain', 'noise', 'cases', 'datasets', 'idea', 'respect', 'algorithm design', 'presence', 'different types', 'types', 'detection', 'concept', 'step', 'code', 'execution', 'steps', 'program', 'sequence', 'components', 'proposed model', 'precision', 'kinds', 'cloud', 'nodes', 'mapping', 'level', 'task', 'instance', 'complexity', 'flexibility', 'possibility', 'strategy', 'selection', 'attributes', 'focus', 'series', 'relational databases', 'framework', 'domains', 'knowledge', 'measurements', 'stability', 'authors', 'platform', 'real time', 'optimization', 'error', 'implementation', 'location', 'tasks', 'position', 'impact', 'risk', 'activities', 'relation', 'contribution', 'large number', 'practice', 'correlation', 'classifier', 'values', 'date', 'strategies', 'simulation', 'experiment', 'factors', 'software engineering', 'levels', 'groups', 'probability', 'samples', 'uncertainty', 'variation', 'sequences', 'motion', 'measurement', 'tool', 'other hand', 'internet', 'previous work', 'sensors', 'attack', 'collection', 'genetic algorithm', 'parallel computing', 'proposed approach', 'constraints', 'objectives', 'case study', 'group', 'usage', 'service', 'speed', 'convergence', 'interactions', 'simulations', 'area', 'end', 'aspects', 'architecture', 'device', 'challenges', 'change', 'evolution', 'proposed algorithm', 'difficulty', 'storage', 'mechanisms', 'sensitivity', 'light', 'privacy', 'protocols', 'relationships', 'content', 'help', 'observations', 'importance', 'classes', 'role', 'important role', 'deployment', 'events', 'simulation results', 'review', 'proposed framework', 'cryptography', 'majority', 'output', 'requirement', 'ways', 'memory', 'new method', 'account', 'node', 'behavior', 'rules', 'years', 'validity', 'linux', 'efficacy', 'robustness', 'encryption', 'gpu', 'clusters', 'cpu', 'server', 'industry', 'variety', 'diagnosis', 'developers', 'software development', 'better performance', 'availability', 'proposed scheme', 'magnitude', 'new approach', 'hardware', 'insight', 'gpus', 'correctness', 'threats', 'prototype', 'big data', 'lack', 'mobile devices', 'computers', 'lot', 'execution time', 'place', 'conclusions', 'cloud computing', 'attention', 'extensive experiments', 'individuals', 'recent years', 'introduction', 'wireless sensor networks', 'wsns', 'demand', 'findings', 'programs', 'game', 'overview', 'novel method', 'things', 'existence', 'sdn']\n",
            "cluster: bioinformatics\n",
            "['present study', 'expression', 'cells', 'variants', 'proteins', 'bioinformatics analysis', 'genes']\n"
          ],
          "name": "stdout"
        }
      ]
    },
    {
      "cell_type": "markdown",
      "metadata": {
        "id": "vuTeAPq-rp15"
      },
      "source": [
        "## OPTICS Clustering algorithm"
      ]
    },
    {
      "cell_type": "markdown",
      "metadata": {
        "id": "BCWO7o7QWt4v"
      },
      "source": [
        "First, we define a utility function that removes the unknown values : OPTICS returns a label equal to -1 when a value has no cluster.  \r\n",
        "\r\n",
        "This function takes the matrix values, matrix labels, OPTICS output, and returns these three variables minus all elements located at the same index as a \"-1\" value in the OPTICS result."
      ]
    },
    {
      "cell_type": "code",
      "metadata": {
        "id": "1dA0zkFXKAoh"
      },
      "source": [
        "def remove_unknown_values(matrix_values, matrix_labels, optics_output):\r\n",
        "\r\n",
        "  #transform numpy ndarrays to dataframes -- matrix_labels is already a dataframe\r\n",
        "  labeled_window_matrix = pd.concat([pd.DataFrame(matrix_values), pd.DataFrame(optics_output, columns=['label']), matrix_labels], axis=1)\r\n",
        "  labeled_window_matrix = labeled_window_matrix[labeled_window_matrix.label != -1]\r\n",
        "\r\n",
        "  #extract columns label and changes into independent variables\r\n",
        "  optics_label_list_without_unknown_values = labeled_window_matrix['label'].values\r\n",
        "  label_list_without_unknown_values = labeled_window_matrix['label_name'].values\r\n",
        "\r\n",
        "  #drop columns label and changes to get only matrix values\r\n",
        "  labeled_window_matrix.drop('label', axis=1, inplace=True)\r\n",
        "  labeled_window_matrix.drop('label_name', axis=1, inplace=True)\r\n",
        "\r\n",
        "  return labeled_window_matrix.values, label_list_without_unknown_values, optics_label_list_without_unknown_values\r\n",
        "\r\n",
        "#test\r\n",
        "# Xtest = np.loadtxt(path+\"/OutputDir/window_matrix.csv\", delimiter=\",\")\r\n",
        "# matrix_labels = pd.read_csv(path+\"/OutputDir/window_matrix_terms.txt\", delimiter=\",\")\r\n",
        "# remove_unknown_values(Xtest, matrix_labels, optics_output)"
      ],
      "execution_count": 36,
      "outputs": []
    },
    {
      "cell_type": "markdown",
      "metadata": {
        "id": "zcLSUb4GymVT"
      },
      "source": [
        "Then we create the function `optics_clustering` which will perform the OPTICS clustering algorithm on the dataset.  \r\n",
        "We use default values :  \r\n",
        "*   epsilon set to infinity\r\n",
        "*   min_samples = 5 (5 samples are needed to create a new cluster)\r\n",
        "\r\n",
        "The function load the co-occurence matrix, performs PCA to reduce dimension from 400+ to only 2 to help fight against sparsity.  \r\n",
        "\r\n",
        "Then, the data is fed to OPTICS for fitting. When a value is part of a cluster, it gets a cluster id. All data that failed identification is labelled with \"-1\" value.  \r\n",
        "\r\n",
        "Then, to have a graph with useful information, we filter-out the unknown samples and display a scatter plot of similar terms. They are colored by cluster id.  \r\n",
        "\r\n",
        "To chekc wether the cluster contents make sense, we also return a dataframe with all the cluster as rows and a unique column containing all the true labels (the co-occurence matrix terms) grouped by cluster."
      ]
    },
    {
      "cell_type": "code",
      "metadata": {
        "colab": {
          "base_uri": "https://localhost:8080/",
          "height": 688
        },
        "id": "uG_Ffs6oGEFy",
        "outputId": "3351012a-977f-46ef-ddbe-4b57155bf92b"
      },
      "source": [
        "def optics_clustering(path, pca_on=True):\r\n",
        "       \r\n",
        "  #load the data\r\n",
        "  X = np.loadtxt(path+\"/OutputDir/window_matrix.csv\", delimiter=\",\")\r\n",
        "\r\n",
        "  # perform PCA\r\n",
        "  if pca_on:\r\n",
        "    X = PCA(n_components=2).fit_transform(X)\r\n",
        "  \r\n",
        "  #run OPTICS clustering\r\n",
        "  db = OPTICS(min_samples=5).fit(X)\r\n",
        "\r\n",
        "  #get the identified labels\r\n",
        "  cluster_groups = db.labels_\r\n",
        "\r\n",
        "  #load the true labels\r\n",
        "  matrix_labels = pd.read_csv(path+\"/OutputDir/window_matrix_terms.txt\", delimiter=\",\", names=['label_name'])\r\n",
        "\r\n",
        "  #filter \"-1\" values, AKA unknow values\r\n",
        "  X, matrix_labels, cluster_labels = remove_unknown_values(X,matrix_labels, cluster_groups)\r\n",
        "\r\n",
        "  #display some stats\r\n",
        "  print(\"Unknown Values : \"+str(len(cluster_groups)-len(cluster_labels)))\r\n",
        "  print(\"Values part of a cluster : \"+str(len(cluster_labels)))\r\n",
        "  print(\"How many clusters found : \"+str(len(set(cluster_labels))))\r\n",
        "  print('\\n')\r\n",
        "\r\n",
        "  print(cluster_labels)\r\n",
        "  \r\n",
        "  plt.figure()\r\n",
        "  plt.scatter(X[:, 0], X[:, 1], c=cluster_labels)\r\n",
        "  plt.show()\r\n",
        "\r\n",
        "  #return a dataframe with the true labels associated to the clusters found by OPTICS\r\n",
        "  cluster_and_matrix_labels_df = pd.concat([pd.DataFrame(matrix_labels, columns=['clusters']), pd.DataFrame(cluster_labels, columns=['cluster_labels'])], axis=1)\r\n",
        "  cluster_and_matrix_labels_df = cluster_and_matrix_labels_df.groupby(['cluster_labels'], as_index=False).agg(lambda col: set(col))\r\n",
        "  cluster_and_matrix_labels_df.drop('cluster_labels', axis=1, inplace=True)\r\n",
        "  cluster_and_matrix_labels_df\r\n",
        "\r\n",
        "  return cluster_and_matrix_labels_df\r\n",
        "\r\n",
        "#test without PCA\r\n",
        "optics_clustering(path, False)"
      ],
      "execution_count": 37,
      "outputs": [
        {
          "output_type": "stream",
          "text": [
            "Unknown Values : 38\n",
            "Values part of a cluster : 431\n",
            "How many clusters found : 1\n",
            "\n",
            "\n",
            "[0 0 0 0 0 0 0 0 0 0 0 0 0 0 0 0 0 0 0 0 0 0 0 0 0 0 0 0 0 0 0 0 0 0 0 0 0\n",
            " 0 0 0 0 0 0 0 0 0 0 0 0 0 0 0 0 0 0 0 0 0 0 0 0 0 0 0 0 0 0 0 0 0 0 0 0 0\n",
            " 0 0 0 0 0 0 0 0 0 0 0 0 0 0 0 0 0 0 0 0 0 0 0 0 0 0 0 0 0 0 0 0 0 0 0 0 0\n",
            " 0 0 0 0 0 0 0 0 0 0 0 0 0 0 0 0 0 0 0 0 0 0 0 0 0 0 0 0 0 0 0 0 0 0 0 0 0\n",
            " 0 0 0 0 0 0 0 0 0 0 0 0 0 0 0 0 0 0 0 0 0 0 0 0 0 0 0 0 0 0 0 0 0 0 0 0 0\n",
            " 0 0 0 0 0 0 0 0 0 0 0 0 0 0 0 0 0 0 0 0 0 0 0 0 0 0 0 0 0 0 0 0 0 0 0 0 0\n",
            " 0 0 0 0 0 0 0 0 0 0 0 0 0 0 0 0 0 0 0 0 0 0 0 0 0 0 0 0 0 0 0 0 0 0 0 0 0\n",
            " 0 0 0 0 0 0 0 0 0 0 0 0 0 0 0 0 0 0 0 0 0 0 0 0 0 0 0 0 0 0 0 0 0 0 0 0 0\n",
            " 0 0 0 0 0 0 0 0 0 0 0 0 0 0 0 0 0 0 0 0 0 0 0 0 0 0 0 0 0 0 0 0 0 0 0 0 0\n",
            " 0 0 0 0 0 0 0 0 0 0 0 0 0 0 0 0 0 0 0 0 0 0 0 0 0 0 0 0 0 0 0 0 0 0 0 0 0\n",
            " 0 0 0 0 0 0 0 0 0 0 0 0 0 0 0 0 0 0 0 0 0 0 0 0 0 0 0 0 0 0 0 0 0 0 0 0 0\n",
            " 0 0 0 0 0 0 0 0 0 0 0 0 0 0 0 0 0 0 0 0 0 0 0 0]\n"
          ],
          "name": "stdout"
        },
        {
          "output_type": "display_data",
          "data": {
            "image/png": "[encoded data removed]",
            "text/plain": [
              "<Figure size 432x288 with 1 Axes>"
            ]
          },
          "metadata": {
            "tags": []
          }
        },
        {
          "output_type": "execute_result",
          "data": {
            "text/html": [
              "<div>\n",
              "<style scoped>\n",
              "    .dataframe tbody tr th:only-of-type {\n",
              "        vertical-align: middle;\n",
              "    }\n",
              "\n",
              "    .dataframe tbody tr th {\n",
              "        vertical-align: top;\n",
              "    }\n",
              "\n",
              "    .dataframe thead th {\n",
              "        text-align: right;\n",
              "    }\n",
              "</style>\n",
              "<table border=\"1\" class=\"dataframe\">\n",
              "  <thead>\n",
              "    <tr style=\"text-align: right;\">\n",
              "      <th></th>\n",
              "      <th>clusters</th>\n",
              "    </tr>\n",
              "  </thead>\n",
              "  <tbody>\n",
              "    <tr>\n",
              "      <th>0</th>\n",
              "      <td>{classification, efficiency, big data, step, simulation, quality, output, advantages, solitons, attributes, level, surface, better performance, novel method, aim, p, techniques, query, use, limitations, order, set, aspects, account, overview, hirota method, changes, proposal, group, terms, reliability, mobile devices, comparison, construction, platform, fact, requirements, findings, focus, events, power, applicability, people, wide range, length, lot, computation, cryptography, methodology, proposed model, result, cells, sequence, increase, task, difference, theory, precision, effect, functions, advantage, means, errors, concepts, new method, extension, issue, gpus, tests, investigation, solution, same time, genetic algorithm, relation, years, real time, code, attacks, view, sense, differences, capability, storage, levels, characteristics, genes, presence, purpose, software development, class, target, gpu, distance, mechanism, region, work, usage, wireless sensor networks, type, kind, ...}</td>\n",
              "    </tr>\n",
              "  </tbody>\n",
              "</table>\n",
              "</div>"
            ],
            "text/plain": [
              "                                                                                                                                                                                                                                                                                                                                                                                                                                                                                                                                                                                                                                                                                                                                                                                                                                                                                                                                                                                                                                       clusters\n",
              "0  {classification, efficiency, big data, step, simulation, quality, output, advantages, solitons, attributes, level, surface, better performance, novel method, aim, p, techniques, query, use, limitations, order, set, aspects, account, overview, hirota method, changes, proposal, group, terms, reliability, mobile devices, comparison, construction, platform, fact, requirements, findings, focus, events, power, applicability, people, wide range, length, lot, computation, cryptography, methodology, proposed model, result, cells, sequence, increase, task, difference, theory, precision, effect, functions, advantage, means, errors, concepts, new method, extension, issue, gpus, tests, investigation, solution, same time, genetic algorithm, relation, years, real time, code, attacks, view, sense, differences, capability, storage, levels, characteristics, genes, presence, purpose, software development, class, target, gpu, distance, mechanism, region, work, usage, wireless sensor networks, type, kind, ...}"
            ]
          },
          "metadata": {
            "tags": []
          },
          "execution_count": 37
        }
      ]
    },
    {
      "cell_type": "markdown",
      "metadata": {
        "id": "mIx3IeQt3fRt"
      },
      "source": [
        "As we can see below, the PCA improves greatly accuracy and sample identification by counteracting matrix sparsity"
      ]
    },
    {
      "cell_type": "code",
      "metadata": {
        "colab": {
          "base_uri": "https://localhost:8080/",
          "height": 1000
        },
        "id": "4na5pj1x3eka",
        "outputId": "03443bc5-3125-494e-aa75-de87abbe410e"
      },
      "source": [
        "optics_clustering(path)"
      ],
      "execution_count": 38,
      "outputs": [
        {
          "output_type": "stream",
          "text": [
            "Unknown Values : 203\n",
            "Values part of a cluster : 266\n",
            "How many clusters found : 27\n",
            "\n",
            "\n",
            "[ 0 11 23 20 13 26  9 19 26 25 26 18 12 22  9 24 16  3  4 23 23 13 19 10\n",
            " 25 25 25  1 10 22  8 20 25 13 23 17 11 25  9 17 10 22 15 18 12 24 25 19\n",
            " 18 17 25 10 23 19 26  7 16 24 13  0 17 11 12 23 13 18 21 13 24 19 16 15\n",
            "  8  5 22 25 24 10 15 25  7 20 24 24  4 22  3  4 12  9 16  0 16 25 15 20\n",
            "  9 13 18 10 14 16 21 21  5  9  2 20 23  0  6 14 19  0  2 16 20 14 22  5\n",
            " 15  9  5 23 19  8  1 26  0 13 12 23 21  9  7 23 25 10  6 18 15 18 19 19\n",
            "  3  5  0  3  6 17  8 18  0  1  5 16 24 11  7 24  2 15  9 21 17 11 22 18\n",
            " 17  5  8 14  0  9 13 24 20  3 18 18 21  1 16  0 10  3 10  5  5 10  4  8\n",
            " 23  9 13 10  4  7  4 20  8  8  0 15  4 14  6  1 11 11  1 14 11  4 20 13\n",
            " 10  8 18  4  2 10  0 13  6  0  8  0  4 10  8  8  5 20  0  3 12  9 11  0\n",
            "  4  0  0  8  8  8  1  2  7  6  5  4  8  8  0  8  8  6  8  8  8  2  8  8\n",
            "  8  6]\n"
          ],
          "name": "stdout"
        },
        {
          "output_type": "display_data",
          "data": {
            "image/png": "[encoded data removed]",
            "text/plain": [
              "<Figure size 432x288 with 1 Axes>"
            ]
          },
          "metadata": {
            "tags": []
          }
        },
        {
          "output_type": "execute_result",
          "data": {
            "text/html": [
              "<div>\n",
              "<style scoped>\n",
              "    .dataframe tbody tr th:only-of-type {\n",
              "        vertical-align: middle;\n",
              "    }\n",
              "\n",
              "    .dataframe tbody tr th {\n",
              "        vertical-align: top;\n",
              "    }\n",
              "\n",
              "    .dataframe thead th {\n",
              "        text-align: right;\n",
              "    }\n",
              "</style>\n",
              "<table border=\"1\" class=\"dataframe\">\n",
              "  <thead>\n",
              "    <tr style=\"text-align: right;\">\n",
              "      <th></th>\n",
              "      <th>clusters</th>\n",
              "    </tr>\n",
              "  </thead>\n",
              "  <tbody>\n",
              "    <tr>\n",
              "      <th>0</th>\n",
              "      <td>{p, idea, classes, software development, limitations, attributes, attention, sensors, experience, developers, parts, events, contrast, clusters, evidence, account, skills, kind, position}</td>\n",
              "    </tr>\n",
              "    <tr>\n",
              "      <th>1</th>\n",
              "      <td>{degree, cells, propagation, prototype, case study, location, respect}</td>\n",
              "    </tr>\n",
              "    <tr>\n",
              "      <th>2</th>\n",
              "      <td>{lack, steps, findings, nature, benefits, privacy}</td>\n",
              "    </tr>\n",
              "    <tr>\n",
              "      <th>3</th>\n",
              "      <td>{errors, line, risk, volume, interest, node, measurements}</td>\n",
              "    </tr>\n",
              "    <tr>\n",
              "      <th>4</th>\n",
              "      <td>{sequences, advantages, genes, collection, background, sample, mechanisms, classifier, aspects, simulation results, server, samples}</td>\n",
              "    </tr>\n",
              "    <tr>\n",
              "      <th>5</th>\n",
              "      <td>{presence, contribution, energy consumption, participants, extension, proposal, computers, wide range, ways, flexibility, large number}</td>\n",
              "    </tr>\n",
              "    <tr>\n",
              "      <th>6</th>\n",
              "      <td>{fact, objectives, computer science, observations, edges, sdn, mobile devices, recent years}</td>\n",
              "    </tr>\n",
              "    <tr>\n",
              "      <th>7</th>\n",
              "      <td>{aid, difficulties, same time, opportunities, variation, learners}</td>\n",
              "    </tr>\n",
              "    <tr>\n",
              "      <th>8</th>\n",
              "      <td>{important role, existing methods, magnitude, insight, new approach, introduction, proposed framework, place, things, novel method, majority, novel approach, individuals, other hand, date, extensive experiments, wireless sensor networks, proposed system, previous work, difficulty, lot, wsns, consideration, overview, possibility}</td>\n",
              "    </tr>\n",
              "    <tr>\n",
              "      <th>9</th>\n",
              "      <td>{goal, elements, factors, needs, understanding, challenge, sequence, response, rules, series, symbolic computation, aim}</td>\n",
              "    </tr>\n",
              "    <tr>\n",
              "      <th>10</th>\n",
              "      <td>{basis, impact, levels, construction, protocols, researchers, identification, correlation, activities, change, review, effect, combination, view}</td>\n",
              "    </tr>\n",
              "    <tr>\n",
              "      <th>11</th>\n",
              "      <td>{teaching, computer graphics, changes, mapping, concept, expression, group, project, end}</td>\n",
              "    </tr>\n",
              "    <tr>\n",
              "      <th>12</th>\n",
              "      <td>{example, value, interaction, behavior, generation, integration}</td>\n",
              "    </tr>\n",
              "    <tr>\n",
              "      <th>13</th>\n",
              "      <td>{type, issues, mechanism, surface, software engineering, challenges, operations, help, input, objects, services, relational databases}</td>\n",
              "    </tr>\n",
              "    <tr>\n",
              "      <th>14</th>\n",
              "      <td>{strategy, theory, properties, area, parallel computing, comparison}</td>\n",
              "    </tr>\n",
              "    <tr>\n",
              "      <th>15</th>\n",
              "      <td>{training, attack, computer vision, context, need, image processing, protocol, program}</td>\n",
              "    </tr>\n",
              "    <tr>\n",
              "      <th>16</th>\n",
              "      <td>{result, modeling, types, sets, tasks, point, devices, distribution, object}</td>\n",
              "    </tr>\n",
              "    <tr>\n",
              "      <th>17</th>\n",
              "      <td>{addition, way, nodes, attacks, complexity, functions, data structures}</td>\n",
              "    </tr>\n",
              "    <tr>\n",
              "      <th>18</th>\n",
              "      <td>{tools, storage, platform, graph, real time, task, terms, requirements, communication, access, domain, source}</td>\n",
              "    </tr>\n",
              "    <tr>\n",
              "      <th>19</th>\n",
              "      <td>{function, users, machine learning, energy, field, space, environment, power, evaluation}</td>\n",
              "    </tr>\n",
              "    <tr>\n",
              "      <th>20</th>\n",
              "      <td>{computation, case, approaches, architecture, technology, support, knowledge, memory, tool, experimental results}</td>\n",
              "    </tr>\n",
              "    <tr>\n",
              "      <th>21</th>\n",
              "      <td>{networks, efficiency, engineering, optimization, cloud, quality}</td>\n",
              "    </tr>\n",
              "    <tr>\n",
              "      <th>22</th>\n",
              "      <td>{user, database, experiments, classification, level, technique, solution}</td>\n",
              "    </tr>\n",
              "    <tr>\n",
              "      <th>23</th>\n",
              "      <td>{structure, problems, scheme, development, simulation, solutions, control, images, features, structures, state}</td>\n",
              "    </tr>\n",
              "    <tr>\n",
              "      <th>24</th>\n",
              "      <td>{detection, techniques, application, number, programming, work, order, framework, set, research}</td>\n",
              "    </tr>\n",
              "    <tr>\n",
              "      <th>25</th>\n",
              "      <td>{computing, computer, information, use, applications, process, processing, problem, security, parallel, study, algorithms}</td>\n",
              "    </tr>\n",
              "    <tr>\n",
              "      <th>26</th>\n",
              "      <td>{algorithm, results, method, paper, model}</td>\n",
              "    </tr>\n",
              "  </tbody>\n",
              "</table>\n",
              "</div>"
            ],
            "text/plain": [
              "                                                                                                                                                                                                                                                                                                                                      clusters\n",
              "0   {p, idea, classes, software development, limitations, attributes, attention, sensors, experience, developers, parts, events, contrast, clusters, evidence, account, skills, kind, position}                                                                                                                                               \n",
              "1   {degree, cells, propagation, prototype, case study, location, respect}                                                                                                                                                                                                                                                                    \n",
              "2   {lack, steps, findings, nature, benefits, privacy}                                                                                                                                                                                                                                                                                        \n",
              "3   {errors, line, risk, volume, interest, node, measurements}                                                                                                                                                                                                                                                                                \n",
              "4   {sequences, advantages, genes, collection, background, sample, mechanisms, classifier, aspects, simulation results, server, samples}                                                                                                                                                                                                      \n",
              "5   {presence, contribution, energy consumption, participants, extension, proposal, computers, wide range, ways, flexibility, large number}                                                                                                                                                                                                   \n",
              "6   {fact, objectives, computer science, observations, edges, sdn, mobile devices, recent years}                                                                                                                                                                                                                                              \n",
              "7   {aid, difficulties, same time, opportunities, variation, learners}                                                                                                                                                                                                                                                                        \n",
              "8   {important role, existing methods, magnitude, insight, new approach, introduction, proposed framework, place, things, novel method, majority, novel approach, individuals, other hand, date, extensive experiments, wireless sensor networks, proposed system, previous work, difficulty, lot, wsns, consideration, overview, possibility}\n",
              "9   {goal, elements, factors, needs, understanding, challenge, sequence, response, rules, series, symbolic computation, aim}                                                                                                                                                                                                                  \n",
              "10  {basis, impact, levels, construction, protocols, researchers, identification, correlation, activities, change, review, effect, combination, view}                                                                                                                                                                                         \n",
              "11  {teaching, computer graphics, changes, mapping, concept, expression, group, project, end}                                                                                                                                                                                                                                                 \n",
              "12  {example, value, interaction, behavior, generation, integration}                                                                                                                                                                                                                                                                          \n",
              "13  {type, issues, mechanism, surface, software engineering, challenges, operations, help, input, objects, services, relational databases}                                                                                                                                                                                                    \n",
              "14  {strategy, theory, properties, area, parallel computing, comparison}                                                                                                                                                                                                                                                                      \n",
              "15  {training, attack, computer vision, context, need, image processing, protocol, program}                                                                                                                                                                                                                                                   \n",
              "16  {result, modeling, types, sets, tasks, point, devices, distribution, object}                                                                                                                                                                                                                                                              \n",
              "17  {addition, way, nodes, attacks, complexity, functions, data structures}                                                                                                                                                                                                                                                                   \n",
              "18  {tools, storage, platform, graph, real time, task, terms, requirements, communication, access, domain, source}                                                                                                                                                                                                                            \n",
              "19  {function, users, machine learning, energy, field, space, environment, power, evaluation}                                                                                                                                                                                                                                                 \n",
              "20  {computation, case, approaches, architecture, technology, support, knowledge, memory, tool, experimental results}                                                                                                                                                                                                                         \n",
              "21  {networks, efficiency, engineering, optimization, cloud, quality}                                                                                                                                                                                                                                                                         \n",
              "22  {user, database, experiments, classification, level, technique, solution}                                                                                                                                                                                                                                                                 \n",
              "23  {structure, problems, scheme, development, simulation, solutions, control, images, features, structures, state}                                                                                                                                                                                                                           \n",
              "24  {detection, techniques, application, number, programming, work, order, framework, set, research}                                                                                                                                                                                                                                          \n",
              "25  {computing, computer, information, use, applications, process, processing, problem, security, parallel, study, algorithms}                                                                                                                                                                                                                \n",
              "26  {algorithm, results, method, paper, model}                                                                                                                                                                                                                                                                                                "
            ]
          },
          "metadata": {
            "tags": []
          },
          "execution_count": 38
        }
      ]
    },
    {
      "cell_type": "markdown",
      "metadata": {
        "id": "NE8u35PbRzab"
      },
      "source": [
        "## Gold ontology statistics"
      ]
    },
    {
      "cell_type": "markdown",
      "metadata": {
        "id": "JE2HTv7Vqf3L"
      },
      "source": [
        "In this subsection, we show some statistics about the gold standard.\r\n",
        "\r\n",
        "First, the class distribution ordered by class id :"
      ]
    },
    {
      "cell_type": "code",
      "metadata": {
        "colab": {
          "base_uri": "https://localhost:8080/",
          "height": 301
        },
        "id": "TnoUu--VRy6B",
        "outputId": "2cd51bb2-783d-401c-e7b3-3ab0d8d57fd2"
      },
      "source": [
        "#open gold standard\r\n",
        "gold_standard = pd.read_csv(path+'/InputDir/goldsorted.csv', sep=',')\r\n",
        "gold_standard.drop('Unnamed: 0', inplace=True, axis=1)\r\n",
        "gold_standard_counts = gold_standard.value_counts().to_frame().reset_index()\r\n",
        "\r\n",
        "\r\n",
        "gold_standard_counts = gold_standard.ToCoreConcept.value_counts().to_frame().reset_index()\r\n",
        "gold_standard_counts.columns =['class', 'count']\r\n",
        "\r\n",
        "plt.figure(figsize=(10,4))\r\n",
        "sns.set_theme(style=\"whitegrid\")\r\n",
        "tips = sns.load_dataset(\"tips\")\r\n",
        "ax = sns.barplot(x=\"class\", y=\"count\", data=gold_standard_counts, color='blue')\r\n",
        "plt.title('Gold standard class distribution ordered by class id')\r\n",
        "plt.show()"
      ],
      "execution_count": 39,
      "outputs": [
        {
          "output_type": "display_data",
          "data": {
            "image/png": "[encoded data removed]",
            "text/plain": [
              "<Figure size 720x288 with 1 Axes>"
            ]
          },
          "metadata": {
            "tags": []
          }
        }
      ]
    },
    {
      "cell_type": "markdown",
      "metadata": {
        "id": "it4HXmRqqsIT"
      },
      "source": [
        "Next, we plot the same class count distribution but ordered by class count :"
      ]
    },
    {
      "cell_type": "code",
      "metadata": {
        "colab": {
          "base_uri": "https://localhost:8080/",
          "height": 301
        },
        "id": "t5lGPPBJUd4D",
        "outputId": "3e55d837-e07a-4ea4-aa72-a6684789ba9e"
      },
      "source": [
        "#sort dataframe by class counts\r\n",
        "gold_standard_counts = gold_standard_counts.sort_values('count', ascending=False)\r\n",
        "\r\n",
        "#string conversion of class column to prevent the ordering of the x axis by numeric value\r\n",
        "gold_standard_counts[\"class\"] = (gold_standard_counts[\"class\"].astype(str)) \r\n",
        "\r\n",
        "plt.figure(figsize=(10,4))\r\n",
        "sns.set_theme(style=\"whitegrid\")\r\n",
        "tips = sns.load_dataset(\"tips\")\r\n",
        "ax = sns.barplot(x=\"class\", y=\"count\", data=gold_standard_counts, color='blue')\r\n",
        "plt.title('Gold standard class distribution ordered by class id')\r\n",
        "plt.show()"
      ],
      "execution_count": 40,
      "outputs": [
        {
          "output_type": "display_data",
          "data": {
            "image/png": "[encoded data removed]",
            "text/plain": [
              "<Figure size 720x288 with 1 Axes>"
            ]
          },
          "metadata": {
            "tags": []
          }
        }
      ]
    },
    {
      "cell_type": "markdown",
      "metadata": {
        "id": "2nM5e1x9t0rr"
      },
      "source": [
        "For the next graph, we will need to create a silver standard by matching subcategories to core-categories :"
      ]
    },
    {
      "cell_type": "code",
      "metadata": {
        "colab": {
          "base_uri": "https://localhost:8080/",
          "height": 1000
        },
        "id": "NEmtxIrkZYn5",
        "outputId": "822bae0e-949b-4654-ce8d-cc4ca20c75a4"
      },
      "source": [
        "gold_standard = pd.read_csv(path+'/InputDir/goldsorted.csv', sep=',')\r\n",
        "gold_standard.drop('Unnamed: 0', inplace=True, axis=1)\r\n",
        "\r\n",
        "ontology_categories = pd.read_csv(path+'/TP_CS_CoreConceptIn2Level.csv', sep=',')\r\n",
        "ontology_categories = ontology_categories.rename(columns={'Unnamed: 0':'id'})\r\n",
        "\r\n",
        "core_categories = ontology_categories[['level1_13CoreConcepts']].groupby('level1_13CoreConcepts', as_index=False).sum()\r\n",
        "\r\n",
        "gold_standard_counts = gold_standard.ToCoreConcept.value_counts().to_frame().reset_index()\r\n",
        "gold_standard_counts.columns =['ToCoreConcept', 'count']\r\n",
        "\r\n",
        "gold_standard_counts['core_cat'] = gold_standard_counts.apply(lambda row: ontology_categories.iloc[row['ToCoreConcept']]['level1_13CoreConcepts'], axis=1)\r\n",
        "gold_standard_counts['core_cat'] = gold_standard_counts.apply(lambda row: core_categories[core_categories.level1_13CoreConcepts == row['core_cat']].index.values[0], axis=1)\r\n",
        "\r\n",
        "\r\n",
        "gold_standard_counts"
      ],
      "execution_count": 41,
      "outputs": [
        {
          "output_type": "execute_result",
          "data": {
            "text/html": [
              "<div>\n",
              "<style scoped>\n",
              "    .dataframe tbody tr th:only-of-type {\n",
              "        vertical-align: middle;\n",
              "    }\n",
              "\n",
              "    .dataframe tbody tr th {\n",
              "        vertical-align: top;\n",
              "    }\n",
              "\n",
              "    .dataframe thead th {\n",
              "        text-align: right;\n",
              "    }\n",
              "</style>\n",
              "<table border=\"1\" class=\"dataframe\">\n",
              "  <thead>\n",
              "    <tr style=\"text-align: right;\">\n",
              "      <th></th>\n",
              "      <th>ToCoreConcept</th>\n",
              "      <th>count</th>\n",
              "      <th>core_cat</th>\n",
              "    </tr>\n",
              "  </thead>\n",
              "  <tbody>\n",
              "    <tr>\n",
              "      <th>0</th>\n",
              "      <td>9</td>\n",
              "      <td>16</td>\n",
              "      <td>1</td>\n",
              "    </tr>\n",
              "    <tr>\n",
              "      <th>1</th>\n",
              "      <td>0</td>\n",
              "      <td>12</td>\n",
              "      <td>3</td>\n",
              "    </tr>\n",
              "    <tr>\n",
              "      <th>2</th>\n",
              "      <td>14</td>\n",
              "      <td>12</td>\n",
              "      <td>11</td>\n",
              "    </tr>\n",
              "    <tr>\n",
              "      <th>3</th>\n",
              "      <td>42</td>\n",
              "      <td>10</td>\n",
              "      <td>4</td>\n",
              "    </tr>\n",
              "    <tr>\n",
              "      <th>4</th>\n",
              "      <td>44</td>\n",
              "      <td>9</td>\n",
              "      <td>4</td>\n",
              "    </tr>\n",
              "    <tr>\n",
              "      <th>5</th>\n",
              "      <td>40</td>\n",
              "      <td>9</td>\n",
              "      <td>0</td>\n",
              "    </tr>\n",
              "    <tr>\n",
              "      <th>6</th>\n",
              "      <td>8</td>\n",
              "      <td>7</td>\n",
              "      <td>1</td>\n",
              "    </tr>\n",
              "    <tr>\n",
              "      <th>7</th>\n",
              "      <td>24</td>\n",
              "      <td>7</td>\n",
              "      <td>9</td>\n",
              "    </tr>\n",
              "    <tr>\n",
              "      <th>8</th>\n",
              "      <td>29</td>\n",
              "      <td>6</td>\n",
              "      <td>9</td>\n",
              "    </tr>\n",
              "    <tr>\n",
              "      <th>9</th>\n",
              "      <td>46</td>\n",
              "      <td>6</td>\n",
              "      <td>6</td>\n",
              "    </tr>\n",
              "    <tr>\n",
              "      <th>10</th>\n",
              "      <td>45</td>\n",
              "      <td>6</td>\n",
              "      <td>6</td>\n",
              "    </tr>\n",
              "    <tr>\n",
              "      <th>11</th>\n",
              "      <td>17</td>\n",
              "      <td>5</td>\n",
              "      <td>11</td>\n",
              "    </tr>\n",
              "    <tr>\n",
              "      <th>12</th>\n",
              "      <td>51</td>\n",
              "      <td>5</td>\n",
              "      <td>2</td>\n",
              "    </tr>\n",
              "    <tr>\n",
              "      <th>13</th>\n",
              "      <td>27</td>\n",
              "      <td>5</td>\n",
              "      <td>9</td>\n",
              "    </tr>\n",
              "    <tr>\n",
              "      <th>14</th>\n",
              "      <td>52</td>\n",
              "      <td>4</td>\n",
              "      <td>2</td>\n",
              "    </tr>\n",
              "    <tr>\n",
              "      <th>15</th>\n",
              "      <td>50</td>\n",
              "      <td>4</td>\n",
              "      <td>6</td>\n",
              "    </tr>\n",
              "    <tr>\n",
              "      <th>16</th>\n",
              "      <td>39</td>\n",
              "      <td>4</td>\n",
              "      <td>0</td>\n",
              "    </tr>\n",
              "    <tr>\n",
              "      <th>17</th>\n",
              "      <td>41</td>\n",
              "      <td>4</td>\n",
              "      <td>0</td>\n",
              "    </tr>\n",
              "    <tr>\n",
              "      <th>18</th>\n",
              "      <td>21</td>\n",
              "      <td>4</td>\n",
              "      <td>5</td>\n",
              "    </tr>\n",
              "    <tr>\n",
              "      <th>19</th>\n",
              "      <td>19</td>\n",
              "      <td>4</td>\n",
              "      <td>5</td>\n",
              "    </tr>\n",
              "    <tr>\n",
              "      <th>20</th>\n",
              "      <td>7</td>\n",
              "      <td>3</td>\n",
              "      <td>8</td>\n",
              "    </tr>\n",
              "    <tr>\n",
              "      <th>21</th>\n",
              "      <td>31</td>\n",
              "      <td>3</td>\n",
              "      <td>7</td>\n",
              "    </tr>\n",
              "    <tr>\n",
              "      <th>22</th>\n",
              "      <td>28</td>\n",
              "      <td>3</td>\n",
              "      <td>9</td>\n",
              "    </tr>\n",
              "    <tr>\n",
              "      <th>23</th>\n",
              "      <td>25</td>\n",
              "      <td>3</td>\n",
              "      <td>9</td>\n",
              "    </tr>\n",
              "    <tr>\n",
              "      <th>24</th>\n",
              "      <td>36</td>\n",
              "      <td>3</td>\n",
              "      <td>10</td>\n",
              "    </tr>\n",
              "    <tr>\n",
              "      <th>25</th>\n",
              "      <td>43</td>\n",
              "      <td>2</td>\n",
              "      <td>4</td>\n",
              "    </tr>\n",
              "    <tr>\n",
              "      <th>26</th>\n",
              "      <td>6</td>\n",
              "      <td>2</td>\n",
              "      <td>8</td>\n",
              "    </tr>\n",
              "    <tr>\n",
              "      <th>27</th>\n",
              "      <td>49</td>\n",
              "      <td>2</td>\n",
              "      <td>6</td>\n",
              "    </tr>\n",
              "    <tr>\n",
              "      <th>28</th>\n",
              "      <td>10</td>\n",
              "      <td>2</td>\n",
              "      <td>1</td>\n",
              "    </tr>\n",
              "    <tr>\n",
              "      <th>29</th>\n",
              "      <td>11</td>\n",
              "      <td>2</td>\n",
              "      <td>1</td>\n",
              "    </tr>\n",
              "    <tr>\n",
              "      <th>30</th>\n",
              "      <td>18</td>\n",
              "      <td>2</td>\n",
              "      <td>5</td>\n",
              "    </tr>\n",
              "    <tr>\n",
              "      <th>31</th>\n",
              "      <td>26</td>\n",
              "      <td>2</td>\n",
              "      <td>9</td>\n",
              "    </tr>\n",
              "    <tr>\n",
              "      <th>32</th>\n",
              "      <td>30</td>\n",
              "      <td>2</td>\n",
              "      <td>7</td>\n",
              "    </tr>\n",
              "    <tr>\n",
              "      <th>33</th>\n",
              "      <td>16</td>\n",
              "      <td>1</td>\n",
              "      <td>11</td>\n",
              "    </tr>\n",
              "    <tr>\n",
              "      <th>34</th>\n",
              "      <td>47</td>\n",
              "      <td>1</td>\n",
              "      <td>6</td>\n",
              "    </tr>\n",
              "    <tr>\n",
              "      <th>35</th>\n",
              "      <td>13</td>\n",
              "      <td>1</td>\n",
              "      <td>1</td>\n",
              "    </tr>\n",
              "    <tr>\n",
              "      <th>36</th>\n",
              "      <td>20</td>\n",
              "      <td>1</td>\n",
              "      <td>5</td>\n",
              "    </tr>\n",
              "    <tr>\n",
              "      <th>37</th>\n",
              "      <td>38</td>\n",
              "      <td>1</td>\n",
              "      <td>0</td>\n",
              "    </tr>\n",
              "    <tr>\n",
              "      <th>38</th>\n",
              "      <td>33</td>\n",
              "      <td>1</td>\n",
              "      <td>7</td>\n",
              "    </tr>\n",
              "    <tr>\n",
              "      <th>39</th>\n",
              "      <td>35</td>\n",
              "      <td>1</td>\n",
              "      <td>10</td>\n",
              "    </tr>\n",
              "    <tr>\n",
              "      <th>40</th>\n",
              "      <td>5</td>\n",
              "      <td>1</td>\n",
              "      <td>8</td>\n",
              "    </tr>\n",
              "    <tr>\n",
              "      <th>41</th>\n",
              "      <td>2</td>\n",
              "      <td>1</td>\n",
              "      <td>8</td>\n",
              "    </tr>\n",
              "    <tr>\n",
              "      <th>42</th>\n",
              "      <td>1</td>\n",
              "      <td>1</td>\n",
              "      <td>8</td>\n",
              "    </tr>\n",
              "    <tr>\n",
              "      <th>43</th>\n",
              "      <td>37</td>\n",
              "      <td>1</td>\n",
              "      <td>10</td>\n",
              "    </tr>\n",
              "  </tbody>\n",
              "</table>\n",
              "</div>"
            ],
            "text/plain": [
              "    ToCoreConcept  count  core_cat\n",
              "0   9              16     1       \n",
              "1   0              12     3       \n",
              "2   14             12     11      \n",
              "3   42             10     4       \n",
              "4   44             9      4       \n",
              "5   40             9      0       \n",
              "6   8              7      1       \n",
              "7   24             7      9       \n",
              "8   29             6      9       \n",
              "9   46             6      6       \n",
              "10  45             6      6       \n",
              "11  17             5      11      \n",
              "12  51             5      2       \n",
              "13  27             5      9       \n",
              "14  52             4      2       \n",
              "15  50             4      6       \n",
              "16  39             4      0       \n",
              "17  41             4      0       \n",
              "18  21             4      5       \n",
              "19  19             4      5       \n",
              "20  7              3      8       \n",
              "21  31             3      7       \n",
              "22  28             3      9       \n",
              "23  25             3      9       \n",
              "24  36             3      10      \n",
              "25  43             2      4       \n",
              "26  6              2      8       \n",
              "27  49             2      6       \n",
              "28  10             2      1       \n",
              "29  11             2      1       \n",
              "30  18             2      5       \n",
              "31  26             2      9       \n",
              "32  30             2      7       \n",
              "33  16             1      11      \n",
              "34  47             1      6       \n",
              "35  13             1      1       \n",
              "36  20             1      5       \n",
              "37  38             1      0       \n",
              "38  33             1      7       \n",
              "39  35             1      10      \n",
              "40  5              1      8       \n",
              "41  2              1      8       \n",
              "42  1              1      8       \n",
              "43  37             1      10      "
            ]
          },
          "metadata": {
            "tags": []
          },
          "execution_count": 41
        }
      ]
    },
    {
      "cell_type": "markdown",
      "metadata": {
        "id": "N6-YbhWVqzUJ"
      },
      "source": [
        "Then, we plot the gold standard (core-concepts replace sub-core-concepts) as a hue over the original count plot (ordered by id) :"
      ]
    },
    {
      "cell_type": "code",
      "metadata": {
        "colab": {
          "base_uri": "https://localhost:8080/",
          "height": 301
        },
        "id": "JKjPBAcauHuo",
        "outputId": "660fea6c-021b-4006-b3d1-8a9bd5a269fb"
      },
      "source": [
        "plt.figure(figsize=(10,4))\r\n",
        "tips = sns.load_dataset(\"tips\")\r\n",
        "ax = sns.barplot(data=gold_standard_counts, x=\"ToCoreConcept\", y=\"count\", hue='core_cat', dodge=False)\r\n",
        "plt.title('Class distribution ordered by class id with core-concept hue')\r\n",
        "\r\n",
        "# Put the legend out of the figure\r\n",
        "plt.legend(bbox_to_anchor=(1.05, 1), loc=2, borderaxespad=0.)\r\n",
        "\r\n",
        "plt.show()"
      ],
      "execution_count": 42,
      "outputs": [
        {
          "output_type": "display_data",
          "data": {
            "image/png": "[encoded data removed]",
            "text/plain": [
              "<Figure size 720x288 with 1 Axes>"
            ]
          },
          "metadata": {
            "tags": []
          }
        }
      ]
    },
    {
      "cell_type": "markdown",
      "metadata": {
        "id": "ic6LejwZ1hLa"
      },
      "source": [
        "As we can see, all core-concepts are not equally represented in the gold standard as some of them have 4 sub-core-categories (like the ids 1 to 7) while others are represented by only one class (eg. id 0)."
      ]
    },
    {
      "cell_type": "markdown",
      "metadata": {
        "id": "ltyeA0hs15C7"
      },
      "source": [
        "To obtain the silver standard, we group the previous gold standard by core-concept ids :"
      ]
    },
    {
      "cell_type": "code",
      "metadata": {
        "colab": {
          "base_uri": "https://localhost:8080/",
          "height": 421
        },
        "id": "4Y64n-0Y2BdP",
        "outputId": "e950440f-b197-4b34-e295-f4b34d472c49"
      },
      "source": [
        "silver_standard_counts = gold_standard_counts[['count', 'core_cat']].groupby('core_cat', as_index=False).sum()\r\n",
        "silver_standard_counts"
      ],
      "execution_count": 43,
      "outputs": [
        {
          "output_type": "execute_result",
          "data": {
            "text/html": [
              "<div>\n",
              "<style scoped>\n",
              "    .dataframe tbody tr th:only-of-type {\n",
              "        vertical-align: middle;\n",
              "    }\n",
              "\n",
              "    .dataframe tbody tr th {\n",
              "        vertical-align: top;\n",
              "    }\n",
              "\n",
              "    .dataframe thead th {\n",
              "        text-align: right;\n",
              "    }\n",
              "</style>\n",
              "<table border=\"1\" class=\"dataframe\">\n",
              "  <thead>\n",
              "    <tr style=\"text-align: right;\">\n",
              "      <th></th>\n",
              "      <th>core_cat</th>\n",
              "      <th>count</th>\n",
              "    </tr>\n",
              "  </thead>\n",
              "  <tbody>\n",
              "    <tr>\n",
              "      <th>0</th>\n",
              "      <td>0</td>\n",
              "      <td>18</td>\n",
              "    </tr>\n",
              "    <tr>\n",
              "      <th>1</th>\n",
              "      <td>1</td>\n",
              "      <td>28</td>\n",
              "    </tr>\n",
              "    <tr>\n",
              "      <th>2</th>\n",
              "      <td>2</td>\n",
              "      <td>9</td>\n",
              "    </tr>\n",
              "    <tr>\n",
              "      <th>3</th>\n",
              "      <td>3</td>\n",
              "      <td>12</td>\n",
              "    </tr>\n",
              "    <tr>\n",
              "      <th>4</th>\n",
              "      <td>4</td>\n",
              "      <td>21</td>\n",
              "    </tr>\n",
              "    <tr>\n",
              "      <th>5</th>\n",
              "      <td>5</td>\n",
              "      <td>11</td>\n",
              "    </tr>\n",
              "    <tr>\n",
              "      <th>6</th>\n",
              "      <td>6</td>\n",
              "      <td>19</td>\n",
              "    </tr>\n",
              "    <tr>\n",
              "      <th>7</th>\n",
              "      <td>7</td>\n",
              "      <td>6</td>\n",
              "    </tr>\n",
              "    <tr>\n",
              "      <th>8</th>\n",
              "      <td>8</td>\n",
              "      <td>8</td>\n",
              "    </tr>\n",
              "    <tr>\n",
              "      <th>9</th>\n",
              "      <td>9</td>\n",
              "      <td>26</td>\n",
              "    </tr>\n",
              "    <tr>\n",
              "      <th>10</th>\n",
              "      <td>10</td>\n",
              "      <td>5</td>\n",
              "    </tr>\n",
              "    <tr>\n",
              "      <th>11</th>\n",
              "      <td>11</td>\n",
              "      <td>18</td>\n",
              "    </tr>\n",
              "  </tbody>\n",
              "</table>\n",
              "</div>"
            ],
            "text/plain": [
              "    core_cat  count\n",
              "0   0         18   \n",
              "1   1         28   \n",
              "2   2         9    \n",
              "3   3         12   \n",
              "4   4         21   \n",
              "5   5         11   \n",
              "6   6         19   \n",
              "7   7         6    \n",
              "8   8         8    \n",
              "9   9         26   \n",
              "10  10        5    \n",
              "11  11        18   "
            ]
          },
          "metadata": {
            "tags": []
          },
          "execution_count": 43
        }
      ]
    },
    {
      "cell_type": "markdown",
      "metadata": {
        "id": "Qv72et872c0K"
      },
      "source": [
        "We can then plot the same graphs : first the class count distribution ordered by class id :"
      ]
    },
    {
      "cell_type": "code",
      "metadata": {
        "colab": {
          "base_uri": "https://localhost:8080/",
          "height": 301
        },
        "id": "QIbCcVwI2TxZ",
        "outputId": "f5953f59-5b08-4a7c-c9a5-3e6c0bf845db"
      },
      "source": [
        "plt.figure(figsize=(10,4))\r\n",
        "sns.set_theme(style=\"whitegrid\")\r\n",
        "tips = sns.load_dataset(\"tips\")\r\n",
        "ax = sns.barplot(x=\"core_cat\", y=\"count\", data=silver_standard_counts, color='blue')\r\n",
        "plt.title('Silver standard class distribution ordered by class id')\r\n",
        "plt.show()"
      ],
      "execution_count": 44,
      "outputs": [
        {
          "output_type": "display_data",
          "data": {
            "image/png": "[encoded data removed]",
            "text/plain": [
              "<Figure size 720x288 with 1 Axes>"
            ]
          },
          "metadata": {
            "tags": []
          }
        }
      ]
    },
    {
      "cell_type": "markdown",
      "metadata": {
        "id": "qAapIA3E2yWS"
      },
      "source": [
        "Then we plot the silver standard class distribution ordered by class count :"
      ]
    },
    {
      "cell_type": "code",
      "metadata": {
        "colab": {
          "base_uri": "https://localhost:8080/",
          "height": 301
        },
        "id": "04yRGejz2xu2",
        "outputId": "eda6088d-4a9f-4025-cd8d-0155ba945afc"
      },
      "source": [
        "#sort dataframe by class counts\r\n",
        "silver_standard_counts = silver_standard_counts.sort_values('count', ascending=False)\r\n",
        "\r\n",
        "#string conversion of class column to prevent the ordering of the x axis by numeric value\r\n",
        "silver_standard_counts[\"core_cat\"] = (silver_standard_counts[\"core_cat\"].astype(str)) \r\n",
        "\r\n",
        "plt.figure(figsize=(10,4))\r\n",
        "sns.set_theme(style=\"whitegrid\")\r\n",
        "tips = sns.load_dataset(\"tips\")\r\n",
        "ax = sns.barplot(x=\"core_cat\", y=\"count\", data=silver_standard_counts, color='blue')\r\n",
        "plt.title('Silver standard class distribution ordered by class id')\r\n",
        "plt.show()"
      ],
      "execution_count": 45,
      "outputs": [
        {
          "output_type": "display_data",
          "data": {
            "image/png": "[encoded data removed]",
            "text/plain": [
              "<Figure size 720x288 with 1 Axes>"
            ]
          },
          "metadata": {
            "tags": []
          }
        }
      ]
    },
    {
      "cell_type": "markdown",
      "metadata": {
        "id": "2P9wnD4w3GAy"
      },
      "source": [
        "We still observe a class imbalance, with class 1 being 5 times more represented than class 10, but all the classes are represented at least 5 times.  \r\n",
        "From there, we have 2 choices to correct the dataset : \r\n",
        "*   we can cut all classes below 10 to ensure a more balanced training but will lose half of the classes\r\n",
        "*   we can limit all classes to 5 samples in the training set, with the least represented classes suffering from overfitting from the test dataset perspective."
      ]
    },
    {
      "cell_type": "markdown",
      "metadata": {
        "id": "21FVSlNopYIQ"
      },
      "source": [
        "## KNN test"
      ]
    },
    {
      "cell_type": "markdown",
      "metadata": {
        "id": "3bj1IzB9rucl"
      },
      "source": [
        "### Gold standard fitting"
      ]
    },
    {
      "cell_type": "markdown",
      "metadata": {
        "id": "7Xlfs3ESp7Zh"
      },
      "source": [
        "Before running KNN, we need to add core-concept sub-categories to the label list (fit the gold standard to our current data).\r\n",
        "\r\n",
        "Steps :\r\n",
        "1. import gold standard to map subcategories to int id\r\n",
        "2. map window_matrix_terms file to gold stadard ids with category matching\r\n",
        "3. save a window_matrix_terms_labeled file with comma separated terms and labels\r\n"
      ]
    },
    {
      "cell_type": "code",
      "metadata": {
        "colab": {
          "base_uri": "https://localhost:8080/",
          "height": 589
        },
        "id": "MFjsBCgiqcji",
        "outputId": "2127c234-d6ff-4865-c638-a153fa9a040a"
      },
      "source": [
        "def match_extracted_terms_to_gold_standard(path):\r\n",
        "  \r\n",
        "  #open the matrix terms\r\n",
        "  window_matrix_terms_df = pd.read_csv(path+'/OutputDir/window_matrix_terms.txt', sep=',', names=['fields'])\r\n",
        "\r\n",
        "  #open gold standard\r\n",
        "  gold_standard = pd.read_csv(path+'/InputDir/goldsorted.csv', sep=',')\r\n",
        "  gold_standard.drop('Unnamed: 0', inplace=True, axis=1)\r\n",
        "\r\n",
        "  #apply matching between matrix terms and go standard\r\n",
        "  window_matrix_terms_df['cat_id'] = window_matrix_terms_df.apply(lambda row: gold_standard[gold_standard.Term == row['fields']].ToCoreConcept.values[0] if (row['fields'] in gold_standard.Term.unique()) else -1, axis=1)\r\n",
        "\r\n",
        "  #save results to window_matrix_terms_labeled file\r\n",
        "  window_matrix_terms_df.to_csv(path+\"/InputDir/window_matrix_terms_labeled.txt\", sep=\",\", header=False, index=False)\r\n",
        "\r\n",
        "  #return a recap of label matches\r\n",
        "  recap_df = window_matrix_terms_df.cat_id.value_counts().to_frame().reset_index()\r\n",
        "  recap_df.columns = ['subcategory', 'count']\r\n",
        "  return recap_df\r\n",
        "\r\n",
        "#execute function and show first 5 lines of attribution recap : -1 means that ontology didn't match\r\n",
        "recap_df = match_extracted_terms_to_gold_standard(path)\r\n",
        "\r\n",
        "#plot bar graph of match count distribution over categories\r\n",
        "correct_ids = recap_df[recap_df.subcategory > -1]\r\n",
        "correct_ids.plot(kind='bar', title='Correct identification of labels distribution based on gold standard', x='subcategory')\r\n",
        "\r\n",
        "#plot count of matches against \"total minus matches\" count\r\n",
        "pd.DataFrame([[correct_ids['count'].sum(), recap_df['count'].sum() - correct_ids['count'].sum()]], columns=['correct identifications', 'wrong identifications']).plot(kind='barh', title='Correct vs Wrong identifications of labels')"
      ],
      "execution_count": 46,
      "outputs": [
        {
          "output_type": "execute_result",
          "data": {
            "text/plain": [
              "<matplotlib.axes._subplots.AxesSubplot at 0x7fe1bf0875f8>"
            ]
          },
          "metadata": {
            "tags": []
          },
          "execution_count": 46
        },
        {
          "output_type": "display_data",
          "data": {
            "image/png": "[encoded data removed]",
            "text/plain": [
              "<Figure size 432x288 with 1 Axes>"
            ]
          },
          "metadata": {
            "tags": []
          }
        },
        {
          "output_type": "display_data",
          "data": {
            "image/png": "[encoded data removed]",
            "text/plain": [
              "<Figure size 432x288 with 1 Axes>"
            ]
          },
          "metadata": {
            "tags": []
          }
        }
      ]
    },
    {
      "cell_type": "markdown",
      "metadata": {
        "id": "bSKQNvVuqc1Z"
      },
      "source": [
        "Finally we run KNN :"
      ]
    },
    {
      "cell_type": "markdown",
      "metadata": {
        "id": "c0nL-8ku1MbV"
      },
      "source": [
        "KNN is not the supervised algorithm that we will focus on so we only check accuracy and a few results in the prediction list. We can see that the \"-1\" value is often predicted because most of the values in the fitted gold standard are not in the original gold standard.  \r\n",
        "\r\n",
        "For the SVM test, we will only use known values for the training step in order to correct this \"-1\" imbalance.  \r\n",
        "We will as well check the balance of known values against each other.  "
      ]
    },
    {
      "cell_type": "code",
      "metadata": {
        "id": "ryuBhl2Q-aCf",
        "colab": {
          "base_uri": "https://localhost:8080/"
        },
        "outputId": "652648ac-67b7-4ac6-cbc1-6a6de07fca1d"
      },
      "source": [
        "KNN(path)"
      ],
      "execution_count": 47,
      "outputs": [
        {
          "output_type": "stream",
          "text": [
            "accuracy:\n",
            "0.7872340425531915\n",
            "probability, -1, -1\n",
            "number, -1, 37\n",
            "algorithms, -1, -1\n",
            "properties, -1, 0\n",
            "testing, -1, -1\n",
            "architecture, -1, -1\n",
            "platform, -1, -1\n",
            "samples, -1, -1\n",
            "data, 50, -1\n",
            "factors, -1, -1\n",
            "different types, -1, -1\n",
            "target, -1, -1\n",
            "science, -1, -1\n",
            "mobile devices, 17, -1\n",
            "cost, -1, -1\n",
            "work, -1, -1\n",
            "possibility, -1, -1\n",
            "correctness, -1, -1\n",
            "sensors, -1, -1\n",
            "tasks, -1, -1\n",
            "authors, -1, -1\n",
            "feasibility, -1, -1\n",
            "individuals, -1, -1\n",
            "complexity, -1, -1\n",
            "field, -1, -1\n",
            "programming, 42, -1\n",
            "kinds, -1, -1\n",
            "interactions, -1, -1\n",
            "execution, -1, -1\n",
            "motion, 0, -1\n",
            "structure, -1, -1\n",
            "systems, -1, -1\n",
            "protocols, -1, -1\n",
            "investigation, -1, -1\n",
            "network security, -1, -1\n",
            "application, 24, -1\n",
            "other hand, -1, -1\n",
            "function, -1, 36\n",
            "identification, 9, -1\n",
            "review, -1, -1\n",
            "areas, -1, -1\n",
            "task, -1, -1\n",
            "conditions, 42, -1\n",
            "computer, -1, -1\n",
            "sets, -1, -1\n",
            "influence, -1, -1\n",
            "devices, -1, 14\n",
            "validity, -1, -1\n",
            "processes, -1, -1\n",
            "real time, 17, -1\n",
            "detection, 9, -1\n",
            "cloud, 50, -1\n",
            "magnitude, -1, -1\n",
            "mechanisms, -1, -1\n",
            "notion, -1, -1\n",
            "creation, -1, -1\n",
            "interest, -1, -1\n",
            "measurement, -1, -1\n",
            "operation, -1, -1\n",
            "method, -1, -1\n",
            "cells, -1, -1\n",
            "introduction, -1, -1\n",
            "literature, -1, -1\n",
            "content, -1, -1\n",
            "service, -1, -1\n",
            "cryptography, 18, -1\n",
            "characteristics, -1, -1\n",
            "resources, -1, -1\n",
            "end, -1, -1\n",
            "algorithm, -1, -1\n",
            "sensitivity, -1, -1\n",
            "success, -1, -1\n",
            "issues, -1, -1\n",
            "experiment, -1, -1\n",
            "errors, 24, -1\n",
            "simulation results, -1, -1\n",
            "basis, -1, -1\n",
            "bioinformatics analysis, -1, -1\n",
            "distribution, 40, -1\n",
            "processing, -1, -1\n",
            "form, -1, -1\n",
            "nodes, 46, -1\n",
            "region, -1, -1\n",
            "study, -1, -1\n",
            "features, 9, -1\n",
            "observations, -1, -1\n",
            "software development, 27, -1\n",
            "mechanism, -1, -1\n",
            "skills, -1, -1\n",
            "extensive experiments, -1, -1\n",
            "algorithm design, -1, -1\n",
            "john wiley, -1, -1\n",
            "relation, -1, -1\n",
            "domains, -1, -1\n"
          ],
          "name": "stdout"
        }
      ]
    },
    {
      "cell_type": "markdown",
      "metadata": {
        "id": "qI3fo_vfcDqW"
      },
      "source": [
        "## SVM test"
      ]
    },
    {
      "cell_type": "markdown",
      "metadata": {
        "id": "kOFdF2k71qne"
      },
      "source": [
        "`remove_labels_not_found_in_gold_standard` is a utility function used in the SVM function. It removes \"-1\" values from the fitted gold standard to correct class imbalance."
      ]
    },
    {
      "cell_type": "code",
      "metadata": {
        "id": "NGkmecvpuP0W"
      },
      "source": [
        "def remove_labels_not_found_in_gold_standard(X, Y):\r\n",
        "  \r\n",
        "  XY = pd.concat([pd.DataFrame(Y, columns=['label_name', 'core_id']), pd.DataFrame(X)], axis=1)\r\n",
        "  XY = XY[XY.core_id != '-1']\r\n",
        "\r\n",
        "  Y = XY[['label_name', 'core_id']]\r\n",
        "\r\n",
        "  X = XY.drop(['label_name', 'core_id'], axis=1)\r\n",
        "\r\n",
        "  return X.values, Y.values\r\n",
        "\r\n",
        "#test\r\n",
        "# Xtest = np.loadtxt(path+\"/OutputDir/window_matrix.csv\", delimiter=\",\", dtype=float)\r\n",
        "# Ytest = np.loadtxt(path+\"/InputDir/window_matrix_terms_labeled.txt\", delimiter=\",\", dtype=str)\r\n",
        "# remove_labels_not_found_in_gold_standard(Xtest, Ytest)"
      ],
      "execution_count": 48,
      "outputs": []
    },
    {
      "cell_type": "markdown",
      "metadata": {
        "id": "VZidC0q7155Z"
      },
      "source": [
        "SVM : We display accuracy, some predictions against their correct values, and a confusion matrix as well."
      ]
    },
    {
      "cell_type": "code",
      "metadata": {
        "colab": {
          "base_uri": "https://localhost:8080/",
          "height": 901
        },
        "id": "r_s1PbZncHPg",
        "outputId": "c97f0baa-61c9-43fb-febf-c6786bb26b07"
      },
      "source": [
        "def svm_function(path, details=True):\r\n",
        "  import numpy as np\r\n",
        "  from sklearn.metrics import accuracy_score\r\n",
        "  from sklearn.metrics import recall_score\r\n",
        "  # from sklearn.metrics import pre\r\n",
        "  from sklearn.svm import SVC\r\n",
        "\r\n",
        "  #load the data and labels\r\n",
        "  X = np.loadtxt(path+\"/OutputDir/window_matrix.csv\", delimiter=\",\", dtype=float)\r\n",
        "  Y = np.loadtxt(path+\"/InputDir/window_matrix_terms_labeled.txt\", delimiter=\",\", dtype=str)\r\n",
        "\r\n",
        "  #remove labels not found in gold standard\r\n",
        "  X, Y = remove_labels_not_found_in_gold_standard(X, Y)\r\n",
        "\r\n",
        "  \r\n",
        "\r\n",
        "  #split the data between training and testing\r\n",
        "  from sklearn.model_selection import train_test_split\r\n",
        "  from sklearn.metrics import plot_confusion_matrix\r\n",
        "  data_train, data_test, labels_train, labels_test, couples_train, couples_test = train_test_split(X, Y[:, 1], Y[:, 0], test_size=0.30)\r\n",
        "\r\n",
        "  clf = SVC(gamma='auto')\r\n",
        "  clf.fit(data_train, labels_train)\r\n",
        "\r\n",
        "  #predict for the testing data\r\n",
        "  y = clf.predict(data_test)\r\n",
        "  #pring the results\r\n",
        "  accuracy_score_value = accuracy_score(labels_test, y)\r\n",
        "\r\n",
        "  if details:\r\n",
        "    plot_confusion_matrix(clf, data_test, labels_test)\r\n",
        "    print('Training set size : '+str(len(X)))\r\n",
        "    print (\"accuracy : \" + str(accuracy_score_value))\r\n",
        "    print('\\n')\r\n",
        "    i = 0\r\n",
        "    for couple in couples_test:\r\n",
        "      if int(y[i]) - int(labels_test[i]) == 0:\r\n",
        "          print(couple + \", \" + str(labels_test[i]) + \", \" + str(y[i]))\r\n",
        "      else:\r\n",
        "          print(couple + \", \" + str(labels_test[i]) + \", \" + str(y[i]))\r\n",
        "      i += 1\r\n",
        "  else:\r\n",
        "    return accuracy_score_value, recall_score(labels_test, y, average='macro')\r\n",
        "\r\n",
        "svm_function(path)"
      ],
      "execution_count": 49,
      "outputs": [
        {
          "output_type": "stream",
          "text": [
            "Training set size : 106\n",
            "accuracy : 0.03125\n",
            "\n",
            "\n",
            "developers, 43, 0\n",
            "hardware, 14, 0\n",
            "communication, 17, 0\n",
            "knowledge, 8, 0\n",
            "visualization, 0, 0\n",
            "internet, 14, 0\n",
            "size, 44, 0\n",
            "components, 24, 0\n",
            "training, 9, 0\n",
            "simulation, 26, 0\n",
            "big data, 50, 0\n",
            "learners, 9, 0\n",
            "conditions, 42, 0\n",
            "parameters, 42, 0\n",
            "model, 45, 0\n",
            "nodes, 46, 0\n",
            "device, 31, 0\n",
            "software development, 27, 0\n",
            "series, 41, 0\n",
            "gpu, 7, 0\n",
            "genes, 52, 0\n",
            "effectiveness, 44, 0\n",
            "cloud, 50, 0\n",
            "class, 42, 0\n",
            "functions, 41, 0\n",
            "understanding, 8, 0\n",
            "distribution, 40, 0\n",
            "errors, 24, 0\n",
            "means, 40, 0\n",
            "detection, 9, 0\n",
            "mobile devices, 17, 0\n",
            "noise, 40, 0\n"
          ],
          "name": "stdout"
        },
        {
          "output_type": "display_data",
          "data": {
            "image/png": "[encoded data removed]",
            "text/plain": [
              "<Figure size 432x288 with 2 Axes>"
            ]
          },
          "metadata": {
            "tags": []
          }
        }
      ]
    },
    {
      "cell_type": "markdown",
      "metadata": {
        "id": "jWHaoSNS2B9k"
      },
      "source": [
        "Next, we see that the dataset split affects SVM performance (because of class imbalance and a small number of samples).  \r\n",
        "\r\n",
        "To get a better appreciation of the real accuracy (as well as recall), we train SVM a 100 times and store the result."
      ]
    },
    {
      "cell_type": "code",
      "metadata": {
        "colab": {
          "base_uri": "https://localhost:8080/",
          "height": 728,
          "referenced_widgets": [
            "6a175955f92049cd8e454c3d164fb080",
            "6459b724471d4ab98cf5c1ac7d3ad815",
            "420477db2e3741e08c7d94428bb868a8",
            "ceebb3c84dce44db90875348c9908581",
            "023118161fc24d3db552bb7e21e0d940",
            "1e307ca98f4e442ca04a6850b8b28f94",
            "75c1f0e328284fed932bb8eec632c1c4",
            "14cb5fe880da43f1a6e5a11c967e7fd6"
          ]
        },
        "id": "mB9XnukBR5h4",
        "outputId": "f79a98fb-f715-4162-f08e-f828b6cc3fe3"
      },
      "source": [
        "iteration_accuracy = []\r\n",
        "for run_iteration in tq.tqdm(range(0, 100)):\r\n",
        "  accuracy_value, recall_value = svm_function(path, details=False)\r\n",
        "  iteration_accuracy.append(['gold_standard', accuracy_value, recall_value])\r\n",
        "\r\n",
        "iteration_accuracy_df = pd.DataFrame(iteration_accuracy, columns=['standard_name', 'accuracy', 'recall'])\r\n",
        "iteration_accuracy_df.accuracy.plot(kind='kde')"
      ],
      "execution_count": 50,
      "outputs": [
        {
          "output_type": "display_data",
          "data": {
            "application/vnd.jupyter.widget-view+json": {
              "model_id": "6a175955f92049cd8e454c3d164fb080",
              "version_minor": 0,
              "version_major": 2
            },
            "text/plain": [
              "HBox(children=(FloatProgress(value=0.0), HTML(value='')))"
            ]
          },
          "metadata": {
            "tags": []
          }
        },
        {
          "output_type": "stream",
          "text": [
            "/usr/local/lib/python3.6/dist-packages/sklearn/metrics/_classification.py:1272: UndefinedMetricWarning: Recall is ill-defined and being set to 0.0 in labels with no true samples. Use `zero_division` parameter to control this behavior.\n",
            "  _warn_prf(average, modifier, msg_start, len(result))\n",
            "/usr/local/lib/python3.6/dist-packages/sklearn/metrics/_classification.py:1272: UndefinedMetricWarning: Recall is ill-defined and being set to 0.0 in labels with no true samples. Use `zero_division` parameter to control this behavior.\n",
            "  _warn_prf(average, modifier, msg_start, len(result))\n",
            "/usr/local/lib/python3.6/dist-packages/sklearn/metrics/_classification.py:1272: UndefinedMetricWarning: Recall is ill-defined and being set to 0.0 in labels with no true samples. Use `zero_division` parameter to control this behavior.\n",
            "  _warn_prf(average, modifier, msg_start, len(result))\n",
            "/usr/local/lib/python3.6/dist-packages/sklearn/metrics/_classification.py:1272: UndefinedMetricWarning: Recall is ill-defined and being set to 0.0 in labels with no true samples. Use `zero_division` parameter to control this behavior.\n",
            "  _warn_prf(average, modifier, msg_start, len(result))\n",
            "/usr/local/lib/python3.6/dist-packages/sklearn/metrics/_classification.py:1272: UndefinedMetricWarning: Recall is ill-defined and being set to 0.0 in labels with no true samples. Use `zero_division` parameter to control this behavior.\n",
            "  _warn_prf(average, modifier, msg_start, len(result))\n",
            "/usr/local/lib/python3.6/dist-packages/sklearn/metrics/_classification.py:1272: UndefinedMetricWarning: Recall is ill-defined and being set to 0.0 in labels with no true samples. Use `zero_division` parameter to control this behavior.\n",
            "  _warn_prf(average, modifier, msg_start, len(result))\n",
            "/usr/local/lib/python3.6/dist-packages/sklearn/metrics/_classification.py:1272: UndefinedMetricWarning: Recall is ill-defined and being set to 0.0 in labels with no true samples. Use `zero_division` parameter to control this behavior.\n",
            "  _warn_prf(average, modifier, msg_start, len(result))\n",
            "/usr/local/lib/python3.6/dist-packages/sklearn/metrics/_classification.py:1272: UndefinedMetricWarning: Recall is ill-defined and being set to 0.0 in labels with no true samples. Use `zero_division` parameter to control this behavior.\n",
            "  _warn_prf(average, modifier, msg_start, len(result))\n",
            "/usr/local/lib/python3.6/dist-packages/sklearn/metrics/_classification.py:1272: UndefinedMetricWarning: Recall is ill-defined and being set to 0.0 in labels with no true samples. Use `zero_division` parameter to control this behavior.\n",
            "  _warn_prf(average, modifier, msg_start, len(result))\n",
            "/usr/local/lib/python3.6/dist-packages/sklearn/metrics/_classification.py:1272: UndefinedMetricWarning: Recall is ill-defined and being set to 0.0 in labels with no true samples. Use `zero_division` parameter to control this behavior.\n",
            "  _warn_prf(average, modifier, msg_start, len(result))\n",
            "/usr/local/lib/python3.6/dist-packages/sklearn/metrics/_classification.py:1272: UndefinedMetricWarning: Recall is ill-defined and being set to 0.0 in labels with no true samples. Use `zero_division` parameter to control this behavior.\n",
            "  _warn_prf(average, modifier, msg_start, len(result))\n"
          ],
          "name": "stderr"
        },
        {
          "output_type": "stream",
          "text": [
            "\n"
          ],
          "name": "stdout"
        },
        {
          "output_type": "execute_result",
          "data": {
            "text/plain": [
              "<matplotlib.axes._subplots.AxesSubplot at 0x7fe1bf144b00>"
            ]
          },
          "metadata": {
            "tags": []
          },
          "execution_count": 50
        },
        {
          "output_type": "display_data",
          "data": {
            "image/png": "[encoded data removed]",
            "text/plain": [
              "<Figure size 432x288 with 1 Axes>"
            ]
          },
          "metadata": {
            "tags": []
          }
        }
      ]
    },
    {
      "cell_type": "markdown",
      "metadata": {
        "id": "AIYOpPszr1xX"
      },
      "source": [
        "### Silver standard fitting"
      ]
    },
    {
      "cell_type": "markdown",
      "metadata": {
        "id": "CnBnredCAqgE"
      },
      "source": [
        "We can see that the accuracy is very bad. We need more matching in our reference dataset. The gold standard matches terms to sub-core-categories.  \r\n",
        "\r\n",
        "Lets code a silver standard that matches terms to core-categories (the top 10 categories) :"
      ]
    },
    {
      "cell_type": "code",
      "metadata": {
        "colab": {
          "base_uri": "https://localhost:8080/",
          "height": 827
        },
        "id": "Ag_h7zZaGu1a",
        "outputId": "07e2f982-6261-4e64-a57f-bd15da2e3788"
      },
      "source": [
        "def match_extracted_terms_to_silver_standard(path):\r\n",
        "  \r\n",
        "  #open the matrix terms\r\n",
        "  window_matrix_terms_df = pd.read_csv(path+'/OutputDir/window_matrix_terms.txt', sep=',', names=['fields'])\r\n",
        "\r\n",
        "  #open gold standard\r\n",
        "  gold_standard = pd.read_csv(path+'/InputDir/goldsorted.csv', sep=',')\r\n",
        "  gold_standard.drop('Unnamed: 0', inplace=True, axis=1)\r\n",
        "\r\n",
        "  ontology_categories = pd.read_csv(path+'/TP_CS_CoreConceptIn2Level.csv', sep=',')\r\n",
        "  ontology_categories = ontology_categories.rename(columns={'Unnamed: 0':'id'})\r\n",
        "\r\n",
        "  core_categories = ontology_categories[['level1_13CoreConcepts']].groupby('level1_13CoreConcepts', as_index=False).sum()\r\n",
        "\r\n",
        "  gold_standard['ToCoreConcept'] = gold_standard.apply(lambda row: ontology_categories.iloc[row['ToCoreConcept']]['level1_13CoreConcepts'], axis=1)\r\n",
        "  gold_standard['ToCoreConcept'] = gold_standard.apply(lambda row: core_categories[core_categories.level1_13CoreConcepts == row['ToCoreConcept']].index.values[0], axis=1)\r\n",
        "\r\n",
        "  #apply matching between matrix terms and gold standard\r\n",
        "  window_matrix_terms_df['cat_id'] = window_matrix_terms_df.apply(lambda row: gold_standard[gold_standard.Term == row['fields']].ToCoreConcept.values[0] if (row['fields'] in gold_standard.Term.unique()) else -1, axis=1)\r\n",
        "\r\n",
        "  print(window_matrix_terms_df)\r\n",
        "\r\n",
        "  #save results to window_matrix_terms_labeled file\r\n",
        "  window_matrix_terms_df.to_csv(path+\"/InputDir/window_matrix_terms_labeled.txt\", sep=\",\", header=False, index=False)\r\n",
        "\r\n",
        "  #return a recap of label matches\r\n",
        "  recap_df = window_matrix_terms_df.cat_id.value_counts().to_frame().reset_index()\r\n",
        "  recap_df.columns = ['subcategory', 'count']\r\n",
        "  return recap_df\r\n",
        "\r\n",
        "#execute function and show first 5 lines of attribution recap : -1 means that ontology didn't match\r\n",
        "recap_df = match_extracted_terms_to_silver_standard(path)\r\n",
        "\r\n",
        "#plot bar graph of match count distribution over categories\r\n",
        "correct_ids = recap_df[recap_df.subcategory > -1]\r\n",
        "correct_ids.plot(kind='bar', title='Correct identification of labels distribution based on gold standard', x='subcategory')\r\n",
        "\r\n",
        "#plot count of matches against \"total minus matches\" count\r\n",
        "pd.DataFrame([[correct_ids['count'].sum(), recap_df['count'].sum() - correct_ids['count'].sum()]], columns=['correct identifications', 'wrong identifications']).plot(kind='barh', title='Correct vs Wrong identifications of labels')"
      ],
      "execution_count": 51,
      "outputs": [
        {
          "output_type": "stream",
          "text": [
            "            fields  cat_id\n",
            "0    solitons      -1     \n",
            "1    p             -1     \n",
            "2    hirota method -1     \n",
            "3    changes       -1     \n",
            "4    solutions     -1     \n",
            "..         ...     ..     \n",
            "464  overview      -1     \n",
            "465  novel method  -1     \n",
            "466  things        -1     \n",
            "467  existence     -1     \n",
            "468  sdn            11    \n",
            "\n",
            "[469 rows x 2 columns]\n"
          ],
          "name": "stdout"
        },
        {
          "output_type": "execute_result",
          "data": {
            "text/plain": [
              "<matplotlib.axes._subplots.AxesSubplot at 0x7fe1c1172390>"
            ]
          },
          "metadata": {
            "tags": []
          },
          "execution_count": 51
        },
        {
          "output_type": "display_data",
          "data": {
            "image/png": "[encoded data removed]",
            "text/plain": [
              "<Figure size 432x288 with 1 Axes>"
            ]
          },
          "metadata": {
            "tags": []
          }
        },
        {
          "output_type": "display_data",
          "data": {
            "image/png": "[encoded data removed]",
            "text/plain": [
              "<Figure size 432x288 with 1 Axes>"
            ]
          },
          "metadata": {
            "tags": []
          }
        }
      ]
    },
    {
      "cell_type": "code",
      "metadata": {
        "colab": {
          "base_uri": "https://localhost:8080/",
          "height": 901
        },
        "id": "qC2Qdc1fG7DG",
        "outputId": "197fce4b-526d-4bf6-a7b3-9c010cd54ebb"
      },
      "source": [
        "svm_function(path)"
      ],
      "execution_count": 52,
      "outputs": [
        {
          "output_type": "stream",
          "text": [
            "Training set size : 106\n",
            "accuracy : 0.15625\n",
            "\n",
            "\n",
            "gpu, 8, 4\n",
            "conditions, 4, 4\n",
            "computation, 4, 4\n",
            "device, 7, 4\n",
            "noise, 0, 4\n",
            "networks, 11, 4\n",
            "proteins, 2, 4\n",
            "contrast, 3, 4\n",
            "sequences, 2, 4\n",
            "surface, 0, 4\n",
            "information, 1, 4\n",
            "internet, 11, 4\n",
            "sdn, 11, 4\n",
            "distribution, 0, 4\n",
            "optimization, 0, 4\n",
            "sequence, 2, 4\n",
            "uncertainty, 0, 4\n",
            "combination, 4, 4\n",
            "application, 9, 4\n",
            "cpu, 9, 4\n",
            "set, 6, 4\n",
            "detection, 1, 4\n",
            "errors, 9, 4\n",
            "programming, 4, 4\n",
            "code, 4, 4\n",
            "focus, 3, 4\n",
            "software development, 9, 4\n",
            "nodes, 6, 4\n",
            "motion, 3, 4\n",
            "range, 0, 4\n",
            "wsns, 11, 4\n",
            "learners, 1, 4\n"
          ],
          "name": "stdout"
        },
        {
          "output_type": "display_data",
          "data": {
            "image/png": "[encoded data removed]",
            "text/plain": [
              "<Figure size 432x288 with 2 Axes>"
            ]
          },
          "metadata": {
            "tags": []
          }
        }
      ]
    },
    {
      "cell_type": "markdown",
      "metadata": {
        "id": "E-B6AIQo2vmQ"
      },
      "source": [
        "We plot the accuracy of gold standard VS silver standard trained SVMs and the silver standard is better. This can be attributed to a higher class count."
      ]
    },
    {
      "cell_type": "code",
      "metadata": {
        "colab": {
          "base_uri": "https://localhost:8080/",
          "height": 456,
          "referenced_widgets": [
            "acea183c79ec4ec4b934ba5a3ff622ea",
            "35a2591df7404ffe923e4c1cd400cce6",
            "61f5d80d1a9e43e3800170b48b721e47",
            "1af6f71dadff4e17a9d318439d1ac9a1",
            "9d16acd7c1594339835be78adbde2b40",
            "5fdeca74c4de47a9adb127dffeaf080b",
            "e4dd0752527844deb65666618090448e",
            "ebb8d87f67a84006a52661d44a971ec1"
          ]
        },
        "id": "OEBcKdl-Taer",
        "outputId": "1bb768a6-2d36-44f1-f5ce-2398cf06e440"
      },
      "source": [
        "for run_iteration in tq.tqdm(range(0, 100)):\r\n",
        "  accuracy_value, recall_value = svm_function(path, details=False)\r\n",
        "  iteration_accuracy.append(['silver_standard', accuracy_value, recall_value])\r\n",
        "\r\n",
        "iteration_accuracy_df = pd.DataFrame(iteration_accuracy, columns=['standard_name', 'accuracy', 'recall'])\r\n",
        "\r\n",
        "\r\n",
        "\r\n",
        "fig, ax = plt.subplots()\r\n",
        "iteration_accuracy_df[iteration_accuracy_df.standard_name == 'gold_standard'].accuracy.plot(kind='kde', ax=ax)\r\n",
        "iteration_accuracy_df[iteration_accuracy_df.standard_name == 'silver_standard'].accuracy.plot(kind='kde', ax=ax)\r\n",
        "plt.xlabel('Accuracy', fontsize=14)\r\n",
        "plt.ylabel('Number of runs', fontsize=14)\r\n",
        "ax.legend([\"Gold standard\", \"Silver standard\"])\r\n",
        "plt.title('SVM accuracy comparison between sub-core-concept matching and core-concept matching')"
      ],
      "execution_count": 53,
      "outputs": [
        {
          "output_type": "display_data",
          "data": {
            "application/vnd.jupyter.widget-view+json": {
              "model_id": "acea183c79ec4ec4b934ba5a3ff622ea",
              "version_minor": 0,
              "version_major": 2
            },
            "text/plain": [
              "HBox(children=(FloatProgress(value=0.0), HTML(value='')))"
            ]
          },
          "metadata": {
            "tags": []
          }
        },
        {
          "output_type": "stream",
          "text": [
            "/usr/local/lib/python3.6/dist-packages/sklearn/metrics/_classification.py:1272: UndefinedMetricWarning: Recall is ill-defined and being set to 0.0 in labels with no true samples. Use `zero_division` parameter to control this behavior.\n",
            "  _warn_prf(average, modifier, msg_start, len(result))\n",
            "/usr/local/lib/python3.6/dist-packages/sklearn/metrics/_classification.py:1272: UndefinedMetricWarning: Recall is ill-defined and being set to 0.0 in labels with no true samples. Use `zero_division` parameter to control this behavior.\n",
            "  _warn_prf(average, modifier, msg_start, len(result))\n"
          ],
          "name": "stderr"
        },
        {
          "output_type": "stream",
          "text": [
            "\n"
          ],
          "name": "stdout"
        },
        {
          "output_type": "execute_result",
          "data": {
            "text/plain": [
              "Text(0.5, 1.0, 'SVM accuracy comparison between sub-core-concept matching and core-concept matching')"
            ]
          },
          "metadata": {
            "tags": []
          },
          "execution_count": 53
        },
        {
          "output_type": "display_data",
          "data": {
            "image/png": "[encoded data removed]",
            "text/plain": [
              "<Figure size 432x288 with 1 Axes>"
            ]
          },
          "metadata": {
            "tags": []
          }
        }
      ]
    },
    {
      "cell_type": "code",
      "metadata": {
        "colab": {
          "base_uri": "https://localhost:8080/",
          "height": 302
        },
        "id": "0IFYkZR-9ier",
        "outputId": "13fab0f0-2d44-4fca-ea0c-b1180bd66b12"
      },
      "source": [
        "fig, ax = plt.subplots()\r\n",
        "iteration_accuracy_df[iteration_accuracy_df.standard_name == 'gold_standard'].recall.plot(kind='kde', ax=ax)\r\n",
        "iteration_accuracy_df[iteration_accuracy_df.standard_name == 'silver_standard'].recall.plot(kind='kde', ax=ax)\r\n",
        "plt.xlabel('Recall', fontsize=14)\r\n",
        "plt.ylabel('Number of runs', fontsize=14)\r\n",
        "ax.legend([\"Gold standard\", \"Silver standard\"])\r\n",
        "plt.title('SVM recall comparison between sub-core-concept matching and core-concept matching')\r\n",
        "plt.show()"
      ],
      "execution_count": 54,
      "outputs": [
        {
          "output_type": "display_data",
          "data": {
            "image/png": "[encoded data removed]",
            "text/plain": [
              "<Figure size 432x288 with 1 Axes>"
            ]
          },
          "metadata": {
            "tags": []
          }
        }
      ]
    }
  ]
}