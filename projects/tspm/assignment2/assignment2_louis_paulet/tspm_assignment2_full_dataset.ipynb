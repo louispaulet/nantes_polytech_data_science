{
  "nbformat": 4,
  "nbformat_minor": 0,
  "metadata": {
    "colab": {
      "name": "tspm_assignment2_full_dataset.ipynb",
      "provenance": [],
      "collapsed_sections": [
        "bMahgbfnceye",
        "ey6xYgWXceyg",
        "TddGcyGqceyh",
        "T4Y6JW6Yceyi",
        "ArnzS33VQ4Yn",
        "nlVBsyrXceyo",
        "Eif0TWAuW4kw"
      ],
      "toc_visible": true
    },
    "kernelspec": {
      "name": "python3",
      "display_name": "Python 3"
    },
    "widgets": {
      "application/vnd.jupyter.widget-state+json": {
        "bca1a37c9a2043cd92b23288337cae80": {
          "model_module": "@jupyter-widgets/controls",
          "model_name": "HBoxModel",
          "state": {
            "_view_name": "HBoxView",
            "_dom_classes": [],
            "_model_name": "HBoxModel",
            "_view_module": "@jupyter-widgets/controls",
            "_model_module_version": "1.5.0",
            "_view_count": null,
            "_view_module_version": "1.5.0",
            "box_style": "",
            "layout": "IPY_MODEL_2e0ad400b6174f1b9e8697fb4ddf4990",
            "_model_module": "@jupyter-widgets/controls",
            "children": [
              "IPY_MODEL_96a0b312c6b74aa8ba2b785e533acef9",
              "IPY_MODEL_cbf7f218cc00460fb6323df9f44b5625"
            ]
          }
        },
        "2e0ad400b6174f1b9e8697fb4ddf4990": {
          "model_module": "@jupyter-widgets/base",
          "model_name": "LayoutModel",
          "state": {
            "_view_name": "LayoutView",
            "grid_template_rows": null,
            "right": null,
            "justify_content": null,
            "_view_module": "@jupyter-widgets/base",
            "overflow": null,
            "_model_module_version": "1.2.0",
            "_view_count": null,
            "flex_flow": null,
            "width": null,
            "min_width": null,
            "border": null,
            "align_items": null,
            "bottom": null,
            "_model_module": "@jupyter-widgets/base",
            "top": null,
            "grid_column": null,
            "overflow_y": null,
            "overflow_x": null,
            "grid_auto_flow": null,
            "grid_area": null,
            "grid_template_columns": null,
            "flex": null,
            "_model_name": "LayoutModel",
            "justify_items": null,
            "grid_row": null,
            "max_height": null,
            "align_content": null,
            "visibility": null,
            "align_self": null,
            "height": null,
            "min_height": null,
            "padding": null,
            "grid_auto_rows": null,
            "grid_gap": null,
            "max_width": null,
            "order": null,
            "_view_module_version": "1.2.0",
            "grid_template_areas": null,
            "object_position": null,
            "object_fit": null,
            "grid_auto_columns": null,
            "margin": null,
            "display": null,
            "left": null
          }
        },
        "96a0b312c6b74aa8ba2b785e533acef9": {
          "model_module": "@jupyter-widgets/controls",
          "model_name": "FloatProgressModel",
          "state": {
            "_view_name": "ProgressView",
            "style": "IPY_MODEL_826798ac41a742aba2370f13a79c4445",
            "_dom_classes": [],
            "description": "100%",
            "_model_name": "FloatProgressModel",
            "bar_style": "success",
            "max": 4,
            "_view_module": "@jupyter-widgets/controls",
            "_model_module_version": "1.5.0",
            "value": 4,
            "_view_count": null,
            "_view_module_version": "1.5.0",
            "orientation": "horizontal",
            "min": 0,
            "description_tooltip": null,
            "_model_module": "@jupyter-widgets/controls",
            "layout": "IPY_MODEL_5c7752ac2da24ae1b234a09b242ef8ad"
          }
        },
        "cbf7f218cc00460fb6323df9f44b5625": {
          "model_module": "@jupyter-widgets/controls",
          "model_name": "HTMLModel",
          "state": {
            "_view_name": "HTMLView",
            "style": "IPY_MODEL_6d32c50cfcc7417d8c207ee9c8474e1c",
            "_dom_classes": [],
            "description": "",
            "_model_name": "HTMLModel",
            "placeholder": "​",
            "_view_module": "@jupyter-widgets/controls",
            "_model_module_version": "1.5.0",
            "value": " 4/4 [00:07&lt;00:00,  2.00s/it]",
            "_view_count": null,
            "_view_module_version": "1.5.0",
            "description_tooltip": null,
            "_model_module": "@jupyter-widgets/controls",
            "layout": "IPY_MODEL_9911307be5464697ba78288ea5bbdb17"
          }
        },
        "826798ac41a742aba2370f13a79c4445": {
          "model_module": "@jupyter-widgets/controls",
          "model_name": "ProgressStyleModel",
          "state": {
            "_view_name": "StyleView",
            "_model_name": "ProgressStyleModel",
            "description_width": "initial",
            "_view_module": "@jupyter-widgets/base",
            "_model_module_version": "1.5.0",
            "_view_count": null,
            "_view_module_version": "1.2.0",
            "bar_color": null,
            "_model_module": "@jupyter-widgets/controls"
          }
        },
        "5c7752ac2da24ae1b234a09b242ef8ad": {
          "model_module": "@jupyter-widgets/base",
          "model_name": "LayoutModel",
          "state": {
            "_view_name": "LayoutView",
            "grid_template_rows": null,
            "right": null,
            "justify_content": null,
            "_view_module": "@jupyter-widgets/base",
            "overflow": null,
            "_model_module_version": "1.2.0",
            "_view_count": null,
            "flex_flow": null,
            "width": null,
            "min_width": null,
            "border": null,
            "align_items": null,
            "bottom": null,
            "_model_module": "@jupyter-widgets/base",
            "top": null,
            "grid_column": null,
            "overflow_y": null,
            "overflow_x": null,
            "grid_auto_flow": null,
            "grid_area": null,
            "grid_template_columns": null,
            "flex": null,
            "_model_name": "LayoutModel",
            "justify_items": null,
            "grid_row": null,
            "max_height": null,
            "align_content": null,
            "visibility": null,
            "align_self": null,
            "height": null,
            "min_height": null,
            "padding": null,
            "grid_auto_rows": null,
            "grid_gap": null,
            "max_width": null,
            "order": null,
            "_view_module_version": "1.2.0",
            "grid_template_areas": null,
            "object_position": null,
            "object_fit": null,
            "grid_auto_columns": null,
            "margin": null,
            "display": null,
            "left": null
          }
        },
        "6d32c50cfcc7417d8c207ee9c8474e1c": {
          "model_module": "@jupyter-widgets/controls",
          "model_name": "DescriptionStyleModel",
          "state": {
            "_view_name": "StyleView",
            "_model_name": "DescriptionStyleModel",
            "description_width": "",
            "_view_module": "@jupyter-widgets/base",
            "_model_module_version": "1.5.0",
            "_view_count": null,
            "_view_module_version": "1.2.0",
            "_model_module": "@jupyter-widgets/controls"
          }
        },
        "9911307be5464697ba78288ea5bbdb17": {
          "model_module": "@jupyter-widgets/base",
          "model_name": "LayoutModel",
          "state": {
            "_view_name": "LayoutView",
            "grid_template_rows": null,
            "right": null,
            "justify_content": null,
            "_view_module": "@jupyter-widgets/base",
            "overflow": null,
            "_model_module_version": "1.2.0",
            "_view_count": null,
            "flex_flow": null,
            "width": null,
            "min_width": null,
            "border": null,
            "align_items": null,
            "bottom": null,
            "_model_module": "@jupyter-widgets/base",
            "top": null,
            "grid_column": null,
            "overflow_y": null,
            "overflow_x": null,
            "grid_auto_flow": null,
            "grid_area": null,
            "grid_template_columns": null,
            "flex": null,
            "_model_name": "LayoutModel",
            "justify_items": null,
            "grid_row": null,
            "max_height": null,
            "align_content": null,
            "visibility": null,
            "align_self": null,
            "height": null,
            "min_height": null,
            "padding": null,
            "grid_auto_rows": null,
            "grid_gap": null,
            "max_width": null,
            "order": null,
            "_view_module_version": "1.2.0",
            "grid_template_areas": null,
            "object_position": null,
            "object_fit": null,
            "grid_auto_columns": null,
            "margin": null,
            "display": null,
            "left": null
          }
        },
        "8b4eec76e6b54ba9bd17e154c9bf6a0f": {
          "model_module": "@jupyter-widgets/controls",
          "model_name": "HBoxModel",
          "state": {
            "_view_name": "HBoxView",
            "_dom_classes": [],
            "_model_name": "HBoxModel",
            "_view_module": "@jupyter-widgets/controls",
            "_model_module_version": "1.5.0",
            "_view_count": null,
            "_view_module_version": "1.5.0",
            "box_style": "",
            "layout": "IPY_MODEL_580cfac06c814b6ebf5d92693ac03282",
            "_model_module": "@jupyter-widgets/controls",
            "children": [
              "IPY_MODEL_9ff7d78ed39c4298904da055273245e3",
              "IPY_MODEL_cfacdeffaec543d8959c823b76e62ec7"
            ]
          }
        },
        "580cfac06c814b6ebf5d92693ac03282": {
          "model_module": "@jupyter-widgets/base",
          "model_name": "LayoutModel",
          "state": {
            "_view_name": "LayoutView",
            "grid_template_rows": null,
            "right": null,
            "justify_content": null,
            "_view_module": "@jupyter-widgets/base",
            "overflow": null,
            "_model_module_version": "1.2.0",
            "_view_count": null,
            "flex_flow": null,
            "width": null,
            "min_width": null,
            "border": null,
            "align_items": null,
            "bottom": null,
            "_model_module": "@jupyter-widgets/base",
            "top": null,
            "grid_column": null,
            "overflow_y": null,
            "overflow_x": null,
            "grid_auto_flow": null,
            "grid_area": null,
            "grid_template_columns": null,
            "flex": null,
            "_model_name": "LayoutModel",
            "justify_items": null,
            "grid_row": null,
            "max_height": null,
            "align_content": null,
            "visibility": null,
            "align_self": null,
            "height": null,
            "min_height": null,
            "padding": null,
            "grid_auto_rows": null,
            "grid_gap": null,
            "max_width": null,
            "order": null,
            "_view_module_version": "1.2.0",
            "grid_template_areas": null,
            "object_position": null,
            "object_fit": null,
            "grid_auto_columns": null,
            "margin": null,
            "display": null,
            "left": null
          }
        },
        "9ff7d78ed39c4298904da055273245e3": {
          "model_module": "@jupyter-widgets/controls",
          "model_name": "FloatProgressModel",
          "state": {
            "_view_name": "ProgressView",
            "style": "IPY_MODEL_0ff30290167c4e939774fa16a4b337e3",
            "_dom_classes": [],
            "description": "100%",
            "_model_name": "FloatProgressModel",
            "bar_style": "success",
            "max": 4,
            "_view_module": "@jupyter-widgets/controls",
            "_model_module_version": "1.5.0",
            "value": 4,
            "_view_count": null,
            "_view_module_version": "1.5.0",
            "orientation": "horizontal",
            "min": 0,
            "description_tooltip": null,
            "_model_module": "@jupyter-widgets/controls",
            "layout": "IPY_MODEL_538aa4272f5040b9b02d7a75d13ccec3"
          }
        },
        "cfacdeffaec543d8959c823b76e62ec7": {
          "model_module": "@jupyter-widgets/controls",
          "model_name": "HTMLModel",
          "state": {
            "_view_name": "HTMLView",
            "style": "IPY_MODEL_57f6eba8858e4ada93c0b05f6917816f",
            "_dom_classes": [],
            "description": "",
            "_model_name": "HTMLModel",
            "placeholder": "​",
            "_view_module": "@jupyter-widgets/controls",
            "_model_module_version": "1.5.0",
            "value": " 4/4 [00:00&lt;00:00, 28.43it/s]",
            "_view_count": null,
            "_view_module_version": "1.5.0",
            "description_tooltip": null,
            "_model_module": "@jupyter-widgets/controls",
            "layout": "IPY_MODEL_68495b0a1241435aa8bece5a6340de3c"
          }
        },
        "0ff30290167c4e939774fa16a4b337e3": {
          "model_module": "@jupyter-widgets/controls",
          "model_name": "ProgressStyleModel",
          "state": {
            "_view_name": "StyleView",
            "_model_name": "ProgressStyleModel",
            "description_width": "initial",
            "_view_module": "@jupyter-widgets/base",
            "_model_module_version": "1.5.0",
            "_view_count": null,
            "_view_module_version": "1.2.0",
            "bar_color": null,
            "_model_module": "@jupyter-widgets/controls"
          }
        },
        "538aa4272f5040b9b02d7a75d13ccec3": {
          "model_module": "@jupyter-widgets/base",
          "model_name": "LayoutModel",
          "state": {
            "_view_name": "LayoutView",
            "grid_template_rows": null,
            "right": null,
            "justify_content": null,
            "_view_module": "@jupyter-widgets/base",
            "overflow": null,
            "_model_module_version": "1.2.0",
            "_view_count": null,
            "flex_flow": null,
            "width": null,
            "min_width": null,
            "border": null,
            "align_items": null,
            "bottom": null,
            "_model_module": "@jupyter-widgets/base",
            "top": null,
            "grid_column": null,
            "overflow_y": null,
            "overflow_x": null,
            "grid_auto_flow": null,
            "grid_area": null,
            "grid_template_columns": null,
            "flex": null,
            "_model_name": "LayoutModel",
            "justify_items": null,
            "grid_row": null,
            "max_height": null,
            "align_content": null,
            "visibility": null,
            "align_self": null,
            "height": null,
            "min_height": null,
            "padding": null,
            "grid_auto_rows": null,
            "grid_gap": null,
            "max_width": null,
            "order": null,
            "_view_module_version": "1.2.0",
            "grid_template_areas": null,
            "object_position": null,
            "object_fit": null,
            "grid_auto_columns": null,
            "margin": null,
            "display": null,
            "left": null
          }
        },
        "57f6eba8858e4ada93c0b05f6917816f": {
          "model_module": "@jupyter-widgets/controls",
          "model_name": "DescriptionStyleModel",
          "state": {
            "_view_name": "StyleView",
            "_model_name": "DescriptionStyleModel",
            "description_width": "",
            "_view_module": "@jupyter-widgets/base",
            "_model_module_version": "1.5.0",
            "_view_count": null,
            "_view_module_version": "1.2.0",
            "_model_module": "@jupyter-widgets/controls"
          }
        },
        "68495b0a1241435aa8bece5a6340de3c": {
          "model_module": "@jupyter-widgets/base",
          "model_name": "LayoutModel",
          "state": {
            "_view_name": "LayoutView",
            "grid_template_rows": null,
            "right": null,
            "justify_content": null,
            "_view_module": "@jupyter-widgets/base",
            "overflow": null,
            "_model_module_version": "1.2.0",
            "_view_count": null,
            "flex_flow": null,
            "width": null,
            "min_width": null,
            "border": null,
            "align_items": null,
            "bottom": null,
            "_model_module": "@jupyter-widgets/base",
            "top": null,
            "grid_column": null,
            "overflow_y": null,
            "overflow_x": null,
            "grid_auto_flow": null,
            "grid_area": null,
            "grid_template_columns": null,
            "flex": null,
            "_model_name": "LayoutModel",
            "justify_items": null,
            "grid_row": null,
            "max_height": null,
            "align_content": null,
            "visibility": null,
            "align_self": null,
            "height": null,
            "min_height": null,
            "padding": null,
            "grid_auto_rows": null,
            "grid_gap": null,
            "max_width": null,
            "order": null,
            "_view_module_version": "1.2.0",
            "grid_template_areas": null,
            "object_position": null,
            "object_fit": null,
            "grid_auto_columns": null,
            "margin": null,
            "display": null,
            "left": null
          }
        },
        "9d30657879974fbfaab14bf328df8161": {
          "model_module": "@jupyter-widgets/controls",
          "model_name": "HBoxModel",
          "state": {
            "_view_name": "HBoxView",
            "_dom_classes": [],
            "_model_name": "HBoxModel",
            "_view_module": "@jupyter-widgets/controls",
            "_model_module_version": "1.5.0",
            "_view_count": null,
            "_view_module_version": "1.5.0",
            "box_style": "",
            "layout": "IPY_MODEL_92b6334534a04ebfb20a8d9ecf6cdaae",
            "_model_module": "@jupyter-widgets/controls",
            "children": [
              "IPY_MODEL_eeeffeefe7d749c6b250b77af0ee8a90",
              "IPY_MODEL_142d9b77ed95409db1842f16bb00db65"
            ]
          }
        },
        "92b6334534a04ebfb20a8d9ecf6cdaae": {
          "model_module": "@jupyter-widgets/base",
          "model_name": "LayoutModel",
          "state": {
            "_view_name": "LayoutView",
            "grid_template_rows": null,
            "right": null,
            "justify_content": null,
            "_view_module": "@jupyter-widgets/base",
            "overflow": null,
            "_model_module_version": "1.2.0",
            "_view_count": null,
            "flex_flow": null,
            "width": null,
            "min_width": null,
            "border": null,
            "align_items": null,
            "bottom": null,
            "_model_module": "@jupyter-widgets/base",
            "top": null,
            "grid_column": null,
            "overflow_y": null,
            "overflow_x": null,
            "grid_auto_flow": null,
            "grid_area": null,
            "grid_template_columns": null,
            "flex": null,
            "_model_name": "LayoutModel",
            "justify_items": null,
            "grid_row": null,
            "max_height": null,
            "align_content": null,
            "visibility": null,
            "align_self": null,
            "height": null,
            "min_height": null,
            "padding": null,
            "grid_auto_rows": null,
            "grid_gap": null,
            "max_width": null,
            "order": null,
            "_view_module_version": "1.2.0",
            "grid_template_areas": null,
            "object_position": null,
            "object_fit": null,
            "grid_auto_columns": null,
            "margin": null,
            "display": null,
            "left": null
          }
        },
        "eeeffeefe7d749c6b250b77af0ee8a90": {
          "model_module": "@jupyter-widgets/controls",
          "model_name": "FloatProgressModel",
          "state": {
            "_view_name": "ProgressView",
            "style": "IPY_MODEL_61568b0d9bd648f5a27c2b9d0c8aed5c",
            "_dom_classes": [],
            "description": "100%",
            "_model_name": "FloatProgressModel",
            "bar_style": "success",
            "max": 19,
            "_view_module": "@jupyter-widgets/controls",
            "_model_module_version": "1.5.0",
            "value": 19,
            "_view_count": null,
            "_view_module_version": "1.5.0",
            "orientation": "horizontal",
            "min": 0,
            "description_tooltip": null,
            "_model_module": "@jupyter-widgets/controls",
            "layout": "IPY_MODEL_2b2dedc508e748bf91d3546ad88d4b72"
          }
        },
        "142d9b77ed95409db1842f16bb00db65": {
          "model_module": "@jupyter-widgets/controls",
          "model_name": "HTMLModel",
          "state": {
            "_view_name": "HTMLView",
            "style": "IPY_MODEL_d689e1fe27c448da98598927de0d8f29",
            "_dom_classes": [],
            "description": "",
            "_model_name": "HTMLModel",
            "placeholder": "​",
            "_view_module": "@jupyter-widgets/controls",
            "_model_module_version": "1.5.0",
            "value": " 19/19 [00:07&lt;00:00,  2.45it/s]",
            "_view_count": null,
            "_view_module_version": "1.5.0",
            "description_tooltip": null,
            "_model_module": "@jupyter-widgets/controls",
            "layout": "IPY_MODEL_b7f54639d981494c99d201489741ea6a"
          }
        },
        "61568b0d9bd648f5a27c2b9d0c8aed5c": {
          "model_module": "@jupyter-widgets/controls",
          "model_name": "ProgressStyleModel",
          "state": {
            "_view_name": "StyleView",
            "_model_name": "ProgressStyleModel",
            "description_width": "initial",
            "_view_module": "@jupyter-widgets/base",
            "_model_module_version": "1.5.0",
            "_view_count": null,
            "_view_module_version": "1.2.0",
            "bar_color": null,
            "_model_module": "@jupyter-widgets/controls"
          }
        },
        "2b2dedc508e748bf91d3546ad88d4b72": {
          "model_module": "@jupyter-widgets/base",
          "model_name": "LayoutModel",
          "state": {
            "_view_name": "LayoutView",
            "grid_template_rows": null,
            "right": null,
            "justify_content": null,
            "_view_module": "@jupyter-widgets/base",
            "overflow": null,
            "_model_module_version": "1.2.0",
            "_view_count": null,
            "flex_flow": null,
            "width": null,
            "min_width": null,
            "border": null,
            "align_items": null,
            "bottom": null,
            "_model_module": "@jupyter-widgets/base",
            "top": null,
            "grid_column": null,
            "overflow_y": null,
            "overflow_x": null,
            "grid_auto_flow": null,
            "grid_area": null,
            "grid_template_columns": null,
            "flex": null,
            "_model_name": "LayoutModel",
            "justify_items": null,
            "grid_row": null,
            "max_height": null,
            "align_content": null,
            "visibility": null,
            "align_self": null,
            "height": null,
            "min_height": null,
            "padding": null,
            "grid_auto_rows": null,
            "grid_gap": null,
            "max_width": null,
            "order": null,
            "_view_module_version": "1.2.0",
            "grid_template_areas": null,
            "object_position": null,
            "object_fit": null,
            "grid_auto_columns": null,
            "margin": null,
            "display": null,
            "left": null
          }
        },
        "d689e1fe27c448da98598927de0d8f29": {
          "model_module": "@jupyter-widgets/controls",
          "model_name": "DescriptionStyleModel",
          "state": {
            "_view_name": "StyleView",
            "_model_name": "DescriptionStyleModel",
            "description_width": "",
            "_view_module": "@jupyter-widgets/base",
            "_model_module_version": "1.5.0",
            "_view_count": null,
            "_view_module_version": "1.2.0",
            "_model_module": "@jupyter-widgets/controls"
          }
        },
        "b7f54639d981494c99d201489741ea6a": {
          "model_module": "@jupyter-widgets/base",
          "model_name": "LayoutModel",
          "state": {
            "_view_name": "LayoutView",
            "grid_template_rows": null,
            "right": null,
            "justify_content": null,
            "_view_module": "@jupyter-widgets/base",
            "overflow": null,
            "_model_module_version": "1.2.0",
            "_view_count": null,
            "flex_flow": null,
            "width": null,
            "min_width": null,
            "border": null,
            "align_items": null,
            "bottom": null,
            "_model_module": "@jupyter-widgets/base",
            "top": null,
            "grid_column": null,
            "overflow_y": null,
            "overflow_x": null,
            "grid_auto_flow": null,
            "grid_area": null,
            "grid_template_columns": null,
            "flex": null,
            "_model_name": "LayoutModel",
            "justify_items": null,
            "grid_row": null,
            "max_height": null,
            "align_content": null,
            "visibility": null,
            "align_self": null,
            "height": null,
            "min_height": null,
            "padding": null,
            "grid_auto_rows": null,
            "grid_gap": null,
            "max_width": null,
            "order": null,
            "_view_module_version": "1.2.0",
            "grid_template_areas": null,
            "object_position": null,
            "object_fit": null,
            "grid_auto_columns": null,
            "margin": null,
            "display": null,
            "left": null
          }
        },
        "1bd33d661ade4f50947b5601afa0523b": {
          "model_module": "@jupyter-widgets/controls",
          "model_name": "HBoxModel",
          "state": {
            "_view_name": "HBoxView",
            "_dom_classes": [],
            "_model_name": "HBoxModel",
            "_view_module": "@jupyter-widgets/controls",
            "_model_module_version": "1.5.0",
            "_view_count": null,
            "_view_module_version": "1.5.0",
            "box_style": "",
            "layout": "IPY_MODEL_e133da5dc96e46038b032099b3db3287",
            "_model_module": "@jupyter-widgets/controls",
            "children": [
              "IPY_MODEL_7bb48022a18d42b189bff8f9256301ad",
              "IPY_MODEL_015208d6106240b98648d6dc22c29bf0"
            ]
          }
        },
        "e133da5dc96e46038b032099b3db3287": {
          "model_module": "@jupyter-widgets/base",
          "model_name": "LayoutModel",
          "state": {
            "_view_name": "LayoutView",
            "grid_template_rows": null,
            "right": null,
            "justify_content": null,
            "_view_module": "@jupyter-widgets/base",
            "overflow": null,
            "_model_module_version": "1.2.0",
            "_view_count": null,
            "flex_flow": null,
            "width": null,
            "min_width": null,
            "border": null,
            "align_items": null,
            "bottom": null,
            "_model_module": "@jupyter-widgets/base",
            "top": null,
            "grid_column": null,
            "overflow_y": null,
            "overflow_x": null,
            "grid_auto_flow": null,
            "grid_area": null,
            "grid_template_columns": null,
            "flex": null,
            "_model_name": "LayoutModel",
            "justify_items": null,
            "grid_row": null,
            "max_height": null,
            "align_content": null,
            "visibility": null,
            "align_self": null,
            "height": null,
            "min_height": null,
            "padding": null,
            "grid_auto_rows": null,
            "grid_gap": null,
            "max_width": null,
            "order": null,
            "_view_module_version": "1.2.0",
            "grid_template_areas": null,
            "object_position": null,
            "object_fit": null,
            "grid_auto_columns": null,
            "margin": null,
            "display": null,
            "left": null
          }
        },
        "7bb48022a18d42b189bff8f9256301ad": {
          "model_module": "@jupyter-widgets/controls",
          "model_name": "FloatProgressModel",
          "state": {
            "_view_name": "ProgressView",
            "style": "IPY_MODEL_c2017ec4281340a39ac706539980f545",
            "_dom_classes": [],
            "description": "100%",
            "_model_name": "FloatProgressModel",
            "bar_style": "success",
            "max": 4,
            "_view_module": "@jupyter-widgets/controls",
            "_model_module_version": "1.5.0",
            "value": 4,
            "_view_count": null,
            "_view_module_version": "1.5.0",
            "orientation": "horizontal",
            "min": 0,
            "description_tooltip": null,
            "_model_module": "@jupyter-widgets/controls",
            "layout": "IPY_MODEL_1236dd2e40b14ff1b5b572162a50c2e3"
          }
        },
        "015208d6106240b98648d6dc22c29bf0": {
          "model_module": "@jupyter-widgets/controls",
          "model_name": "HTMLModel",
          "state": {
            "_view_name": "HTMLView",
            "style": "IPY_MODEL_50b1b523690c49f59d31d45676168ea1",
            "_dom_classes": [],
            "description": "",
            "_model_name": "HTMLModel",
            "placeholder": "​",
            "_view_module": "@jupyter-widgets/controls",
            "_model_module_version": "1.5.0",
            "value": " 4/4 [00:00&lt;00:00, 37.48it/s]",
            "_view_count": null,
            "_view_module_version": "1.5.0",
            "description_tooltip": null,
            "_model_module": "@jupyter-widgets/controls",
            "layout": "IPY_MODEL_af22ee787da849f7b8dd699ea43f1ff3"
          }
        },
        "c2017ec4281340a39ac706539980f545": {
          "model_module": "@jupyter-widgets/controls",
          "model_name": "ProgressStyleModel",
          "state": {
            "_view_name": "StyleView",
            "_model_name": "ProgressStyleModel",
            "description_width": "initial",
            "_view_module": "@jupyter-widgets/base",
            "_model_module_version": "1.5.0",
            "_view_count": null,
            "_view_module_version": "1.2.0",
            "bar_color": null,
            "_model_module": "@jupyter-widgets/controls"
          }
        },
        "1236dd2e40b14ff1b5b572162a50c2e3": {
          "model_module": "@jupyter-widgets/base",
          "model_name": "LayoutModel",
          "state": {
            "_view_name": "LayoutView",
            "grid_template_rows": null,
            "right": null,
            "justify_content": null,
            "_view_module": "@jupyter-widgets/base",
            "overflow": null,
            "_model_module_version": "1.2.0",
            "_view_count": null,
            "flex_flow": null,
            "width": null,
            "min_width": null,
            "border": null,
            "align_items": null,
            "bottom": null,
            "_model_module": "@jupyter-widgets/base",
            "top": null,
            "grid_column": null,
            "overflow_y": null,
            "overflow_x": null,
            "grid_auto_flow": null,
            "grid_area": null,
            "grid_template_columns": null,
            "flex": null,
            "_model_name": "LayoutModel",
            "justify_items": null,
            "grid_row": null,
            "max_height": null,
            "align_content": null,
            "visibility": null,
            "align_self": null,
            "height": null,
            "min_height": null,
            "padding": null,
            "grid_auto_rows": null,
            "grid_gap": null,
            "max_width": null,
            "order": null,
            "_view_module_version": "1.2.0",
            "grid_template_areas": null,
            "object_position": null,
            "object_fit": null,
            "grid_auto_columns": null,
            "margin": null,
            "display": null,
            "left": null
          }
        },
        "50b1b523690c49f59d31d45676168ea1": {
          "model_module": "@jupyter-widgets/controls",
          "model_name": "DescriptionStyleModel",
          "state": {
            "_view_name": "StyleView",
            "_model_name": "DescriptionStyleModel",
            "description_width": "",
            "_view_module": "@jupyter-widgets/base",
            "_model_module_version": "1.5.0",
            "_view_count": null,
            "_view_module_version": "1.2.0",
            "_model_module": "@jupyter-widgets/controls"
          }
        },
        "af22ee787da849f7b8dd699ea43f1ff3": {
          "model_module": "@jupyter-widgets/base",
          "model_name": "LayoutModel",
          "state": {
            "_view_name": "LayoutView",
            "grid_template_rows": null,
            "right": null,
            "justify_content": null,
            "_view_module": "@jupyter-widgets/base",
            "overflow": null,
            "_model_module_version": "1.2.0",
            "_view_count": null,
            "flex_flow": null,
            "width": null,
            "min_width": null,
            "border": null,
            "align_items": null,
            "bottom": null,
            "_model_module": "@jupyter-widgets/base",
            "top": null,
            "grid_column": null,
            "overflow_y": null,
            "overflow_x": null,
            "grid_auto_flow": null,
            "grid_area": null,
            "grid_template_columns": null,
            "flex": null,
            "_model_name": "LayoutModel",
            "justify_items": null,
            "grid_row": null,
            "max_height": null,
            "align_content": null,
            "visibility": null,
            "align_self": null,
            "height": null,
            "min_height": null,
            "padding": null,
            "grid_auto_rows": null,
            "grid_gap": null,
            "max_width": null,
            "order": null,
            "_view_module_version": "1.2.0",
            "grid_template_areas": null,
            "object_position": null,
            "object_fit": null,
            "grid_auto_columns": null,
            "margin": null,
            "display": null,
            "left": null
          }
        },
        "3b116ec62ae44860b42d2fb8fe5f3fd6": {
          "model_module": "@jupyter-widgets/controls",
          "model_name": "HBoxModel",
          "state": {
            "_view_name": "HBoxView",
            "_dom_classes": [],
            "_model_name": "HBoxModel",
            "_view_module": "@jupyter-widgets/controls",
            "_model_module_version": "1.5.0",
            "_view_count": null,
            "_view_module_version": "1.5.0",
            "box_style": "",
            "layout": "IPY_MODEL_07553b6a9f294530893b20db4df18d87",
            "_model_module": "@jupyter-widgets/controls",
            "children": [
              "IPY_MODEL_2a6503722b7546ccaf59a02a7d05f8b3",
              "IPY_MODEL_37c1906fb6cc401d861c93e71f206aae"
            ]
          }
        },
        "07553b6a9f294530893b20db4df18d87": {
          "model_module": "@jupyter-widgets/base",
          "model_name": "LayoutModel",
          "state": {
            "_view_name": "LayoutView",
            "grid_template_rows": null,
            "right": null,
            "justify_content": null,
            "_view_module": "@jupyter-widgets/base",
            "overflow": null,
            "_model_module_version": "1.2.0",
            "_view_count": null,
            "flex_flow": null,
            "width": null,
            "min_width": null,
            "border": null,
            "align_items": null,
            "bottom": null,
            "_model_module": "@jupyter-widgets/base",
            "top": null,
            "grid_column": null,
            "overflow_y": null,
            "overflow_x": null,
            "grid_auto_flow": null,
            "grid_area": null,
            "grid_template_columns": null,
            "flex": null,
            "_model_name": "LayoutModel",
            "justify_items": null,
            "grid_row": null,
            "max_height": null,
            "align_content": null,
            "visibility": null,
            "align_self": null,
            "height": null,
            "min_height": null,
            "padding": null,
            "grid_auto_rows": null,
            "grid_gap": null,
            "max_width": null,
            "order": null,
            "_view_module_version": "1.2.0",
            "grid_template_areas": null,
            "object_position": null,
            "object_fit": null,
            "grid_auto_columns": null,
            "margin": null,
            "display": null,
            "left": null
          }
        },
        "2a6503722b7546ccaf59a02a7d05f8b3": {
          "model_module": "@jupyter-widgets/controls",
          "model_name": "FloatProgressModel",
          "state": {
            "_view_name": "ProgressView",
            "style": "IPY_MODEL_d7131d2a1e714608bc62dc687dc11ca4",
            "_dom_classes": [],
            "description": "100%",
            "_model_name": "FloatProgressModel",
            "bar_style": "success",
            "max": 19,
            "_view_module": "@jupyter-widgets/controls",
            "_model_module_version": "1.5.0",
            "value": 19,
            "_view_count": null,
            "_view_module_version": "1.5.0",
            "orientation": "horizontal",
            "min": 0,
            "description_tooltip": null,
            "_model_module": "@jupyter-widgets/controls",
            "layout": "IPY_MODEL_69bef597b03948ee9978248081704e39"
          }
        },
        "37c1906fb6cc401d861c93e71f206aae": {
          "model_module": "@jupyter-widgets/controls",
          "model_name": "HTMLModel",
          "state": {
            "_view_name": "HTMLView",
            "style": "IPY_MODEL_89b61a65cd4244759c0bc94206e20b3f",
            "_dom_classes": [],
            "description": "",
            "_model_name": "HTMLModel",
            "placeholder": "​",
            "_view_module": "@jupyter-widgets/controls",
            "_model_module_version": "1.5.0",
            "value": " 19/19 [00:07&lt;00:00,  2.50it/s]",
            "_view_count": null,
            "_view_module_version": "1.5.0",
            "description_tooltip": null,
            "_model_module": "@jupyter-widgets/controls",
            "layout": "IPY_MODEL_5e6de7791b6a4533b3f6f59397ce73aa"
          }
        },
        "d7131d2a1e714608bc62dc687dc11ca4": {
          "model_module": "@jupyter-widgets/controls",
          "model_name": "ProgressStyleModel",
          "state": {
            "_view_name": "StyleView",
            "_model_name": "ProgressStyleModel",
            "description_width": "initial",
            "_view_module": "@jupyter-widgets/base",
            "_model_module_version": "1.5.0",
            "_view_count": null,
            "_view_module_version": "1.2.0",
            "bar_color": null,
            "_model_module": "@jupyter-widgets/controls"
          }
        },
        "69bef597b03948ee9978248081704e39": {
          "model_module": "@jupyter-widgets/base",
          "model_name": "LayoutModel",
          "state": {
            "_view_name": "LayoutView",
            "grid_template_rows": null,
            "right": null,
            "justify_content": null,
            "_view_module": "@jupyter-widgets/base",
            "overflow": null,
            "_model_module_version": "1.2.0",
            "_view_count": null,
            "flex_flow": null,
            "width": null,
            "min_width": null,
            "border": null,
            "align_items": null,
            "bottom": null,
            "_model_module": "@jupyter-widgets/base",
            "top": null,
            "grid_column": null,
            "overflow_y": null,
            "overflow_x": null,
            "grid_auto_flow": null,
            "grid_area": null,
            "grid_template_columns": null,
            "flex": null,
            "_model_name": "LayoutModel",
            "justify_items": null,
            "grid_row": null,
            "max_height": null,
            "align_content": null,
            "visibility": null,
            "align_self": null,
            "height": null,
            "min_height": null,
            "padding": null,
            "grid_auto_rows": null,
            "grid_gap": null,
            "max_width": null,
            "order": null,
            "_view_module_version": "1.2.0",
            "grid_template_areas": null,
            "object_position": null,
            "object_fit": null,
            "grid_auto_columns": null,
            "margin": null,
            "display": null,
            "left": null
          }
        },
        "89b61a65cd4244759c0bc94206e20b3f": {
          "model_module": "@jupyter-widgets/controls",
          "model_name": "DescriptionStyleModel",
          "state": {
            "_view_name": "StyleView",
            "_model_name": "DescriptionStyleModel",
            "description_width": "",
            "_view_module": "@jupyter-widgets/base",
            "_model_module_version": "1.5.0",
            "_view_count": null,
            "_view_module_version": "1.2.0",
            "_model_module": "@jupyter-widgets/controls"
          }
        },
        "5e6de7791b6a4533b3f6f59397ce73aa": {
          "model_module": "@jupyter-widgets/base",
          "model_name": "LayoutModel",
          "state": {
            "_view_name": "LayoutView",
            "grid_template_rows": null,
            "right": null,
            "justify_content": null,
            "_view_module": "@jupyter-widgets/base",
            "overflow": null,
            "_model_module_version": "1.2.0",
            "_view_count": null,
            "flex_flow": null,
            "width": null,
            "min_width": null,
            "border": null,
            "align_items": null,
            "bottom": null,
            "_model_module": "@jupyter-widgets/base",
            "top": null,
            "grid_column": null,
            "overflow_y": null,
            "overflow_x": null,
            "grid_auto_flow": null,
            "grid_area": null,
            "grid_template_columns": null,
            "flex": null,
            "_model_name": "LayoutModel",
            "justify_items": null,
            "grid_row": null,
            "max_height": null,
            "align_content": null,
            "visibility": null,
            "align_self": null,
            "height": null,
            "min_height": null,
            "padding": null,
            "grid_auto_rows": null,
            "grid_gap": null,
            "max_width": null,
            "order": null,
            "_view_module_version": "1.2.0",
            "grid_template_areas": null,
            "object_position": null,
            "object_fit": null,
            "grid_auto_columns": null,
            "margin": null,
            "display": null,
            "left": null
          }
        },
        "7061fb380cfb411c9d1d88fe9897b6d2": {
          "model_module": "@jupyter-widgets/controls",
          "model_name": "HBoxModel",
          "state": {
            "_view_name": "HBoxView",
            "_dom_classes": [],
            "_model_name": "HBoxModel",
            "_view_module": "@jupyter-widgets/controls",
            "_model_module_version": "1.5.0",
            "_view_count": null,
            "_view_module_version": "1.5.0",
            "box_style": "",
            "layout": "IPY_MODEL_4e2607a0d6ed4847ac6d42c1a06ab6fa",
            "_model_module": "@jupyter-widgets/controls",
            "children": [
              "IPY_MODEL_349794d635b54e05b4d5b66f7ef722fb",
              "IPY_MODEL_e27945322f2846b692c02769f58c24ea"
            ]
          }
        },
        "4e2607a0d6ed4847ac6d42c1a06ab6fa": {
          "model_module": "@jupyter-widgets/base",
          "model_name": "LayoutModel",
          "state": {
            "_view_name": "LayoutView",
            "grid_template_rows": null,
            "right": null,
            "justify_content": null,
            "_view_module": "@jupyter-widgets/base",
            "overflow": null,
            "_model_module_version": "1.2.0",
            "_view_count": null,
            "flex_flow": null,
            "width": null,
            "min_width": null,
            "border": null,
            "align_items": null,
            "bottom": null,
            "_model_module": "@jupyter-widgets/base",
            "top": null,
            "grid_column": null,
            "overflow_y": null,
            "overflow_x": null,
            "grid_auto_flow": null,
            "grid_area": null,
            "grid_template_columns": null,
            "flex": null,
            "_model_name": "LayoutModel",
            "justify_items": null,
            "grid_row": null,
            "max_height": null,
            "align_content": null,
            "visibility": null,
            "align_self": null,
            "height": null,
            "min_height": null,
            "padding": null,
            "grid_auto_rows": null,
            "grid_gap": null,
            "max_width": null,
            "order": null,
            "_view_module_version": "1.2.0",
            "grid_template_areas": null,
            "object_position": null,
            "object_fit": null,
            "grid_auto_columns": null,
            "margin": null,
            "display": null,
            "left": null
          }
        },
        "349794d635b54e05b4d5b66f7ef722fb": {
          "model_module": "@jupyter-widgets/controls",
          "model_name": "FloatProgressModel",
          "state": {
            "_view_name": "ProgressView",
            "style": "IPY_MODEL_bb947002bfca49b09e73a780177ab93d",
            "_dom_classes": [],
            "description": "100%",
            "_model_name": "FloatProgressModel",
            "bar_style": "success",
            "max": 7501,
            "_view_module": "@jupyter-widgets/controls",
            "_model_module_version": "1.5.0",
            "value": 7501,
            "_view_count": null,
            "_view_module_version": "1.5.0",
            "orientation": "horizontal",
            "min": 0,
            "description_tooltip": null,
            "_model_module": "@jupyter-widgets/controls",
            "layout": "IPY_MODEL_a2154aa9fd564a4aa1e91eaa237c706e"
          }
        },
        "e27945322f2846b692c02769f58c24ea": {
          "model_module": "@jupyter-widgets/controls",
          "model_name": "HTMLModel",
          "state": {
            "_view_name": "HTMLView",
            "style": "IPY_MODEL_e218ab1d16914a85a1803afcf4971254",
            "_dom_classes": [],
            "description": "",
            "_model_name": "HTMLModel",
            "placeholder": "​",
            "_view_module": "@jupyter-widgets/controls",
            "_model_module_version": "1.5.0",
            "value": " 7501/7501 [1:00:29&lt;00:00,  2.07it/s]",
            "_view_count": null,
            "_view_module_version": "1.5.0",
            "description_tooltip": null,
            "_model_module": "@jupyter-widgets/controls",
            "layout": "IPY_MODEL_667cc1f84ff94da98281c50d3a8a219a"
          }
        },
        "bb947002bfca49b09e73a780177ab93d": {
          "model_module": "@jupyter-widgets/controls",
          "model_name": "ProgressStyleModel",
          "state": {
            "_view_name": "StyleView",
            "_model_name": "ProgressStyleModel",
            "description_width": "initial",
            "_view_module": "@jupyter-widgets/base",
            "_model_module_version": "1.5.0",
            "_view_count": null,
            "_view_module_version": "1.2.0",
            "bar_color": null,
            "_model_module": "@jupyter-widgets/controls"
          }
        },
        "a2154aa9fd564a4aa1e91eaa237c706e": {
          "model_module": "@jupyter-widgets/base",
          "model_name": "LayoutModel",
          "state": {
            "_view_name": "LayoutView",
            "grid_template_rows": null,
            "right": null,
            "justify_content": null,
            "_view_module": "@jupyter-widgets/base",
            "overflow": null,
            "_model_module_version": "1.2.0",
            "_view_count": null,
            "flex_flow": null,
            "width": null,
            "min_width": null,
            "border": null,
            "align_items": null,
            "bottom": null,
            "_model_module": "@jupyter-widgets/base",
            "top": null,
            "grid_column": null,
            "overflow_y": null,
            "overflow_x": null,
            "grid_auto_flow": null,
            "grid_area": null,
            "grid_template_columns": null,
            "flex": null,
            "_model_name": "LayoutModel",
            "justify_items": null,
            "grid_row": null,
            "max_height": null,
            "align_content": null,
            "visibility": null,
            "align_self": null,
            "height": null,
            "min_height": null,
            "padding": null,
            "grid_auto_rows": null,
            "grid_gap": null,
            "max_width": null,
            "order": null,
            "_view_module_version": "1.2.0",
            "grid_template_areas": null,
            "object_position": null,
            "object_fit": null,
            "grid_auto_columns": null,
            "margin": null,
            "display": null,
            "left": null
          }
        },
        "e218ab1d16914a85a1803afcf4971254": {
          "model_module": "@jupyter-widgets/controls",
          "model_name": "DescriptionStyleModel",
          "state": {
            "_view_name": "StyleView",
            "_model_name": "DescriptionStyleModel",
            "description_width": "",
            "_view_module": "@jupyter-widgets/base",
            "_model_module_version": "1.5.0",
            "_view_count": null,
            "_view_module_version": "1.2.0",
            "_model_module": "@jupyter-widgets/controls"
          }
        },
        "667cc1f84ff94da98281c50d3a8a219a": {
          "model_module": "@jupyter-widgets/base",
          "model_name": "LayoutModel",
          "state": {
            "_view_name": "LayoutView",
            "grid_template_rows": null,
            "right": null,
            "justify_content": null,
            "_view_module": "@jupyter-widgets/base",
            "overflow": null,
            "_model_module_version": "1.2.0",
            "_view_count": null,
            "flex_flow": null,
            "width": null,
            "min_width": null,
            "border": null,
            "align_items": null,
            "bottom": null,
            "_model_module": "@jupyter-widgets/base",
            "top": null,
            "grid_column": null,
            "overflow_y": null,
            "overflow_x": null,
            "grid_auto_flow": null,
            "grid_area": null,
            "grid_template_columns": null,
            "flex": null,
            "_model_name": "LayoutModel",
            "justify_items": null,
            "grid_row": null,
            "max_height": null,
            "align_content": null,
            "visibility": null,
            "align_self": null,
            "height": null,
            "min_height": null,
            "padding": null,
            "grid_auto_rows": null,
            "grid_gap": null,
            "max_width": null,
            "order": null,
            "_view_module_version": "1.2.0",
            "grid_template_areas": null,
            "object_position": null,
            "object_fit": null,
            "grid_auto_columns": null,
            "margin": null,
            "display": null,
            "left": null
          }
        },
        "0e3e132869fd4526a256d86c409b695c": {
          "model_module": "@jupyter-widgets/controls",
          "model_name": "HBoxModel",
          "state": {
            "_view_name": "HBoxView",
            "_dom_classes": [],
            "_model_name": "HBoxModel",
            "_view_module": "@jupyter-widgets/controls",
            "_model_module_version": "1.5.0",
            "_view_count": null,
            "_view_module_version": "1.5.0",
            "box_style": "",
            "layout": "IPY_MODEL_4f72a886c99c4da8b63cc6ae6b8aa40d",
            "_model_module": "@jupyter-widgets/controls",
            "children": [
              "IPY_MODEL_1fcc4b14f95a4ca48eb6500f8d5324d3",
              "IPY_MODEL_ee27f970a59e4ddba4aa9760f1210186"
            ]
          }
        },
        "4f72a886c99c4da8b63cc6ae6b8aa40d": {
          "model_module": "@jupyter-widgets/base",
          "model_name": "LayoutModel",
          "state": {
            "_view_name": "LayoutView",
            "grid_template_rows": null,
            "right": null,
            "justify_content": null,
            "_view_module": "@jupyter-widgets/base",
            "overflow": null,
            "_model_module_version": "1.2.0",
            "_view_count": null,
            "flex_flow": null,
            "width": null,
            "min_width": null,
            "border": null,
            "align_items": null,
            "bottom": null,
            "_model_module": "@jupyter-widgets/base",
            "top": null,
            "grid_column": null,
            "overflow_y": null,
            "overflow_x": null,
            "grid_auto_flow": null,
            "grid_area": null,
            "grid_template_columns": null,
            "flex": null,
            "_model_name": "LayoutModel",
            "justify_items": null,
            "grid_row": null,
            "max_height": null,
            "align_content": null,
            "visibility": null,
            "align_self": null,
            "height": null,
            "min_height": null,
            "padding": null,
            "grid_auto_rows": null,
            "grid_gap": null,
            "max_width": null,
            "order": null,
            "_view_module_version": "1.2.0",
            "grid_template_areas": null,
            "object_position": null,
            "object_fit": null,
            "grid_auto_columns": null,
            "margin": null,
            "display": null,
            "left": null
          }
        },
        "1fcc4b14f95a4ca48eb6500f8d5324d3": {
          "model_module": "@jupyter-widgets/controls",
          "model_name": "FloatProgressModel",
          "state": {
            "_view_name": "ProgressView",
            "style": "IPY_MODEL_b9010a1579c84cd296c8c486fcfb53cd",
            "_dom_classes": [],
            "description": "100%",
            "_model_name": "FloatProgressModel",
            "bar_style": "success",
            "max": 7501,
            "_view_module": "@jupyter-widgets/controls",
            "_model_module_version": "1.5.0",
            "value": 7501,
            "_view_count": null,
            "_view_module_version": "1.5.0",
            "orientation": "horizontal",
            "min": 0,
            "description_tooltip": null,
            "_model_module": "@jupyter-widgets/controls",
            "layout": "IPY_MODEL_68f58a58c6c846c9929143509de26320"
          }
        },
        "ee27f970a59e4ddba4aa9760f1210186": {
          "model_module": "@jupyter-widgets/controls",
          "model_name": "HTMLModel",
          "state": {
            "_view_name": "HTMLView",
            "style": "IPY_MODEL_244a01f6408e4506abadfbc9591f180a",
            "_dom_classes": [],
            "description": "",
            "_model_name": "HTMLModel",
            "placeholder": "​",
            "_view_module": "@jupyter-widgets/controls",
            "_model_module_version": "1.5.0",
            "value": " 7501/7501 [59:04&lt;00:00,  2.12it/s]",
            "_view_count": null,
            "_view_module_version": "1.5.0",
            "description_tooltip": null,
            "_model_module": "@jupyter-widgets/controls",
            "layout": "IPY_MODEL_442cc91c4bb443e18cdd5baec5a715e0"
          }
        },
        "b9010a1579c84cd296c8c486fcfb53cd": {
          "model_module": "@jupyter-widgets/controls",
          "model_name": "ProgressStyleModel",
          "state": {
            "_view_name": "StyleView",
            "_model_name": "ProgressStyleModel",
            "description_width": "initial",
            "_view_module": "@jupyter-widgets/base",
            "_model_module_version": "1.5.0",
            "_view_count": null,
            "_view_module_version": "1.2.0",
            "bar_color": null,
            "_model_module": "@jupyter-widgets/controls"
          }
        },
        "68f58a58c6c846c9929143509de26320": {
          "model_module": "@jupyter-widgets/base",
          "model_name": "LayoutModel",
          "state": {
            "_view_name": "LayoutView",
            "grid_template_rows": null,
            "right": null,
            "justify_content": null,
            "_view_module": "@jupyter-widgets/base",
            "overflow": null,
            "_model_module_version": "1.2.0",
            "_view_count": null,
            "flex_flow": null,
            "width": null,
            "min_width": null,
            "border": null,
            "align_items": null,
            "bottom": null,
            "_model_module": "@jupyter-widgets/base",
            "top": null,
            "grid_column": null,
            "overflow_y": null,
            "overflow_x": null,
            "grid_auto_flow": null,
            "grid_area": null,
            "grid_template_columns": null,
            "flex": null,
            "_model_name": "LayoutModel",
            "justify_items": null,
            "grid_row": null,
            "max_height": null,
            "align_content": null,
            "visibility": null,
            "align_self": null,
            "height": null,
            "min_height": null,
            "padding": null,
            "grid_auto_rows": null,
            "grid_gap": null,
            "max_width": null,
            "order": null,
            "_view_module_version": "1.2.0",
            "grid_template_areas": null,
            "object_position": null,
            "object_fit": null,
            "grid_auto_columns": null,
            "margin": null,
            "display": null,
            "left": null
          }
        },
        "244a01f6408e4506abadfbc9591f180a": {
          "model_module": "@jupyter-widgets/controls",
          "model_name": "DescriptionStyleModel",
          "state": {
            "_view_name": "StyleView",
            "_model_name": "DescriptionStyleModel",
            "description_width": "",
            "_view_module": "@jupyter-widgets/base",
            "_model_module_version": "1.5.0",
            "_view_count": null,
            "_view_module_version": "1.2.0",
            "_model_module": "@jupyter-widgets/controls"
          }
        },
        "442cc91c4bb443e18cdd5baec5a715e0": {
          "model_module": "@jupyter-widgets/base",
          "model_name": "LayoutModel",
          "state": {
            "_view_name": "LayoutView",
            "grid_template_rows": null,
            "right": null,
            "justify_content": null,
            "_view_module": "@jupyter-widgets/base",
            "overflow": null,
            "_model_module_version": "1.2.0",
            "_view_count": null,
            "flex_flow": null,
            "width": null,
            "min_width": null,
            "border": null,
            "align_items": null,
            "bottom": null,
            "_model_module": "@jupyter-widgets/base",
            "top": null,
            "grid_column": null,
            "overflow_y": null,
            "overflow_x": null,
            "grid_auto_flow": null,
            "grid_area": null,
            "grid_template_columns": null,
            "flex": null,
            "_model_name": "LayoutModel",
            "justify_items": null,
            "grid_row": null,
            "max_height": null,
            "align_content": null,
            "visibility": null,
            "align_self": null,
            "height": null,
            "min_height": null,
            "padding": null,
            "grid_auto_rows": null,
            "grid_gap": null,
            "max_width": null,
            "order": null,
            "_view_module_version": "1.2.0",
            "grid_template_areas": null,
            "object_position": null,
            "object_fit": null,
            "grid_auto_columns": null,
            "margin": null,
            "display": null,
            "left": null
          }
        },
        "3edbe0758aa149a0bc5fc151450db783": {
          "model_module": "@jupyter-widgets/controls",
          "model_name": "HBoxModel",
          "state": {
            "_view_name": "HBoxView",
            "_dom_classes": [],
            "_model_name": "HBoxModel",
            "_view_module": "@jupyter-widgets/controls",
            "_model_module_version": "1.5.0",
            "_view_count": null,
            "_view_module_version": "1.5.0",
            "box_style": "",
            "layout": "IPY_MODEL_2e16854b8eaa402f85f5f5b4b746e750",
            "_model_module": "@jupyter-widgets/controls",
            "children": [
              "IPY_MODEL_80ba7f2f9ea346d6843306d6dac8f53f",
              "IPY_MODEL_d4da4be6106e451a9e9105fbb9b5aa58"
            ]
          }
        },
        "2e16854b8eaa402f85f5f5b4b746e750": {
          "model_module": "@jupyter-widgets/base",
          "model_name": "LayoutModel",
          "state": {
            "_view_name": "LayoutView",
            "grid_template_rows": null,
            "right": null,
            "justify_content": null,
            "_view_module": "@jupyter-widgets/base",
            "overflow": null,
            "_model_module_version": "1.2.0",
            "_view_count": null,
            "flex_flow": null,
            "width": null,
            "min_width": null,
            "border": null,
            "align_items": null,
            "bottom": null,
            "_model_module": "@jupyter-widgets/base",
            "top": null,
            "grid_column": null,
            "overflow_y": null,
            "overflow_x": null,
            "grid_auto_flow": null,
            "grid_area": null,
            "grid_template_columns": null,
            "flex": null,
            "_model_name": "LayoutModel",
            "justify_items": null,
            "grid_row": null,
            "max_height": null,
            "align_content": null,
            "visibility": null,
            "align_self": null,
            "height": null,
            "min_height": null,
            "padding": null,
            "grid_auto_rows": null,
            "grid_gap": null,
            "max_width": null,
            "order": null,
            "_view_module_version": "1.2.0",
            "grid_template_areas": null,
            "object_position": null,
            "object_fit": null,
            "grid_auto_columns": null,
            "margin": null,
            "display": null,
            "left": null
          }
        },
        "80ba7f2f9ea346d6843306d6dac8f53f": {
          "model_module": "@jupyter-widgets/controls",
          "model_name": "FloatProgressModel",
          "state": {
            "_view_name": "ProgressView",
            "style": "IPY_MODEL_89fe895716e946d983dd15c74e67f51e",
            "_dom_classes": [],
            "description": "100%",
            "_model_name": "FloatProgressModel",
            "bar_style": "success",
            "max": 2,
            "_view_module": "@jupyter-widgets/controls",
            "_model_module_version": "1.5.0",
            "value": 2,
            "_view_count": null,
            "_view_module_version": "1.5.0",
            "orientation": "horizontal",
            "min": 0,
            "description_tooltip": null,
            "_model_module": "@jupyter-widgets/controls",
            "layout": "IPY_MODEL_3b2596c31a654f2198a172b8f80c9cba"
          }
        },
        "d4da4be6106e451a9e9105fbb9b5aa58": {
          "model_module": "@jupyter-widgets/controls",
          "model_name": "HTMLModel",
          "state": {
            "_view_name": "HTMLView",
            "style": "IPY_MODEL_4254462d352f4137a537a3b54e451a19",
            "_dom_classes": [],
            "description": "",
            "_model_name": "HTMLModel",
            "placeholder": "​",
            "_view_module": "@jupyter-widgets/controls",
            "_model_module_version": "1.5.0",
            "value": " 2/2 [00:01&lt;00:00,  1.84it/s]",
            "_view_count": null,
            "_view_module_version": "1.5.0",
            "description_tooltip": null,
            "_model_module": "@jupyter-widgets/controls",
            "layout": "IPY_MODEL_bc53959b8b4444eab7580b97bacc340b"
          }
        },
        "89fe895716e946d983dd15c74e67f51e": {
          "model_module": "@jupyter-widgets/controls",
          "model_name": "ProgressStyleModel",
          "state": {
            "_view_name": "StyleView",
            "_model_name": "ProgressStyleModel",
            "description_width": "initial",
            "_view_module": "@jupyter-widgets/base",
            "_model_module_version": "1.5.0",
            "_view_count": null,
            "_view_module_version": "1.2.0",
            "bar_color": null,
            "_model_module": "@jupyter-widgets/controls"
          }
        },
        "3b2596c31a654f2198a172b8f80c9cba": {
          "model_module": "@jupyter-widgets/base",
          "model_name": "LayoutModel",
          "state": {
            "_view_name": "LayoutView",
            "grid_template_rows": null,
            "right": null,
            "justify_content": null,
            "_view_module": "@jupyter-widgets/base",
            "overflow": null,
            "_model_module_version": "1.2.0",
            "_view_count": null,
            "flex_flow": null,
            "width": null,
            "min_width": null,
            "border": null,
            "align_items": null,
            "bottom": null,
            "_model_module": "@jupyter-widgets/base",
            "top": null,
            "grid_column": null,
            "overflow_y": null,
            "overflow_x": null,
            "grid_auto_flow": null,
            "grid_area": null,
            "grid_template_columns": null,
            "flex": null,
            "_model_name": "LayoutModel",
            "justify_items": null,
            "grid_row": null,
            "max_height": null,
            "align_content": null,
            "visibility": null,
            "align_self": null,
            "height": null,
            "min_height": null,
            "padding": null,
            "grid_auto_rows": null,
            "grid_gap": null,
            "max_width": null,
            "order": null,
            "_view_module_version": "1.2.0",
            "grid_template_areas": null,
            "object_position": null,
            "object_fit": null,
            "grid_auto_columns": null,
            "margin": null,
            "display": null,
            "left": null
          }
        },
        "4254462d352f4137a537a3b54e451a19": {
          "model_module": "@jupyter-widgets/controls",
          "model_name": "DescriptionStyleModel",
          "state": {
            "_view_name": "StyleView",
            "_model_name": "DescriptionStyleModel",
            "description_width": "",
            "_view_module": "@jupyter-widgets/base",
            "_model_module_version": "1.5.0",
            "_view_count": null,
            "_view_module_version": "1.2.0",
            "_model_module": "@jupyter-widgets/controls"
          }
        },
        "bc53959b8b4444eab7580b97bacc340b": {
          "model_module": "@jupyter-widgets/base",
          "model_name": "LayoutModel",
          "state": {
            "_view_name": "LayoutView",
            "grid_template_rows": null,
            "right": null,
            "justify_content": null,
            "_view_module": "@jupyter-widgets/base",
            "overflow": null,
            "_model_module_version": "1.2.0",
            "_view_count": null,
            "flex_flow": null,
            "width": null,
            "min_width": null,
            "border": null,
            "align_items": null,
            "bottom": null,
            "_model_module": "@jupyter-widgets/base",
            "top": null,
            "grid_column": null,
            "overflow_y": null,
            "overflow_x": null,
            "grid_auto_flow": null,
            "grid_area": null,
            "grid_template_columns": null,
            "flex": null,
            "_model_name": "LayoutModel",
            "justify_items": null,
            "grid_row": null,
            "max_height": null,
            "align_content": null,
            "visibility": null,
            "align_self": null,
            "height": null,
            "min_height": null,
            "padding": null,
            "grid_auto_rows": null,
            "grid_gap": null,
            "max_width": null,
            "order": null,
            "_view_module_version": "1.2.0",
            "grid_template_areas": null,
            "object_position": null,
            "object_fit": null,
            "grid_auto_columns": null,
            "margin": null,
            "display": null,
            "left": null
          }
        },
        "c86c62ebecff453f9e67ac856373e9a1": {
          "model_module": "@jupyter-widgets/controls",
          "model_name": "HBoxModel",
          "state": {
            "_view_name": "HBoxView",
            "_dom_classes": [],
            "_model_name": "HBoxModel",
            "_view_module": "@jupyter-widgets/controls",
            "_model_module_version": "1.5.0",
            "_view_count": null,
            "_view_module_version": "1.5.0",
            "box_style": "",
            "layout": "IPY_MODEL_4e6ada2c15e843ef8b0da338c5a1acb4",
            "_model_module": "@jupyter-widgets/controls",
            "children": [
              "IPY_MODEL_80a3ce3f3a4e45e69276a5894339a662",
              "IPY_MODEL_b0d6d125d6914545a5d5a3496f1afcb1"
            ]
          }
        },
        "4e6ada2c15e843ef8b0da338c5a1acb4": {
          "model_module": "@jupyter-widgets/base",
          "model_name": "LayoutModel",
          "state": {
            "_view_name": "LayoutView",
            "grid_template_rows": null,
            "right": null,
            "justify_content": null,
            "_view_module": "@jupyter-widgets/base",
            "overflow": null,
            "_model_module_version": "1.2.0",
            "_view_count": null,
            "flex_flow": null,
            "width": null,
            "min_width": null,
            "border": null,
            "align_items": null,
            "bottom": null,
            "_model_module": "@jupyter-widgets/base",
            "top": null,
            "grid_column": null,
            "overflow_y": null,
            "overflow_x": null,
            "grid_auto_flow": null,
            "grid_area": null,
            "grid_template_columns": null,
            "flex": null,
            "_model_name": "LayoutModel",
            "justify_items": null,
            "grid_row": null,
            "max_height": null,
            "align_content": null,
            "visibility": null,
            "align_self": null,
            "height": null,
            "min_height": null,
            "padding": null,
            "grid_auto_rows": null,
            "grid_gap": null,
            "max_width": null,
            "order": null,
            "_view_module_version": "1.2.0",
            "grid_template_areas": null,
            "object_position": null,
            "object_fit": null,
            "grid_auto_columns": null,
            "margin": null,
            "display": null,
            "left": null
          }
        },
        "80a3ce3f3a4e45e69276a5894339a662": {
          "model_module": "@jupyter-widgets/controls",
          "model_name": "FloatProgressModel",
          "state": {
            "_view_name": "ProgressView",
            "style": "IPY_MODEL_e6b875d99fcc486c9254717c4e8b6706",
            "_dom_classes": [],
            "description": "100%",
            "_model_name": "FloatProgressModel",
            "bar_style": "success",
            "max": 73555,
            "_view_module": "@jupyter-widgets/controls",
            "_model_module_version": "1.5.0",
            "value": 73555,
            "_view_count": null,
            "_view_module_version": "1.5.0",
            "orientation": "horizontal",
            "min": 0,
            "description_tooltip": null,
            "_model_module": "@jupyter-widgets/controls",
            "layout": "IPY_MODEL_3eb89fec9ba343a2b29932839a0dd1eb"
          }
        },
        "b0d6d125d6914545a5d5a3496f1afcb1": {
          "model_module": "@jupyter-widgets/controls",
          "model_name": "HTMLModel",
          "state": {
            "_view_name": "HTMLView",
            "style": "IPY_MODEL_09220a686b0c426cb1ca0d83e08f9462",
            "_dom_classes": [],
            "description": "",
            "_model_name": "HTMLModel",
            "placeholder": "​",
            "_view_module": "@jupyter-widgets/controls",
            "_model_module_version": "1.5.0",
            "value": " 73555/73555 [11:16&lt;00:00, 108.74it/s]",
            "_view_count": null,
            "_view_module_version": "1.5.0",
            "description_tooltip": null,
            "_model_module": "@jupyter-widgets/controls",
            "layout": "IPY_MODEL_5e10184a5eb148ce995464be18cc5bcc"
          }
        },
        "e6b875d99fcc486c9254717c4e8b6706": {
          "model_module": "@jupyter-widgets/controls",
          "model_name": "ProgressStyleModel",
          "state": {
            "_view_name": "StyleView",
            "_model_name": "ProgressStyleModel",
            "description_width": "initial",
            "_view_module": "@jupyter-widgets/base",
            "_model_module_version": "1.5.0",
            "_view_count": null,
            "_view_module_version": "1.2.0",
            "bar_color": null,
            "_model_module": "@jupyter-widgets/controls"
          }
        },
        "3eb89fec9ba343a2b29932839a0dd1eb": {
          "model_module": "@jupyter-widgets/base",
          "model_name": "LayoutModel",
          "state": {
            "_view_name": "LayoutView",
            "grid_template_rows": null,
            "right": null,
            "justify_content": null,
            "_view_module": "@jupyter-widgets/base",
            "overflow": null,
            "_model_module_version": "1.2.0",
            "_view_count": null,
            "flex_flow": null,
            "width": null,
            "min_width": null,
            "border": null,
            "align_items": null,
            "bottom": null,
            "_model_module": "@jupyter-widgets/base",
            "top": null,
            "grid_column": null,
            "overflow_y": null,
            "overflow_x": null,
            "grid_auto_flow": null,
            "grid_area": null,
            "grid_template_columns": null,
            "flex": null,
            "_model_name": "LayoutModel",
            "justify_items": null,
            "grid_row": null,
            "max_height": null,
            "align_content": null,
            "visibility": null,
            "align_self": null,
            "height": null,
            "min_height": null,
            "padding": null,
            "grid_auto_rows": null,
            "grid_gap": null,
            "max_width": null,
            "order": null,
            "_view_module_version": "1.2.0",
            "grid_template_areas": null,
            "object_position": null,
            "object_fit": null,
            "grid_auto_columns": null,
            "margin": null,
            "display": null,
            "left": null
          }
        },
        "09220a686b0c426cb1ca0d83e08f9462": {
          "model_module": "@jupyter-widgets/controls",
          "model_name": "DescriptionStyleModel",
          "state": {
            "_view_name": "StyleView",
            "_model_name": "DescriptionStyleModel",
            "description_width": "",
            "_view_module": "@jupyter-widgets/base",
            "_model_module_version": "1.5.0",
            "_view_count": null,
            "_view_module_version": "1.2.0",
            "_model_module": "@jupyter-widgets/controls"
          }
        },
        "5e10184a5eb148ce995464be18cc5bcc": {
          "model_module": "@jupyter-widgets/base",
          "model_name": "LayoutModel",
          "state": {
            "_view_name": "LayoutView",
            "grid_template_rows": null,
            "right": null,
            "justify_content": null,
            "_view_module": "@jupyter-widgets/base",
            "overflow": null,
            "_model_module_version": "1.2.0",
            "_view_count": null,
            "flex_flow": null,
            "width": null,
            "min_width": null,
            "border": null,
            "align_items": null,
            "bottom": null,
            "_model_module": "@jupyter-widgets/base",
            "top": null,
            "grid_column": null,
            "overflow_y": null,
            "overflow_x": null,
            "grid_auto_flow": null,
            "grid_area": null,
            "grid_template_columns": null,
            "flex": null,
            "_model_name": "LayoutModel",
            "justify_items": null,
            "grid_row": null,
            "max_height": null,
            "align_content": null,
            "visibility": null,
            "align_self": null,
            "height": null,
            "min_height": null,
            "padding": null,
            "grid_auto_rows": null,
            "grid_gap": null,
            "max_width": null,
            "order": null,
            "_view_module_version": "1.2.0",
            "grid_template_areas": null,
            "object_position": null,
            "object_fit": null,
            "grid_auto_columns": null,
            "margin": null,
            "display": null,
            "left": null
          }
        },
        "ae62d6e2109e445d88cbb5cb393c09da": {
          "model_module": "@jupyter-widgets/controls",
          "model_name": "HBoxModel",
          "state": {
            "_view_name": "HBoxView",
            "_dom_classes": [],
            "_model_name": "HBoxModel",
            "_view_module": "@jupyter-widgets/controls",
            "_model_module_version": "1.5.0",
            "_view_count": null,
            "_view_module_version": "1.5.0",
            "box_style": "",
            "layout": "IPY_MODEL_4ab1d37a92e940a6a9096beefd0bd11f",
            "_model_module": "@jupyter-widgets/controls",
            "children": [
              "IPY_MODEL_28bd9533293a4a6898e1961e583deb33",
              "IPY_MODEL_c8ed2583950540c3b20c13e4bd36c3fc"
            ]
          }
        },
        "4ab1d37a92e940a6a9096beefd0bd11f": {
          "model_module": "@jupyter-widgets/base",
          "model_name": "LayoutModel",
          "state": {
            "_view_name": "LayoutView",
            "grid_template_rows": null,
            "right": null,
            "justify_content": null,
            "_view_module": "@jupyter-widgets/base",
            "overflow": null,
            "_model_module_version": "1.2.0",
            "_view_count": null,
            "flex_flow": null,
            "width": null,
            "min_width": null,
            "border": null,
            "align_items": null,
            "bottom": null,
            "_model_module": "@jupyter-widgets/base",
            "top": null,
            "grid_column": null,
            "overflow_y": null,
            "overflow_x": null,
            "grid_auto_flow": null,
            "grid_area": null,
            "grid_template_columns": null,
            "flex": null,
            "_model_name": "LayoutModel",
            "justify_items": null,
            "grid_row": null,
            "max_height": null,
            "align_content": null,
            "visibility": null,
            "align_self": null,
            "height": null,
            "min_height": null,
            "padding": null,
            "grid_auto_rows": null,
            "grid_gap": null,
            "max_width": null,
            "order": null,
            "_view_module_version": "1.2.0",
            "grid_template_areas": null,
            "object_position": null,
            "object_fit": null,
            "grid_auto_columns": null,
            "margin": null,
            "display": null,
            "left": null
          }
        },
        "28bd9533293a4a6898e1961e583deb33": {
          "model_module": "@jupyter-widgets/controls",
          "model_name": "FloatProgressModel",
          "state": {
            "_view_name": "ProgressView",
            "style": "IPY_MODEL_878be1a4c4d945f9b5fbcef7e0a85727",
            "_dom_classes": [],
            "description": "100%",
            "_model_name": "FloatProgressModel",
            "bar_style": "success",
            "max": 74067,
            "_view_module": "@jupyter-widgets/controls",
            "_model_module_version": "1.5.0",
            "value": 74067,
            "_view_count": null,
            "_view_module_version": "1.5.0",
            "orientation": "horizontal",
            "min": 0,
            "description_tooltip": null,
            "_model_module": "@jupyter-widgets/controls",
            "layout": "IPY_MODEL_515d4eb3cfd1464f91f30153d6a0fcd3"
          }
        },
        "c8ed2583950540c3b20c13e4bd36c3fc": {
          "model_module": "@jupyter-widgets/controls",
          "model_name": "HTMLModel",
          "state": {
            "_view_name": "HTMLView",
            "style": "IPY_MODEL_f26cf1140f5e452d989a948e16b37e54",
            "_dom_classes": [],
            "description": "",
            "_model_name": "HTMLModel",
            "placeholder": "​",
            "_view_module": "@jupyter-widgets/controls",
            "_model_module_version": "1.5.0",
            "value": " 74067/74067 [14:24&lt;00:00, 85.69it/s]",
            "_view_count": null,
            "_view_module_version": "1.5.0",
            "description_tooltip": null,
            "_model_module": "@jupyter-widgets/controls",
            "layout": "IPY_MODEL_4c0d68bc3c5c46bcac3e9d51117998eb"
          }
        },
        "878be1a4c4d945f9b5fbcef7e0a85727": {
          "model_module": "@jupyter-widgets/controls",
          "model_name": "ProgressStyleModel",
          "state": {
            "_view_name": "StyleView",
            "_model_name": "ProgressStyleModel",
            "description_width": "initial",
            "_view_module": "@jupyter-widgets/base",
            "_model_module_version": "1.5.0",
            "_view_count": null,
            "_view_module_version": "1.2.0",
            "bar_color": null,
            "_model_module": "@jupyter-widgets/controls"
          }
        },
        "515d4eb3cfd1464f91f30153d6a0fcd3": {
          "model_module": "@jupyter-widgets/base",
          "model_name": "LayoutModel",
          "state": {
            "_view_name": "LayoutView",
            "grid_template_rows": null,
            "right": null,
            "justify_content": null,
            "_view_module": "@jupyter-widgets/base",
            "overflow": null,
            "_model_module_version": "1.2.0",
            "_view_count": null,
            "flex_flow": null,
            "width": null,
            "min_width": null,
            "border": null,
            "align_items": null,
            "bottom": null,
            "_model_module": "@jupyter-widgets/base",
            "top": null,
            "grid_column": null,
            "overflow_y": null,
            "overflow_x": null,
            "grid_auto_flow": null,
            "grid_area": null,
            "grid_template_columns": null,
            "flex": null,
            "_model_name": "LayoutModel",
            "justify_items": null,
            "grid_row": null,
            "max_height": null,
            "align_content": null,
            "visibility": null,
            "align_self": null,
            "height": null,
            "min_height": null,
            "padding": null,
            "grid_auto_rows": null,
            "grid_gap": null,
            "max_width": null,
            "order": null,
            "_view_module_version": "1.2.0",
            "grid_template_areas": null,
            "object_position": null,
            "object_fit": null,
            "grid_auto_columns": null,
            "margin": null,
            "display": null,
            "left": null
          }
        },
        "f26cf1140f5e452d989a948e16b37e54": {
          "model_module": "@jupyter-widgets/controls",
          "model_name": "DescriptionStyleModel",
          "state": {
            "_view_name": "StyleView",
            "_model_name": "DescriptionStyleModel",
            "description_width": "",
            "_view_module": "@jupyter-widgets/base",
            "_model_module_version": "1.5.0",
            "_view_count": null,
            "_view_module_version": "1.2.0",
            "_model_module": "@jupyter-widgets/controls"
          }
        },
        "4c0d68bc3c5c46bcac3e9d51117998eb": {
          "model_module": "@jupyter-widgets/base",
          "model_name": "LayoutModel",
          "state": {
            "_view_name": "LayoutView",
            "grid_template_rows": null,
            "right": null,
            "justify_content": null,
            "_view_module": "@jupyter-widgets/base",
            "overflow": null,
            "_model_module_version": "1.2.0",
            "_view_count": null,
            "flex_flow": null,
            "width": null,
            "min_width": null,
            "border": null,
            "align_items": null,
            "bottom": null,
            "_model_module": "@jupyter-widgets/base",
            "top": null,
            "grid_column": null,
            "overflow_y": null,
            "overflow_x": null,
            "grid_auto_flow": null,
            "grid_area": null,
            "grid_template_columns": null,
            "flex": null,
            "_model_name": "LayoutModel",
            "justify_items": null,
            "grid_row": null,
            "max_height": null,
            "align_content": null,
            "visibility": null,
            "align_self": null,
            "height": null,
            "min_height": null,
            "padding": null,
            "grid_auto_rows": null,
            "grid_gap": null,
            "max_width": null,
            "order": null,
            "_view_module_version": "1.2.0",
            "grid_template_areas": null,
            "object_position": null,
            "object_fit": null,
            "grid_auto_columns": null,
            "margin": null,
            "display": null,
            "left": null
          }
        },
        "d4728ea7c59343a6932ac486f970883d": {
          "model_module": "@jupyter-widgets/controls",
          "model_name": "HBoxModel",
          "state": {
            "_view_name": "HBoxView",
            "_dom_classes": [],
            "_model_name": "HBoxModel",
            "_view_module": "@jupyter-widgets/controls",
            "_model_module_version": "1.5.0",
            "_view_count": null,
            "_view_module_version": "1.5.0",
            "box_style": "",
            "layout": "IPY_MODEL_4f9929d6d42d497dabc51eaff91d8625",
            "_model_module": "@jupyter-widgets/controls",
            "children": [
              "IPY_MODEL_43047a63c86048c092aea4cc0e18713f",
              "IPY_MODEL_fc5fe729c6c54a88ac8304d7f02a519a"
            ]
          }
        },
        "4f9929d6d42d497dabc51eaff91d8625": {
          "model_module": "@jupyter-widgets/base",
          "model_name": "LayoutModel",
          "state": {
            "_view_name": "LayoutView",
            "grid_template_rows": null,
            "right": null,
            "justify_content": null,
            "_view_module": "@jupyter-widgets/base",
            "overflow": null,
            "_model_module_version": "1.2.0",
            "_view_count": null,
            "flex_flow": null,
            "width": null,
            "min_width": null,
            "border": null,
            "align_items": null,
            "bottom": null,
            "_model_module": "@jupyter-widgets/base",
            "top": null,
            "grid_column": null,
            "overflow_y": null,
            "overflow_x": null,
            "grid_auto_flow": null,
            "grid_area": null,
            "grid_template_columns": null,
            "flex": null,
            "_model_name": "LayoutModel",
            "justify_items": null,
            "grid_row": null,
            "max_height": null,
            "align_content": null,
            "visibility": null,
            "align_self": null,
            "height": null,
            "min_height": null,
            "padding": null,
            "grid_auto_rows": null,
            "grid_gap": null,
            "max_width": null,
            "order": null,
            "_view_module_version": "1.2.0",
            "grid_template_areas": null,
            "object_position": null,
            "object_fit": null,
            "grid_auto_columns": null,
            "margin": null,
            "display": null,
            "left": null
          }
        },
        "43047a63c86048c092aea4cc0e18713f": {
          "model_module": "@jupyter-widgets/controls",
          "model_name": "FloatProgressModel",
          "state": {
            "_view_name": "ProgressView",
            "style": "IPY_MODEL_615b8962a2e446598158b44a595c2264",
            "_dom_classes": [],
            "description": "100%",
            "_model_name": "FloatProgressModel",
            "bar_style": "success",
            "max": 885,
            "_view_module": "@jupyter-widgets/controls",
            "_model_module_version": "1.5.0",
            "value": 885,
            "_view_count": null,
            "_view_module_version": "1.5.0",
            "orientation": "horizontal",
            "min": 0,
            "description_tooltip": null,
            "_model_module": "@jupyter-widgets/controls",
            "layout": "IPY_MODEL_d159562103044ce5ab00cd2b540806b4"
          }
        },
        "fc5fe729c6c54a88ac8304d7f02a519a": {
          "model_module": "@jupyter-widgets/controls",
          "model_name": "HTMLModel",
          "state": {
            "_view_name": "HTMLView",
            "style": "IPY_MODEL_29ea6dbe05614f9da5de9e291105ab58",
            "_dom_classes": [],
            "description": "",
            "_model_name": "HTMLModel",
            "placeholder": "​",
            "_view_module": "@jupyter-widgets/controls",
            "_model_module_version": "1.5.0",
            "value": " 885/885 [07:36&lt;00:00,  1.94it/s]",
            "_view_count": null,
            "_view_module_version": "1.5.0",
            "description_tooltip": null,
            "_model_module": "@jupyter-widgets/controls",
            "layout": "IPY_MODEL_44b61e954d4b417bb21855f18116a2ce"
          }
        },
        "615b8962a2e446598158b44a595c2264": {
          "model_module": "@jupyter-widgets/controls",
          "model_name": "ProgressStyleModel",
          "state": {
            "_view_name": "StyleView",
            "_model_name": "ProgressStyleModel",
            "description_width": "initial",
            "_view_module": "@jupyter-widgets/base",
            "_model_module_version": "1.5.0",
            "_view_count": null,
            "_view_module_version": "1.2.0",
            "bar_color": null,
            "_model_module": "@jupyter-widgets/controls"
          }
        },
        "d159562103044ce5ab00cd2b540806b4": {
          "model_module": "@jupyter-widgets/base",
          "model_name": "LayoutModel",
          "state": {
            "_view_name": "LayoutView",
            "grid_template_rows": null,
            "right": null,
            "justify_content": null,
            "_view_module": "@jupyter-widgets/base",
            "overflow": null,
            "_model_module_version": "1.2.0",
            "_view_count": null,
            "flex_flow": null,
            "width": null,
            "min_width": null,
            "border": null,
            "align_items": null,
            "bottom": null,
            "_model_module": "@jupyter-widgets/base",
            "top": null,
            "grid_column": null,
            "overflow_y": null,
            "overflow_x": null,
            "grid_auto_flow": null,
            "grid_area": null,
            "grid_template_columns": null,
            "flex": null,
            "_model_name": "LayoutModel",
            "justify_items": null,
            "grid_row": null,
            "max_height": null,
            "align_content": null,
            "visibility": null,
            "align_self": null,
            "height": null,
            "min_height": null,
            "padding": null,
            "grid_auto_rows": null,
            "grid_gap": null,
            "max_width": null,
            "order": null,
            "_view_module_version": "1.2.0",
            "grid_template_areas": null,
            "object_position": null,
            "object_fit": null,
            "grid_auto_columns": null,
            "margin": null,
            "display": null,
            "left": null
          }
        },
        "29ea6dbe05614f9da5de9e291105ab58": {
          "model_module": "@jupyter-widgets/controls",
          "model_name": "DescriptionStyleModel",
          "state": {
            "_view_name": "StyleView",
            "_model_name": "DescriptionStyleModel",
            "description_width": "",
            "_view_module": "@jupyter-widgets/base",
            "_model_module_version": "1.5.0",
            "_view_count": null,
            "_view_module_version": "1.2.0",
            "_model_module": "@jupyter-widgets/controls"
          }
        },
        "44b61e954d4b417bb21855f18116a2ce": {
          "model_module": "@jupyter-widgets/base",
          "model_name": "LayoutModel",
          "state": {
            "_view_name": "LayoutView",
            "grid_template_rows": null,
            "right": null,
            "justify_content": null,
            "_view_module": "@jupyter-widgets/base",
            "overflow": null,
            "_model_module_version": "1.2.0",
            "_view_count": null,
            "flex_flow": null,
            "width": null,
            "min_width": null,
            "border": null,
            "align_items": null,
            "bottom": null,
            "_model_module": "@jupyter-widgets/base",
            "top": null,
            "grid_column": null,
            "overflow_y": null,
            "overflow_x": null,
            "grid_auto_flow": null,
            "grid_area": null,
            "grid_template_columns": null,
            "flex": null,
            "_model_name": "LayoutModel",
            "justify_items": null,
            "grid_row": null,
            "max_height": null,
            "align_content": null,
            "visibility": null,
            "align_self": null,
            "height": null,
            "min_height": null,
            "padding": null,
            "grid_auto_rows": null,
            "grid_gap": null,
            "max_width": null,
            "order": null,
            "_view_module_version": "1.2.0",
            "grid_template_areas": null,
            "object_position": null,
            "object_fit": null,
            "grid_auto_columns": null,
            "margin": null,
            "display": null,
            "left": null
          }
        },
        "cb709adb00b04997996380a8adaddea8": {
          "model_module": "@jupyter-widgets/controls",
          "model_name": "HBoxModel",
          "state": {
            "_view_name": "HBoxView",
            "_dom_classes": [],
            "_model_name": "HBoxModel",
            "_view_module": "@jupyter-widgets/controls",
            "_model_module_version": "1.5.0",
            "_view_count": null,
            "_view_module_version": "1.5.0",
            "box_style": "",
            "layout": "IPY_MODEL_ddbde80effbc4dfe8ce212c017216b6b",
            "_model_module": "@jupyter-widgets/controls",
            "children": [
              "IPY_MODEL_22ca89cc5b6944c89ba6e992a69c9544",
              "IPY_MODEL_d15131c2026649e0ac3a0451938e1769"
            ]
          }
        },
        "ddbde80effbc4dfe8ce212c017216b6b": {
          "model_module": "@jupyter-widgets/base",
          "model_name": "LayoutModel",
          "state": {
            "_view_name": "LayoutView",
            "grid_template_rows": null,
            "right": null,
            "justify_content": null,
            "_view_module": "@jupyter-widgets/base",
            "overflow": null,
            "_model_module_version": "1.2.0",
            "_view_count": null,
            "flex_flow": null,
            "width": null,
            "min_width": null,
            "border": null,
            "align_items": null,
            "bottom": null,
            "_model_module": "@jupyter-widgets/base",
            "top": null,
            "grid_column": null,
            "overflow_y": null,
            "overflow_x": null,
            "grid_auto_flow": null,
            "grid_area": null,
            "grid_template_columns": null,
            "flex": null,
            "_model_name": "LayoutModel",
            "justify_items": null,
            "grid_row": null,
            "max_height": null,
            "align_content": null,
            "visibility": null,
            "align_self": null,
            "height": null,
            "min_height": null,
            "padding": null,
            "grid_auto_rows": null,
            "grid_gap": null,
            "max_width": null,
            "order": null,
            "_view_module_version": "1.2.0",
            "grid_template_areas": null,
            "object_position": null,
            "object_fit": null,
            "grid_auto_columns": null,
            "margin": null,
            "display": null,
            "left": null
          }
        },
        "22ca89cc5b6944c89ba6e992a69c9544": {
          "model_module": "@jupyter-widgets/controls",
          "model_name": "FloatProgressModel",
          "state": {
            "_view_name": "ProgressView",
            "style": "IPY_MODEL_a0999a36b61e44fea0683dab429f4a90",
            "_dom_classes": [],
            "description": "100%",
            "_model_name": "FloatProgressModel",
            "bar_style": "success",
            "max": 464,
            "_view_module": "@jupyter-widgets/controls",
            "_model_module_version": "1.5.0",
            "value": 464,
            "_view_count": null,
            "_view_module_version": "1.5.0",
            "orientation": "horizontal",
            "min": 0,
            "description_tooltip": null,
            "_model_module": "@jupyter-widgets/controls",
            "layout": "IPY_MODEL_ce18fbf67b6547239a9e507eeaf4d94d"
          }
        },
        "d15131c2026649e0ac3a0451938e1769": {
          "model_module": "@jupyter-widgets/controls",
          "model_name": "HTMLModel",
          "state": {
            "_view_name": "HTMLView",
            "style": "IPY_MODEL_69012ea857bb4147b5e6314e4db587ec",
            "_dom_classes": [],
            "description": "",
            "_model_name": "HTMLModel",
            "placeholder": "​",
            "_view_module": "@jupyter-widgets/controls",
            "_model_module_version": "1.5.0",
            "value": " 464/464 [02:40&lt;00:00,  2.89it/s]",
            "_view_count": null,
            "_view_module_version": "1.5.0",
            "description_tooltip": null,
            "_model_module": "@jupyter-widgets/controls",
            "layout": "IPY_MODEL_513252786d4845d9b0c68b780067ce85"
          }
        },
        "a0999a36b61e44fea0683dab429f4a90": {
          "model_module": "@jupyter-widgets/controls",
          "model_name": "ProgressStyleModel",
          "state": {
            "_view_name": "StyleView",
            "_model_name": "ProgressStyleModel",
            "description_width": "initial",
            "_view_module": "@jupyter-widgets/base",
            "_model_module_version": "1.5.0",
            "_view_count": null,
            "_view_module_version": "1.2.0",
            "bar_color": null,
            "_model_module": "@jupyter-widgets/controls"
          }
        },
        "ce18fbf67b6547239a9e507eeaf4d94d": {
          "model_module": "@jupyter-widgets/base",
          "model_name": "LayoutModel",
          "state": {
            "_view_name": "LayoutView",
            "grid_template_rows": null,
            "right": null,
            "justify_content": null,
            "_view_module": "@jupyter-widgets/base",
            "overflow": null,
            "_model_module_version": "1.2.0",
            "_view_count": null,
            "flex_flow": null,
            "width": null,
            "min_width": null,
            "border": null,
            "align_items": null,
            "bottom": null,
            "_model_module": "@jupyter-widgets/base",
            "top": null,
            "grid_column": null,
            "overflow_y": null,
            "overflow_x": null,
            "grid_auto_flow": null,
            "grid_area": null,
            "grid_template_columns": null,
            "flex": null,
            "_model_name": "LayoutModel",
            "justify_items": null,
            "grid_row": null,
            "max_height": null,
            "align_content": null,
            "visibility": null,
            "align_self": null,
            "height": null,
            "min_height": null,
            "padding": null,
            "grid_auto_rows": null,
            "grid_gap": null,
            "max_width": null,
            "order": null,
            "_view_module_version": "1.2.0",
            "grid_template_areas": null,
            "object_position": null,
            "object_fit": null,
            "grid_auto_columns": null,
            "margin": null,
            "display": null,
            "left": null
          }
        },
        "69012ea857bb4147b5e6314e4db587ec": {
          "model_module": "@jupyter-widgets/controls",
          "model_name": "DescriptionStyleModel",
          "state": {
            "_view_name": "StyleView",
            "_model_name": "DescriptionStyleModel",
            "description_width": "",
            "_view_module": "@jupyter-widgets/base",
            "_model_module_version": "1.5.0",
            "_view_count": null,
            "_view_module_version": "1.2.0",
            "_model_module": "@jupyter-widgets/controls"
          }
        },
        "513252786d4845d9b0c68b780067ce85": {
          "model_module": "@jupyter-widgets/base",
          "model_name": "LayoutModel",
          "state": {
            "_view_name": "LayoutView",
            "grid_template_rows": null,
            "right": null,
            "justify_content": null,
            "_view_module": "@jupyter-widgets/base",
            "overflow": null,
            "_model_module_version": "1.2.0",
            "_view_count": null,
            "flex_flow": null,
            "width": null,
            "min_width": null,
            "border": null,
            "align_items": null,
            "bottom": null,
            "_model_module": "@jupyter-widgets/base",
            "top": null,
            "grid_column": null,
            "overflow_y": null,
            "overflow_x": null,
            "grid_auto_flow": null,
            "grid_area": null,
            "grid_template_columns": null,
            "flex": null,
            "_model_name": "LayoutModel",
            "justify_items": null,
            "grid_row": null,
            "max_height": null,
            "align_content": null,
            "visibility": null,
            "align_self": null,
            "height": null,
            "min_height": null,
            "padding": null,
            "grid_auto_rows": null,
            "grid_gap": null,
            "max_width": null,
            "order": null,
            "_view_module_version": "1.2.0",
            "grid_template_areas": null,
            "object_position": null,
            "object_fit": null,
            "grid_auto_columns": null,
            "margin": null,
            "display": null,
            "left": null
          }
        },
        "cee8b9a34a5f4ecd8181f759dabf7e39": {
          "model_module": "@jupyter-widgets/controls",
          "model_name": "HBoxModel",
          "state": {
            "_view_name": "HBoxView",
            "_dom_classes": [],
            "_model_name": "HBoxModel",
            "_view_module": "@jupyter-widgets/controls",
            "_model_module_version": "1.5.0",
            "_view_count": null,
            "_view_module_version": "1.5.0",
            "box_style": "",
            "layout": "IPY_MODEL_dd5840540ba9421494372566861959d0",
            "_model_module": "@jupyter-widgets/controls",
            "children": [
              "IPY_MODEL_88f9418b54904e9eb00961b2d711b416",
              "IPY_MODEL_5cf2632596c84d89bfa3062de69e7cca"
            ]
          }
        },
        "dd5840540ba9421494372566861959d0": {
          "model_module": "@jupyter-widgets/base",
          "model_name": "LayoutModel",
          "state": {
            "_view_name": "LayoutView",
            "grid_template_rows": null,
            "right": null,
            "justify_content": null,
            "_view_module": "@jupyter-widgets/base",
            "overflow": null,
            "_model_module_version": "1.2.0",
            "_view_count": null,
            "flex_flow": null,
            "width": null,
            "min_width": null,
            "border": null,
            "align_items": null,
            "bottom": null,
            "_model_module": "@jupyter-widgets/base",
            "top": null,
            "grid_column": null,
            "overflow_y": null,
            "overflow_x": null,
            "grid_auto_flow": null,
            "grid_area": null,
            "grid_template_columns": null,
            "flex": null,
            "_model_name": "LayoutModel",
            "justify_items": null,
            "grid_row": null,
            "max_height": null,
            "align_content": null,
            "visibility": null,
            "align_self": null,
            "height": null,
            "min_height": null,
            "padding": null,
            "grid_auto_rows": null,
            "grid_gap": null,
            "max_width": null,
            "order": null,
            "_view_module_version": "1.2.0",
            "grid_template_areas": null,
            "object_position": null,
            "object_fit": null,
            "grid_auto_columns": null,
            "margin": null,
            "display": null,
            "left": null
          }
        },
        "88f9418b54904e9eb00961b2d711b416": {
          "model_module": "@jupyter-widgets/controls",
          "model_name": "FloatProgressModel",
          "state": {
            "_view_name": "ProgressView",
            "style": "IPY_MODEL_d21af19370cf4a2f9b9ed9b9d49cccfe",
            "_dom_classes": [],
            "description": "100%",
            "_model_name": "FloatProgressModel",
            "bar_style": "success",
            "max": 528,
            "_view_module": "@jupyter-widgets/controls",
            "_model_module_version": "1.5.0",
            "value": 528,
            "_view_count": null,
            "_view_module_version": "1.5.0",
            "orientation": "horizontal",
            "min": 0,
            "description_tooltip": null,
            "_model_module": "@jupyter-widgets/controls",
            "layout": "IPY_MODEL_dbe8e7838e414589bf39be9e54252981"
          }
        },
        "5cf2632596c84d89bfa3062de69e7cca": {
          "model_module": "@jupyter-widgets/controls",
          "model_name": "HTMLModel",
          "state": {
            "_view_name": "HTMLView",
            "style": "IPY_MODEL_72f3a7ac77f64ea8a942010d709d16ad",
            "_dom_classes": [],
            "description": "",
            "_model_name": "HTMLModel",
            "placeholder": "​",
            "_view_module": "@jupyter-widgets/controls",
            "_model_module_version": "1.5.0",
            "value": " 528/528 [00:20&lt;00:00, 26.24it/s]",
            "_view_count": null,
            "_view_module_version": "1.5.0",
            "description_tooltip": null,
            "_model_module": "@jupyter-widgets/controls",
            "layout": "IPY_MODEL_b891908620d64bc7b34a5a51cb0f84bc"
          }
        },
        "d21af19370cf4a2f9b9ed9b9d49cccfe": {
          "model_module": "@jupyter-widgets/controls",
          "model_name": "ProgressStyleModel",
          "state": {
            "_view_name": "StyleView",
            "_model_name": "ProgressStyleModel",
            "description_width": "initial",
            "_view_module": "@jupyter-widgets/base",
            "_model_module_version": "1.5.0",
            "_view_count": null,
            "_view_module_version": "1.2.0",
            "bar_color": null,
            "_model_module": "@jupyter-widgets/controls"
          }
        },
        "dbe8e7838e414589bf39be9e54252981": {
          "model_module": "@jupyter-widgets/base",
          "model_name": "LayoutModel",
          "state": {
            "_view_name": "LayoutView",
            "grid_template_rows": null,
            "right": null,
            "justify_content": null,
            "_view_module": "@jupyter-widgets/base",
            "overflow": null,
            "_model_module_version": "1.2.0",
            "_view_count": null,
            "flex_flow": null,
            "width": null,
            "min_width": null,
            "border": null,
            "align_items": null,
            "bottom": null,
            "_model_module": "@jupyter-widgets/base",
            "top": null,
            "grid_column": null,
            "overflow_y": null,
            "overflow_x": null,
            "grid_auto_flow": null,
            "grid_area": null,
            "grid_template_columns": null,
            "flex": null,
            "_model_name": "LayoutModel",
            "justify_items": null,
            "grid_row": null,
            "max_height": null,
            "align_content": null,
            "visibility": null,
            "align_self": null,
            "height": null,
            "min_height": null,
            "padding": null,
            "grid_auto_rows": null,
            "grid_gap": null,
            "max_width": null,
            "order": null,
            "_view_module_version": "1.2.0",
            "grid_template_areas": null,
            "object_position": null,
            "object_fit": null,
            "grid_auto_columns": null,
            "margin": null,
            "display": null,
            "left": null
          }
        },
        "72f3a7ac77f64ea8a942010d709d16ad": {
          "model_module": "@jupyter-widgets/controls",
          "model_name": "DescriptionStyleModel",
          "state": {
            "_view_name": "StyleView",
            "_model_name": "DescriptionStyleModel",
            "description_width": "",
            "_view_module": "@jupyter-widgets/base",
            "_model_module_version": "1.5.0",
            "_view_count": null,
            "_view_module_version": "1.2.0",
            "_model_module": "@jupyter-widgets/controls"
          }
        },
        "b891908620d64bc7b34a5a51cb0f84bc": {
          "model_module": "@jupyter-widgets/base",
          "model_name": "LayoutModel",
          "state": {
            "_view_name": "LayoutView",
            "grid_template_rows": null,
            "right": null,
            "justify_content": null,
            "_view_module": "@jupyter-widgets/base",
            "overflow": null,
            "_model_module_version": "1.2.0",
            "_view_count": null,
            "flex_flow": null,
            "width": null,
            "min_width": null,
            "border": null,
            "align_items": null,
            "bottom": null,
            "_model_module": "@jupyter-widgets/base",
            "top": null,
            "grid_column": null,
            "overflow_y": null,
            "overflow_x": null,
            "grid_auto_flow": null,
            "grid_area": null,
            "grid_template_columns": null,
            "flex": null,
            "_model_name": "LayoutModel",
            "justify_items": null,
            "grid_row": null,
            "max_height": null,
            "align_content": null,
            "visibility": null,
            "align_self": null,
            "height": null,
            "min_height": null,
            "padding": null,
            "grid_auto_rows": null,
            "grid_gap": null,
            "max_width": null,
            "order": null,
            "_view_module_version": "1.2.0",
            "grid_template_areas": null,
            "object_position": null,
            "object_fit": null,
            "grid_auto_columns": null,
            "margin": null,
            "display": null,
            "left": null
          }
        },
        "23a45a6ce5e44815a24db805c02e77f4": {
          "model_module": "@jupyter-widgets/controls",
          "model_name": "HBoxModel",
          "state": {
            "_view_name": "HBoxView",
            "_dom_classes": [],
            "_model_name": "HBoxModel",
            "_view_module": "@jupyter-widgets/controls",
            "_model_module_version": "1.5.0",
            "_view_count": null,
            "_view_module_version": "1.5.0",
            "box_style": "",
            "layout": "IPY_MODEL_b1a33647ead3460c8562b9d2ddd6bf42",
            "_model_module": "@jupyter-widgets/controls",
            "children": [
              "IPY_MODEL_068a517cf5ec4bcf85aa19c01eaf2ea8",
              "IPY_MODEL_afff976bb69046639c6bc09d4e74f495"
            ]
          }
        },
        "b1a33647ead3460c8562b9d2ddd6bf42": {
          "model_module": "@jupyter-widgets/base",
          "model_name": "LayoutModel",
          "state": {
            "_view_name": "LayoutView",
            "grid_template_rows": null,
            "right": null,
            "justify_content": null,
            "_view_module": "@jupyter-widgets/base",
            "overflow": null,
            "_model_module_version": "1.2.0",
            "_view_count": null,
            "flex_flow": null,
            "width": null,
            "min_width": null,
            "border": null,
            "align_items": null,
            "bottom": null,
            "_model_module": "@jupyter-widgets/base",
            "top": null,
            "grid_column": null,
            "overflow_y": null,
            "overflow_x": null,
            "grid_auto_flow": null,
            "grid_area": null,
            "grid_template_columns": null,
            "flex": null,
            "_model_name": "LayoutModel",
            "justify_items": null,
            "grid_row": null,
            "max_height": null,
            "align_content": null,
            "visibility": null,
            "align_self": null,
            "height": null,
            "min_height": null,
            "padding": null,
            "grid_auto_rows": null,
            "grid_gap": null,
            "max_width": null,
            "order": null,
            "_view_module_version": "1.2.0",
            "grid_template_areas": null,
            "object_position": null,
            "object_fit": null,
            "grid_auto_columns": null,
            "margin": null,
            "display": null,
            "left": null
          }
        },
        "068a517cf5ec4bcf85aa19c01eaf2ea8": {
          "model_module": "@jupyter-widgets/controls",
          "model_name": "FloatProgressModel",
          "state": {
            "_view_name": "ProgressView",
            "style": "IPY_MODEL_a60ea2f8888f434392719bef4bd2e12c",
            "_dom_classes": [],
            "description": "100%",
            "_model_name": "FloatProgressModel",
            "bar_style": "success",
            "max": 969,
            "_view_module": "@jupyter-widgets/controls",
            "_model_module_version": "1.5.0",
            "value": 969,
            "_view_count": null,
            "_view_module_version": "1.5.0",
            "orientation": "horizontal",
            "min": 0,
            "description_tooltip": null,
            "_model_module": "@jupyter-widgets/controls",
            "layout": "IPY_MODEL_b5bb27864bab470b998dacc9f3e08c27"
          }
        },
        "afff976bb69046639c6bc09d4e74f495": {
          "model_module": "@jupyter-widgets/controls",
          "model_name": "HTMLModel",
          "state": {
            "_view_name": "HTMLView",
            "style": "IPY_MODEL_9fc8fe6c481646dda1aa925c481cf4e8",
            "_dom_classes": [],
            "description": "",
            "_model_name": "HTMLModel",
            "placeholder": "​",
            "_view_module": "@jupyter-widgets/controls",
            "_model_module_version": "1.5.0",
            "value": " 969/969 [00:42&lt;00:00, 22.60it/s]",
            "_view_count": null,
            "_view_module_version": "1.5.0",
            "description_tooltip": null,
            "_model_module": "@jupyter-widgets/controls",
            "layout": "IPY_MODEL_9a2960bbe64c42cfb4e934199936e19b"
          }
        },
        "a60ea2f8888f434392719bef4bd2e12c": {
          "model_module": "@jupyter-widgets/controls",
          "model_name": "ProgressStyleModel",
          "state": {
            "_view_name": "StyleView",
            "_model_name": "ProgressStyleModel",
            "description_width": "initial",
            "_view_module": "@jupyter-widgets/base",
            "_model_module_version": "1.5.0",
            "_view_count": null,
            "_view_module_version": "1.2.0",
            "bar_color": null,
            "_model_module": "@jupyter-widgets/controls"
          }
        },
        "b5bb27864bab470b998dacc9f3e08c27": {
          "model_module": "@jupyter-widgets/base",
          "model_name": "LayoutModel",
          "state": {
            "_view_name": "LayoutView",
            "grid_template_rows": null,
            "right": null,
            "justify_content": null,
            "_view_module": "@jupyter-widgets/base",
            "overflow": null,
            "_model_module_version": "1.2.0",
            "_view_count": null,
            "flex_flow": null,
            "width": null,
            "min_width": null,
            "border": null,
            "align_items": null,
            "bottom": null,
            "_model_module": "@jupyter-widgets/base",
            "top": null,
            "grid_column": null,
            "overflow_y": null,
            "overflow_x": null,
            "grid_auto_flow": null,
            "grid_area": null,
            "grid_template_columns": null,
            "flex": null,
            "_model_name": "LayoutModel",
            "justify_items": null,
            "grid_row": null,
            "max_height": null,
            "align_content": null,
            "visibility": null,
            "align_self": null,
            "height": null,
            "min_height": null,
            "padding": null,
            "grid_auto_rows": null,
            "grid_gap": null,
            "max_width": null,
            "order": null,
            "_view_module_version": "1.2.0",
            "grid_template_areas": null,
            "object_position": null,
            "object_fit": null,
            "grid_auto_columns": null,
            "margin": null,
            "display": null,
            "left": null
          }
        },
        "9fc8fe6c481646dda1aa925c481cf4e8": {
          "model_module": "@jupyter-widgets/controls",
          "model_name": "DescriptionStyleModel",
          "state": {
            "_view_name": "StyleView",
            "_model_name": "DescriptionStyleModel",
            "description_width": "",
            "_view_module": "@jupyter-widgets/base",
            "_model_module_version": "1.5.0",
            "_view_count": null,
            "_view_module_version": "1.2.0",
            "_model_module": "@jupyter-widgets/controls"
          }
        },
        "9a2960bbe64c42cfb4e934199936e19b": {
          "model_module": "@jupyter-widgets/base",
          "model_name": "LayoutModel",
          "state": {
            "_view_name": "LayoutView",
            "grid_template_rows": null,
            "right": null,
            "justify_content": null,
            "_view_module": "@jupyter-widgets/base",
            "overflow": null,
            "_model_module_version": "1.2.0",
            "_view_count": null,
            "flex_flow": null,
            "width": null,
            "min_width": null,
            "border": null,
            "align_items": null,
            "bottom": null,
            "_model_module": "@jupyter-widgets/base",
            "top": null,
            "grid_column": null,
            "overflow_y": null,
            "overflow_x": null,
            "grid_auto_flow": null,
            "grid_area": null,
            "grid_template_columns": null,
            "flex": null,
            "_model_name": "LayoutModel",
            "justify_items": null,
            "grid_row": null,
            "max_height": null,
            "align_content": null,
            "visibility": null,
            "align_self": null,
            "height": null,
            "min_height": null,
            "padding": null,
            "grid_auto_rows": null,
            "grid_gap": null,
            "max_width": null,
            "order": null,
            "_view_module_version": "1.2.0",
            "grid_template_areas": null,
            "object_position": null,
            "object_fit": null,
            "grid_auto_columns": null,
            "margin": null,
            "display": null,
            "left": null
          }
        },
        "3179f255ac8c4124beb9957880ada58a": {
          "model_module": "@jupyter-widgets/controls",
          "model_name": "HBoxModel",
          "state": {
            "_view_name": "HBoxView",
            "_dom_classes": [],
            "_model_name": "HBoxModel",
            "_view_module": "@jupyter-widgets/controls",
            "_model_module_version": "1.5.0",
            "_view_count": null,
            "_view_module_version": "1.5.0",
            "box_style": "",
            "layout": "IPY_MODEL_e4eaeb3f9958422c90dc06ff5901c953",
            "_model_module": "@jupyter-widgets/controls",
            "children": [
              "IPY_MODEL_3d9ef25a3fae4e2fbe03e42ab6ac5bf9",
              "IPY_MODEL_19ee3478f9644f86a5d445dc4495bc4c"
            ]
          }
        },
        "e4eaeb3f9958422c90dc06ff5901c953": {
          "model_module": "@jupyter-widgets/base",
          "model_name": "LayoutModel",
          "state": {
            "_view_name": "LayoutView",
            "grid_template_rows": null,
            "right": null,
            "justify_content": null,
            "_view_module": "@jupyter-widgets/base",
            "overflow": null,
            "_model_module_version": "1.2.0",
            "_view_count": null,
            "flex_flow": null,
            "width": null,
            "min_width": null,
            "border": null,
            "align_items": null,
            "bottom": null,
            "_model_module": "@jupyter-widgets/base",
            "top": null,
            "grid_column": null,
            "overflow_y": null,
            "overflow_x": null,
            "grid_auto_flow": null,
            "grid_area": null,
            "grid_template_columns": null,
            "flex": null,
            "_model_name": "LayoutModel",
            "justify_items": null,
            "grid_row": null,
            "max_height": null,
            "align_content": null,
            "visibility": null,
            "align_self": null,
            "height": null,
            "min_height": null,
            "padding": null,
            "grid_auto_rows": null,
            "grid_gap": null,
            "max_width": null,
            "order": null,
            "_view_module_version": "1.2.0",
            "grid_template_areas": null,
            "object_position": null,
            "object_fit": null,
            "grid_auto_columns": null,
            "margin": null,
            "display": null,
            "left": null
          }
        },
        "3d9ef25a3fae4e2fbe03e42ab6ac5bf9": {
          "model_module": "@jupyter-widgets/controls",
          "model_name": "FloatProgressModel",
          "state": {
            "_view_name": "ProgressView",
            "style": "IPY_MODEL_5a1e699129c8495bba817e02c34bfae0",
            "_dom_classes": [],
            "description": "100%",
            "_model_name": "FloatProgressModel",
            "bar_style": "success",
            "max": 528,
            "_view_module": "@jupyter-widgets/controls",
            "_model_module_version": "1.5.0",
            "value": 528,
            "_view_count": null,
            "_view_module_version": "1.5.0",
            "orientation": "horizontal",
            "min": 0,
            "description_tooltip": null,
            "_model_module": "@jupyter-widgets/controls",
            "layout": "IPY_MODEL_231be9b976d141e8bee1230397684dfb"
          }
        },
        "19ee3478f9644f86a5d445dc4495bc4c": {
          "model_module": "@jupyter-widgets/controls",
          "model_name": "HTMLModel",
          "state": {
            "_view_name": "HTMLView",
            "style": "IPY_MODEL_58b915e5016a45ccbd633f9f7a6a758b",
            "_dom_classes": [],
            "description": "",
            "_model_name": "HTMLModel",
            "placeholder": "​",
            "_view_module": "@jupyter-widgets/controls",
            "_model_module_version": "1.5.0",
            "value": " 528/528 [00:21&lt;00:00, 24.18it/s]",
            "_view_count": null,
            "_view_module_version": "1.5.0",
            "description_tooltip": null,
            "_model_module": "@jupyter-widgets/controls",
            "layout": "IPY_MODEL_d45a23e386b5440ba990dc457948e086"
          }
        },
        "5a1e699129c8495bba817e02c34bfae0": {
          "model_module": "@jupyter-widgets/controls",
          "model_name": "ProgressStyleModel",
          "state": {
            "_view_name": "StyleView",
            "_model_name": "ProgressStyleModel",
            "description_width": "initial",
            "_view_module": "@jupyter-widgets/base",
            "_model_module_version": "1.5.0",
            "_view_count": null,
            "_view_module_version": "1.2.0",
            "bar_color": null,
            "_model_module": "@jupyter-widgets/controls"
          }
        },
        "231be9b976d141e8bee1230397684dfb": {
          "model_module": "@jupyter-widgets/base",
          "model_name": "LayoutModel",
          "state": {
            "_view_name": "LayoutView",
            "grid_template_rows": null,
            "right": null,
            "justify_content": null,
            "_view_module": "@jupyter-widgets/base",
            "overflow": null,
            "_model_module_version": "1.2.0",
            "_view_count": null,
            "flex_flow": null,
            "width": null,
            "min_width": null,
            "border": null,
            "align_items": null,
            "bottom": null,
            "_model_module": "@jupyter-widgets/base",
            "top": null,
            "grid_column": null,
            "overflow_y": null,
            "overflow_x": null,
            "grid_auto_flow": null,
            "grid_area": null,
            "grid_template_columns": null,
            "flex": null,
            "_model_name": "LayoutModel",
            "justify_items": null,
            "grid_row": null,
            "max_height": null,
            "align_content": null,
            "visibility": null,
            "align_self": null,
            "height": null,
            "min_height": null,
            "padding": null,
            "grid_auto_rows": null,
            "grid_gap": null,
            "max_width": null,
            "order": null,
            "_view_module_version": "1.2.0",
            "grid_template_areas": null,
            "object_position": null,
            "object_fit": null,
            "grid_auto_columns": null,
            "margin": null,
            "display": null,
            "left": null
          }
        },
        "58b915e5016a45ccbd633f9f7a6a758b": {
          "model_module": "@jupyter-widgets/controls",
          "model_name": "DescriptionStyleModel",
          "state": {
            "_view_name": "StyleView",
            "_model_name": "DescriptionStyleModel",
            "description_width": "",
            "_view_module": "@jupyter-widgets/base",
            "_model_module_version": "1.5.0",
            "_view_count": null,
            "_view_module_version": "1.2.0",
            "_model_module": "@jupyter-widgets/controls"
          }
        },
        "d45a23e386b5440ba990dc457948e086": {
          "model_module": "@jupyter-widgets/base",
          "model_name": "LayoutModel",
          "state": {
            "_view_name": "LayoutView",
            "grid_template_rows": null,
            "right": null,
            "justify_content": null,
            "_view_module": "@jupyter-widgets/base",
            "overflow": null,
            "_model_module_version": "1.2.0",
            "_view_count": null,
            "flex_flow": null,
            "width": null,
            "min_width": null,
            "border": null,
            "align_items": null,
            "bottom": null,
            "_model_module": "@jupyter-widgets/base",
            "top": null,
            "grid_column": null,
            "overflow_y": null,
            "overflow_x": null,
            "grid_auto_flow": null,
            "grid_area": null,
            "grid_template_columns": null,
            "flex": null,
            "_model_name": "LayoutModel",
            "justify_items": null,
            "grid_row": null,
            "max_height": null,
            "align_content": null,
            "visibility": null,
            "align_self": null,
            "height": null,
            "min_height": null,
            "padding": null,
            "grid_auto_rows": null,
            "grid_gap": null,
            "max_width": null,
            "order": null,
            "_view_module_version": "1.2.0",
            "grid_template_areas": null,
            "object_position": null,
            "object_fit": null,
            "grid_auto_columns": null,
            "margin": null,
            "display": null,
            "left": null
          }
        },
        "2be2f04290594584ba618a7f1be51bcd": {
          "model_module": "@jupyter-widgets/controls",
          "model_name": "HBoxModel",
          "state": {
            "_view_name": "HBoxView",
            "_dom_classes": [],
            "_model_name": "HBoxModel",
            "_view_module": "@jupyter-widgets/controls",
            "_model_module_version": "1.5.0",
            "_view_count": null,
            "_view_module_version": "1.5.0",
            "box_style": "",
            "layout": "IPY_MODEL_960c2f234ab8411d96c710d869d2dc73",
            "_model_module": "@jupyter-widgets/controls",
            "children": [
              "IPY_MODEL_567aecb0a1cd49429fb9dd3ffac7e431",
              "IPY_MODEL_0374702e93544b109c3920a1695551da"
            ]
          }
        },
        "960c2f234ab8411d96c710d869d2dc73": {
          "model_module": "@jupyter-widgets/base",
          "model_name": "LayoutModel",
          "state": {
            "_view_name": "LayoutView",
            "grid_template_rows": null,
            "right": null,
            "justify_content": null,
            "_view_module": "@jupyter-widgets/base",
            "overflow": null,
            "_model_module_version": "1.2.0",
            "_view_count": null,
            "flex_flow": null,
            "width": null,
            "min_width": null,
            "border": null,
            "align_items": null,
            "bottom": null,
            "_model_module": "@jupyter-widgets/base",
            "top": null,
            "grid_column": null,
            "overflow_y": null,
            "overflow_x": null,
            "grid_auto_flow": null,
            "grid_area": null,
            "grid_template_columns": null,
            "flex": null,
            "_model_name": "LayoutModel",
            "justify_items": null,
            "grid_row": null,
            "max_height": null,
            "align_content": null,
            "visibility": null,
            "align_self": null,
            "height": null,
            "min_height": null,
            "padding": null,
            "grid_auto_rows": null,
            "grid_gap": null,
            "max_width": null,
            "order": null,
            "_view_module_version": "1.2.0",
            "grid_template_areas": null,
            "object_position": null,
            "object_fit": null,
            "grid_auto_columns": null,
            "margin": null,
            "display": null,
            "left": null
          }
        },
        "567aecb0a1cd49429fb9dd3ffac7e431": {
          "model_module": "@jupyter-widgets/controls",
          "model_name": "FloatProgressModel",
          "state": {
            "_view_name": "ProgressView",
            "style": "IPY_MODEL_9de924fde9bb4c5882e102a1caf4b60e",
            "_dom_classes": [],
            "description": "100%",
            "_model_name": "FloatProgressModel",
            "bar_style": "success",
            "max": 969,
            "_view_module": "@jupyter-widgets/controls",
            "_model_module_version": "1.5.0",
            "value": 969,
            "_view_count": null,
            "_view_module_version": "1.5.0",
            "orientation": "horizontal",
            "min": 0,
            "description_tooltip": null,
            "_model_module": "@jupyter-widgets/controls",
            "layout": "IPY_MODEL_1d6d6eed778e48919b250820e44c5489"
          }
        },
        "0374702e93544b109c3920a1695551da": {
          "model_module": "@jupyter-widgets/controls",
          "model_name": "HTMLModel",
          "state": {
            "_view_name": "HTMLView",
            "style": "IPY_MODEL_3de8c5c50f13457f91f37816be133357",
            "_dom_classes": [],
            "description": "",
            "_model_name": "HTMLModel",
            "placeholder": "​",
            "_view_module": "@jupyter-widgets/controls",
            "_model_module_version": "1.5.0",
            "value": " 969/969 [00:25&lt;00:00, 37.76it/s]",
            "_view_count": null,
            "_view_module_version": "1.5.0",
            "description_tooltip": null,
            "_model_module": "@jupyter-widgets/controls",
            "layout": "IPY_MODEL_111755e9bd32482aa7d5d1519286897e"
          }
        },
        "9de924fde9bb4c5882e102a1caf4b60e": {
          "model_module": "@jupyter-widgets/controls",
          "model_name": "ProgressStyleModel",
          "state": {
            "_view_name": "StyleView",
            "_model_name": "ProgressStyleModel",
            "description_width": "initial",
            "_view_module": "@jupyter-widgets/base",
            "_model_module_version": "1.5.0",
            "_view_count": null,
            "_view_module_version": "1.2.0",
            "bar_color": null,
            "_model_module": "@jupyter-widgets/controls"
          }
        },
        "1d6d6eed778e48919b250820e44c5489": {
          "model_module": "@jupyter-widgets/base",
          "model_name": "LayoutModel",
          "state": {
            "_view_name": "LayoutView",
            "grid_template_rows": null,
            "right": null,
            "justify_content": null,
            "_view_module": "@jupyter-widgets/base",
            "overflow": null,
            "_model_module_version": "1.2.0",
            "_view_count": null,
            "flex_flow": null,
            "width": null,
            "min_width": null,
            "border": null,
            "align_items": null,
            "bottom": null,
            "_model_module": "@jupyter-widgets/base",
            "top": null,
            "grid_column": null,
            "overflow_y": null,
            "overflow_x": null,
            "grid_auto_flow": null,
            "grid_area": null,
            "grid_template_columns": null,
            "flex": null,
            "_model_name": "LayoutModel",
            "justify_items": null,
            "grid_row": null,
            "max_height": null,
            "align_content": null,
            "visibility": null,
            "align_self": null,
            "height": null,
            "min_height": null,
            "padding": null,
            "grid_auto_rows": null,
            "grid_gap": null,
            "max_width": null,
            "order": null,
            "_view_module_version": "1.2.0",
            "grid_template_areas": null,
            "object_position": null,
            "object_fit": null,
            "grid_auto_columns": null,
            "margin": null,
            "display": null,
            "left": null
          }
        },
        "3de8c5c50f13457f91f37816be133357": {
          "model_module": "@jupyter-widgets/controls",
          "model_name": "DescriptionStyleModel",
          "state": {
            "_view_name": "StyleView",
            "_model_name": "DescriptionStyleModel",
            "description_width": "",
            "_view_module": "@jupyter-widgets/base",
            "_model_module_version": "1.5.0",
            "_view_count": null,
            "_view_module_version": "1.2.0",
            "_model_module": "@jupyter-widgets/controls"
          }
        },
        "111755e9bd32482aa7d5d1519286897e": {
          "model_module": "@jupyter-widgets/base",
          "model_name": "LayoutModel",
          "state": {
            "_view_name": "LayoutView",
            "grid_template_rows": null,
            "right": null,
            "justify_content": null,
            "_view_module": "@jupyter-widgets/base",
            "overflow": null,
            "_model_module_version": "1.2.0",
            "_view_count": null,
            "flex_flow": null,
            "width": null,
            "min_width": null,
            "border": null,
            "align_items": null,
            "bottom": null,
            "_model_module": "@jupyter-widgets/base",
            "top": null,
            "grid_column": null,
            "overflow_y": null,
            "overflow_x": null,
            "grid_auto_flow": null,
            "grid_area": null,
            "grid_template_columns": null,
            "flex": null,
            "_model_name": "LayoutModel",
            "justify_items": null,
            "grid_row": null,
            "max_height": null,
            "align_content": null,
            "visibility": null,
            "align_self": null,
            "height": null,
            "min_height": null,
            "padding": null,
            "grid_auto_rows": null,
            "grid_gap": null,
            "max_width": null,
            "order": null,
            "_view_module_version": "1.2.0",
            "grid_template_areas": null,
            "object_position": null,
            "object_fit": null,
            "grid_auto_columns": null,
            "margin": null,
            "display": null,
            "left": null
          }
        }
      }
    }
  },
  "cells": [
    {
      "cell_type": "markdown",
      "metadata": {
        "id": "3WpFDGFPceyX"
      },
      "source": [
        "Current notebook adapted from the notebook https://github.com/sequenceanalysis/sequenceanalysis.github.io/blob/master/notebooks/part2.ipynb"
      ]
    },
    {
      "cell_type": "markdown",
      "metadata": {
        "id": "y3Z8wKOXceyc"
      },
      "source": [
        "# Preliminaries"
      ]
    },
    {
      "cell_type": "code",
      "metadata": {
        "id": "bg85jCsGceyd"
      },
      "source": [
        "import copy\n",
        "import itertools\n",
        "from collections import defaultdict\n",
        "from operator import itemgetter"
      ],
      "execution_count": 93,
      "outputs": []
    },
    {
      "cell_type": "code",
      "metadata": {
        "id": "V1h1ve4P8F2c"
      },
      "source": [
        "from tqdm.notebook import tqdm #loading-bar library"
      ],
      "execution_count": 94,
      "outputs": []
    },
    {
      "cell_type": "markdown",
      "metadata": {
        "id": "ggt5IZxNceyd"
      },
      "source": [
        "#### Our dataset format\n",
        "An event is a list of strings.\n",
        "\n",
        "A sequence is a list of events.\n",
        "\n",
        "A dataset is a list of sequences.\n",
        "\n",
        "Thus, a dataset is a list of lists of lists of strings."
      ]
    },
    {
      "cell_type": "code",
      "metadata": {
        "id": "IrtT3j4Aceyd"
      },
      "source": [
        "dataset =  [\n",
        "    [[\"a\"], [\"a\", \"b\", \"c\"], [\"a\", \"c\"], [\"c\"]],\n",
        "    [[\"a\"], [\"c\"], [\"b\", \"c\"]],\n",
        "    [[\"a\", \"b\"], [\"d\"], [\"c\"], [\"b\"], [\"c\"]],\n",
        "    [[\"a\"], [\"c\"], [\"b\"], [\"c\"]]\n",
        "]"
      ],
      "execution_count": 95,
      "outputs": []
    },
    {
      "cell_type": "markdown",
      "metadata": {
        "id": "bMahgbfnceye"
      },
      "source": [
        "# Foundations\n",
        "### Subsequences"
      ]
    },
    {
      "cell_type": "code",
      "metadata": {
        "id": "XOTFsTS5ceye"
      },
      "source": [
        "\"\"\"\n",
        "This is a simple recursive method that checks if subSequence is a subsequence of mainSequence\n",
        "\"\"\"\n",
        "def isSubsequence(mainSequence, subSequence):\n",
        "    subSequenceClone = list(subSequence) # clone the sequence, because we will alter it\n",
        "    return isSubsequenceRecursive(mainSequence, subSequenceClone) #start recursion\n",
        "\n",
        "\"\"\"\n",
        "Function for the recursive call of isSubsequence, not intended for external calls\n",
        "\"\"\"\n",
        "def isSubsequenceRecursive(mainSequence, subSequenceClone, start=0):\n",
        "    # Check if empty: End of recursion, all itemsets have been found\n",
        "    if (not subSequenceClone):\n",
        "        return True\n",
        "    # retrieves element of the subsequence and removes is from subsequence \n",
        "    firstElem = set(subSequenceClone.pop(0))\n",
        "    # Search for the first itemset...\n",
        "    for i in range(start, len(mainSequence)):\n",
        "        if (set(mainSequence[i]).issuperset(firstElem)):\n",
        "            # and recurse\n",
        "            return isSubsequenceRecursive(mainSequence, subSequenceClone, i + 1)\n",
        "    return False"
      ],
      "execution_count": 96,
      "outputs": []
    },
    {
      "cell_type": "code",
      "metadata": {
        "id": "7mlrpuMoceye"
      },
      "source": [
        "aSequence = [[\"a\"], [\"b\", \"c\"], [\"d\"], [\"a\", \"e\"]]"
      ],
      "execution_count": 97,
      "outputs": []
    },
    {
      "cell_type": "code",
      "metadata": {
        "colab": {
          "base_uri": "https://localhost:8080/"
        },
        "id": "zKt98fo4ceye",
        "outputId": "31fb1dc8-cab4-4f70-e9f5-5584d40bc02d"
      },
      "source": [
        "isSubsequence(aSequence, [[\"a\"], [\"d\"], [\"e\"]])"
      ],
      "execution_count": 98,
      "outputs": [
        {
          "output_type": "execute_result",
          "data": {
            "text/plain": [
              "True"
            ]
          },
          "metadata": {
            "tags": []
          },
          "execution_count": 98
        }
      ]
    },
    {
      "cell_type": "code",
      "metadata": {
        "colab": {
          "base_uri": "https://localhost:8080/"
        },
        "id": "Ak6_4k19ceyf",
        "outputId": "78b5e646-6924-433f-b9ea-537f68d4dd99"
      },
      "source": [
        "isSubsequence(aSequence, [[\"a\"], [\"b\", \"c\"], [\"e\"]])"
      ],
      "execution_count": 99,
      "outputs": [
        {
          "output_type": "execute_result",
          "data": {
            "text/plain": [
              "True"
            ]
          },
          "metadata": {
            "tags": []
          },
          "execution_count": 99
        }
      ]
    },
    {
      "cell_type": "code",
      "metadata": {
        "colab": {
          "base_uri": "https://localhost:8080/"
        },
        "id": "mVp5YnOoceyg",
        "outputId": "4fedc222-5b87-40e7-8e6e-04f587cb7d06"
      },
      "source": [
        "isSubsequence(aSequence, [[\"a\"], [\"b\", \"d\"]])"
      ],
      "execution_count": 100,
      "outputs": [
        {
          "output_type": "execute_result",
          "data": {
            "text/plain": [
              "False"
            ]
          },
          "metadata": {
            "tags": []
          },
          "execution_count": 100
        }
      ]
    },
    {
      "cell_type": "markdown",
      "metadata": {
        "id": "ey6xYgWXceyg"
      },
      "source": [
        "### Length of an itemset"
      ]
    },
    {
      "cell_type": "code",
      "metadata": {
        "id": "OEy1WU0Jceyg"
      },
      "source": [
        "\"\"\"\n",
        "Computes the length of the sequence (sum of the length of the contained itemsets)\n",
        "\"\"\"\n",
        "def sequenceLength(sequence):\n",
        "    return sum(len(i) for i in sequence)"
      ],
      "execution_count": 101,
      "outputs": []
    },
    {
      "cell_type": "code",
      "metadata": {
        "colab": {
          "base_uri": "https://localhost:8080/"
        },
        "id": "gbfWDGnIceyg",
        "outputId": "1b018006-0dc8-469e-954e-f6cb6003011c"
      },
      "source": [
        "print(sequenceLength([[\"a\"], [\"b\", \"c\"], [\"a\"], [\"b\",\"c\",\"d\"]]))"
      ],
      "execution_count": 102,
      "outputs": [
        {
          "output_type": "stream",
          "text": [
            "7\n"
          ],
          "name": "stdout"
        }
      ]
    },
    {
      "cell_type": "markdown",
      "metadata": {
        "id": "TddGcyGqceyh"
      },
      "source": [
        "### Support of a sequence"
      ]
    },
    {
      "cell_type": "code",
      "metadata": {
        "id": "WbjLKonVceyh"
      },
      "source": [
        "\"\"\"\n",
        "Computes the support of a sequence in a dataset\n",
        "\"\"\"\n",
        "def countSupport (dataset, candidateSequence):\n",
        "    return sum(1 for seq in dataset if isSubsequence(seq, candidateSequence)) "
      ],
      "execution_count": 103,
      "outputs": []
    },
    {
      "cell_type": "code",
      "metadata": {
        "colab": {
          "base_uri": "https://localhost:8080/"
        },
        "id": "CXvVTIjRceyh",
        "outputId": "a3262c48-2570-4835-97cf-3d29392c9c77"
      },
      "source": [
        "dataset"
      ],
      "execution_count": 104,
      "outputs": [
        {
          "output_type": "execute_result",
          "data": {
            "text/plain": [
              "[[['a'], ['a', 'b', 'c'], ['a', 'c'], ['c']],\n",
              " [['a'], ['c'], ['b', 'c']],\n",
              " [['a', 'b'], ['d'], ['c'], ['b'], ['c']],\n",
              " [['a'], ['c'], ['b'], ['c']]]"
            ]
          },
          "metadata": {
            "tags": []
          },
          "execution_count": 104
        }
      ]
    },
    {
      "cell_type": "code",
      "metadata": {
        "colab": {
          "base_uri": "https://localhost:8080/"
        },
        "id": "awqyOGR4ceyh",
        "outputId": "6fa23126-cf9d-4180-e1a4-65014f78348e"
      },
      "source": [
        "countSupport(dataset, [[\"b\"]])"
      ],
      "execution_count": 105,
      "outputs": [
        {
          "output_type": "execute_result",
          "data": {
            "text/plain": [
              "4"
            ]
          },
          "metadata": {
            "tags": []
          },
          "execution_count": 105
        }
      ]
    },
    {
      "cell_type": "code",
      "metadata": {
        "colab": {
          "base_uri": "https://localhost:8080/"
        },
        "id": "Q4-M_fUzceyi",
        "outputId": "8189ef0b-6b51-4f10-d267-3668249e9cbf"
      },
      "source": [
        "countSupport(dataset, [[\"a\"], [\"b\", \"c\"]])"
      ],
      "execution_count": 106,
      "outputs": [
        {
          "output_type": "execute_result",
          "data": {
            "text/plain": [
              "2"
            ]
          },
          "metadata": {
            "tags": []
          },
          "execution_count": 106
        }
      ]
    },
    {
      "cell_type": "markdown",
      "metadata": {
        "collapsed": true,
        "id": "T4Y6JW6Yceyi"
      },
      "source": [
        "# AprioriAll\n",
        "### 1 . Candidate Generation\n",
        "#### For a single pair:"
      ]
    },
    {
      "cell_type": "code",
      "metadata": {
        "id": "be4L6_6Gceyi"
      },
      "source": [
        "\"\"\"\n",
        "Generates one candidate of length k from two candidates of length (k-1) as used in the AprioriAll algorithm\n",
        "\"\"\"\n",
        "def generateCandidatesForPair(cand1, cand2):\n",
        "    cand1Clone = copy.deepcopy(cand1)\n",
        "    cand2Clone = copy.deepcopy(cand2)\n",
        "    # drop the leftmost item from cand1:\n",
        "    if (len (cand1[0]) == 1):\n",
        "        cand1Clone.pop(0)\n",
        "    else:\n",
        "        cand1Clone[0] = cand1Clone[0][1:]\n",
        "    # drop the rightmost item from cand2:\n",
        "    if (len (cand2[-1]) == 1):\n",
        "        cand2Clone.pop(-1)\n",
        "    else:\n",
        "        cand2Clone[-1] = cand2Clone[-1][:-1]\n",
        "    \n",
        "    # if the result is not the same, then we dont need to join\n",
        "    if not cand1Clone == cand2Clone:\n",
        "        return []\n",
        "    else:\n",
        "        newCandidate = copy.deepcopy(cand1)\n",
        "        if (len (cand2[-1]) == 1):\n",
        "            newCandidate.append(cand2[-1])\n",
        "        else:\n",
        "            newCandidate [-1].extend(cand2[-1][-1])\n",
        "        return newCandidate"
      ],
      "execution_count": 107,
      "outputs": []
    },
    {
      "cell_type": "code",
      "metadata": {
        "colab": {
          "base_uri": "https://localhost:8080/"
        },
        "id": "TfJ_bKBzceyi",
        "outputId": "5c28436c-6091-4794-f7c1-cbd5e92271e8"
      },
      "source": [
        "candidateA = [[\"a\"], [\"b\", \"c\"], [\"d\"]]\n",
        "candidateB = [[\"b\", \"c\"], [\"d\", \"e\"]]\n",
        "generateCandidatesForPair(candidateA, candidateB)"
      ],
      "execution_count": 108,
      "outputs": [
        {
          "output_type": "execute_result",
          "data": {
            "text/plain": [
              "[['a'], ['b', 'c'], ['d', 'e']]"
            ]
          },
          "metadata": {
            "tags": []
          },
          "execution_count": 108
        }
      ]
    },
    {
      "cell_type": "code",
      "metadata": {
        "colab": {
          "base_uri": "https://localhost:8080/"
        },
        "id": "0b7_B2vJceyj",
        "outputId": "baf5c882-ec9f-4aa4-a4a1-acc73a5a88aa"
      },
      "source": [
        "candidateA = [[\"a\"], [\"b\", \"c\"], [\"d\"]]\n",
        "candidateC = [[\"b\", \"c\"], [\"d\"], [\"e\"]]\n",
        "generateCandidatesForPair(candidateA, candidateC)"
      ],
      "execution_count": 109,
      "outputs": [
        {
          "output_type": "execute_result",
          "data": {
            "text/plain": [
              "[['a'], ['b', 'c'], ['d'], ['e']]"
            ]
          },
          "metadata": {
            "tags": []
          },
          "execution_count": 109
        }
      ]
    },
    {
      "cell_type": "code",
      "metadata": {
        "colab": {
          "base_uri": "https://localhost:8080/"
        },
        "id": "A45D2DxSceyj",
        "outputId": "387c16e7-f8c1-43ca-f4ac-bb816e6b531b"
      },
      "source": [
        "candidateA = [[\"a\"], [\"b\", \"c\"], [\"d\"]]\n",
        "candidateD = [[\"a\"], [\"b\", \"c\"], [\"e\"]]\n",
        "generateCandidatesForPair(candidateA, candidateD)"
      ],
      "execution_count": 110,
      "outputs": [
        {
          "output_type": "execute_result",
          "data": {
            "text/plain": [
              "[]"
            ]
          },
          "metadata": {
            "tags": []
          },
          "execution_count": 110
        }
      ]
    },
    {
      "cell_type": "markdown",
      "metadata": {
        "id": "VkdP4bzZceyj"
      },
      "source": [
        "#### For a set of candidates (of the last level):"
      ]
    },
    {
      "cell_type": "code",
      "metadata": {
        "id": "X3TLur8cceyj"
      },
      "source": [
        "\"\"\"\n",
        "Generates the set of candidates of length k from the set of frequent sequences with length (k-1)\n",
        "\"\"\"\n",
        "def generateCandidates(lastLevelCandidates):\n",
        "    k = sequenceLength(lastLevelCandidates[0]) + 1\n",
        "    if (k == 2):\n",
        "        flatShortCandidates = [item for sublist2 in lastLevelCandidates for sublist1 in sublist2 for item in sublist1]\n",
        "        result = [[[a, b]] for a in flatShortCandidates for b in flatShortCandidates if b > a]\n",
        "        result.extend([[[a], [b]] for a in flatShortCandidates for b in flatShortCandidates])\n",
        "        return result\n",
        "    else:\n",
        "        candidates = []\n",
        "        for i in range(0, len(lastLevelCandidates)):\n",
        "            for j in range(0, len(lastLevelCandidates)):\n",
        "                newCand = generateCandidatesForPair(lastLevelCandidates[i], lastLevelCandidates[j])\n",
        "                if (not newCand == []):\n",
        "                    candidates.append(newCand)\n",
        "        candidates.sort()\n",
        "        return candidates"
      ],
      "execution_count": 111,
      "outputs": []
    },
    {
      "cell_type": "markdown",
      "metadata": {
        "id": "xdIlBruUceyk"
      },
      "source": [
        "An example; Lets assume, we know the frequent sequences of level 2:"
      ]
    },
    {
      "cell_type": "code",
      "metadata": {
        "id": "oeUJkqbiceyk"
      },
      "source": [
        "lastLevelFrequentPatterns = [\n",
        "    [['a', 'b']], \n",
        "    [['b', 'c']], \n",
        "    [['a'], ['b']], \n",
        "    [['a'], ['c']], \n",
        "    [['b'], ['c']],\n",
        "    [['c'], ['b']], \n",
        "    [['c'], ['c']],  \n",
        "]"
      ],
      "execution_count": 112,
      "outputs": []
    },
    {
      "cell_type": "markdown",
      "metadata": {
        "id": "hJYvtTOvceyk"
      },
      "source": [
        "Then we can compute the generate candidates for level 3"
      ]
    },
    {
      "cell_type": "code",
      "metadata": {
        "colab": {
          "base_uri": "https://localhost:8080/"
        },
        "id": "V1YBRPC1ceyk",
        "outputId": "cb507ba3-b732-4e3e-d14e-a472fc18a656"
      },
      "source": [
        "newCandidates = generateCandidates(lastLevelFrequentPatterns)\n",
        "newCandidates"
      ],
      "execution_count": 113,
      "outputs": [
        {
          "output_type": "execute_result",
          "data": {
            "text/plain": [
              "[[['a'], ['b'], ['c']],\n",
              " [['a'], ['b', 'c']],\n",
              " [['a'], ['c'], ['b']],\n",
              " [['a'], ['c'], ['c']],\n",
              " [['a', 'b'], ['c']],\n",
              " [['a', 'b', 'c']],\n",
              " [['b'], ['c'], ['b']],\n",
              " [['b'], ['c'], ['c']],\n",
              " [['b', 'c'], ['b']],\n",
              " [['b', 'c'], ['c']],\n",
              " [['c'], ['b'], ['c']],\n",
              " [['c'], ['b', 'c']],\n",
              " [['c'], ['c'], ['b']],\n",
              " [['c'], ['c'], ['c']]]"
            ]
          },
          "metadata": {
            "tags": []
          },
          "execution_count": 113
        }
      ]
    },
    {
      "cell_type": "markdown",
      "metadata": {
        "id": "ljBdLFy_ceyk"
      },
      "source": [
        "### 2 . Candidate Checking"
      ]
    },
    {
      "cell_type": "code",
      "metadata": {
        "id": "_Hy5PwENceyk"
      },
      "source": [
        "\"\"\"\n",
        "Computes all direct subsequence for a given sequence.\n",
        "A direct subsequence is any sequence that originates from deleting exactly one item from any event in the original sequence.\n",
        "\"\"\"\n",
        "def generateDirectSubsequences(sequence):\n",
        "    result = []\n",
        "    for i, itemset in enumerate(sequence):\n",
        "        if (len(itemset) == 1):\n",
        "            sequenceClone = copy.deepcopy(sequence)\n",
        "            sequenceClone.pop(i)\n",
        "            result.append(sequenceClone)\n",
        "        else:\n",
        "            for j in range(len(itemset)):\n",
        "                sequenceClone = copy.deepcopy(sequence)\n",
        "                sequenceClone[i].pop(j)\n",
        "                result.append(sequenceClone)\n",
        "    return result"
      ],
      "execution_count": 114,
      "outputs": []
    },
    {
      "cell_type": "code",
      "metadata": {
        "id": "Y2taYwf2ceyl"
      },
      "source": [
        "\"\"\"\n",
        "Prunes the set of candidates generated for length k given all frequent sequence of level (k-1), as done in AprioriAll\n",
        "\"\"\"\n",
        "def pruneCandidates(candidatesLastLevel, candidatesGenerated):\n",
        "    return [cand for cand in candidatesGenerated if all(x in candidatesLastLevel for x in generateDirectSubsequences(cand))]"
      ],
      "execution_count": 115,
      "outputs": []
    },
    {
      "cell_type": "markdown",
      "metadata": {
        "id": "_8fW_bzXceyl"
      },
      "source": [
        "We apply this on example dataset"
      ]
    },
    {
      "cell_type": "code",
      "metadata": {
        "colab": {
          "base_uri": "https://localhost:8080/"
        },
        "id": "MJ5Iz85xceyl",
        "outputId": "c3b9e65b-e376-488b-88e0-52481b5f546e"
      },
      "source": [
        "candidatesPruned = pruneCandidates(lastLevelFrequentPatterns, newCandidates)\n",
        "candidatesPruned"
      ],
      "execution_count": 116,
      "outputs": [
        {
          "output_type": "execute_result",
          "data": {
            "text/plain": [
              "[[['a'], ['b'], ['c']],\n",
              " [['a'], ['b', 'c']],\n",
              " [['a'], ['c'], ['b']],\n",
              " [['a'], ['c'], ['c']],\n",
              " [['a', 'b'], ['c']],\n",
              " [['b'], ['c'], ['c']],\n",
              " [['b', 'c'], ['c']],\n",
              " [['c'], ['b'], ['c']],\n",
              " [['c'], ['b', 'c']],\n",
              " [['c'], ['c'], ['b']],\n",
              " [['c'], ['c'], ['c']]]"
            ]
          },
          "metadata": {
            "tags": []
          },
          "execution_count": 116
        }
      ]
    },
    {
      "cell_type": "markdown",
      "metadata": {
        "id": "qFboxY1Uceyl"
      },
      "source": [
        "### 3. Count Candidates (and filter not frequent ones):"
      ]
    },
    {
      "cell_type": "code",
      "metadata": {
        "colab": {
          "base_uri": "https://localhost:8080/"
        },
        "id": "a_58QMQtceyl",
        "outputId": "e785514b-d754-4ecd-c7e8-2b6cdf061717"
      },
      "source": [
        "minSupport = 2\n",
        "candidatesCounts = [(i, countSupport(dataset, i)) for i in candidatesPruned]\n",
        "resultLvl = [(i, count) for (i, count) in candidatesCounts if (count >= minSupport)]\n",
        "resultLvl"
      ],
      "execution_count": 117,
      "outputs": [
        {
          "output_type": "execute_result",
          "data": {
            "text/plain": [
              "[([['a'], ['b'], ['c']], 3),\n",
              " ([['a'], ['b', 'c']], 2),\n",
              " ([['a'], ['c'], ['b']], 3),\n",
              " ([['a'], ['c'], ['c']], 4),\n",
              " ([['a', 'b'], ['c']], 2),\n",
              " ([['b'], ['c'], ['c']], 2),\n",
              " ([['c'], ['b'], ['c']], 2)]"
            ]
          },
          "metadata": {
            "tags": []
          },
          "execution_count": 117
        }
      ]
    },
    {
      "cell_type": "markdown",
      "metadata": {
        "id": "hbfxqH3uceym"
      },
      "source": [
        "### Put it all together:"
      ]
    },
    {
      "cell_type": "code",
      "metadata": {
        "id": "Olcc-mOXceym"
      },
      "source": [
        "\"\"\"\n",
        "The AprioriAll algorithm. Computes the frequent sequences in a seqeunce dataset for a given minSupport\n",
        "\n",
        "Args:\n",
        "    dataset: A list of sequences, for which the frequent (sub-)sequences are computed\n",
        "    minSupport: The minimum support that makes a sequence frequent\n",
        "    verbose: If true, additional information on the mining process is printed (i.e., candidates on each level)\n",
        "Returns:\n",
        "    A list of tuples (s, c), where s is a frequent sequence, and c is the count for that sequence\n",
        "\"\"\"\n",
        "def apriori(dataset, minSupport, verbose=False):\n",
        "    global numberOfCountingOperations\n",
        "    numberOfCountingOperations = 0\n",
        "    Overall = []\n",
        "    itemsInDataset = sorted(set ([item for sublist1 in dataset for sublist2 in sublist1 for item in sublist2]))\n",
        "    singleItemSequences = [[[item]] for item in itemsInDataset]\n",
        "    singleItemCounts = [(i, countSupport(dataset, i)) for i in singleItemSequences if countSupport(dataset, i) >= minSupport]\n",
        "    Overall.append(singleItemCounts)\n",
        "    print(\"Result, lvl 1: \" + str(Overall[0]))\n",
        "    k = 1\n",
        "    while (True):\n",
        "        if not Overall [k - 1]:\n",
        "            break\n",
        "        # 1. Candidate generation\n",
        "        candidatesLastLevel = [x[0] for x in Overall[k - 1]]\n",
        "        candidatesGenerated = generateCandidates (candidatesLastLevel)\n",
        "        # 2. Candidate pruning (using a \"containsall\" subsequences)\n",
        "        candidatesPruned = [cand for cand in candidatesGenerated if all(x in candidatesLastLevel for x in generateDirectSubsequences(cand))]\n",
        "        # 3. Candidate checking\n",
        "        candidatesCounts = [(i, countSupport(dataset, i)) for i in candidatesPruned]\n",
        "        resultLvl = [(i, count) for (i, count) in candidatesCounts if (count >= minSupport)]\n",
        "        if verbose:\n",
        "            print(\"Candidates generated, lvl \" + str(k + 1) + \": \" + str(candidatesGenerated))\n",
        "            print(\"Candidates pruned, lvl \" + str(k + 1) + \": \" + str(candidatesPruned))\n",
        "            print(\"Result, lvl \" + str(k + 1) + \": \" + str(resultLvl))\n",
        "        Overall.append(resultLvl)\n",
        "        k = k + 1\n",
        "    # \"flatten\" Overall\n",
        "    Overall = Overall [:-1]\n",
        "    Overall = [item for sublist in Overall for item in sublist]\n",
        "    return Overall"
      ],
      "execution_count": 118,
      "outputs": []
    },
    {
      "cell_type": "code",
      "metadata": {
        "colab": {
          "base_uri": "https://localhost:8080/"
        },
        "id": "3HjUDgXNceym",
        "outputId": "9ceec655-5287-4d5c-dab8-437f1e061f3b"
      },
      "source": [
        "apriori(dataset, 2, verbose=False)"
      ],
      "execution_count": 119,
      "outputs": [
        {
          "output_type": "stream",
          "text": [
            "Result, lvl 1: [([['a']], 4), ([['b']], 4), ([['c']], 4)]\n"
          ],
          "name": "stdout"
        },
        {
          "output_type": "execute_result",
          "data": {
            "text/plain": [
              "[([['a']], 4),\n",
              " ([['b']], 4),\n",
              " ([['c']], 4),\n",
              " ([['a', 'b']], 2),\n",
              " ([['b', 'c']], 2),\n",
              " ([['a'], ['b']], 4),\n",
              " ([['a'], ['c']], 4),\n",
              " ([['b'], ['c']], 3),\n",
              " ([['c'], ['b']], 3),\n",
              " ([['c'], ['c']], 4),\n",
              " ([['a'], ['b'], ['c']], 3),\n",
              " ([['a'], ['b', 'c']], 2),\n",
              " ([['a'], ['c'], ['b']], 3),\n",
              " ([['a'], ['c'], ['c']], 4),\n",
              " ([['a', 'b'], ['c']], 2),\n",
              " ([['b'], ['c'], ['c']], 2),\n",
              " ([['c'], ['b'], ['c']], 2),\n",
              " ([['a'], ['c'], ['b'], ['c']], 2),\n",
              " ([['a', 'b'], ['c'], ['c']], 2)]"
            ]
          },
          "metadata": {
            "tags": []
          },
          "execution_count": 119
        }
      ]
    },
    {
      "cell_type": "markdown",
      "metadata": {
        "collapsed": true,
        "id": "R7qoEmJJceyn"
      },
      "source": [
        "# PrefixSpan\n",
        "\n"
      ]
    },
    {
      "cell_type": "markdown",
      "metadata": {
        "id": "ArnzS33VQ4Yn"
      },
      "source": [
        "## Project a sequence"
      ]
    },
    {
      "cell_type": "code",
      "metadata": {
        "id": "POu1xZT7ceyn"
      },
      "source": [
        "\"\"\"\n",
        "Projects a sequence according to a given prefix, as done in PrefixSpan\n",
        "\n",
        "Args:\n",
        "    sequence: the sequence the projection is built from\n",
        "    prefix: the prefix that is searched for in the sequence\n",
        "    newEvent: if set to True, the first itemset is ignored\n",
        "Returns:\n",
        "    If the sequence does not contain the prefix, then None.\n",
        "    Otherwise, a new sequence starting from the position of the prefix, including the itemset that includes the prefix\n",
        "\"\"\"\n",
        "def projectSequence(sequence, prefix, newEvent):\n",
        "    result = None\n",
        "    for i, itemset in enumerate(sequence):\n",
        "        if result is None:\n",
        "            if (not newEvent) or i > 0:\n",
        "                if (all(x in itemset for x in prefix)):\n",
        "                    result = [list(itemset)]\n",
        "        else:\n",
        "            result.append(copy.copy(itemset))\n",
        "    return result"
      ],
      "execution_count": 120,
      "outputs": []
    },
    {
      "cell_type": "code",
      "metadata": {
        "colab": {
          "base_uri": "https://localhost:8080/"
        },
        "id": "o2xmGxRKceyn",
        "outputId": "a2abc99b-0f8d-497f-ed24-85ce2b6e1887"
      },
      "source": [
        "seq = [[\"a\"], [\"b\", \"c\"], [\"a\", \"c\"], [\"c\"]]\n",
        "projectSequence(seq, [\"b\"], False)"
      ],
      "execution_count": 121,
      "outputs": [
        {
          "output_type": "execute_result",
          "data": {
            "text/plain": [
              "[['b', 'c'], ['a', 'c'], ['c']]"
            ]
          },
          "metadata": {
            "tags": []
          },
          "execution_count": 121
        }
      ]
    },
    {
      "cell_type": "code",
      "metadata": {
        "colab": {
          "base_uri": "https://localhost:8080/"
        },
        "id": "DevRM_hAceyo",
        "outputId": "c9ed3368-afd0-477b-d339-9d8a18bb919b"
      },
      "source": [
        "projectSequence(seq, [\"a\", \"c\"], False)"
      ],
      "execution_count": 122,
      "outputs": [
        {
          "output_type": "execute_result",
          "data": {
            "text/plain": [
              "[['a', 'c'], ['c']]"
            ]
          },
          "metadata": {
            "tags": []
          },
          "execution_count": 122
        }
      ]
    },
    {
      "cell_type": "code",
      "metadata": {
        "colab": {
          "base_uri": "https://localhost:8080/"
        },
        "id": "qzaezTlkceyo",
        "outputId": "2aad2c9e-b150-4b51-d2f5-b3111ed715c6"
      },
      "source": [
        "projectSequence(seq, [\"a\"], False)"
      ],
      "execution_count": 123,
      "outputs": [
        {
          "output_type": "execute_result",
          "data": {
            "text/plain": [
              "[['a'], ['b', 'c'], ['a', 'c'], ['c']]"
            ]
          },
          "metadata": {
            "tags": []
          },
          "execution_count": 123
        }
      ]
    },
    {
      "cell_type": "code",
      "metadata": {
        "colab": {
          "base_uri": "https://localhost:8080/"
        },
        "id": "Hp9GtKk7ceyo",
        "outputId": "1a4447a9-bfbb-4562-eabb-695db0462e44"
      },
      "source": [
        "projectSequence(seq, [\"a\"], True)"
      ],
      "execution_count": 124,
      "outputs": [
        {
          "output_type": "execute_result",
          "data": {
            "text/plain": [
              "[['a', 'c'], ['c']]"
            ]
          },
          "metadata": {
            "tags": []
          },
          "execution_count": 124
        }
      ]
    },
    {
      "cell_type": "markdown",
      "metadata": {
        "id": "nlVBsyrXceyo"
      },
      "source": [
        "## Project a dataset"
      ]
    },
    {
      "cell_type": "code",
      "metadata": {
        "id": "zStkbhS0ceyo"
      },
      "source": [
        "\"\"\"\n",
        "Projects a dataset according to a given prefix, as done in PrefixSpan\n",
        "\n",
        "Args:\n",
        "    dataset: the dataset the projection is built from\n",
        "    prefix: the prefix that is searched for in the sequence\n",
        "    newEvent: if set to True, the first itemset is ignored\n",
        "Returns:\n",
        "    A (potentially empty) list of sequences\n",
        "\"\"\"\n",
        "def projectDatabase(dataset, prefix, newEvent):\n",
        "    projectedDB = []\n",
        "    for sequence in dataset:\n",
        "        seqProjected = projectSequence(sequence, prefix, newEvent)\n",
        "        if not seqProjected is None:\n",
        "            projectedDB.append(seqProjected)\n",
        "    return projectedDB"
      ],
      "execution_count": 125,
      "outputs": []
    },
    {
      "cell_type": "code",
      "metadata": {
        "id": "XecaOJpSceyp"
      },
      "source": [
        "datasetProject = [\n",
        "            [[\"a\"], [\"a\", \"b\", \"c\"], [\"a\", \"c\"], [\"d\"], [\"c\", \"f\"]],\n",
        "            [[\"a\", \"d\"], [\"c\"], [\"b\", \"c\"], [\"a\", \"e\"]],\n",
        "            [[\"e\", \"f\"], [\"a\", \"b\"], [\"d\", \"f\"], [\"d\"], [\"b\"]],\n",
        "            [[\"e\"], [\"g\"], [\"a\", \"f\"], [\"c\"], [\"b\"], [\"c\"]]\n",
        "        ]"
      ],
      "execution_count": 126,
      "outputs": []
    },
    {
      "cell_type": "code",
      "metadata": {
        "colab": {
          "base_uri": "https://localhost:8080/"
        },
        "id": "c0WV-M4yceyp",
        "outputId": "200d1ea3-3c22-4249-c48f-fba731510df6"
      },
      "source": [
        "projectDatabase(datasetProject, [\"c\"], False)"
      ],
      "execution_count": 127,
      "outputs": [
        {
          "output_type": "execute_result",
          "data": {
            "text/plain": [
              "[[['a', 'b', 'c'], ['a', 'c'], ['d'], ['c', 'f']],\n",
              " [['c'], ['b', 'c'], ['a', 'e']],\n",
              " [['c'], ['b'], ['c']]]"
            ]
          },
          "metadata": {
            "tags": []
          },
          "execution_count": 127
        }
      ]
    },
    {
      "cell_type": "markdown",
      "metadata": {
        "id": "HnOGp2iFceyp"
      },
      "source": [
        "## The main algorithm"
      ]
    },
    {
      "cell_type": "markdown",
      "metadata": {
        "id": "qYPqau93ceyp"
      },
      "source": [
        "#### Some more utility functions:"
      ]
    },
    {
      "cell_type": "code",
      "metadata": {
        "id": "nOpwe4e1ceyp"
      },
      "source": [
        "\"\"\"\n",
        "Generates a list of all items that are contained in a dataset\n",
        "\"\"\"\n",
        "def generateItems(dataset):\n",
        "    return sorted(set ([item for sublist1 in dataset for sublist2 in sublist1 for item in sublist2]))\n",
        "\n",
        "\"\"\"\n",
        "Computes a defaultdict that maps each item in the dataset to its support\n",
        "\"\"\"\n",
        "def generateItemSupports(dataset, ignoreFirstEvent=False, prefix=[]):\n",
        "    result = defaultdict(int)\n",
        "    for sequence in dataset:\n",
        "        if ignoreFirstEvent:\n",
        "            sequence = sequence[1:]\n",
        "        cooccurringItems = set()\n",
        "        for itemset in sequence:\n",
        "            if all(x in itemset for x in prefix):\n",
        "                for item in itemset:\n",
        "                    if not item in prefix:\n",
        "                        cooccurringItems.add(item)\n",
        "        for item in cooccurringItems:\n",
        "            result [item] += 1\n",
        "    return sorted(result.items())"
      ],
      "execution_count": 128,
      "outputs": []
    },
    {
      "cell_type": "markdown",
      "metadata": {
        "id": "R3ItB2AYceyp"
      },
      "source": [
        "#### Finally, the algorithm:"
      ]
    },
    {
      "cell_type": "code",
      "metadata": {
        "id": "Knq4Z-aLceyq"
      },
      "source": [
        "\"\"\"\n",
        "The PrefixSpan algorithm. Computes the frequent sequences in a sequence dataset for a given minSupport\n",
        "\n",
        "Args:\n",
        "    dataset: A list of sequences, for which the frequent (sub-)sequences are computed\n",
        "    minSupport: The minimum support that makes a sequence frequent\n",
        "Returns:\n",
        "    A list of tuples (s, c), where s is a frequent sequence, and c is the count for that sequence\n",
        "\"\"\"\n",
        "def prefixSpan(dataset, minSupport):\n",
        "    result = []\n",
        "    itemCounts = generateItemSupports(dataset)\n",
        "    for item, count in tqdm(itemCounts):\n",
        "        if count >= minSupport:\n",
        "            newPrefix = [[item]]\n",
        "            result.append((newPrefix, count))\n",
        "            result.extend(prefixSpanInternal(projectDatabase(dataset, [item], False), minSupport, newPrefix))\n",
        "    return result\n",
        "\n",
        "def prefixSpanInternal(dataset, minSupport, prevPrefixes=[]):\n",
        "    result = []\n",
        "    \n",
        "    # Add a new item to the last element (==same time)\n",
        "    itemCountSameEvent = generateItemSupports(dataset, False, prefix=prevPrefixes[-1])\n",
        "    for item, count in itemCountSameEvent:\n",
        "        if (count >= minSupport) and item > prevPrefixes[-1][-1]:\n",
        "            newPrefix = copy.deepcopy(prevPrefixes)\n",
        "            newPrefix[-1].append(item)\n",
        "            result.append((newPrefix, count))\n",
        "            result.extend(prefixSpanInternal(projectDatabase(dataset, newPrefix[-1], False), minSupport, newPrefix))\n",
        "        \n",
        "    # Add a new event to the prefix\n",
        "    itemCountSubsequentEvents = generateItemSupports(dataset, True)\n",
        "    for item, count in itemCountSubsequentEvents:\n",
        "        if count >= minSupport:\n",
        "            newPrefix = copy.deepcopy(prevPrefixes)\n",
        "            newPrefix.append([item])\n",
        "            result.append((newPrefix, count))\n",
        "            result.extend(prefixSpanInternal(projectDatabase(dataset, [item], True), minSupport, newPrefix))\n",
        "    return result"
      ],
      "execution_count": 129,
      "outputs": []
    },
    {
      "cell_type": "code",
      "metadata": {
        "colab": {
          "base_uri": "https://localhost:8080/",
          "height": 413,
          "referenced_widgets": [
            "bca1a37c9a2043cd92b23288337cae80",
            "2e0ad400b6174f1b9e8697fb4ddf4990",
            "96a0b312c6b74aa8ba2b785e533acef9",
            "cbf7f218cc00460fb6323df9f44b5625",
            "826798ac41a742aba2370f13a79c4445",
            "5c7752ac2da24ae1b234a09b242ef8ad",
            "6d32c50cfcc7417d8c207ee9c8474e1c",
            "9911307be5464697ba78288ea5bbdb17"
          ]
        },
        "id": "azGGuMVMceyq",
        "outputId": "7b4a833b-26f6-4e2d-a1b8-995772b4ba81"
      },
      "source": [
        "prefixSpan(dataset, 2)"
      ],
      "execution_count": 130,
      "outputs": [
        {
          "output_type": "display_data",
          "data": {
            "application/vnd.jupyter.widget-view+json": {
              "model_id": "bca1a37c9a2043cd92b23288337cae80",
              "version_minor": 0,
              "version_major": 2
            },
            "text/plain": [
              "HBox(children=(FloatProgress(value=0.0, max=4.0), HTML(value='')))"
            ]
          },
          "metadata": {
            "tags": []
          }
        },
        {
          "output_type": "stream",
          "text": [
            "\n"
          ],
          "name": "stdout"
        },
        {
          "output_type": "execute_result",
          "data": {
            "text/plain": [
              "[([['a']], 4),\n",
              " ([['a', 'b']], 2),\n",
              " ([['a', 'b'], ['c']], 2),\n",
              " ([['a', 'b'], ['c'], ['c']], 2),\n",
              " ([['a'], ['b']], 4),\n",
              " ([['a'], ['b', 'c']], 2),\n",
              " ([['a'], ['b'], ['c']], 3),\n",
              " ([['a'], ['c']], 4),\n",
              " ([['a'], ['c'], ['b']], 3),\n",
              " ([['a'], ['c'], ['b'], ['c']], 2),\n",
              " ([['a'], ['c'], ['c']], 4),\n",
              " ([['b']], 4),\n",
              " ([['b', 'c']], 2),\n",
              " ([['b'], ['c']], 3),\n",
              " ([['b'], ['c'], ['c']], 2),\n",
              " ([['c']], 4),\n",
              " ([['c'], ['b']], 3),\n",
              " ([['c'], ['b'], ['c']], 2),\n",
              " ([['c'], ['c']], 4)]"
            ]
          },
          "metadata": {
            "tags": []
          },
          "execution_count": 130
        }
      ]
    },
    {
      "cell_type": "markdown",
      "metadata": {
        "collapsed": true,
        "id": "uWJQ-nIPceyq"
      },
      "source": [
        "# Filter for closed and maximal patterns\n",
        "### Closed patterns"
      ]
    },
    {
      "cell_type": "code",
      "metadata": {
        "id": "y9SyUnUfceyq"
      },
      "source": [
        "\"\"\"\n",
        "Given a list of all frequent sequences and their counts, compute the set of closed frequent sequences (as a list)\n",
        "This is only a very simplistic (naive) implementation for demonstration purposes!\n",
        "\"\"\"\n",
        "def filterClosed(result):\n",
        "    for supersequence, countSeq in tqdm(copy.deepcopy(result)):\n",
        "        for subsequence, countSubSeq in copy.deepcopy(result):\n",
        "            if isSubsequence(supersequence, subsequence) and (countSeq == countSubSeq) and subsequence != supersequence:\n",
        "                result.remove((subsequence, countSubSeq))"
      ],
      "execution_count": 131,
      "outputs": []
    },
    {
      "cell_type": "code",
      "metadata": {
        "scrolled": false,
        "colab": {
          "base_uri": "https://localhost:8080/",
          "height": 245,
          "referenced_widgets": [
            "8b4eec76e6b54ba9bd17e154c9bf6a0f",
            "580cfac06c814b6ebf5d92693ac03282",
            "9ff7d78ed39c4298904da055273245e3",
            "cfacdeffaec543d8959c823b76e62ec7",
            "0ff30290167c4e939774fa16a4b337e3",
            "538aa4272f5040b9b02d7a75d13ccec3",
            "57f6eba8858e4ada93c0b05f6917816f",
            "68495b0a1241435aa8bece5a6340de3c",
            "9d30657879974fbfaab14bf328df8161",
            "92b6334534a04ebfb20a8d9ecf6cdaae",
            "eeeffeefe7d749c6b250b77af0ee8a90",
            "142d9b77ed95409db1842f16bb00db65",
            "61568b0d9bd648f5a27c2b9d0c8aed5c",
            "2b2dedc508e748bf91d3546ad88d4b72",
            "d689e1fe27c448da98598927de0d8f29",
            "b7f54639d981494c99d201489741ea6a"
          ]
        },
        "id": "Ejc6Yfhtceyq",
        "outputId": "8a018132-d9f8-4f88-c900-0f32a6096b73"
      },
      "source": [
        "result = prefixSpan(dataset, 2)\n",
        "filterClosed(result)\n",
        "result"
      ],
      "execution_count": 132,
      "outputs": [
        {
          "output_type": "display_data",
          "data": {
            "application/vnd.jupyter.widget-view+json": {
              "model_id": "8b4eec76e6b54ba9bd17e154c9bf6a0f",
              "version_minor": 0,
              "version_major": 2
            },
            "text/plain": [
              "HBox(children=(FloatProgress(value=0.0, max=4.0), HTML(value='')))"
            ]
          },
          "metadata": {
            "tags": []
          }
        },
        {
          "output_type": "stream",
          "text": [
            "\n"
          ],
          "name": "stdout"
        },
        {
          "output_type": "display_data",
          "data": {
            "application/vnd.jupyter.widget-view+json": {
              "model_id": "9d30657879974fbfaab14bf328df8161",
              "version_minor": 0,
              "version_major": 2
            },
            "text/plain": [
              "HBox(children=(FloatProgress(value=0.0, max=19.0), HTML(value='')))"
            ]
          },
          "metadata": {
            "tags": []
          }
        },
        {
          "output_type": "stream",
          "text": [
            "\n"
          ],
          "name": "stdout"
        },
        {
          "output_type": "execute_result",
          "data": {
            "text/plain": [
              "[([['a', 'b'], ['c'], ['c']], 2),\n",
              " ([['a'], ['b']], 4),\n",
              " ([['a'], ['b', 'c']], 2),\n",
              " ([['a'], ['b'], ['c']], 3),\n",
              " ([['a'], ['c'], ['b']], 3),\n",
              " ([['a'], ['c'], ['b'], ['c']], 2),\n",
              " ([['a'], ['c'], ['c']], 4)]"
            ]
          },
          "metadata": {
            "tags": []
          },
          "execution_count": 132
        }
      ]
    },
    {
      "cell_type": "markdown",
      "metadata": {
        "id": "7m0l8_DTceyq"
      },
      "source": [
        "### Maximal sequences"
      ]
    },
    {
      "cell_type": "code",
      "metadata": {
        "id": "e7So09RIceyq"
      },
      "source": [
        "\"\"\"\n",
        "Given a list of all frequent sequences and their counts, compute the set of maximal frequent sequences (as a list)\n",
        "This is only a very naive implementation for demonstration purposes!\n",
        "\"\"\"\n",
        "def filterMaximal(result):\n",
        "    for supersequence, countSeq in tqdm(copy.deepcopy(result)):\n",
        "        for subsequence, countSubSeq in copy.deepcopy(result):\n",
        "            if isSubsequence (supersequence, subsequence) and subsequence != supersequence:\n",
        "                result.remove((subsequence, countSubSeq)) "
      ],
      "execution_count": 133,
      "outputs": []
    },
    {
      "cell_type": "code",
      "metadata": {
        "colab": {
          "base_uri": "https://localhost:8080/",
          "height": 172,
          "referenced_widgets": [
            "1bd33d661ade4f50947b5601afa0523b",
            "e133da5dc96e46038b032099b3db3287",
            "7bb48022a18d42b189bff8f9256301ad",
            "015208d6106240b98648d6dc22c29bf0",
            "c2017ec4281340a39ac706539980f545",
            "1236dd2e40b14ff1b5b572162a50c2e3",
            "50b1b523690c49f59d31d45676168ea1",
            "af22ee787da849f7b8dd699ea43f1ff3",
            "3b116ec62ae44860b42d2fb8fe5f3fd6",
            "07553b6a9f294530893b20db4df18d87",
            "2a6503722b7546ccaf59a02a7d05f8b3",
            "37c1906fb6cc401d861c93e71f206aae",
            "d7131d2a1e714608bc62dc687dc11ca4",
            "69bef597b03948ee9978248081704e39",
            "89b61a65cd4244759c0bc94206e20b3f",
            "5e6de7791b6a4533b3f6f59397ce73aa"
          ]
        },
        "id": "1Lwr7LIgceyr",
        "outputId": "d597b879-a977-4bb1-828d-8f88a38f9a18"
      },
      "source": [
        "result = prefixSpan (dataset, 2)\n",
        "filterMaximal(result)\n",
        "result"
      ],
      "execution_count": 134,
      "outputs": [
        {
          "output_type": "display_data",
          "data": {
            "application/vnd.jupyter.widget-view+json": {
              "model_id": "1bd33d661ade4f50947b5601afa0523b",
              "version_minor": 0,
              "version_major": 2
            },
            "text/plain": [
              "HBox(children=(FloatProgress(value=0.0, max=4.0), HTML(value='')))"
            ]
          },
          "metadata": {
            "tags": []
          }
        },
        {
          "output_type": "stream",
          "text": [
            "\n"
          ],
          "name": "stdout"
        },
        {
          "output_type": "display_data",
          "data": {
            "application/vnd.jupyter.widget-view+json": {
              "model_id": "3b116ec62ae44860b42d2fb8fe5f3fd6",
              "version_minor": 0,
              "version_major": 2
            },
            "text/plain": [
              "HBox(children=(FloatProgress(value=0.0, max=19.0), HTML(value='')))"
            ]
          },
          "metadata": {
            "tags": []
          }
        },
        {
          "output_type": "stream",
          "text": [
            "\n"
          ],
          "name": "stdout"
        },
        {
          "output_type": "execute_result",
          "data": {
            "text/plain": [
              "[([['a', 'b'], ['c'], ['c']], 2),\n",
              " ([['a'], ['b', 'c']], 2),\n",
              " ([['a'], ['c'], ['b'], ['c']], 2)]"
            ]
          },
          "metadata": {
            "tags": []
          },
          "execution_count": 134
        }
      ]
    },
    {
      "cell_type": "markdown",
      "metadata": {
        "id": "J0JDJICaceyr"
      },
      "source": [
        "# Assignment 2 example: extracting emerging patterns from movie reviews\n",
        "\n",
        "\n",
        "We want to extract emerging patterns from positive and negative movie reviews. The goal will be to find some patterns that are characteristic of positive reviews and some patterns that are characteristic of negative review.\n"
      ]
    },
    {
      "cell_type": "markdown",
      "metadata": {
        "id": "FCwCCWJHWx0s"
      },
      "source": [
        "## Step 1 : data and library imports"
      ]
    },
    {
      "cell_type": "code",
      "metadata": {
        "id": "YBB7QxOPio9_"
      },
      "source": [
        "import numpy as np\r\n",
        "import matplotlib.pyplot as plt\r\n",
        "import seaborn as sns; sns.set()\r\n",
        "import pandas as pd"
      ],
      "execution_count": 135,
      "outputs": []
    },
    {
      "cell_type": "code",
      "metadata": {
        "id": "J_CX1RM7t-VZ",
        "colab": {
          "base_uri": "https://localhost:8080/"
        },
        "outputId": "bdbf6e30-8de0-4382-a66c-1f22fb1cf710"
      },
      "source": [
        "pd.set_option('display.max_colwidth', -1)"
      ],
      "execution_count": 136,
      "outputs": [
        {
          "output_type": "stream",
          "text": [
            "/usr/local/lib/python3.6/dist-packages/ipykernel_launcher.py:1: FutureWarning: Passing a negative integer is deprecated in version 1.0 and will not be supported in future version. Instead, use None to not limit the column width.\n",
            "  \"\"\"Entry point for launching an IPython kernel.\n"
          ],
          "name": "stderr"
        }
      ]
    },
    {
      "cell_type": "code",
      "metadata": {
        "id": "RsuGS7xDdJ3K"
      },
      "source": [
        "path = '/content/drive/MyDrive/nantes/tspm/assignment2'"
      ],
      "execution_count": 137,
      "outputs": []
    },
    {
      "cell_type": "code",
      "metadata": {
        "colab": {
          "base_uri": "https://localhost:8080/",
          "height": 78
        },
        "id": "lTwknPiyi0nT",
        "outputId": "364b0f68-911b-4953-cbbe-62f613a58790"
      },
      "source": [
        "#given lines\r\n",
        "readme_df = pd.read_csv(path+'/readme.csv', sep=';')\r\n",
        "readme_df[readme_df['#Last_name'] == 'Paulet']"
      ],
      "execution_count": 138,
      "outputs": [
        {
          "output_type": "execute_result",
          "data": {
            "text/html": [
              "<div>\n",
              "<style scoped>\n",
              "    .dataframe tbody tr th:only-of-type {\n",
              "        vertical-align: middle;\n",
              "    }\n",
              "\n",
              "    .dataframe tbody tr th {\n",
              "        vertical-align: top;\n",
              "    }\n",
              "\n",
              "    .dataframe thead th {\n",
              "        text-align: right;\n",
              "    }\n",
              "</style>\n",
              "<table border=\"1\" class=\"dataframe\">\n",
              "  <thead>\n",
              "    <tr style=\"text-align: right;\">\n",
              "      <th></th>\n",
              "      <th>#Last_name</th>\n",
              "      <th>First_name</th>\n",
              "      <th>neg_files</th>\n",
              "      <th>pos_files</th>\n",
              "    </tr>\n",
              "  </thead>\n",
              "  <tbody>\n",
              "    <tr>\n",
              "      <th>8</th>\n",
              "      <td>Paulet</td>\n",
              "      <td>Louis</td>\n",
              "      <td>2400_x.txt —&gt; 9900_y.txt</td>\n",
              "      <td>300_x.txt —&gt; 7800_y.txt</td>\n",
              "    </tr>\n",
              "  </tbody>\n",
              "</table>\n",
              "</div>"
            ],
            "text/plain": [
              "  #Last_name First_name                 neg_files                pos_files\n",
              "8  Paulet     Louis      2400_x.txt —> 9900_y.txt  300_x.txt —> 7800_y.txt"
            ]
          },
          "metadata": {
            "tags": []
          },
          "execution_count": 138
        }
      ]
    },
    {
      "cell_type": "markdown",
      "metadata": {
        "id": "-wDXpEI-2t2s"
      },
      "source": [
        "We rely on the following notebook (made by myself) for converting all these text files into one csv which is easy and fast to import into a dataframe :  \r\n",
        "\r\n",
        "https://colab.research.google.com/drive/1VVzWqhpZbS_FvJk6yAUlag-C9E0u7gIJ?usp=sharing\r\n",
        "\r\n"
      ]
    },
    {
      "cell_type": "code",
      "metadata": {
        "id": "05xI_Ursi1Gm",
        "colab": {
          "base_uri": "https://localhost:8080/",
          "height": 1000
        },
        "outputId": "abeb3c78-a5dd-4723-c949-e8a5bc3dc08e"
      },
      "source": [
        "train_neg_df = pd.read_csv(path+'/neg/export.csv')\r\n",
        "train_neg_df.drop('Unnamed: 0', inplace=True, axis=1)\r\n",
        "train_neg_df"
      ],
      "execution_count": 139,
      "outputs": [
        {
          "output_type": "execute_result",
          "data": {
            "text/html": [
              "<div>\n",
              "<style scoped>\n",
              "    .dataframe tbody tr th:only-of-type {\n",
              "        vertical-align: middle;\n",
              "    }\n",
              "\n",
              "    .dataframe tbody tr th {\n",
              "        vertical-align: top;\n",
              "    }\n",
              "\n",
              "    .dataframe thead th {\n",
              "        text-align: right;\n",
              "    }\n",
              "</style>\n",
              "<table border=\"1\" class=\"dataframe\">\n",
              "  <thead>\n",
              "    <tr style=\"text-align: right;\">\n",
              "      <th></th>\n",
              "      <th>filename</th>\n",
              "      <th>content</th>\n",
              "    </tr>\n",
              "  </thead>\n",
              "  <tbody>\n",
              "    <tr>\n",
              "      <th>0</th>\n",
              "      <td>2400_3</td>\n",
              "      <td>No, this wasn't one of the ten worst films of the 1980's, but it certainly skirts the bottom 100 somewhere. This movie looks like it was put on the shelf for two or three years and then released in 1981. How else would you explain special effects pre-dating \"An American Werewolf in London,\" disco still being considered cool, and Ronald Reagan not being the 40th President of the United States? While we're at it, let's not overlook those 1970's hairstyles in the 1950's and '60's. I've seen more of that here than in \"Happy Days\" &amp; \"Laverne &amp; Shirley\" combined.&lt;br /&gt;&lt;br /&gt;The one woman who elevates this movie to the \"so bad, it's good\" category was the late, great Elizabeth Hartman, but just barely. Biff plays as Miss Montgomery, the mousey high school teacher who becomes a sexpot, a stereotype that's been done to death and is still being churned out by Hollywood today, but even as a \"hot chick\" she retains her mousey qualities. Her call for help is evidence of this. She also looks much better as Miss Wimp. \"Seven bucks at the beauty parlor, shot to hell.\" She wasn't kidding.&lt;br /&gt;&lt;br /&gt;This isn't to say that there aren't any good parts elsewhere, they're just few and far between, and I'm not just saying that because I like Hartman. Incidentally, \"Teen Wolf\" was better than this. \"Teen Wolf Too\" was better than this, and that wasn't even so good.&lt;br /&gt;&lt;br /&gt;</td>\n",
              "    </tr>\n",
              "    <tr>\n",
              "      <th>1</th>\n",
              "      <td>2401_3</td>\n",
              "      <td>I've seen better teenage werewolf movies in my time, this one however, takes the cake. More comedy than horror, \"Full Moon High\" puts the \"c\" in cheese-fest. The star quality in this movie is not bad. Just the way it was made just sends in rolling downhill. Adam Arkin plays Tony, an all-American high school football player of the 50's who ends up not aging due to a werewolf bite in Transylvania. The most annoying part of the movie was the violin player. He drove everyone batty! Ed McMahon plays his ultra-conservative father who met his end of his own bullet. Adam's father Alan plays a shrink who seems to be not top of his game. After all these years Tony seems to be very out of place due to the attack, and then he'll get the chance to catch in his state. More laugh than blood shed, this movie is just a start in the 80's, \"Teen Wolf\" was an improvement from this! 1 out of 5 stars.</td>\n",
              "    </tr>\n",
              "    <tr>\n",
              "      <th>2</th>\n",
              "      <td>2402_3</td>\n",
              "      <td>A surprising misfire from the usually reliable Larry Cohen (God Told Me Too, Q, etc.), Full Moon High tries so hard to be funny and fails miserably, even with decent turns by Ed McMahon(!) and Kenneth Mars. Alan Arkin looks embarrassed throughout his performance and son Adam simply looks numb. This makes Teen Wolf look like a comedy classic.</td>\n",
              "    </tr>\n",
              "    <tr>\n",
              "      <th>3</th>\n",
              "      <td>2403_1</td>\n",
              "      <td>Whack!!! I got this movie because Elizabeth Hartman was in it. I was disappointed to find out she was in like two short scenes towards the end. Other than that I was basically hitting the fast forward button the entire time. Some teenager goes on a trip to Romania with his Dad and gets bitten by a wolf and turns into a werewolf if there's a full moon. He kills his father and friends. About 30 years past but he doesn't age a bit and enrolls in a high school. There he meets a shy teacher whom he ends up biting and then has kids with her. This movie sucked and I don't recommend it to anyone. Read War and Peace instead. Only Ms. Hartman did a great job. Check out a very young Bob Saget in this one!!</td>\n",
              "    </tr>\n",
              "    <tr>\n",
              "      <th>4</th>\n",
              "      <td>2404_3</td>\n",
              "      <td>Man, was I disappointed.&lt;br /&gt;&lt;br /&gt;1) Adam Arkin is more whiny than Ross Geller from 'Friends' &lt;br /&gt;&lt;br /&gt;2) A great cast is wasted (Kenneth Mars, Alan Arkin, Ed McMahon, Pat Morita, Louis Nye) with this amateurish script.&lt;br /&gt;&lt;br /&gt;3) The movie suffers from horrible pacing. It jumps around through in a jumbled, confusing manner.&lt;br /&gt;&lt;br /&gt;4) The story doesn't even make sense. Why does he want to break the football streak? What about the stupid violin music? None of it is explained.&lt;br /&gt;&lt;br /&gt;5) It's not even funny. It's like a bunch of accountants trying to do improv, saying \"Lookit me! Lookit me I'm being funny!\" This was a bad attempt at making another \"Love At First Bite\".&lt;br /&gt;&lt;br /&gt;I like Larry Cohen movies, but man he failed here. I couldn't wait for the credits to roll. Horribly disappointed.</td>\n",
              "    </tr>\n",
              "    <tr>\n",
              "      <th>...</th>\n",
              "      <td>...</td>\n",
              "      <td>...</td>\n",
              "    </tr>\n",
              "    <tr>\n",
              "      <th>7497</th>\n",
              "      <td>9897_4</td>\n",
              "      <td>I found this a good movie to pass your time, but not by any chance of any historical value. The portrayal of Cleopatra reminded me a cheap soap opera.&lt;br /&gt;&lt;br /&gt;The twist of the facts is... funny! She gave birth while feeding her people!?!? O please... A pregnant Queen of Egypt (especially this one) would not bother to go from one room to the other for that reason! They tried to make her appear a saint for God's sake! And the way they tried to justify her murdering her own sister... beyond description.&lt;br /&gt;&lt;br /&gt;Cleopatra was the greatest politician of her time. Her decisions were based anything but her feelings and morals. She did everything for only two reasons: Power and self-preservation! She was borne in a family where she had to straggle for survival, something she did very well. Anything that stood on her way was either murdered (her brothers and sister) or seduced (Ceasar and Mark Anthony).&lt;br /&gt;&lt;br /&gt;Unfortunately Octavian was too powerful to kill and too... gay to be seduced. So, he was her end...</td>\n",
              "    </tr>\n",
              "    <tr>\n",
              "      <th>7498</th>\n",
              "      <td>9898_1</td>\n",
              "      <td>This version of \"Moby Dick\" insults the audience by claiming it is based on Melville's novel-even going so far as to show a phony first chapter sentence rather than the famous \"Call me Ishmael\". In addition to having atrocious acting, even from John Barrymore,this is perhaps the greatest example of how far Hollywood (especially early Hollywood) would go to revise and change a famous novel just to beef up its chances at the box office.All of the novel's beautiful,poetic language has been absolutely eradicated, and Ahab has been changed from a brooding,blasphemous,obsessive madman to a dashing,misunderstood hero who only wants to kill Moby Dick after his fiance(!) turns away from him after seeing his wooden leg. To this is added the standard evil brother who wants the fiance for himself, and a different ending!</td>\n",
              "    </tr>\n",
              "    <tr>\n",
              "      <th>7499</th>\n",
              "      <td>9899_4</td>\n",
              "      <td>Necessarily ridiculous film version the literary classic \"Moby Dick\". John Barrymore is Captain Ahab, who falls in love with the pastor's daughter, Joan Bennett. His brother Derek is a rival for Ms. Bennett's affections. When Mr. Barrymore loses his leg in a whaling accident, Bennett rejects him. He must slay the whale and win Bennett back...&lt;br /&gt;&lt;br /&gt;There are several scenes which may have thrilled 1930 theater audiences; particularly the scenes involving Barrymore losing his leg. The film hasn't aged well, however; there are much better films from the time, both 1920s silents and 1930s talkies. The two name attractions, John Barrymore and Joan Bennett aren't at their best. &lt;br /&gt;&lt;br /&gt;**** Moby Dick (8/14/30) Lloyd Bacon ~ John Barrymore, Joan Bennett, Lloyd Hughes</td>\n",
              "    </tr>\n",
              "    <tr>\n",
              "      <th>7500</th>\n",
              "      <td>9900_4</td>\n",
              "      <td>I suppose that any novel that's as much of a downer as Moby Dick would not find much favor with Depression era audiences who had enough of their own troubles. But any resemblance to the classic Herman Melville novel is a pure coincidence. &lt;br /&gt;&lt;br /&gt;In fact half of the film is a prequel to the main story as we know it, not that too much of it was kept for the film. We first meet Ahab Creely (he's got a last name and a brother) as one happy go lucky soul with two legs and intentions to marry Joan Bennett who is Father Mapple's daughter. That brother Derek, played by Lloyd Hughes, also wants to marry Bennett.&lt;br /&gt;&lt;br /&gt;John Barrymore is Ahab in an over the top performance. Barrymore had not quite mastered the sound cinema and he gave out with all the silent era histrionics plus a stage voice that would have shaken the rafters of any movie theater this film was playing in.&lt;br /&gt;&lt;br /&gt;We see Ahab lose his leg to the great whale Moby Dick and I have to say the amputation scene was pretty gruesome. Of course this was all before the Code. Still I'm sure 1930 audiences shuddered.&lt;br /&gt;&lt;br /&gt;After that the story of Ahab's hunt for the whale that he thinks made him unsightly in Joan Bennett's eyes. That is not exactly Melville's motivation, in fact there are no women characters in Moby Dick as he wrote it.&lt;br /&gt;&lt;br /&gt;One of the things Melville did was invest the crew of Ahab's ship the Pequod with personalities. Other than Queequeg the cannibal harpooner the names are there, but not the personalities. Starbuck and Stubbs might as well be Smith and Jones.&lt;br /&gt;&lt;br /&gt;I'd see this version of Moby Dick strictly for curiosity and nothing else.</td>\n",
              "    </tr>\n",
              "    <tr>\n",
              "      <th>7501</th>\n",
              "      <td>.csv</td>\n",
              "      <td>[',filename,content'\\n '0,2400_3,\"No, this wasn\\'t one of the ten worst films of the 1980\\'s, but it certainly skirts the bottom 100 somewhere. This movie looks like it was put on the shelf for two or three years and then released in 1981. How else would you explain special effects pre-dating \"\"An American Werewolf in London,\"\" disco still being considered cool, and Ronald Reagan not being the 40th President of the United States? While we\\'re at it, let\\'s not overlook those 1970\\'s hairstyles in the 1950\\'s and \\'60\\'s. I\\'ve seen more of that here than in \"\"Happy Days\"\" &amp; \"\"Laverne &amp; Shirley\"\" combined.&lt;br /&gt;&lt;br /&gt;The one woman who elevates this movie to the \"\"so bad, it\\'s good\"\" category was the late, great Elizabeth Hartman, but just barely. Biff plays as Miss Montgomery, the mousey high school teacher who becomes a sexpot, a stereotype that\\'s been done to death and is still being churned out by Hollywood today, but even as a \"\"hot chick\"\" she retains her mousey qualities. Her call for help is evidence of this. She also looks much better as Miss Wimp. \"\"Seven bucks at the beauty parlor, shot to hell.\"\" She wasn\\'t kidding.&lt;br /&gt;&lt;br /&gt;This isn\\'t to say that there aren\\'t any good parts elsewhere, they\\'re just few and far between, and I\\'m not just saying that because I like Hartman. Incidentally, \"\"Teen Wolf\"\" was better than this. \"\"Teen Wolf Too\"\" was better than this, and that wasn\\'t even so good.&lt;br /&gt;&lt;br /&gt;\"'\\n '1,2401_3,\"I\\'ve seen better teenage werewolf movies in my time, this one however, takes the cake. More comedy than horror, \"\"Full Moon High\"\" puts the \"\"c\"\" in cheese-fest. The star quality in this movie is not bad. Just the way it was made just sends in rolling downhill. Adam Arkin plays Tony, an all-American high school football player of the 50\\'s who ends up not aging due to a werewolf bite in Transylvania. The most annoying part of the movie was the violin player. He drove everyone batty! Ed McMahon plays his ultra-conservative father who met his end of his own bullet. Adam\\'s father Alan plays a shrink who seems to be not top of his game. After all these years Tony seems to be very out of place due to the attack, and then he\\'ll get the chance to catch in his state. More laugh than blood shed, this movie is just a start in the 80\\'s, \"\"Teen Wolf\"\" was an improvement from this! 1 out of 5 stars.\"'\\n ...\\n '7498,9898_1,\"This version of \"\"Moby Dick\"\" insults the audience by claiming it is based on Melville\\'s novel-even going so far as to show a phony first chapter sentence rather than the famous \"\"Call me Ishmael\"\". In addition to having atrocious acting, even from John Barrymore,this is perhaps the greatest example of how far Hollywood (especially early Hollywood) would go to revise and change a famous novel just to beef up its chances at the box office.All of the novel\\'s beautiful,poetic language has been absolutely eradicated, and Ahab has been changed from a brooding,blasphemous,obsessive madman to a dashing,misunderstood hero who only wants to kill Moby Dick after his fiance(!) turns away from him after seeing his wooden leg. To this is added the standard evil brother who wants the fiance for himself, and a different ending!\"'\\n '7499,9899_4,\"Necessarily ridiculous film version the literary classic \"\"Moby Dick\"\". John Barrymore is Captain Ahab, who falls in love with the pastor\\'s daughter, Joan Bennett. His brother Derek is a rival for Ms. Bennett\\'s affections. When Mr. Barrymore loses his leg in a whaling accident, Bennett rejects him. He must slay the whale and win Bennett back...&lt;br /&gt;&lt;br /&gt;There are several scenes which may have thrilled 1930 theater audiences; particularly the scenes involving Barrymore losing his leg. The film hasn\\'t aged well, however; there are much better films from the time, both 1920s silents and 1930s talkies. The two name attractions, John Barrymore and Joan Bennett aren\\'t at their best. &lt;br /&gt;&lt;br /&gt;**** Moby Dick (8/14/30) Lloyd Bacon ~ John Barrymore, Joan Bennett, Lloyd Hughes\"'\\n '7500,9900_4,\"I suppose that any novel that\\'s as much of a downer as Moby Dick would not find much favor with Depression era audiences who had enough of their own troubles. But any resemblance to the classic Herman Melville novel is a pure coincidence. &lt;br /&gt;&lt;br /&gt;In fact half of the film is a prequel to the main story as we know it, not that too much of it was kept for the film. We first meet Ahab Creely (he\\'s got a last name and a brother) as one happy go lucky soul with two legs and intentions to marry Joan Bennett who is Father Mapple\\'s daughter. That brother Derek, played by Lloyd Hughes, also wants to marry Bennett.&lt;br /&gt;&lt;br /&gt;John Barrymore is Ahab in an over the top performance. Barrymore had not quite mastered the sound cinema and he gave out with all the silent era histrionics plus a stage voice that would have shaken the rafters of any movie theater this film was playing in.&lt;br /&gt;&lt;br /&gt;We see Ahab lose his leg to the great whale Moby Dick and I have to say the amputation scene was pretty gruesome. Of course this was all before the Code. Still I\\'m sure 1930 audiences shuddered.&lt;br /&gt;&lt;br /&gt;After that the story of Ahab\\'s hunt for the whale that he thinks made him unsightly in Joan Bennett\\'s eyes. That is not exactly Melville\\'s motivation, in fact there are no women characters in Moby Dick as he wrote it.&lt;br /&gt;&lt;br /&gt;One of the things Melville did was invest the crew of Ahab\\'s ship the Pequod with personalities. Other than Queequeg the cannibal harpooner the names are there, but not the personalities. Starbuck and Stubbs might as well be Smith and Jones.&lt;br /&gt;&lt;br /&gt;I\\'d see this version of Moby Dick strictly for curiosity and nothing else.\"']</td>\n",
              "    </tr>\n",
              "  </tbody>\n",
              "</table>\n",
              "<p>7502 rows × 2 columns</p>\n",
              "</div>"
            ],
            "text/plain": [
              "     filename                                                                                                                                                                                                                                                                                                                                                                                                                                                                                                                                                                                                                                                                                                                                                                                                                                                                                                                                                                                                                                                                                                                                                                                                                                                                                                                                                                                                                                                                                                                                                                                                                                                                                                                                                                                                                                                                                                                                                                                                                                                                                                                                                                                                                                                                                                                                                                                                                                                                                                                                                                                                                                                                                                                                                                                                                                                                                                                                                                                                                                                                                                                                                                                                                                                                                                                                                                                                                                                                                                                                                                                                                                                                                                                                                                                                                                                                                                                                                                                                                                                                                                                                                                                                                                                                                                                                                                                                                                                                                                                                                                                                                                                                                                                                                                                                                                                                                                                                                                                                                                                                                                                                                                                                                                                                                                                                                                                                                                                                                                                                                                                                                                                                                                                                                                                                                                                                                                                                     content\n",
              "0     2400_3   No, this wasn't one of the ten worst films of the 1980's, but it certainly skirts the bottom 100 somewhere. This movie looks like it was put on the shelf for two or three years and then released in 1981. How else would you explain special effects pre-dating \"An American Werewolf in London,\" disco still being considered cool, and Ronald Reagan not being the 40th President of the United States? While we're at it, let's not overlook those 1970's hairstyles in the 1950's and '60's. I've seen more of that here than in \"Happy Days\" & \"Laverne & Shirley\" combined.<br /><br />The one woman who elevates this movie to the \"so bad, it's good\" category was the late, great Elizabeth Hartman, but just barely. Biff plays as Miss Montgomery, the mousey high school teacher who becomes a sexpot, a stereotype that's been done to death and is still being churned out by Hollywood today, but even as a \"hot chick\" she retains her mousey qualities. Her call for help is evidence of this. She also looks much better as Miss Wimp. \"Seven bucks at the beauty parlor, shot to hell.\" She wasn't kidding.<br /><br />This isn't to say that there aren't any good parts elsewhere, they're just few and far between, and I'm not just saying that because I like Hartman. Incidentally, \"Teen Wolf\" was better than this. \"Teen Wolf Too\" was better than this, and that wasn't even so good.<br /><br />                                                                                                                                                                                                                                                                                                                                                                                                                                                                                                                                                                                                                                                                                                                                                                                                                                                                                                                                                                                                                                                                                                                                                                                                                                                                                                                                                                                                                                                                                                                                                                                                                                                                                                                                                                                                                                                                                                                                                                                                                                                                                                                                                                                                                                                                                                                                                                                                                                                                                                                                                                                                                                                                                                                                                                                                                                                                                                                                                                                                                                                                                                                                                                                                                                                                                                                                                                                                                                                                                                                                                                                                                                                                                                                                                                                                                                                                                                                                                                                                                                                                                                                                                                                                                                                                                                                                                                                                                                                                                                          \n",
              "1     2401_3   I've seen better teenage werewolf movies in my time, this one however, takes the cake. More comedy than horror, \"Full Moon High\" puts the \"c\" in cheese-fest. The star quality in this movie is not bad. Just the way it was made just sends in rolling downhill. Adam Arkin plays Tony, an all-American high school football player of the 50's who ends up not aging due to a werewolf bite in Transylvania. The most annoying part of the movie was the violin player. He drove everyone batty! Ed McMahon plays his ultra-conservative father who met his end of his own bullet. Adam's father Alan plays a shrink who seems to be not top of his game. After all these years Tony seems to be very out of place due to the attack, and then he'll get the chance to catch in his state. More laugh than blood shed, this movie is just a start in the 80's, \"Teen Wolf\" was an improvement from this! 1 out of 5 stars.                                                                                                                                                                                                                                                                                                                                                                                                                                                                                                                                                                                                                                                                                                                                                                                                                                                                                                                                                                                                                                                                                                                                                                                                                                                                                                                                                                                                                                                                                                                                                                                                                                                                                                                                                                                                                                                                                                                                                                                                                                                                                                                                                                                                                                                                                                                                                                                                                                                                                                                                                                                                                                                                                                                                                                                                                                                                                                                                                                                                                                                                                                                                                                                                                                                                                                                                                                                                                                                                                                                                                                                                                                                                                                                                                                                                                                                                                                                                                                                                                                                                                                                                                                                                                                                                                                                                                                                                                                                                                                                                                                                                                                                                                                                                                                                                                                                                                                                                                                                                              \n",
              "2     2402_3   A surprising misfire from the usually reliable Larry Cohen (God Told Me Too, Q, etc.), Full Moon High tries so hard to be funny and fails miserably, even with decent turns by Ed McMahon(!) and Kenneth Mars. Alan Arkin looks embarrassed throughout his performance and son Adam simply looks numb. This makes Teen Wolf look like a comedy classic.                                                                                                                                                                                                                                                                                                                                                                                                                                                                                                                                                                                                                                                                                                                                                                                                                                                                                                                                                                                                                                                                                                                                                                                                                                                                                                                                                                                                                                                                                                                                                                                                                                                                                                                                                                                                                                                                                                                                                                                                                                                                                                                                                                                                                                                                                                                                                                                                                                                                                                                                                                                                                                                                                                                                                                                                                                                                                                                                                                                                                                                                                                                                                                                                                                                                                                                                                                                                                                                                                                                                                                                                                                                                                                                                                                                                                                                                                                                                                                                                                                                                                                                                                                                                                                                                                                                                                                                                                                                                                                                                                                                                                                                                                                                                                                                                                                                                                                                                                                                                                                                                                                                                                                                                                                                                                                                                                                                                                                                                                                                                                                                   \n",
              "3     2403_1   Whack!!! I got this movie because Elizabeth Hartman was in it. I was disappointed to find out she was in like two short scenes towards the end. Other than that I was basically hitting the fast forward button the entire time. Some teenager goes on a trip to Romania with his Dad and gets bitten by a wolf and turns into a werewolf if there's a full moon. He kills his father and friends. About 30 years past but he doesn't age a bit and enrolls in a high school. There he meets a shy teacher whom he ends up biting and then has kids with her. This movie sucked and I don't recommend it to anyone. Read War and Peace instead. Only Ms. Hartman did a great job. Check out a very young Bob Saget in this one!!                                                                                                                                                                                                                                                                                                                                                                                                                                                                                                                                                                                                                                                                                                                                                                                                                                                                                                                                                                                                                                                                                                                                                                                                                                                                                                                                                                                                                                                                                                                                                                                                                                                                                                                                                                                                                                                                                                                                                                                                                                                                                                                                                                                                                                                                                                                                                                                                                                                                                                                                                                                                                                                                                                                                                                                                                                                                                                                                                                                                                                                                                                                                                                                                                                                                                                                                                                                                                                                                                                                                                                                                                                                                                                                                                                                                                                                                                                                                                                                                                                                                                                                                                                                                                                                                                                                                                                                                                                                                                                                                                                                                                                                                                                                                                                                                                                                                                                                                                                                                                                                                                                                                                                                                          \n",
              "4     2404_3   Man, was I disappointed.<br /><br />1) Adam Arkin is more whiny than Ross Geller from 'Friends' <br /><br />2) A great cast is wasted (Kenneth Mars, Alan Arkin, Ed McMahon, Pat Morita, Louis Nye) with this amateurish script.<br /><br />3) The movie suffers from horrible pacing. It jumps around through in a jumbled, confusing manner.<br /><br />4) The story doesn't even make sense. Why does he want to break the football streak? What about the stupid violin music? None of it is explained.<br /><br />5) It's not even funny. It's like a bunch of accountants trying to do improv, saying \"Lookit me! Lookit me I'm being funny!\" This was a bad attempt at making another \"Love At First Bite\".<br /><br />I like Larry Cohen movies, but man he failed here. I couldn't wait for the credits to roll. Horribly disappointed.                                                                                                                                                                                                                                                                                                                                                                                                                                                                                                                                                                                                                                                                                                                                                                                                                                                                                                                                                                                                                                                                                                                                                                                                                                                                                                                                                                                                                                                                                                                                                                                                                                                                                                                                                                                                                                                                                                                                                                                                                                                                                                                                                                                                                                                                                                                                                                                                                                                                                                                                                                                                                                                                                                                                                                                                                                                                                                                                                                                                                                                                                                                                                                                                                                                                                                                                                                                                                                                                                                                                                                                                                                                                                                                                                                                                                                                                                                                                                                                                                                                                                                                                                                                                                                                                                                                                                                                                                                                                                                                                                                                                                                                                                                                                                                                                                                                                                                                                                                                                                                                                                          \n",
              "...      ...                                                                                                                                                                                                                                                                                                                                                                                                                                                                                                                                                                                                                                                                                                                                                                                                                                                ...                                                                                                                                                                                                                                                                                                                                                                                                                                                                                                                                                                                                                                                                                                                                                                                                                                                                                                                                                                                                                                                                                                                                                                                                                                                                                                                                                                                                                                                                                                                                                                                                                                                                                                                                                                                                                                                                                                                                                                                                                                                                                                                                                                                                                                                                                                                                                                                                                                                                                                                                                                                                                                                                                                                                                                                                                                                                                                                                                                                                                                                                                                                                                                                                                                                                                                                                                                                                                                                                                                                                                                                                                                                                                                                                                                                                                                                                                                                                                                                                                                                                                                                                                                                                                                                                                                                                                                                                                                                                                                                                                                                                                                                                                                                                                                                                                                                                                                                                                                                                                                                                                          \n",
              "7497  9897_4   I found this a good movie to pass your time, but not by any chance of any historical value. The portrayal of Cleopatra reminded me a cheap soap opera.<br /><br />The twist of the facts is... funny! She gave birth while feeding her people!?!? O please... A pregnant Queen of Egypt (especially this one) would not bother to go from one room to the other for that reason! They tried to make her appear a saint for God's sake! And the way they tried to justify her murdering her own sister... beyond description.<br /><br />Cleopatra was the greatest politician of her time. Her decisions were based anything but her feelings and morals. She did everything for only two reasons: Power and self-preservation! She was borne in a family where she had to straggle for survival, something she did very well. Anything that stood on her way was either murdered (her brothers and sister) or seduced (Ceasar and Mark Anthony).<br /><br />Unfortunately Octavian was too powerful to kill and too... gay to be seduced. So, he was her end...                                                                                                                                                                                                                                                                                                                                                                                                                                                                                                                                                                                                                                                                                                                                                                                                                                                                                                                                                                                                                                                                                                                                                                                                                                                                                                                                                                                                                                                                                                                                                                                                                                                                                                                                                                                                                                                                                                                                                                                                                                                                                                                                                                                                                                                                                                                                                                                                                                                                                                                                                                                                                                                                                                                                                                                                                                                                                                                                                                                                                                                                                                                                                                                                                                                                                                                                                                                                                                                                                                                                                                                                                                                                                                                                                                                                                                                                                                                                                                                                                                                                                                                                                                                                                                                                                                                                                                                                                                                                                                                                                                                                                                                                                                                                                                                                                                                                          \n",
              "7498  9898_1   This version of \"Moby Dick\" insults the audience by claiming it is based on Melville's novel-even going so far as to show a phony first chapter sentence rather than the famous \"Call me Ishmael\". In addition to having atrocious acting, even from John Barrymore,this is perhaps the greatest example of how far Hollywood (especially early Hollywood) would go to revise and change a famous novel just to beef up its chances at the box office.All of the novel's beautiful,poetic language has been absolutely eradicated, and Ahab has been changed from a brooding,blasphemous,obsessive madman to a dashing,misunderstood hero who only wants to kill Moby Dick after his fiance(!) turns away from him after seeing his wooden leg. To this is added the standard evil brother who wants the fiance for himself, and a different ending!                                                                                                                                                                                                                                                                                                                                                                                                                                                                                                                                                                                                                                                                                                                                                                                                                                                                                                                                                                                                                                                                                                                                                                                                                                                                                                                                                                                                                                                                                                                                                                                                                                                                                                                                                                                                                                                                                                                                                                                                                                                                                                                                                                                                                                                                                                                                                                                                                                                                                                                                                                                                                                                                                                                                                                                                                                                                                                                                                                                                                                                                                                                                                                                                                                                                                                                                                                                                                                                                                                                                                                                                                                                                                                                                                                                                                                                                                                                                                                                                                                                                                                                                                                                                                                                                                                                                                                                                                                                                                                                                                                                                                                                                                                                                                                                                                                                                                                                                                                                                                                                                                      \n",
              "7499  9899_4   Necessarily ridiculous film version the literary classic \"Moby Dick\". John Barrymore is Captain Ahab, who falls in love with the pastor's daughter, Joan Bennett. His brother Derek is a rival for Ms. Bennett's affections. When Mr. Barrymore loses his leg in a whaling accident, Bennett rejects him. He must slay the whale and win Bennett back...<br /><br />There are several scenes which may have thrilled 1930 theater audiences; particularly the scenes involving Barrymore losing his leg. The film hasn't aged well, however; there are much better films from the time, both 1920s silents and 1930s talkies. The two name attractions, John Barrymore and Joan Bennett aren't at their best. <br /><br />**** Moby Dick (8/14/30) Lloyd Bacon ~ John Barrymore, Joan Bennett, Lloyd Hughes                                                                                                                                                                                                                                                                                                                                                                                                                                                                                                                                                                                                                                                                                                                                                                                                                                                                                                                                                                                                                                                                                                                                                                                                                                                                                                                                                                                                                                                                                                                                                                                                                                                                                                                                                                                                                                                                                                                                                                                                                                                                                                                                                                                                                                                                                                                                                                                                                                                                                                                                                                                                                                                                                                                                                                                                                                                                                                                                                                                                                                                                                                                                                                                                                                                                                                                                                                                                                                                                                                                                                                                                                                                                                                                                                                                                                                                                                                                                                                                                                                                                                                                                                                                                                                                                                                                                                                                                                                                                                                                                                                                                                                                                                                                                                                                                                                                                                                                                                                                                                                                                                                                               \n",
              "7500  9900_4   I suppose that any novel that's as much of a downer as Moby Dick would not find much favor with Depression era audiences who had enough of their own troubles. But any resemblance to the classic Herman Melville novel is a pure coincidence. <br /><br />In fact half of the film is a prequel to the main story as we know it, not that too much of it was kept for the film. We first meet Ahab Creely (he's got a last name and a brother) as one happy go lucky soul with two legs and intentions to marry Joan Bennett who is Father Mapple's daughter. That brother Derek, played by Lloyd Hughes, also wants to marry Bennett.<br /><br />John Barrymore is Ahab in an over the top performance. Barrymore had not quite mastered the sound cinema and he gave out with all the silent era histrionics plus a stage voice that would have shaken the rafters of any movie theater this film was playing in.<br /><br />We see Ahab lose his leg to the great whale Moby Dick and I have to say the amputation scene was pretty gruesome. Of course this was all before the Code. Still I'm sure 1930 audiences shuddered.<br /><br />After that the story of Ahab's hunt for the whale that he thinks made him unsightly in Joan Bennett's eyes. That is not exactly Melville's motivation, in fact there are no women characters in Moby Dick as he wrote it.<br /><br />One of the things Melville did was invest the crew of Ahab's ship the Pequod with personalities. Other than Queequeg the cannibal harpooner the names are there, but not the personalities. Starbuck and Stubbs might as well be Smith and Jones.<br /><br />I'd see this version of Moby Dick strictly for curiosity and nothing else.                                                                                                                                                                                                                                                                                                                                                                                                                                                                                                                                                                                                                                                                                                                                                                                                                                                                                                                                                                                                                                                                                                                                                                                                                                                                                                                                                                                                                                                                                                                                                                                                                                                                                                                                                                                                                                                                                                                                                                                                                                                                                                                                                                                                                                                                                                                                                                                                                                                                                                                                                                                                                                                                                                                                                                                                                                                                                                                                                                                                                                                                                                                                                                                                                                                                                                                                                                                                                                                                                                                                                                                                                                                                                                                                                                                                                                                                                                                                                                                                                                                                                                                                                                                                                \n",
              "7501  .csv     [',filename,content'\\n '0,2400_3,\"No, this wasn\\'t one of the ten worst films of the 1980\\'s, but it certainly skirts the bottom 100 somewhere. This movie looks like it was put on the shelf for two or three years and then released in 1981. How else would you explain special effects pre-dating \"\"An American Werewolf in London,\"\" disco still being considered cool, and Ronald Reagan not being the 40th President of the United States? While we\\'re at it, let\\'s not overlook those 1970\\'s hairstyles in the 1950\\'s and \\'60\\'s. I\\'ve seen more of that here than in \"\"Happy Days\"\" & \"\"Laverne & Shirley\"\" combined.<br /><br />The one woman who elevates this movie to the \"\"so bad, it\\'s good\"\" category was the late, great Elizabeth Hartman, but just barely. Biff plays as Miss Montgomery, the mousey high school teacher who becomes a sexpot, a stereotype that\\'s been done to death and is still being churned out by Hollywood today, but even as a \"\"hot chick\"\" she retains her mousey qualities. Her call for help is evidence of this. She also looks much better as Miss Wimp. \"\"Seven bucks at the beauty parlor, shot to hell.\"\" She wasn\\'t kidding.<br /><br />This isn\\'t to say that there aren\\'t any good parts elsewhere, they\\'re just few and far between, and I\\'m not just saying that because I like Hartman. Incidentally, \"\"Teen Wolf\"\" was better than this. \"\"Teen Wolf Too\"\" was better than this, and that wasn\\'t even so good.<br /><br />\"'\\n '1,2401_3,\"I\\'ve seen better teenage werewolf movies in my time, this one however, takes the cake. More comedy than horror, \"\"Full Moon High\"\" puts the \"\"c\"\" in cheese-fest. The star quality in this movie is not bad. Just the way it was made just sends in rolling downhill. Adam Arkin plays Tony, an all-American high school football player of the 50\\'s who ends up not aging due to a werewolf bite in Transylvania. The most annoying part of the movie was the violin player. He drove everyone batty! Ed McMahon plays his ultra-conservative father who met his end of his own bullet. Adam\\'s father Alan plays a shrink who seems to be not top of his game. After all these years Tony seems to be very out of place due to the attack, and then he\\'ll get the chance to catch in his state. More laugh than blood shed, this movie is just a start in the 80\\'s, \"\"Teen Wolf\"\" was an improvement from this! 1 out of 5 stars.\"'\\n ...\\n '7498,9898_1,\"This version of \"\"Moby Dick\"\" insults the audience by claiming it is based on Melville\\'s novel-even going so far as to show a phony first chapter sentence rather than the famous \"\"Call me Ishmael\"\". In addition to having atrocious acting, even from John Barrymore,this is perhaps the greatest example of how far Hollywood (especially early Hollywood) would go to revise and change a famous novel just to beef up its chances at the box office.All of the novel\\'s beautiful,poetic language has been absolutely eradicated, and Ahab has been changed from a brooding,blasphemous,obsessive madman to a dashing,misunderstood hero who only wants to kill Moby Dick after his fiance(!) turns away from him after seeing his wooden leg. To this is added the standard evil brother who wants the fiance for himself, and a different ending!\"'\\n '7499,9899_4,\"Necessarily ridiculous film version the literary classic \"\"Moby Dick\"\". John Barrymore is Captain Ahab, who falls in love with the pastor\\'s daughter, Joan Bennett. His brother Derek is a rival for Ms. Bennett\\'s affections. When Mr. Barrymore loses his leg in a whaling accident, Bennett rejects him. He must slay the whale and win Bennett back...<br /><br />There are several scenes which may have thrilled 1930 theater audiences; particularly the scenes involving Barrymore losing his leg. The film hasn\\'t aged well, however; there are much better films from the time, both 1920s silents and 1930s talkies. The two name attractions, John Barrymore and Joan Bennett aren\\'t at their best. <br /><br />**** Moby Dick (8/14/30) Lloyd Bacon ~ John Barrymore, Joan Bennett, Lloyd Hughes\"'\\n '7500,9900_4,\"I suppose that any novel that\\'s as much of a downer as Moby Dick would not find much favor with Depression era audiences who had enough of their own troubles. But any resemblance to the classic Herman Melville novel is a pure coincidence. <br /><br />In fact half of the film is a prequel to the main story as we know it, not that too much of it was kept for the film. We first meet Ahab Creely (he\\'s got a last name and a brother) as one happy go lucky soul with two legs and intentions to marry Joan Bennett who is Father Mapple\\'s daughter. That brother Derek, played by Lloyd Hughes, also wants to marry Bennett.<br /><br />John Barrymore is Ahab in an over the top performance. Barrymore had not quite mastered the sound cinema and he gave out with all the silent era histrionics plus a stage voice that would have shaken the rafters of any movie theater this film was playing in.<br /><br />We see Ahab lose his leg to the great whale Moby Dick and I have to say the amputation scene was pretty gruesome. Of course this was all before the Code. Still I\\'m sure 1930 audiences shuddered.<br /><br />After that the story of Ahab\\'s hunt for the whale that he thinks made him unsightly in Joan Bennett\\'s eyes. That is not exactly Melville\\'s motivation, in fact there are no women characters in Moby Dick as he wrote it.<br /><br />One of the things Melville did was invest the crew of Ahab\\'s ship the Pequod with personalities. Other than Queequeg the cannibal harpooner the names are there, but not the personalities. Starbuck and Stubbs might as well be Smith and Jones.<br /><br />I\\'d see this version of Moby Dick strictly for curiosity and nothing else.\"']\n",
              "\n",
              "[7502 rows x 2 columns]"
            ]
          },
          "metadata": {
            "tags": []
          },
          "execution_count": 139
        }
      ]
    },
    {
      "cell_type": "code",
      "metadata": {
        "id": "AuIKQB_ii1d4",
        "colab": {
          "base_uri": "https://localhost:8080/",
          "height": 1000
        },
        "outputId": "8eb2c659-f0c2-4b37-9936-8e8c2b877d94"
      },
      "source": [
        "train_pos_df = pd.read_csv(path+'/pos/export.csv')\r\n",
        "train_pos_df.drop('Unnamed: 0', inplace=True, axis=1)\r\n",
        "train_pos_df"
      ],
      "execution_count": 140,
      "outputs": [
        {
          "output_type": "execute_result",
          "data": {
            "text/html": [
              "<div>\n",
              "<style scoped>\n",
              "    .dataframe tbody tr th:only-of-type {\n",
              "        vertical-align: middle;\n",
              "    }\n",
              "\n",
              "    .dataframe tbody tr th {\n",
              "        vertical-align: top;\n",
              "    }\n",
              "\n",
              "    .dataframe thead th {\n",
              "        text-align: right;\n",
              "    }\n",
              "</style>\n",
              "<table border=\"1\" class=\"dataframe\">\n",
              "  <thead>\n",
              "    <tr style=\"text-align: right;\">\n",
              "      <th></th>\n",
              "      <th>filename</th>\n",
              "      <th>content</th>\n",
              "    </tr>\n",
              "  </thead>\n",
              "  <tbody>\n",
              "    <tr>\n",
              "      <th>0</th>\n",
              "      <td>1000_8</td>\n",
              "      <td>I liked the film. Some of the action scenes were very interesting, tense and well done. I especially liked the opening scene which had a semi truck in it. A very tense action scene that seemed well done.&lt;br /&gt;&lt;br /&gt;Some of the transitional scenes were filmed in interesting ways such as time lapse photography, unusual colors, or interesting angles. Also the film is funny is several parts. I also liked how the evil guy was portrayed too. I'd give the film an 8 out of 10.</td>\n",
              "    </tr>\n",
              "    <tr>\n",
              "      <th>1</th>\n",
              "      <td>1001_8</td>\n",
              "      <td>Somewhat funny and well-paced action thriller that has Jamie Foxx as a hapless, fast-talking hoodlum who is chosen by an overly demanding U.S. Treasury Agent (David Morse) to be released on the streets of New York to find a picky computer thief/hacker (Doug Hutchinson), who stole forty-two million dollars from the treasury and left two guards shot dead.&lt;br /&gt;&lt;br /&gt;\"Bait\" marks the sophomore feature for Antoine Fuqua (\"The Replacement Killers\") and he handles the task fairly well even though it doesn't top his first movie. What the two films have in common is the action sequences, which are flat-out excellent.&lt;br /&gt;&lt;br /&gt;Foxx is pretty good here although his character is annoying in the beginning, but throughout the film, I began to catch on. Hutchinson is marvelous as the mastermind who can be ruthless as John Malkovich and patient as the late Laurence Olivier was in \"Marathon Man\". Morse is okay as the agent who comes up with the ingenious plan to get whoever did it at all cost.</td>\n",
              "    </tr>\n",
              "    <tr>\n",
              "      <th>2</th>\n",
              "      <td>1002_7</td>\n",
              "      <td>Just two comments....SEVEN years apart? Hardly evidence of the film's relentless pulling-power! As has been mentioned, the low-budget telemovie status of 13 GANTRY ROW is a mitigating factor in its limited appeal. Having said that however the thing is not without merit - either as entertainment or as a fright outing per se.&lt;br /&gt;&lt;br /&gt;True, the plot at its most basic is a re-working of THE AMITYVILLE HORROR - only without much horror. More a case of intrigue! Gibney might have made a more worthwhile impression if she had played Halifax -investigating a couple of seemingly unconnected murders with the \"house\" as the main suspect. The script is better than average and the production overall of a high standard. It just fails to engage the viewer particularly at key moments.&lt;br /&gt;&lt;br /&gt;Having picked the DVD up for a mere $3.95 last week at my regular video store, I cannot begrudge the expenditure. $10.95 would be an acceptable price for the film. Just don't expect fireworks!</td>\n",
              "    </tr>\n",
              "    <tr>\n",
              "      <th>3</th>\n",
              "      <td>1003_10</td>\n",
              "      <td>Another Aussie masterpiece, this delves into the world of the unknown and the supernatural, and it does very well. It doesn't resort to the big special effects overkill like American flicks, it focuses more on emotional impact. A relatively simple plot that Rebecca Gibney &amp; Co. bring to life. It follows the story of a couple who buy an old house that was supposedly home to a very old woman who never went outside, and whose husband disappeared in mysterious circumstances a century ago. Strange things begin to happen in the house, and John Adam begins to turn into the man who disappeared, who was actually a mass murderer. Highly recommended. 8/10</td>\n",
              "    </tr>\n",
              "    <tr>\n",
              "      <th>4</th>\n",
              "      <td>1004_7</td>\n",
              "      <td>After a brief prologue showing a masked man stalking and then slashing the throat of an older gentleman on a deserted, urban, turn of the century Australian street, we meet Julie (Rebecca Gibney) and Peter (John Adam) as they go out house hunting. They manage to get a loan for a fixer-upper on a posh Sydney street, but it turns out that physical disrepair is not the only problem with their new home. It just may be haunted.&lt;br /&gt;&lt;br /&gt;13 Gantry Row combines a memorable if somewhat clichéd story with good to average direction by Catherine Millar into a slightly above average shocker.&lt;br /&gt;&lt;br /&gt;The biggest flaws seem partially due to budget, but not wholly excusable to that hurdle. A crucial problem occurs at the beginning of the film. The opening \"thriller scene\" features some wonky editing. Freeze frames and series of stills are used to cover up the fact that there's not much action. Suspense should be created from staging, not fancy \"fix it in the mix\" techniques. There is great atmosphere in the scene from the location, the lighting, the fog and such, but the camera should be slowly following the killer and the victim, cutting back and forth from one to the other as we track down the street, showing their increasing proximity. The tracking and the cuts need to be slow. The attack needed to be longer, clearer and better blocked. As it stands, the scene has a strong \"made for television\" feel, and a low budget one at that.&lt;br /&gt;&lt;br /&gt;After this scene we move to the present and the flow of the film greatly improves. The story has a lot of similarities to The Amityville Horror (1979), though the budget forces a much subtler approach. Millar and scriptwriter Tony Morphett effectively create a lot of slyly creepy scenarios, often dramatic in nature instead of special effects-oriented, such as the mysterious man who arrives to take away the old slabs of iron, which had been bizarrely affixed to an interior wall.&lt;br /&gt;&lt;br /&gt;For some horror fans, the first section of the film might be a little heavy on realist drama. At least the first half hour of the film is primarily about Julie and Peter trying to arrange financing for the house and then trying to settle in. But Morphett writes fine, intelligent dialogue. The material is done well enough that it's often as suspenseful as the more traditional thriller aspects that arise later--especially if you've gone through similar travails while trying to buy your own house.&lt;br /&gt;&lt;br /&gt;Once they get settled and things begin to get weirder, even though the special effects often leave much to be desired, the ideas are good. The performances help create tension. There isn't an abundance of death and destruction in the film--there's more of an abundance of home repair nightmares. But neither menace is really the point.&lt;br /&gt;&lt;br /&gt;The point is human relationships. There are a number of character arcs that are very interesting. The house exists more as a metaphor and a catalyst for stress in a romantic relationship that can make it go sour and possibly destroy it. That it's in a posh neighborhood, and that the relationship is between two successful yuppies, shows that these problems do not only afflict those who can place blame with some external woe, such as money or health problems. Peter's character evolves from a striving corporate employee with \"normal\" work-based friendships to someone with more desperation as he becomes subversive, scheming to attain something more liberating and meaningful. At the same time, we learn just how shallow those professional friendships can be. Julie goes through an almost literal nervous breakdown, but finally finds liberation when she liberates herself from her failing romantic relationship.&lt;br /&gt;&lt;br /&gt;Although 13 Gantry Row never quite transcends its made-for-television clunkiness, as a TV movie, this is a pretty good one, with admirable ambitions. Anyone fond of haunted house films, psycho films or horror/thrillers with a bit more metaphorical depth should find plenty to enjoy. It certainly isn't worth spending $30 for a DVD (that was the price my local PBS station was asking for a copy of the film after they showed it (factoring in shipping and handling)), but it's worth a rental, and it's definitely worth watching for free.</td>\n",
              "    </tr>\n",
              "    <tr>\n",
              "      <th>...</th>\n",
              "      <td>...</td>\n",
              "      <td>...</td>\n",
              "    </tr>\n",
              "    <tr>\n",
              "      <th>7497</th>\n",
              "      <td>996_9</td>\n",
              "      <td>This movie surprised me. Some things were \"clicheish\" and some technological elements reminded me of the movie \"Enemy of the State\" starring Will Smith. But for the most part very entertaining- good mix with Jamie Foxx and comedian Mike Epps and the 2 wannabe thugs Julio and Ramundo (providing some comic relief). This is a movie you can watch over again-say... some Wednesday night when nothing else is on. I gave it a 9 for entertainment value.</td>\n",
              "    </tr>\n",
              "    <tr>\n",
              "      <th>7498</th>\n",
              "      <td>997_7</td>\n",
              "      <td>I have to agree with most of the other posts. Was it a comedy? a drama? to me it leaned a little to much towards the comedy side. I could have been a great movie without the comedy and it was horribly contrived. Jamie keeps running into the Julio and whats his name. In New York, how many times do you run into someone you know in downtown Cleveland.And just how could Robert Pastorelli dig up Yankee Stadium to hide the gold. Again, a comedy or drama? But it was still entertaining especially for a Sunday morning. I enjoyed Kimberly Elise's performance, she certainly a beautiful actress and seems to take her craft seriously. She is a younger actress that is going to be viable.</td>\n",
              "    </tr>\n",
              "    <tr>\n",
              "      <th>7499</th>\n",
              "      <td>998_7</td>\n",
              "      <td>This is a really interesting movie. It is an action movie with comedy mixed in. Foxx teams up with comedian Epps in this movie to give it a comedic spin. It will keep you wondering whats going to happen to Foxx next. It was a well shot movie, the director used the right colors in this movie(dark blue colors) to give it the right kind of feel. Kimberly Elise also starred in this movie and it is always a pleasure to see her on the big screen. She plays her role well. Even Jamie Kennedy is in this movie. It's worth seeing it you haven't seen it. It's definitely worth having if you are a Jamie Foxx fan. It deserves more credit than it is actually given.</td>\n",
              "    </tr>\n",
              "    <tr>\n",
              "      <th>7500</th>\n",
              "      <td>999_10</td>\n",
              "      <td>I am amazed at how this movie(and most others has a average 5 stars and lower when there are crappy movies averaging 7 to 10 stars on IMDb. The fanboy mentality strikes again. When this movie came out just about everyone slammed it. Even my ex-girlfriend said this movie questionable. Years later I sat down to watch this movie and I found myself enjoying. Even laughing quite a bit. This and The Replacement Killers are the movies that had people labeling the director Antoine Fuqua as the black Michael Bay. I don't see how since most of Fuqua's movies are smarter than anything Michael Bay has came up with. At any rate...&lt;br /&gt;&lt;br /&gt;Story: Alvin Sanders(Jamie Foxx) is former convict that is used by a no-nonsense Treasury agent Edgar(David Morse) as a pawn to catch a killer named Bristol(Doug Hutchinson). Alvin's every moves are tracked by a bug implanted in his jaw after an accident. While these agents are after Bristol, Bristol is after the gold bricks that were taken in a heist gone awry.&lt;br /&gt;&lt;br /&gt;Jamie Foxx is funny as well as great as Alvin Sanders. Alvin is a fast-talker that is a lot smarter than he lets on. Doug Hutchinson is okay as Bristol. He can be over-the-top sometimes in his John Malkovitchesque demeanor. He was better here than he was as Looney Bin Jim in Punisher: War Zone. David Morse is good as the hard edged treasury agent. Even Mike Epps is funny as Alvin's brother Stevie. Both him and Jamie had some funny moments on screen.&lt;br /&gt;&lt;br /&gt;The only flaw of the movie is the some of the attempts at a thriller fall flat. The scenario at the horse race track is way over-the-top but I couldn't look away. The director went all out there so he gets points for that. Plus the bomb scene with the treasury agent tied to a chair while the detonator rests on the door was pretty nifty.&lt;br /&gt;&lt;br /&gt;All in all Bait is not a bad movie by a long shot. Its never boring, its always funny and I wasn't checking my watch every minute. That should count for something. Bait is one of the most underrated movies of 2000 period.&lt;br /&gt;&lt;br /&gt;PS: to the reviewer that claimed this movie is too violent.... How long have you been living under a rock? I'm pretty sure you've seen the Die Hard series and EVERY movie by Quentin Tarantino. But those movies aren't violent right? Weirdo.</td>\n",
              "    </tr>\n",
              "    <tr>\n",
              "      <th>7501</th>\n",
              "      <td>.csv</td>\n",
              "      <td>[',filename,content'\\n '0,1000_8,\"I liked the film. Some of the action scenes were very interesting, tense and well done. I especially liked the opening scene which had a semi truck in it. A very tense action scene that seemed well done.&lt;br /&gt;&lt;br /&gt;Some of the transitional scenes were filmed in interesting ways such as time lapse photography, unusual colors, or interesting angles. Also the film is funny is several parts. I also liked how the evil guy was portrayed too. I\\'d give the film an 8 out of 10.\"'\\n '1,1001_8,\"Somewhat funny and well-paced action thriller that has Jamie Foxx as a hapless, fast-talking hoodlum who is chosen by an overly demanding U.S. Treasury Agent (David Morse) to be released on the streets of New York to find a picky computer thief/hacker (Doug Hutchinson), who stole forty-two million dollars from the treasury and left two guards shot dead.&lt;br /&gt;&lt;br /&gt;\"\"Bait\"\" marks the sophomore feature for Antoine Fuqua (\"\"The Replacement Killers\"\") and he handles the task fairly well even though it doesn\\'t top his first movie. What the two films have in common is the action sequences, which are flat-out excellent.&lt;br /&gt;&lt;br /&gt;Foxx is pretty good here although his character is annoying in the beginning, but throughout the film, I began to catch on. Hutchinson is marvelous as the mastermind who can be ruthless as John Malkovich and patient as the late Laurence Olivier was in \"\"Marathon Man\"\". Morse is okay as the agent who comes up with the ingenious plan to get whoever did it at all cost.\"'\\n ...\\n '7498,997_7,\"I have to agree with most of the other posts. Was it a comedy? a drama? to me it leaned a little to much towards the comedy side. I could have been a great movie without the comedy and it was horribly contrived. Jamie keeps running into the Julio and whats his name. In New York, how many times do you run into someone you know in downtown Cleveland.And just how could Robert Pastorelli dig up Yankee Stadium to hide the gold. Again, a comedy or drama? But it was still entertaining especially for a Sunday morning. I enjoyed Kimberly Elise\\'s performance, she certainly a beautiful actress and seems to take her craft seriously. She is a younger actress that is going to be viable.\"'\\n '7499,998_7,\"This is a really interesting movie. It is an action movie with comedy mixed in. Foxx teams up with comedian Epps in this movie to give it a comedic spin. It will keep you wondering whats going to happen to Foxx next. It was a well shot movie, the director used the right colors in this movie(dark blue colors) to give it the right kind of feel. Kimberly Elise also starred in this movie and it is always a pleasure to see her on the big screen. She plays her role well. Even Jamie Kennedy is in this movie. It\\'s worth seeing it you haven\\'t seen it. It\\'s definitely worth having if you are a Jamie Foxx fan. It deserves more credit than it is actually given.\"'\\n '7500,999_10,\"I am amazed at how this movie(and most others has a average 5 stars and lower when there are crappy movies averaging 7 to 10 stars on IMDb. The fanboy mentality strikes again. When this movie came out just about everyone slammed it. Even my ex-girlfriend said this movie questionable. Years later I sat down to watch this movie and I found myself enjoying. Even laughing quite a bit. This and The Replacement Killers are the movies that had people labeling the director Antoine Fuqua as the black Michael Bay. I don\\'t see how since most of Fuqua\\'s movies are smarter than anything Michael Bay has came up with. At any rate...&lt;br /&gt;&lt;br /&gt;Story: Alvin Sanders(Jamie Foxx) is former convict that is used by a no-nonsense Treasury agent Edgar(David Morse) as a pawn to catch a killer named Bristol(Doug Hutchinson). Alvin\\'s every moves are tracked by a bug implanted in his jaw after an accident. While these agents are after Bristol, Bristol is after the gold bricks that were taken in a heist gone awry.&lt;br /&gt;&lt;br /&gt;Jamie Foxx is funny as well as great as Alvin Sanders. Alvin is a fast-talker that is a lot smarter than he lets on. Doug Hutchinson is okay as Bristol. He can be over-the-top sometimes in his John Malkovitchesque demeanor. He was better here than he was as Looney Bin Jim in Punisher: War Zone. David Morse is good as the hard edged treasury agent. Even Mike Epps is funny as Alvin\\'s brother Stevie. Both him and Jamie had some funny moments on screen.&lt;br /&gt;&lt;br /&gt;The only flaw of the movie is the some of the attempts at a thriller fall flat. The scenario at the horse race track is way over-the-top but I couldn\\'t look away. The director went all out there so he gets points for that. Plus the bomb scene with the treasury agent tied to a chair while the detonator rests on the door was pretty nifty.&lt;br /&gt;&lt;br /&gt;All in all Bait is not a bad movie by a long shot. Its never boring, its always funny and I wasn\\'t checking my watch every minute. That should count for something. Bait is one of the most underrated movies of 2000 period.&lt;br /&gt;&lt;br /&gt;PS: to the reviewer that claimed this movie is too violent.... How long have you been living under a rock? I\\'m pretty sure you\\'ve seen the Die Hard series and EVERY movie by Quentin Tarantino. But those movies aren\\'t violent right? Weirdo.\"']</td>\n",
              "    </tr>\n",
              "  </tbody>\n",
              "</table>\n",
              "<p>7502 rows × 2 columns</p>\n",
              "</div>"
            ],
            "text/plain": [
              "     filename                                                                                                                                                                                                                                                                                                                                                                                                                                                                                                                                                                                                                                                                                                                                                                                                                                                                                                                                                                                                                                                                                                                                                                                                                                                                                                                                                                                                                                                                                                                                                                                                                                                                                                                                                                                                                                                                                                                                                                                                                                                                                                                                                                                                                                                                                                                                                                                                                                                                                                                                                                                                                                                                                                                                                                                                                                                                                                                                                                                                                                                                                                                                                                                                                                                                                                                                                                                                                                                                                                                                                                                                                                                                                                                                                                                                                                                                                                                                                                                                                                                                                                                                                                                                                                                                                                                                                                                                                                                                                                                                                                                                                                                                                                                                                                                                                                                                                                                                                                                                                                                                                                                                                                                                                                                                                                                                                                                                                                                   content\n",
              "0     1000_8   I liked the film. Some of the action scenes were very interesting, tense and well done. I especially liked the opening scene which had a semi truck in it. A very tense action scene that seemed well done.<br /><br />Some of the transitional scenes were filmed in interesting ways such as time lapse photography, unusual colors, or interesting angles. Also the film is funny is several parts. I also liked how the evil guy was portrayed too. I'd give the film an 8 out of 10.                                                                                                                                                                                                                                                                                                                                                                                                                                                                                                                                                                                                                                                                                                                                                                                                                                                                                                                                                                                                                                                                                                                                                                                                                                                                                                                                                                                                                                                                                                                                                                                                                                                                                                                                                                                                                                                                                                                                                                                                                                                                                                                                                                                                                                                                                                                                                                                                                                                                                                                                                                                                                                                                                                                                                                                                                                                                                                                                                                                                                                                                                                                                                                                                                                                                                                                                                                                                                                                                                                                                                                                                                                                                                                                                                                                                                                                                                                                                                                                                                                                                                                                                                                                                                                                                                                                                                                                                                                                                                                                                                                                                                                                                                                                                                                                                                                                                                                                                                               \n",
              "1     1001_8   Somewhat funny and well-paced action thriller that has Jamie Foxx as a hapless, fast-talking hoodlum who is chosen by an overly demanding U.S. Treasury Agent (David Morse) to be released on the streets of New York to find a picky computer thief/hacker (Doug Hutchinson), who stole forty-two million dollars from the treasury and left two guards shot dead.<br /><br />\"Bait\" marks the sophomore feature for Antoine Fuqua (\"The Replacement Killers\") and he handles the task fairly well even though it doesn't top his first movie. What the two films have in common is the action sequences, which are flat-out excellent.<br /><br />Foxx is pretty good here although his character is annoying in the beginning, but throughout the film, I began to catch on. Hutchinson is marvelous as the mastermind who can be ruthless as John Malkovich and patient as the late Laurence Olivier was in \"Marathon Man\". Morse is okay as the agent who comes up with the ingenious plan to get whoever did it at all cost.                                                                                                                                                                                                                                                                                                                                                                                                                                                                                                                                                                                                                                                                                                                                                                                                                                                                                                                                                                                                                                                                                                                                                                                                                                                                                                                                                                                                                                                                                                                                                                                                                                                                                                                                                                                                                                                                                                                                                                                                                                                                                                                                                                                                                                                                                                                                                                                                                                                                                                                                                                                                                                                                                                                                                                                                                                                                                                                                                                                                                                                                                                                                                                                                                                                                                                                                                                                                                                                                                                                                                                                                                                                                                                                                                                                                                                                                                                                                                                                                                                                                                                                                                                                                                                                                                                                                                                                                                      \n",
              "2     1002_7   Just two comments....SEVEN years apart? Hardly evidence of the film's relentless pulling-power! As has been mentioned, the low-budget telemovie status of 13 GANTRY ROW is a mitigating factor in its limited appeal. Having said that however the thing is not without merit - either as entertainment or as a fright outing per se.<br /><br />True, the plot at its most basic is a re-working of THE AMITYVILLE HORROR - only without much horror. More a case of intrigue! Gibney might have made a more worthwhile impression if she had played Halifax -investigating a couple of seemingly unconnected murders with the \"house\" as the main suspect. The script is better than average and the production overall of a high standard. It just fails to engage the viewer particularly at key moments.<br /><br />Having picked the DVD up for a mere $3.95 last week at my regular video store, I cannot begrudge the expenditure. $10.95 would be an acceptable price for the film. Just don't expect fireworks!                                                                                                                                                                                                                                                                                                                                                                                                                                                                                                                                                                                                                                                                                                                                                                                                                                                                                                                                                                                                                                                                                                                                                                                                                                                                                                                                                                                                                                                                                                                                                                                                                                                                                                                                                                                                                                                                                                                                                                                                                                                                                                                                                                                                                                                                                                                                                                                                                                                                                                                                                                                                                                                                                                                                                                                                                                                                                                                                                                                                                                                                                                                                                                                                                                                                                                                                                                                                                                                                                                                                                                                                                                                                                                                                                                                                                                                                                                                                                                                                                                                                                                                                                                                                                                                                                                                                                                                                                               \n",
              "3     1003_10  Another Aussie masterpiece, this delves into the world of the unknown and the supernatural, and it does very well. It doesn't resort to the big special effects overkill like American flicks, it focuses more on emotional impact. A relatively simple plot that Rebecca Gibney & Co. bring to life. It follows the story of a couple who buy an old house that was supposedly home to a very old woman who never went outside, and whose husband disappeared in mysterious circumstances a century ago. Strange things begin to happen in the house, and John Adam begins to turn into the man who disappeared, who was actually a mass murderer. Highly recommended. 8/10                                                                                                                                                                                                                                                                                                                                                                                                                                                                                                                                                                                                                                                                                                                                                                                                                                                                                                                                                                                                                                                                                                                                                                                                                                                                                                                                                                                                                                                                                                                                                                                                                                                                                                                                                                                                                                                                                                                                                                                                                                                                                                                                                                                                                                                                                                                                                                                                                                                                                                                                                                                                                                                                                                                                                                                                                                                                                                                                                                                                                                                                                                                                                                                                                                                                                                                                                                                                                                                                                                                                                                                                                                                                                                                                                                                                                                                                                                                                                                                                                                                                                                                                                                                                                                                                                                                                                                                                                                                                                                                                                                                                                                                                                                                                                                            \n",
              "4     1004_7   After a brief prologue showing a masked man stalking and then slashing the throat of an older gentleman on a deserted, urban, turn of the century Australian street, we meet Julie (Rebecca Gibney) and Peter (John Adam) as they go out house hunting. They manage to get a loan for a fixer-upper on a posh Sydney street, but it turns out that physical disrepair is not the only problem with their new home. It just may be haunted.<br /><br />13 Gantry Row combines a memorable if somewhat clichéd story with good to average direction by Catherine Millar into a slightly above average shocker.<br /><br />The biggest flaws seem partially due to budget, but not wholly excusable to that hurdle. A crucial problem occurs at the beginning of the film. The opening \"thriller scene\" features some wonky editing. Freeze frames and series of stills are used to cover up the fact that there's not much action. Suspense should be created from staging, not fancy \"fix it in the mix\" techniques. There is great atmosphere in the scene from the location, the lighting, the fog and such, but the camera should be slowly following the killer and the victim, cutting back and forth from one to the other as we track down the street, showing their increasing proximity. The tracking and the cuts need to be slow. The attack needed to be longer, clearer and better blocked. As it stands, the scene has a strong \"made for television\" feel, and a low budget one at that.<br /><br />After this scene we move to the present and the flow of the film greatly improves. The story has a lot of similarities to The Amityville Horror (1979), though the budget forces a much subtler approach. Millar and scriptwriter Tony Morphett effectively create a lot of slyly creepy scenarios, often dramatic in nature instead of special effects-oriented, such as the mysterious man who arrives to take away the old slabs of iron, which had been bizarrely affixed to an interior wall.<br /><br />For some horror fans, the first section of the film might be a little heavy on realist drama. At least the first half hour of the film is primarily about Julie and Peter trying to arrange financing for the house and then trying to settle in. But Morphett writes fine, intelligent dialogue. The material is done well enough that it's often as suspenseful as the more traditional thriller aspects that arise later--especially if you've gone through similar travails while trying to buy your own house.<br /><br />Once they get settled and things begin to get weirder, even though the special effects often leave much to be desired, the ideas are good. The performances help create tension. There isn't an abundance of death and destruction in the film--there's more of an abundance of home repair nightmares. But neither menace is really the point.<br /><br />The point is human relationships. There are a number of character arcs that are very interesting. The house exists more as a metaphor and a catalyst for stress in a romantic relationship that can make it go sour and possibly destroy it. That it's in a posh neighborhood, and that the relationship is between two successful yuppies, shows that these problems do not only afflict those who can place blame with some external woe, such as money or health problems. Peter's character evolves from a striving corporate employee with \"normal\" work-based friendships to someone with more desperation as he becomes subversive, scheming to attain something more liberating and meaningful. At the same time, we learn just how shallow those professional friendships can be. Julie goes through an almost literal nervous breakdown, but finally finds liberation when she liberates herself from her failing romantic relationship.<br /><br />Although 13 Gantry Row never quite transcends its made-for-television clunkiness, as a TV movie, this is a pretty good one, with admirable ambitions. Anyone fond of haunted house films, psycho films or horror/thrillers with a bit more metaphorical depth should find plenty to enjoy. It certainly isn't worth spending $30 for a DVD (that was the price my local PBS station was asking for a copy of the film after they showed it (factoring in shipping and handling)), but it's worth a rental, and it's definitely worth watching for free.                                                                                                                                                                                                                                                                                                                                                                                                                                                                                                                                                                                                                                                                                                                                                                                                                                                                                                                                                                                                         \n",
              "...      ...                                                                                                                                                                                                                                                                                                                                                                                                                                                                                                                                                                                                                                                                                                                                                                                                                                                                                                                                                                                                                                                                                                                                                                                                                                                                                                                                                                                                                                                                                                                                                                                                                                                                                                                                                                                                                                                                                                                                                                                                                                                                                                                                                                                                                                                                                                                                                                                                                                                                                                                                                                                                                                                                                                                                                                                                                                                                                                                                                                                                                                                                                                                                                                                                                                                                                                                                                                                                                                                                                                                                                                                                                                                                                                                                                                                                                                                                                                                                                                                                                                                                                                                                                                                                                                                                                                                                                                                                                                               ...                                                                                                                                                                                                                                                                                                                                                                                                                                                                                                                                                                                                                                                                                                                                                                                                                                                                                                                                                                                                         \n",
              "7497  996_9    This movie surprised me. Some things were \"clicheish\" and some technological elements reminded me of the movie \"Enemy of the State\" starring Will Smith. But for the most part very entertaining- good mix with Jamie Foxx and comedian Mike Epps and the 2 wannabe thugs Julio and Ramundo (providing some comic relief). This is a movie you can watch over again-say... some Wednesday night when nothing else is on. I gave it a 9 for entertainment value.                                                                                                                                                                                                                                                                                                                                                                                                                                                                                                                                                                                                                                                                                                                                                                                                                                                                                                                                                                                                                                                                                                                                                                                                                                                                                                                                                                                                                                                                                                                                                                                                                                                                                                                                                                                                                                                                                                                                                                                                                                                                                                                                                                                                                                                                                                                                                                                                                                                                                                                                                                                                                                                                                                                                                                                                                                                                                                                                                                                                                                                                                                                                                                                                                                                                                                                                                                                                                                                                                                                                                                                                                                                                                                                                                                                                                                                                                                                                                                                                                                                                                                                                                                                                                                                                                                                                                                                                                                                                                                                                                                                                                                                                                                                                                                                                                                                                                                                                                                                         \n",
              "7498  997_7    I have to agree with most of the other posts. Was it a comedy? a drama? to me it leaned a little to much towards the comedy side. I could have been a great movie without the comedy and it was horribly contrived. Jamie keeps running into the Julio and whats his name. In New York, how many times do you run into someone you know in downtown Cleveland.And just how could Robert Pastorelli dig up Yankee Stadium to hide the gold. Again, a comedy or drama? But it was still entertaining especially for a Sunday morning. I enjoyed Kimberly Elise's performance, she certainly a beautiful actress and seems to take her craft seriously. She is a younger actress that is going to be viable.                                                                                                                                                                                                                                                                                                                                                                                                                                                                                                                                                                                                                                                                                                                                                                                                                                                                                                                                                                                                                                                                                                                                                                                                                                                                                                                                                                                                                                                                                                                                                                                                                                                                                                                                                                                                                                                                                                                                                                                                                                                                                                                                                                                                                                                                                                                                                                                                                                                                                                                                                                                                                                                                                                                                                                                                                                                                                                                                                                                                                                                                                                                                                                                                                                                                                                                                                                                                                                                                                                                                                                                                                                                                                                                                                                                                                                                                                                                                                                                                                                                                                                                                                                                                                                                                                                                                                                                                                                                                                                                                                                                                                                                                                                                                               \n",
              "7499  998_7    This is a really interesting movie. It is an action movie with comedy mixed in. Foxx teams up with comedian Epps in this movie to give it a comedic spin. It will keep you wondering whats going to happen to Foxx next. It was a well shot movie, the director used the right colors in this movie(dark blue colors) to give it the right kind of feel. Kimberly Elise also starred in this movie and it is always a pleasure to see her on the big screen. She plays her role well. Even Jamie Kennedy is in this movie. It's worth seeing it you haven't seen it. It's definitely worth having if you are a Jamie Foxx fan. It deserves more credit than it is actually given.                                                                                                                                                                                                                                                                                                                                                                                                                                                                                                                                                                                                                                                                                                                                                                                                                                                                                                                                                                                                                                                                                                                                                                                                                                                                                                                                                                                                                                                                                                                                                                                                                                                                                                                                                                                                                                                                                                                                                                                                                                                                                                                                                                                                                                                                                                                                                                                                                                                                                                                                                                                                                                                                                                                                                                                                                                                                                                                                                                                                                                                                                                                                                                                                                                                                                                                                                                                                                                                                                                                                                                                                                                                                                                                                                                                                                                                                                                                                                                                                                                                                                                                                                                                                                                                                                                                                                                                                                                                                                                                                                                                                                                                                                                                                                                       \n",
              "7500  999_10   I am amazed at how this movie(and most others has a average 5 stars and lower when there are crappy movies averaging 7 to 10 stars on IMDb. The fanboy mentality strikes again. When this movie came out just about everyone slammed it. Even my ex-girlfriend said this movie questionable. Years later I sat down to watch this movie and I found myself enjoying. Even laughing quite a bit. This and The Replacement Killers are the movies that had people labeling the director Antoine Fuqua as the black Michael Bay. I don't see how since most of Fuqua's movies are smarter than anything Michael Bay has came up with. At any rate...<br /><br />Story: Alvin Sanders(Jamie Foxx) is former convict that is used by a no-nonsense Treasury agent Edgar(David Morse) as a pawn to catch a killer named Bristol(Doug Hutchinson). Alvin's every moves are tracked by a bug implanted in his jaw after an accident. While these agents are after Bristol, Bristol is after the gold bricks that were taken in a heist gone awry.<br /><br />Jamie Foxx is funny as well as great as Alvin Sanders. Alvin is a fast-talker that is a lot smarter than he lets on. Doug Hutchinson is okay as Bristol. He can be over-the-top sometimes in his John Malkovitchesque demeanor. He was better here than he was as Looney Bin Jim in Punisher: War Zone. David Morse is good as the hard edged treasury agent. Even Mike Epps is funny as Alvin's brother Stevie. Both him and Jamie had some funny moments on screen.<br /><br />The only flaw of the movie is the some of the attempts at a thriller fall flat. The scenario at the horse race track is way over-the-top but I couldn't look away. The director went all out there so he gets points for that. Plus the bomb scene with the treasury agent tied to a chair while the detonator rests on the door was pretty nifty.<br /><br />All in all Bait is not a bad movie by a long shot. Its never boring, its always funny and I wasn't checking my watch every minute. That should count for something. Bait is one of the most underrated movies of 2000 period.<br /><br />PS: to the reviewer that claimed this movie is too violent.... How long have you been living under a rock? I'm pretty sure you've seen the Die Hard series and EVERY movie by Quentin Tarantino. But those movies aren't violent right? Weirdo.                                                                                                                                                                                                                                                                                                                                                                                                                                                                                                                                                                                                                                                                                                                                                                                                                                                                                                                                                                                                                                                                                                                                                                                                                                                                                                                                                                                                                                                                                                                                                                                                                                                                                                                                                                                                                                                                                                                                                                                                                                                                                                                                                                                                                                                                                                                                                                                                                                                                                                                                                                                                                                                                                                                                                                                                                                                                                                                                                                                                                                                            \n",
              "7501  .csv     [',filename,content'\\n '0,1000_8,\"I liked the film. Some of the action scenes were very interesting, tense and well done. I especially liked the opening scene which had a semi truck in it. A very tense action scene that seemed well done.<br /><br />Some of the transitional scenes were filmed in interesting ways such as time lapse photography, unusual colors, or interesting angles. Also the film is funny is several parts. I also liked how the evil guy was portrayed too. I\\'d give the film an 8 out of 10.\"'\\n '1,1001_8,\"Somewhat funny and well-paced action thriller that has Jamie Foxx as a hapless, fast-talking hoodlum who is chosen by an overly demanding U.S. Treasury Agent (David Morse) to be released on the streets of New York to find a picky computer thief/hacker (Doug Hutchinson), who stole forty-two million dollars from the treasury and left two guards shot dead.<br /><br />\"\"Bait\"\" marks the sophomore feature for Antoine Fuqua (\"\"The Replacement Killers\"\") and he handles the task fairly well even though it doesn\\'t top his first movie. What the two films have in common is the action sequences, which are flat-out excellent.<br /><br />Foxx is pretty good here although his character is annoying in the beginning, but throughout the film, I began to catch on. Hutchinson is marvelous as the mastermind who can be ruthless as John Malkovich and patient as the late Laurence Olivier was in \"\"Marathon Man\"\". Morse is okay as the agent who comes up with the ingenious plan to get whoever did it at all cost.\"'\\n ...\\n '7498,997_7,\"I have to agree with most of the other posts. Was it a comedy? a drama? to me it leaned a little to much towards the comedy side. I could have been a great movie without the comedy and it was horribly contrived. Jamie keeps running into the Julio and whats his name. In New York, how many times do you run into someone you know in downtown Cleveland.And just how could Robert Pastorelli dig up Yankee Stadium to hide the gold. Again, a comedy or drama? But it was still entertaining especially for a Sunday morning. I enjoyed Kimberly Elise\\'s performance, she certainly a beautiful actress and seems to take her craft seriously. She is a younger actress that is going to be viable.\"'\\n '7499,998_7,\"This is a really interesting movie. It is an action movie with comedy mixed in. Foxx teams up with comedian Epps in this movie to give it a comedic spin. It will keep you wondering whats going to happen to Foxx next. It was a well shot movie, the director used the right colors in this movie(dark blue colors) to give it the right kind of feel. Kimberly Elise also starred in this movie and it is always a pleasure to see her on the big screen. She plays her role well. Even Jamie Kennedy is in this movie. It\\'s worth seeing it you haven\\'t seen it. It\\'s definitely worth having if you are a Jamie Foxx fan. It deserves more credit than it is actually given.\"'\\n '7500,999_10,\"I am amazed at how this movie(and most others has a average 5 stars and lower when there are crappy movies averaging 7 to 10 stars on IMDb. The fanboy mentality strikes again. When this movie came out just about everyone slammed it. Even my ex-girlfriend said this movie questionable. Years later I sat down to watch this movie and I found myself enjoying. Even laughing quite a bit. This and The Replacement Killers are the movies that had people labeling the director Antoine Fuqua as the black Michael Bay. I don\\'t see how since most of Fuqua\\'s movies are smarter than anything Michael Bay has came up with. At any rate...<br /><br />Story: Alvin Sanders(Jamie Foxx) is former convict that is used by a no-nonsense Treasury agent Edgar(David Morse) as a pawn to catch a killer named Bristol(Doug Hutchinson). Alvin\\'s every moves are tracked by a bug implanted in his jaw after an accident. While these agents are after Bristol, Bristol is after the gold bricks that were taken in a heist gone awry.<br /><br />Jamie Foxx is funny as well as great as Alvin Sanders. Alvin is a fast-talker that is a lot smarter than he lets on. Doug Hutchinson is okay as Bristol. He can be over-the-top sometimes in his John Malkovitchesque demeanor. He was better here than he was as Looney Bin Jim in Punisher: War Zone. David Morse is good as the hard edged treasury agent. Even Mike Epps is funny as Alvin\\'s brother Stevie. Both him and Jamie had some funny moments on screen.<br /><br />The only flaw of the movie is the some of the attempts at a thriller fall flat. The scenario at the horse race track is way over-the-top but I couldn\\'t look away. The director went all out there so he gets points for that. Plus the bomb scene with the treasury agent tied to a chair while the detonator rests on the door was pretty nifty.<br /><br />All in all Bait is not a bad movie by a long shot. Its never boring, its always funny and I wasn\\'t checking my watch every minute. That should count for something. Bait is one of the most underrated movies of 2000 period.<br /><br />PS: to the reviewer that claimed this movie is too violent.... How long have you been living under a rock? I\\'m pretty sure you\\'ve seen the Die Hard series and EVERY movie by Quentin Tarantino. But those movies aren\\'t violent right? Weirdo.\"']\n",
              "\n",
              "[7502 rows x 2 columns]"
            ]
          },
          "metadata": {
            "tags": []
          },
          "execution_count": 140
        }
      ]
    },
    {
      "cell_type": "markdown",
      "metadata": {
        "id": "Eif0TWAuW4kw"
      },
      "source": [
        "## Step 2 : Itemset creation (sentence per sentence)"
      ]
    },
    {
      "cell_type": "markdown",
      "metadata": {
        "id": "MGdwaHgJceyr"
      },
      "source": [
        "Convert the sentences of the positive review files assigned to you into itemset sequences, using inflected forms, lemmas, and POS tags to create the itemsets of each word. You can use spaCy or nltk for the tokenization, the lemmatization, and the POS tagging.\n",
        "Your positive review dataset, posDataset, should follow the format described at the beginning of the notebook. "
      ]
    },
    {
      "cell_type": "markdown",
      "metadata": {
        "id": "SYXC6iaKvCAb"
      },
      "source": [
        "Import staCy and load the english dataset. We also load the \"os\" library to acces all files in a given folder."
      ]
    },
    {
      "cell_type": "code",
      "metadata": {
        "id": "PfxITxrlx86a"
      },
      "source": [
        "import spacy\r\n",
        "import os\r\n",
        "nlp = spacy.load('en_core_web_sm')"
      ],
      "execution_count": 141,
      "outputs": []
    },
    {
      "cell_type": "markdown",
      "metadata": {
        "id": "3OqOQ07wvZZB"
      },
      "source": [
        "First function : sentence to itemset of lemmas and POS"
      ]
    },
    {
      "cell_type": "code",
      "metadata": {
        "id": "G_xYG1JoyOaa",
        "colab": {
          "base_uri": "https://localhost:8080/"
        },
        "outputId": "bfb5048b-b8df-442c-fe6f-9096ae836761"
      },
      "source": [
        "def sentence_to_itemsets(sentence):\r\n",
        "\r\n",
        "  doc = nlp(sentence)\r\n",
        "  output_list = []\r\n",
        "  for token in doc:\r\n",
        "      #some filtering to get rid of punctuation\r\n",
        "      if (token.pos_ != 'PUNCT'):\r\n",
        "        #then we get rid of determinants since they are frequent and don't indicate a positive or negative bias\r\n",
        "        if (token.pos_ != 'DET'):\r\n",
        "          if (token.pos_ != 'CCONJ'):\r\n",
        "            if (token.pos_ != 'ADP'):\r\n",
        "              output_list.append((token.orth_,token.lemma_, token.pos_)) #we create a tuple to contain all properties of the token as a single item (which is hashable for prefix span)\r\n",
        "      \r\n",
        "  return output_list\r\n",
        "\r\n",
        "sentence = 'Once again Mr. Costner has dragged out a movie for far longer than necessary.'\r\n",
        "\r\n",
        "#test\r\n",
        "sentence_to_itemsets(sentence)"
      ],
      "execution_count": 142,
      "outputs": [
        {
          "output_type": "execute_result",
          "data": {
            "text/plain": [
              "[('Once', 'once', 'ADV'),\n",
              " ('again', 'again', 'ADV'),\n",
              " ('Mr.', 'Mr.', 'PROPN'),\n",
              " ('Costner', 'Costner', 'PROPN'),\n",
              " ('has', 'have', 'AUX'),\n",
              " ('dragged', 'drag', 'VERB'),\n",
              " ('movie', 'movie', 'NOUN'),\n",
              " ('far', 'far', 'ADV'),\n",
              " ('longer', 'long', 'ADJ'),\n",
              " ('than', 'than', 'SCONJ'),\n",
              " ('necessary', 'necessary', 'ADJ')]"
            ]
          },
          "metadata": {
            "tags": []
          },
          "execution_count": 142
        }
      ]
    },
    {
      "cell_type": "code",
      "metadata": {
        "id": "wJTVe-xBceyr",
        "colab": {
          "base_uri": "https://localhost:8080/",
          "height": 0
        },
        "outputId": "06586a04-c3e7-46aa-d461-854eed3ae52f"
      },
      "source": [
        "test_whole_text = train_pos_df['content'][0] # this a a whole text\r\n",
        "test_whole_text"
      ],
      "execution_count": 143,
      "outputs": [
        {
          "output_type": "execute_result",
          "data": {
            "application/vnd.google.colaboratory.intrinsic+json": {
              "type": "string"
            },
            "text/plain": [
              "\"I liked the film. Some of the action scenes were very interesting, tense and well done. I especially liked the opening scene which had a semi truck in it. A very tense action scene that seemed well done.<br /><br />Some of the transitional scenes were filmed in interesting ways such as time lapse photography, unusual colors, or interesting angles. Also the film is funny is several parts. I also liked how the evil guy was portrayed too. I'd give the film an 8 out of 10.\""
            ]
          },
          "metadata": {
            "tags": []
          },
          "execution_count": 143
        }
      ]
    },
    {
      "cell_type": "markdown",
      "metadata": {
        "id": "rP93U-zoXEta"
      },
      "source": [
        "## Step 3 : Tokenization of a whole review"
      ]
    },
    {
      "cell_type": "markdown",
      "metadata": {
        "id": "406HKAp6veQS"
      },
      "source": [
        "Second function : text to sentence itemsets."
      ]
    },
    {
      "cell_type": "code",
      "metadata": {
        "id": "aCDcKIZq0SIs",
        "colab": {
          "base_uri": "https://localhost:8080/"
        },
        "outputId": "58d2fb48-55dd-4140-a0f5-5d7807369de9"
      },
      "source": [
        "def text_to_itemsets(text):\r\n",
        "\r\n",
        "  doc = nlp(text)\r\n",
        "  output_list = []\r\n",
        "  for sent in doc.sents:\r\n",
        "    # output_list.append([sent.text, sentence_to_itemsets(sent.text)])\r\n",
        "    output_list.append(sentence_to_itemsets(sent.text))\r\n",
        "\r\n",
        "  return output_list\r\n",
        "\r\n",
        "#test\r\n",
        "whole_review_pos_tokenized = text_to_itemsets(test_whole_text)\r\n",
        "whole_review_pos_tokenized"
      ],
      "execution_count": 144,
      "outputs": [
        {
          "output_type": "execute_result",
          "data": {
            "text/plain": [
              "[[('I', '-PRON-', 'PRON'),\n",
              "  ('liked', 'like', 'VERB'),\n",
              "  ('film', 'film', 'NOUN')],\n",
              " [('action', 'action', 'NOUN'),\n",
              "  ('scenes', 'scene', 'NOUN'),\n",
              "  ('were', 'be', 'AUX'),\n",
              "  ('very', 'very', 'ADV'),\n",
              "  ('interesting', 'interesting', 'ADJ'),\n",
              "  ('tense', 'tense', 'ADJ'),\n",
              "  ('well', 'well', 'ADV'),\n",
              "  ('done', 'do', 'VERB')],\n",
              " [('I', '-PRON-', 'PRON'),\n",
              "  ('especially', 'especially', 'ADV'),\n",
              "  ('liked', 'like', 'VERB'),\n",
              "  ('opening', 'opening', 'NOUN'),\n",
              "  ('scene', 'scene', 'NOUN'),\n",
              "  ('had', 'have', 'AUX'),\n",
              "  ('semi', 'semi', 'ADJ'),\n",
              "  ('truck', 'truck', 'NOUN'),\n",
              "  ('it', '-PRON-', 'PRON')],\n",
              " [('very', 'very', 'ADV'),\n",
              "  ('tense', 'tense', 'ADJ'),\n",
              "  ('action', 'action', 'NOUN'),\n",
              "  ('scene', 'scene', 'NOUN'),\n",
              "  ('seemed', 'seem', 'VERB'),\n",
              "  ('well', 'well', 'ADV'),\n",
              "  ('done.<br', 'done.<br', 'X')],\n",
              " [('transitional', 'transitional', 'ADJ'),\n",
              "  ('scenes', 'scene', 'NOUN'),\n",
              "  ('were', 'be', 'AUX'),\n",
              "  ('filmed', 'film', 'VERB'),\n",
              "  ('interesting', 'interesting', 'ADJ'),\n",
              "  ('ways', 'way', 'NOUN'),\n",
              "  ('such', 'such', 'ADJ'),\n",
              "  ('as', 'as', 'SCONJ'),\n",
              "  ('time', 'time', 'NOUN'),\n",
              "  ('lapse', 'lapse', 'NOUN'),\n",
              "  ('photography', 'photography', 'NOUN'),\n",
              "  ('unusual', 'unusual', 'ADJ'),\n",
              "  ('colors', 'color', 'NOUN'),\n",
              "  ('interesting', 'interesting', 'ADJ'),\n",
              "  ('angles', 'angle', 'NOUN')],\n",
              " [('Also', 'also', 'ADV'),\n",
              "  ('film', 'film', 'NOUN'),\n",
              "  ('is', 'be', 'AUX'),\n",
              "  ('funny', 'funny', 'ADJ'),\n",
              "  ('is', 'be', 'AUX'),\n",
              "  ('several', 'several', 'ADJ'),\n",
              "  ('parts', 'part', 'NOUN')],\n",
              " [('I', '-PRON-', 'PRON'),\n",
              "  ('also', 'also', 'ADV'),\n",
              "  ('liked', 'like', 'VERB'),\n",
              "  ('how', 'how', 'ADV'),\n",
              "  ('evil', 'evil', 'ADJ'),\n",
              "  ('guy', 'guy', 'NOUN'),\n",
              "  ('was', 'be', 'AUX'),\n",
              "  ('portrayed', 'portray', 'VERB'),\n",
              "  ('too', 'too', 'ADV')],\n",
              " [('I', '-PRON-', 'PRON'),\n",
              "  (\"'d\", 'would', 'VERB'),\n",
              "  ('give', 'give', 'VERB'),\n",
              "  ('film', 'film', 'NOUN'),\n",
              "  ('8', '8', 'NUM'),\n",
              "  ('out', 'out', 'SCONJ'),\n",
              "  ('10', '10', 'NUM')]]"
            ]
          },
          "metadata": {
            "tags": []
          },
          "execution_count": 144
        }
      ]
    },
    {
      "cell_type": "markdown",
      "metadata": {
        "id": "jMzPhlymceyr"
      },
      "source": [
        "Convert the sentences of the negative review files assigned to you into itemset sequences, using inflected forms, lemmas, and POS tags to create the itemsets of each word. You can use spaCy or nltk for the tokenization, the lemmatization, and the POS tagging.\n",
        "Your negative review dataset, negDataset, should follow the format described at the beginning of the notebook. "
      ]
    },
    {
      "cell_type": "code",
      "metadata": {
        "id": "zPWPwEEOU3Jk",
        "colab": {
          "base_uri": "https://localhost:8080/"
        },
        "outputId": "e85e8bcf-ddb9-4ea2-98af-9a17e97f5bac"
      },
      "source": [
        "#we use the same function on the first negative review to convert sentences to a dataset\r\n",
        "whole_review_neg_tokenized = text_to_itemsets(train_neg_df['content'][0])\r\n",
        "whole_review_neg_tokenized"
      ],
      "execution_count": 145,
      "outputs": [
        {
          "output_type": "execute_result",
          "data": {
            "text/plain": [
              "[[('No', 'no', 'INTJ'),\n",
              "  ('was', 'be', 'AUX'),\n",
              "  (\"n't\", 'not', 'PART'),\n",
              "  ('one', 'one', 'NUM'),\n",
              "  ('ten', 'ten', 'NUM'),\n",
              "  ('worst', 'bad', 'ADJ'),\n",
              "  ('films', 'film', 'NOUN'),\n",
              "  ('1980', '1980', 'NUM'),\n",
              "  (\"'s\", \"'s\", 'PART'),\n",
              "  ('it', '-PRON-', 'PRON'),\n",
              "  ('certainly', 'certainly', 'ADV'),\n",
              "  ('skirts', 'skirt', 'VERB'),\n",
              "  ('bottom', 'bottom', 'NOUN'),\n",
              "  ('100', '100', 'NUM'),\n",
              "  ('somewhere', 'somewhere', 'ADV')],\n",
              " [('movie', 'movie', 'NOUN'),\n",
              "  ('looks', 'look', 'VERB'),\n",
              "  ('like', 'like', 'SCONJ'),\n",
              "  ('it', '-PRON-', 'PRON'),\n",
              "  ('was', 'be', 'AUX'),\n",
              "  ('put', 'put', 'VERB'),\n",
              "  ('shelf', 'shelf', 'NOUN'),\n",
              "  ('two', 'two', 'NUM'),\n",
              "  ('three', 'three', 'NUM'),\n",
              "  ('years', 'year', 'NOUN'),\n",
              "  ('then', 'then', 'ADV'),\n",
              "  ('released', 'release', 'VERB'),\n",
              "  ('1981', '1981', 'NUM')],\n",
              " [('How', 'how', 'ADV'),\n",
              "  ('else', 'else', 'ADV'),\n",
              "  ('would', 'would', 'VERB'),\n",
              "  ('you', '-PRON-', 'PRON'),\n",
              "  ('explain', 'explain', 'VERB'),\n",
              "  ('special', 'special', 'ADJ'),\n",
              "  ('effects', 'effect', 'NOUN'),\n",
              "  ('pre', 'pre', 'VERB'),\n",
              "  ('-', '-', 'ADJ'),\n",
              "  ('dating', 'date', 'VERB'),\n",
              "  ('American', 'american', 'ADJ'),\n",
              "  ('Werewolf', 'Werewolf', 'PROPN'),\n",
              "  ('London', 'London', 'PROPN'),\n",
              "  ('disco', 'disco', 'NOUN'),\n",
              "  ('still', 'still', 'ADV'),\n",
              "  ('being', 'be', 'AUX'),\n",
              "  ('considered', 'consider', 'VERB'),\n",
              "  ('cool', 'cool', 'ADJ'),\n",
              "  ('Ronald', 'Ronald', 'PROPN'),\n",
              "  ('Reagan', 'Reagan', 'PROPN'),\n",
              "  ('not', 'not', 'PART'),\n",
              "  ('being', 'be', 'AUX'),\n",
              "  ('40th', '40th', 'ADJ'),\n",
              "  ('President', 'President', 'PROPN'),\n",
              "  ('United', 'United', 'PROPN'),\n",
              "  ('States', 'States', 'PROPN')],\n",
              " [('While', 'while', 'SCONJ'),\n",
              "  ('we', '-PRON-', 'PRON'),\n",
              "  (\"'re\", 'be', 'AUX'),\n",
              "  ('it', '-PRON-', 'PRON'),\n",
              "  ('let', 'let', 'VERB'),\n",
              "  (\"'s\", '-PRON-', 'PRON'),\n",
              "  ('not', 'not', 'PART'),\n",
              "  ('overlook', 'overlook', 'VERB'),\n",
              "  ('1970', '1970', 'NUM'),\n",
              "  (\"'s\", \"'s\", 'PART'),\n",
              "  ('hairstyles', 'hairstyle', 'NOUN'),\n",
              "  ('1950', '1950', 'NUM'),\n",
              "  (\"'s\", \"'s\", 'PART'),\n",
              "  ('60', '60', 'NUM'),\n",
              "  (\"'s\", \"'s\", 'PART')],\n",
              " [('I', '-PRON-', 'PRON'),\n",
              "  (\"'ve\", 'have', 'AUX'),\n",
              "  ('seen', 'see', 'VERB'),\n",
              "  ('more', 'more', 'ADJ'),\n",
              "  ('here', 'here', 'ADV'),\n",
              "  ('than', 'than', 'SCONJ'),\n",
              "  ('Happy', 'Happy', 'PROPN'),\n",
              "  ('Days', 'Days', 'PROPN'),\n",
              "  ('Laverne', 'Laverne', 'PROPN'),\n",
              "  ('Shirley', 'Shirley', 'PROPN')],\n",
              " [],\n",
              " [('one', 'one', 'NUM'),\n",
              "  ('woman', 'woman', 'NOUN'),\n",
              "  ('who', 'who', 'PRON'),\n",
              "  ('elevates', 'elevate', 'VERB'),\n",
              "  ('movie', 'movie', 'NOUN'),\n",
              "  ('so', 'so', 'ADV'),\n",
              "  ('bad', 'bad', 'ADJ')],\n",
              " [('it', '-PRON-', 'PRON'),\n",
              "  (\"'s\", 'be', 'AUX'),\n",
              "  ('good', 'good', 'ADJ'),\n",
              "  ('category', 'category', 'NOUN'),\n",
              "  ('was', 'be', 'AUX'),\n",
              "  ('late', 'late', 'ADJ'),\n",
              "  ('great', 'great', 'ADJ'),\n",
              "  ('Elizabeth', 'Elizabeth', 'PROPN'),\n",
              "  ('Hartman', 'Hartman', 'PROPN'),\n",
              "  ('just', 'just', 'ADV'),\n",
              "  ('barely', 'barely', 'ADV')],\n",
              " [('Biff', 'biff', 'NOUN'),\n",
              "  ('plays', 'play', 'NOUN'),\n",
              "  ('as', 'as', 'SCONJ'),\n",
              "  ('Miss', 'Miss', 'PROPN'),\n",
              "  ('Montgomery', 'Montgomery', 'PROPN'),\n",
              "  ('mousey', 'mousey', 'PROPN'),\n",
              "  ('high', 'high', 'PROPN'),\n",
              "  ('school', 'school', 'NOUN'),\n",
              "  ('teacher', 'teacher', 'NOUN'),\n",
              "  ('who', 'who', 'PRON'),\n",
              "  ('becomes', 'become', 'VERB'),\n",
              "  ('sexpot', 'sexpot', 'NOUN'),\n",
              "  ('stereotype', 'stereotype', 'NOUN'),\n",
              "  (\"'s\", 'be', 'AUX'),\n",
              "  ('been', 'be', 'AUX'),\n",
              "  ('done', 'do', 'VERB'),\n",
              "  ('death', 'death', 'NOUN'),\n",
              "  ('is', 'be', 'AUX'),\n",
              "  ('still', 'still', 'ADV'),\n",
              "  ('being', 'be', 'AUX'),\n",
              "  ('churned', 'churn', 'VERB'),\n",
              "  ('Hollywood', 'Hollywood', 'PROPN'),\n",
              "  ('today', 'today', 'NOUN'),\n",
              "  ('even', 'even', 'ADV'),\n",
              "  ('as', 'as', 'SCONJ'),\n",
              "  ('hot', 'hot', 'ADJ'),\n",
              "  ('chick', 'chick', 'NOUN')],\n",
              " [('she', '-PRON-', 'PRON'),\n",
              "  ('retains', 'retain', 'VERB'),\n",
              "  ('mousey', 'mousey', 'NOUN'),\n",
              "  ('qualities', 'quality', 'NOUN')],\n",
              " [('call', 'call', 'NOUN'),\n",
              "  ('help', 'help', 'NOUN'),\n",
              "  ('is', 'be', 'AUX'),\n",
              "  ('evidence', 'evidence', 'NOUN')],\n",
              " [('She', '-PRON-', 'PRON'),\n",
              "  ('also', 'also', 'ADV'),\n",
              "  ('looks', 'look', 'VERB'),\n",
              "  ('much', 'much', 'ADV'),\n",
              "  ('better', 'well', 'ADJ'),\n",
              "  ('as', 'as', 'SCONJ'),\n",
              "  ('Miss', 'Miss', 'PROPN'),\n",
              "  ('Wimp', 'Wimp', 'PROPN')],\n",
              " [('Seven', 'seven', 'NUM'),\n",
              "  ('bucks', 'buck', 'NOUN'),\n",
              "  ('beauty', 'beauty', 'NOUN'),\n",
              "  ('parlor', 'parlor', 'NOUN'),\n",
              "  ('shot', 'shoot', 'VERB'),\n",
              "  ('hell', 'hell', 'PROPN')],\n",
              " [('She', '-PRON-', 'PRON'),\n",
              "  ('was', 'be', 'AUX'),\n",
              "  (\"n't\", 'not', 'PART'),\n",
              "  ('kidding.<br', 'kidding.<br', 'ADV')],\n",
              " [('is', 'be', 'AUX'),\n",
              "  (\"n't\", 'not', 'PART'),\n",
              "  ('to', 'to', 'PART'),\n",
              "  ('say', 'say', 'VERB'),\n",
              "  ('that', 'that', 'SCONJ'),\n",
              "  ('there', 'there', 'PRON'),\n",
              "  ('are', 'be', 'AUX'),\n",
              "  (\"n't\", 'not', 'PART'),\n",
              "  ('good', 'good', 'ADJ'),\n",
              "  ('parts', 'part', 'NOUN'),\n",
              "  ('elsewhere', 'elsewhere', 'ADV'),\n",
              "  ('they', '-PRON-', 'PRON'),\n",
              "  (\"'re\", 'be', 'AUX'),\n",
              "  ('just', 'just', 'ADV'),\n",
              "  ('few', 'few', 'ADJ'),\n",
              "  ('far', 'far', 'ADV'),\n",
              "  ('between', 'between', 'ADV'),\n",
              "  ('I', '-PRON-', 'PRON'),\n",
              "  (\"'m\", 'be', 'AUX'),\n",
              "  ('not', 'not', 'PART'),\n",
              "  ('just', 'just', 'ADV'),\n",
              "  ('saying', 'say', 'VERB'),\n",
              "  ('that', 'that', 'SCONJ'),\n",
              "  ('because', 'because', 'SCONJ'),\n",
              "  ('I', '-PRON-', 'PRON'),\n",
              "  ('like', 'like', 'VERB'),\n",
              "  ('Hartman', 'Hartman', 'PROPN')],\n",
              " [('Incidentally', 'incidentally', 'ADV'),\n",
              "  ('Teen', 'Teen', 'PROPN'),\n",
              "  ('Wolf', 'Wolf', 'PROPN'),\n",
              "  ('was', 'be', 'AUX'),\n",
              "  ('better', 'well', 'ADJ'),\n",
              "  ('than', 'than', 'SCONJ')],\n",
              " [('Teen', 'Teen', 'PROPN'),\n",
              "  ('Wolf', 'Wolf', 'PROPN'),\n",
              "  ('Too', 'Too', 'PROPN'),\n",
              "  ('was', 'be', 'AUX'),\n",
              "  ('better', 'well', 'ADJ'),\n",
              "  ('than', 'than', 'SCONJ'),\n",
              "  ('was', 'be', 'AUX'),\n",
              "  (\"n't\", 'not', 'PART'),\n",
              "  ('even', 'even', 'ADV'),\n",
              "  ('so', 'so', 'ADV')],\n",
              " [],\n",
              " [('>', '>', 'X')]]"
            ]
          },
          "metadata": {
            "tags": []
          },
          "execution_count": 145
        }
      ]
    },
    {
      "cell_type": "markdown",
      "metadata": {
        "id": "Uhls1qc54VDw"
      },
      "source": [
        "## Tokenization of the whole dataset (pos and neg datasets)\r\n"
      ]
    },
    {
      "cell_type": "markdown",
      "metadata": {
        "id": "KA_SY4oXF9mj"
      },
      "source": [
        "The tokenization step takes a long time, so we save the datasets (lists of sequences, each sequence being a sentence).  \r\n",
        "These serialized objects are saved as a \"pickle\" and can be loaded instead of executing the tokenization again.  "
      ]
    },
    {
      "cell_type": "code",
      "metadata": {
        "id": "ce9IbhKjF80j"
      },
      "source": [
        "import pickle\r\n",
        "def save_as_pickle(filename, object_to_save):\r\n",
        "  with open(filename, 'wb') as pickle_file:\r\n",
        "    pickle.dump(object_to_save, pickle_file)\r\n",
        "\r\n",
        "def load_pickle(filename):\r\n",
        "  with open(filename, 'rb') as pickle_file:\r\n",
        "    loaded_object = pickle.load(pickle_file)\r\n",
        "  return loaded_object"
      ],
      "execution_count": 146,
      "outputs": []
    },
    {
      "cell_type": "markdown",
      "metadata": {
        "id": "v3Jjmde4E-r6"
      },
      "source": [
        "The variable below is used to switch between corpus tokenization and pickle loading of a previously computed result"
      ]
    },
    {
      "cell_type": "code",
      "metadata": {
        "id": "JU1sxjzJFIKG"
      },
      "source": [
        "# tokenize = True / False\r\n",
        "tokenize = True"
      ],
      "execution_count": 147,
      "outputs": []
    },
    {
      "cell_type": "code",
      "metadata": {
        "id": "skBoStW6Qrs6"
      },
      "source": [
        "#Here we set the limit to tokenization : the whole process takes a long time so we limit the index to max_index value\r\n",
        "max_index = -1 #max value is 7500 as the corpus contains 7500 reviews, assign -1 to use all dataset"
      ],
      "execution_count": 148,
      "outputs": []
    },
    {
      "cell_type": "code",
      "metadata": {
        "id": "3R6Ri9yQ4SCc",
        "colab": {
          "base_uri": "https://localhost:8080/",
          "height": 67,
          "referenced_widgets": [
            "7061fb380cfb411c9d1d88fe9897b6d2",
            "4e2607a0d6ed4847ac6d42c1a06ab6fa",
            "349794d635b54e05b4d5b66f7ef722fb",
            "e27945322f2846b692c02769f58c24ea",
            "bb947002bfca49b09e73a780177ab93d",
            "a2154aa9fd564a4aa1e91eaa237c706e",
            "e218ab1d16914a85a1803afcf4971254",
            "667cc1f84ff94da98281c50d3a8a219a"
          ]
        },
        "outputId": "4a0896af-7103-4303-d11f-a96619bd8089"
      },
      "source": [
        "if tokenize:\r\n",
        "  train_neg_df_slice = train_neg_df[:max_index]\r\n",
        "\r\n",
        "  whole_review_neg_tokenized_list = []\r\n",
        "  for cpt in tqdm(range(0, len(train_neg_df_slice))):\r\n",
        "    whole_review_neg_tokenized_list.append(text_to_itemsets(train_neg_df_slice['content'][cpt]))"
      ],
      "execution_count": 149,
      "outputs": [
        {
          "output_type": "display_data",
          "data": {
            "application/vnd.jupyter.widget-view+json": {
              "model_id": "7061fb380cfb411c9d1d88fe9897b6d2",
              "version_minor": 0,
              "version_major": 2
            },
            "text/plain": [
              "HBox(children=(FloatProgress(value=0.0, max=7501.0), HTML(value='')))"
            ]
          },
          "metadata": {
            "tags": []
          }
        },
        {
          "output_type": "stream",
          "text": [
            "\n"
          ],
          "name": "stdout"
        }
      ]
    },
    {
      "cell_type": "code",
      "metadata": {
        "id": "kROJcsGT53cb",
        "colab": {
          "base_uri": "https://localhost:8080/",
          "height": 67,
          "referenced_widgets": [
            "0e3e132869fd4526a256d86c409b695c",
            "4f72a886c99c4da8b63cc6ae6b8aa40d",
            "1fcc4b14f95a4ca48eb6500f8d5324d3",
            "ee27f970a59e4ddba4aa9760f1210186",
            "b9010a1579c84cd296c8c486fcfb53cd",
            "68f58a58c6c846c9929143509de26320",
            "244a01f6408e4506abadfbc9591f180a",
            "442cc91c4bb443e18cdd5baec5a715e0"
          ]
        },
        "outputId": "9b4792f1-dfa3-4a3b-dd02-864f4afac7cc"
      },
      "source": [
        "if tokenize:\r\n",
        "  train_pos_df_slice = train_pos_df[:max_index]\r\n",
        "\r\n",
        "  whole_review_pos_tokenized_list = []\r\n",
        "  for cpt in tqdm(range(0, len(train_pos_df_slice))):\r\n",
        "    whole_review_pos_tokenized_list.append(text_to_itemsets(train_pos_df_slice['content'][cpt]))"
      ],
      "execution_count": 150,
      "outputs": [
        {
          "output_type": "display_data",
          "data": {
            "application/vnd.jupyter.widget-view+json": {
              "model_id": "0e3e132869fd4526a256d86c409b695c",
              "version_minor": 0,
              "version_major": 2
            },
            "text/plain": [
              "HBox(children=(FloatProgress(value=0.0, max=7501.0), HTML(value='')))"
            ]
          },
          "metadata": {
            "tags": []
          }
        },
        {
          "output_type": "stream",
          "text": [
            "\n"
          ],
          "name": "stdout"
        }
      ]
    },
    {
      "cell_type": "code",
      "metadata": {
        "id": "_oRWHLVZGVLV"
      },
      "source": [
        "if tokenize:\r\n",
        "  save_as_pickle(path+'/whole/whole_review_pos_tokenized_list', whole_review_pos_tokenized_list)\r\n",
        "  save_as_pickle(path+'/whole/whole_review_neg_tokenized_list', whole_review_neg_tokenized_list)"
      ],
      "execution_count": 163,
      "outputs": []
    },
    {
      "cell_type": "markdown",
      "metadata": {
        "id": "mxkkiS3jD--4"
      },
      "source": [
        "In this section we load the pickles instead of tokenizing the dataset :"
      ]
    },
    {
      "cell_type": "code",
      "metadata": {
        "id": "-LYiFOdGD0Mm"
      },
      "source": [
        "if not tokenize:\r\n",
        "  whole_review_pos_tokenized_list = load_pickle(path+'/whole/whole_review_pos_tokenized_list')\r\n",
        "  whole_review_neg_tokenized_list = load_pickle(path+'/whole/whole_review_neg_tokenized_list')"
      ],
      "execution_count": 164,
      "outputs": []
    },
    {
      "cell_type": "markdown",
      "metadata": {
        "id": "ZkXED5K-XQD0"
      },
      "source": [
        "## Emerging pattern of two reviews"
      ]
    },
    {
      "cell_type": "markdown",
      "metadata": {
        "id": "2U9OmMcuceys"
      },
      "source": [
        "Write a function to filter the emerging patterns from the frequent patterns, for a first dataset, with respect to a second dataset, and respecting an emerging threshold."
      ]
    },
    {
      "cell_type": "markdown",
      "metadata": {
        "id": "quojfrXcGbhL"
      },
      "source": [
        "First, we define sub functions to organize the code into operations as learned in the exercises : relative support -> growth_rate -> threshold condition."
      ]
    },
    {
      "cell_type": "code",
      "metadata": {
        "id": "bjNMyQBKceys",
        "colab": {
          "base_uri": "https://localhost:8080/"
        },
        "outputId": "96d3d7b0-3f6b-406f-b21f-7540fcc8cfe3"
      },
      "source": [
        "#the relative support of a sequence is the support divided by length of respective dataset\r\n",
        "def relative_suport(sequence, dataset):\r\n",
        "  return countSupport(dataset, sequence) / len(dataset)\r\n",
        "\r\n",
        "#test\r\n",
        "relative_suport([[\"a\"], [\"b\", \"c\"]], dataset)"
      ],
      "execution_count": 165,
      "outputs": [
        {
          "output_type": "execute_result",
          "data": {
            "text/plain": [
              "0.5"
            ]
          },
          "metadata": {
            "tags": []
          },
          "execution_count": 165
        }
      ]
    },
    {
      "cell_type": "code",
      "metadata": {
        "colab": {
          "base_uri": "https://localhost:8080/",
          "height": 96
        },
        "id": "FWSofciuFWGI",
        "outputId": "a3b61c58-0808-4116-dcde-6b6e902c060b"
      },
      "source": [
        "#the growthrate of a sequence in a dataset A on dataset B is its relative support in dataset A divided by its relative support in dataset B\r\n",
        "def growth_rate(sequence, dataset1, dataset2):\r\n",
        "  return relative_suport(sequence, dataset1) / relative_suport(sequence, dataset2)\r\n",
        "  \r\n",
        "#test on two frequent patterns :\r\n",
        "print('Growth rate on two frequent patterns : ')\r\n",
        "pd.DataFrame([[growth_rate([[\"a\"]], dataset, newCandidates), growth_rate([[\"a\"], [\"b\", \"c\"]], dataset, newCandidates)]], columns=['test 1', 'test 2'])"
      ],
      "execution_count": 166,
      "outputs": [
        {
          "output_type": "stream",
          "text": [
            "Growth rate on two frequent patterns : \n"
          ],
          "name": "stdout"
        },
        {
          "output_type": "execute_result",
          "data": {
            "text/html": [
              "<div>\n",
              "<style scoped>\n",
              "    .dataframe tbody tr th:only-of-type {\n",
              "        vertical-align: middle;\n",
              "    }\n",
              "\n",
              "    .dataframe tbody tr th {\n",
              "        vertical-align: top;\n",
              "    }\n",
              "\n",
              "    .dataframe thead th {\n",
              "        text-align: right;\n",
              "    }\n",
              "</style>\n",
              "<table border=\"1\" class=\"dataframe\">\n",
              "  <thead>\n",
              "    <tr style=\"text-align: right;\">\n",
              "      <th></th>\n",
              "      <th>test 1</th>\n",
              "      <th>test 2</th>\n",
              "    </tr>\n",
              "  </thead>\n",
              "  <tbody>\n",
              "    <tr>\n",
              "      <th>0</th>\n",
              "      <td>2.333333</td>\n",
              "      <td>7.0</td>\n",
              "    </tr>\n",
              "  </tbody>\n",
              "</table>\n",
              "</div>"
            ],
            "text/plain": [
              "     test 1  test 2\n",
              "0  2.333333  7.0   "
            ]
          },
          "metadata": {
            "tags": []
          },
          "execution_count": 166
        }
      ]
    },
    {
      "cell_type": "code",
      "metadata": {
        "id": "r1eEEkg1ceys",
        "colab": {
          "base_uri": "https://localhost:8080/",
          "height": 104,
          "referenced_widgets": [
            "3edbe0758aa149a0bc5fc151450db783",
            "2e16854b8eaa402f85f5f5b4b746e750",
            "80ba7f2f9ea346d6843306d6dac8f53f",
            "d4da4be6106e451a9e9105fbb9b5aa58",
            "89fe895716e946d983dd15c74e67f51e",
            "3b2596c31a654f2198a172b8f80c9cba",
            "4254462d352f4137a537a3b54e451a19",
            "bc53959b8b4444eab7580b97bacc340b"
          ]
        },
        "outputId": "7dd6a1f2-e1fc-4037-b1f5-886cea69f0aa"
      },
      "source": [
        "\"\"\"\n",
        "Given 2 datasets, dataset1 and dataset2, filter the frequent patterns that are emerging patterns of dataset1, \n",
        "with respect to dataset2 and to the emerging threshold.\n",
        "\"\"\"\n",
        "def emergingPatterns(frequentPatterns, dataset1, dataset2, emergingThreshold):\n",
        "\n",
        "    emergingPatterns_list = []\n",
        "    \n",
        "    for frequentPattern in tqdm(frequentPatterns):\n",
        "      growth_rate_value = growth_rate(frequentPattern, dataset1, dataset2)\n",
        "      if ( growth_rate_value >= emergingThreshold):\n",
        "        emergingPatterns_list.append((frequentPattern, growth_rate_value))\n",
        "    \n",
        "    return emergingPatterns_list\n",
        "\n",
        "#test - we provide a list of frequent patterns containing the two previous examples from the above cell\n",
        "print('Frequent pattern above threshold : ')\n",
        "emergingPatterns([[[\"a\"], [\"b\", \"c\"]], [['a']]], dataset, newCandidates, 6)"
      ],
      "execution_count": 167,
      "outputs": [
        {
          "output_type": "stream",
          "text": [
            "Frequent pattern above threshold : \n"
          ],
          "name": "stdout"
        },
        {
          "output_type": "display_data",
          "data": {
            "application/vnd.jupyter.widget-view+json": {
              "model_id": "3edbe0758aa149a0bc5fc151450db783",
              "version_minor": 0,
              "version_major": 2
            },
            "text/plain": [
              "HBox(children=(FloatProgress(value=0.0, max=2.0), HTML(value='')))"
            ]
          },
          "metadata": {
            "tags": []
          }
        },
        {
          "output_type": "stream",
          "text": [
            "\n"
          ],
          "name": "stdout"
        },
        {
          "output_type": "execute_result",
          "data": {
            "text/plain": [
              "[([['a'], ['b', 'c']], 7.0)]"
            ]
          },
          "metadata": {
            "tags": []
          },
          "execution_count": 167
        }
      ]
    },
    {
      "cell_type": "markdown",
      "metadata": {
        "id": "UmXChwLMyDoQ"
      },
      "source": [
        "## Frequent patterns using prefixSpan"
      ]
    },
    {
      "cell_type": "markdown",
      "metadata": {
        "id": "_IJJObLxceys"
      },
      "source": [
        "Compute the frequent patterns of the positive review files as well as the frequent patterns of the negative review.\n",
        "You can use the implementation of the PrefixSpan algorithm given above."
      ]
    },
    {
      "cell_type": "code",
      "metadata": {
        "colab": {
          "base_uri": "https://localhost:8080/",
          "height": 104,
          "referenced_widgets": [
            "c86c62ebecff453f9e67ac856373e9a1",
            "4e6ada2c15e843ef8b0da338c5a1acb4",
            "80a3ce3f3a4e45e69276a5894339a662",
            "b0d6d125d6914545a5d5a3496f1afcb1",
            "e6b875d99fcc486c9254717c4e8b6706",
            "3eb89fec9ba343a2b29932839a0dd1eb",
            "09220a686b0c426cb1ca0d83e08f9462",
            "5e10184a5eb148ce995464be18cc5bcc"
          ]
        },
        "id": "NeLbtnvTV6_T",
        "outputId": "2e0e26cb-a710-4e14-c845-18a8edc75ce1"
      },
      "source": [
        "#lets start with a positive review and a negative review :\r\n",
        "minFreq = 2000\r\n",
        "whole_review_pos_frequent_patterns = prefixSpan(whole_review_neg_tokenized_list, minFreq)\r\n",
        "print('With a minFreq of : '+str(minFreq))\r\n",
        "print(\"We found \"+str(len(whole_review_pos_frequent_patterns)) + ' frequent pattern in this positive review')"
      ],
      "execution_count": 169,
      "outputs": [
        {
          "output_type": "display_data",
          "data": {
            "application/vnd.jupyter.widget-view+json": {
              "model_id": "c86c62ebecff453f9e67ac856373e9a1",
              "version_minor": 0,
              "version_major": 2
            },
            "text/plain": [
              "HBox(children=(FloatProgress(value=0.0, max=73555.0), HTML(value='')))"
            ]
          },
          "metadata": {
            "tags": []
          }
        },
        {
          "output_type": "stream",
          "text": [
            "\n",
            "With a minFreq of : 2000\n",
            "We found 969 frequent pattern in this positive review\n"
          ],
          "name": "stdout"
        }
      ]
    },
    {
      "cell_type": "code",
      "metadata": {
        "colab": {
          "base_uri": "https://localhost:8080/",
          "height": 104,
          "referenced_widgets": [
            "ae62d6e2109e445d88cbb5cb393c09da",
            "4ab1d37a92e940a6a9096beefd0bd11f",
            "28bd9533293a4a6898e1961e583deb33",
            "c8ed2583950540c3b20c13e4bd36c3fc",
            "878be1a4c4d945f9b5fbcef7e0a85727",
            "515d4eb3cfd1464f91f30153d6a0fcd3",
            "f26cf1140f5e452d989a948e16b37e54",
            "4c0d68bc3c5c46bcac3e9d51117998eb"
          ]
        },
        "id": "aXQNoMylys1w",
        "outputId": "85c7d800-5bd9-4f40-c179-a695fe62d544"
      },
      "source": [
        "whole_review_neg_frequent_patterns = prefixSpan(whole_review_pos_tokenized_list, minFreq)\r\n",
        "print('With a minFreq of : '+str(minFreq))\r\n",
        "print(\"We found \"+str(len(whole_review_neg_frequent_patterns)) + ' frequent pattern in this negative review')"
      ],
      "execution_count": 170,
      "outputs": [
        {
          "output_type": "display_data",
          "data": {
            "application/vnd.jupyter.widget-view+json": {
              "model_id": "ae62d6e2109e445d88cbb5cb393c09da",
              "version_minor": 0,
              "version_major": 2
            },
            "text/plain": [
              "HBox(children=(FloatProgress(value=0.0, max=74067.0), HTML(value='')))"
            ]
          },
          "metadata": {
            "tags": []
          }
        },
        {
          "output_type": "stream",
          "text": [
            "\n",
            "With a minFreq of : 2000\n",
            "We found 528 frequent pattern in this negative review\n"
          ],
          "name": "stdout"
        }
      ]
    },
    {
      "cell_type": "code",
      "metadata": {
        "id": "Z0cik0EkQPwJ"
      },
      "source": [
        "save_as_pickle(path+'/whole/prefixspan_whole_review_pos_tokenized_list', whole_review_pos_frequent_patterns)\r\n",
        "save_as_pickle(path+'/whole/prefixspan_whole_review_neg_tokenized_list', whole_review_neg_frequent_patterns)"
      ],
      "execution_count": 171,
      "outputs": []
    },
    {
      "cell_type": "markdown",
      "metadata": {
        "id": "UFVAT1y10Sjn"
      },
      "source": [
        "We then create a unique dataframe containing all extracted frequent patterns with a column \"isPositive\" equal to true or false to flag positive or negative reviews"
      ]
    },
    {
      "cell_type": "code",
      "metadata": {
        "colab": {
          "base_uri": "https://localhost:8080/",
          "height": 198
        },
        "id": "l4UAvz1o0Qx-",
        "outputId": "b7dc6a32-7c17-4e69-f105-4ec28680161e"
      },
      "source": [
        "prefixSpan_result_df_pos = pd.DataFrame(whole_review_pos_frequent_patterns, columns=['sequence', 'frequency'])\r\n",
        "prefixSpan_result_df_pos['isPositive'] = True\r\n",
        "\r\n",
        "prefixSpan_result_df_neg = pd.DataFrame(whole_review_neg_frequent_patterns, columns=['sequence', 'frequency'])\r\n",
        "prefixSpan_result_df_neg['isPositive'] = False\r\n",
        "\r\n",
        "prefixSpan_result_df = pd.concat([prefixSpan_result_df_neg, prefixSpan_result_df_pos])\r\n",
        "prefixSpan_result_df.head()"
      ],
      "execution_count": 172,
      "outputs": [
        {
          "output_type": "execute_result",
          "data": {
            "text/html": [
              "<div>\n",
              "<style scoped>\n",
              "    .dataframe tbody tr th:only-of-type {\n",
              "        vertical-align: middle;\n",
              "    }\n",
              "\n",
              "    .dataframe tbody tr th {\n",
              "        vertical-align: top;\n",
              "    }\n",
              "\n",
              "    .dataframe thead th {\n",
              "        text-align: right;\n",
              "    }\n",
              "</style>\n",
              "<table border=\"1\" class=\"dataframe\">\n",
              "  <thead>\n",
              "    <tr style=\"text-align: right;\">\n",
              "      <th></th>\n",
              "      <th>sequence</th>\n",
              "      <th>frequency</th>\n",
              "      <th>isPositive</th>\n",
              "    </tr>\n",
              "  </thead>\n",
              "  <tbody>\n",
              "    <tr>\n",
              "      <th>0</th>\n",
              "      <td>[[('s, 's, PART)]]</td>\n",
              "      <td>4100</td>\n",
              "      <td>False</td>\n",
              "    </tr>\n",
              "    <tr>\n",
              "      <th>1</th>\n",
              "      <td>[[('s, 's, PART), (is, be, AUX)]]</td>\n",
              "      <td>2213</td>\n",
              "      <td>False</td>\n",
              "    </tr>\n",
              "    <tr>\n",
              "      <th>2</th>\n",
              "      <td>[[('s, 's, PART)], [('s, 's, PART)]]</td>\n",
              "      <td>2187</td>\n",
              "      <td>False</td>\n",
              "    </tr>\n",
              "    <tr>\n",
              "      <th>3</th>\n",
              "      <td>[[('s, 's, PART)], [(I, -PRON-, PRON)]]</td>\n",
              "      <td>2269</td>\n",
              "      <td>False</td>\n",
              "    </tr>\n",
              "    <tr>\n",
              "      <th>4</th>\n",
              "      <td>[[('s, 's, PART)], [(as, as, SCONJ)]]</td>\n",
              "      <td>2270</td>\n",
              "      <td>False</td>\n",
              "    </tr>\n",
              "  </tbody>\n",
              "</table>\n",
              "</div>"
            ],
            "text/plain": [
              "                                  sequence  frequency  isPositive\n",
              "0  [[('s, 's, PART)]]                       4100       False     \n",
              "1  [[('s, 's, PART), (is, be, AUX)]]        2213       False     \n",
              "2  [[('s, 's, PART)], [('s, 's, PART)]]     2187       False     \n",
              "3  [[('s, 's, PART)], [(I, -PRON-, PRON)]]  2269       False     \n",
              "4  [[('s, 's, PART)], [(as, as, SCONJ)]]    2270       False     "
            ]
          },
          "metadata": {
            "tags": []
          },
          "execution_count": 172
        }
      ]
    },
    {
      "cell_type": "markdown",
      "metadata": {
        "id": "0Q8wuL5U420d"
      },
      "source": [
        "We look at the frequency distribution :"
      ]
    },
    {
      "cell_type": "code",
      "metadata": {
        "colab": {
          "base_uri": "https://localhost:8080/"
        },
        "id": "xY77ePK74ahQ",
        "outputId": "56aaa38a-8552-44bb-b7bf-2ca9609be75a"
      },
      "source": [
        "prefixSpan_result_df.frequency.describe()"
      ],
      "execution_count": 173,
      "outputs": [
        {
          "output_type": "execute_result",
          "data": {
            "text/plain": [
              "count    1497.000000\n",
              "mean     2547.270541\n",
              "std      644.371460 \n",
              "min      2000.000000\n",
              "25%      2136.000000\n",
              "50%      2321.000000\n",
              "75%      2720.000000\n",
              "max      6844.000000\n",
              "Name: frequency, dtype: float64"
            ]
          },
          "metadata": {
            "tags": []
          },
          "execution_count": 173
        }
      ]
    },
    {
      "cell_type": "code",
      "metadata": {
        "colab": {
          "base_uri": "https://localhost:8080/",
          "height": 407
        },
        "id": "VQioJYhl476A",
        "outputId": "3a2847ab-449a-40b3-c63a-ffd9b47c7dce"
      },
      "source": [
        "#add sequence length as a property\r\n",
        "prefixSpan_result_df['seq_len'] = prefixSpan_result_df.apply(lambda row: len(row['sequence']), axis=1)\r\n",
        "prefixSpan_result_df"
      ],
      "execution_count": 174,
      "outputs": [
        {
          "output_type": "execute_result",
          "data": {
            "text/html": [
              "<div>\n",
              "<style scoped>\n",
              "    .dataframe tbody tr th:only-of-type {\n",
              "        vertical-align: middle;\n",
              "    }\n",
              "\n",
              "    .dataframe tbody tr th {\n",
              "        vertical-align: top;\n",
              "    }\n",
              "\n",
              "    .dataframe thead th {\n",
              "        text-align: right;\n",
              "    }\n",
              "</style>\n",
              "<table border=\"1\" class=\"dataframe\">\n",
              "  <thead>\n",
              "    <tr style=\"text-align: right;\">\n",
              "      <th></th>\n",
              "      <th>sequence</th>\n",
              "      <th>frequency</th>\n",
              "      <th>isPositive</th>\n",
              "      <th>seq_len</th>\n",
              "    </tr>\n",
              "  </thead>\n",
              "  <tbody>\n",
              "    <tr>\n",
              "      <th>0</th>\n",
              "      <td>[[('s, 's, PART)]]</td>\n",
              "      <td>4100</td>\n",
              "      <td>False</td>\n",
              "      <td>1</td>\n",
              "    </tr>\n",
              "    <tr>\n",
              "      <th>1</th>\n",
              "      <td>[[('s, 's, PART), (is, be, AUX)]]</td>\n",
              "      <td>2213</td>\n",
              "      <td>False</td>\n",
              "      <td>1</td>\n",
              "    </tr>\n",
              "    <tr>\n",
              "      <th>2</th>\n",
              "      <td>[[('s, 's, PART)], [('s, 's, PART)]]</td>\n",
              "      <td>2187</td>\n",
              "      <td>False</td>\n",
              "      <td>2</td>\n",
              "    </tr>\n",
              "    <tr>\n",
              "      <th>3</th>\n",
              "      <td>[[('s, 's, PART)], [(I, -PRON-, PRON)]]</td>\n",
              "      <td>2269</td>\n",
              "      <td>False</td>\n",
              "      <td>2</td>\n",
              "    </tr>\n",
              "    <tr>\n",
              "      <th>4</th>\n",
              "      <td>[[('s, 's, PART)], [(as, as, SCONJ)]]</td>\n",
              "      <td>2270</td>\n",
              "      <td>False</td>\n",
              "      <td>2</td>\n",
              "    </tr>\n",
              "    <tr>\n",
              "      <th>...</th>\n",
              "      <td>...</td>\n",
              "      <td>...</td>\n",
              "      <td>...</td>\n",
              "      <td>...</td>\n",
              "    </tr>\n",
              "    <tr>\n",
              "      <th>964</th>\n",
              "      <td>[[(you, -PRON-, PRON)]]</td>\n",
              "      <td>3997</td>\n",
              "      <td>True</td>\n",
              "      <td>1</td>\n",
              "    </tr>\n",
              "    <tr>\n",
              "      <th>965</th>\n",
              "      <td>[[(you, -PRON-, PRON)], [(I, -PRON-, PRON)]]</td>\n",
              "      <td>2266</td>\n",
              "      <td>True</td>\n",
              "      <td>2</td>\n",
              "    </tr>\n",
              "    <tr>\n",
              "      <th>966</th>\n",
              "      <td>[[(you, -PRON-, PRON)], [(is, be, AUX)]]</td>\n",
              "      <td>2561</td>\n",
              "      <td>True</td>\n",
              "      <td>2</td>\n",
              "    </tr>\n",
              "    <tr>\n",
              "      <th>967</th>\n",
              "      <td>[[(you, -PRON-, PRON)], [(it, -PRON-, PRON)]]</td>\n",
              "      <td>2483</td>\n",
              "      <td>True</td>\n",
              "      <td>2</td>\n",
              "    </tr>\n",
              "    <tr>\n",
              "      <th>968</th>\n",
              "      <td>[[(you, -PRON-, PRON)], [(to, to, PART)]]</td>\n",
              "      <td>2626</td>\n",
              "      <td>True</td>\n",
              "      <td>2</td>\n",
              "    </tr>\n",
              "  </tbody>\n",
              "</table>\n",
              "<p>1497 rows × 4 columns</p>\n",
              "</div>"
            ],
            "text/plain": [
              "                                          sequence  ...  seq_len\n",
              "0    [[('s, 's, PART)]]                             ...  1      \n",
              "1    [[('s, 's, PART), (is, be, AUX)]]              ...  1      \n",
              "2    [[('s, 's, PART)], [('s, 's, PART)]]           ...  2      \n",
              "3    [[('s, 's, PART)], [(I, -PRON-, PRON)]]        ...  2      \n",
              "4    [[('s, 's, PART)], [(as, as, SCONJ)]]          ...  2      \n",
              "..                                     ...          ... ..      \n",
              "964  [[(you, -PRON-, PRON)]]                        ...  1      \n",
              "965  [[(you, -PRON-, PRON)], [(I, -PRON-, PRON)]]   ...  2      \n",
              "966  [[(you, -PRON-, PRON)], [(is, be, AUX)]]       ...  2      \n",
              "967  [[(you, -PRON-, PRON)], [(it, -PRON-, PRON)]]  ...  2      \n",
              "968  [[(you, -PRON-, PRON)], [(to, to, PART)]]      ...  2      \n",
              "\n",
              "[1497 rows x 4 columns]"
            ]
          },
          "metadata": {
            "tags": []
          },
          "execution_count": 174
        }
      ]
    },
    {
      "cell_type": "markdown",
      "metadata": {
        "id": "z2-BSJH0BrT8"
      },
      "source": [
        "From the plot below, we can see the sequence length distribution. Although the number of frequent patterns mined from positive or negative reviews is different, we can see that the distributions remain the same."
      ]
    },
    {
      "cell_type": "code",
      "metadata": {
        "colab": {
          "base_uri": "https://localhost:8080/",
          "height": 286
        },
        "id": "qDKRQi8ZGlwR",
        "outputId": "f3109bf6-ea5c-40cc-9ff8-1f9f7018a16e"
      },
      "source": [
        "#we plot a histogram of sequence length\r\n",
        "prefixSpan_result_df[prefixSpan_result_df.isPositive == True].seq_len.plot(kind='hist')\r\n",
        "prefixSpan_result_df[prefixSpan_result_df.isPositive == False].seq_len.plot(kind='hist')"
      ],
      "execution_count": 175,
      "outputs": [
        {
          "output_type": "execute_result",
          "data": {
            "text/plain": [
              "<matplotlib.axes._subplots.AxesSubplot at 0x7f2c41c0b2b0>"
            ]
          },
          "metadata": {
            "tags": []
          },
          "execution_count": 175
        },
        {
          "output_type": "display_data",
          "data": {
            "image/png": "[encoded data removed]",
            "text/plain": [
              "<Figure size 432x288 with 1 Axes>"
            ]
          },
          "metadata": {
            "tags": []
          }
        }
      ]
    },
    {
      "cell_type": "markdown",
      "metadata": {
        "id": "w9NOWsnVTcVt"
      },
      "source": [
        "We consider that sequences of length one are not interesting and sequences of length 5 or more are too rare to be used. "
      ]
    },
    {
      "cell_type": "code",
      "metadata": {
        "colab": {
          "base_uri": "https://localhost:8080/"
        },
        "id": "FGHiS_c6TR9t",
        "outputId": "6c9a4dc4-2b53-4828-82ed-43b5dc08b5da"
      },
      "source": [
        "prefixSpan_result_df_middle_len = prefixSpan_result_df.loc[(prefixSpan_result_df.seq_len > 1) & (prefixSpan_result_df.seq_len < 5)]\r\n",
        "prefixSpan_result_df_middle_len.frequency.describe()"
      ],
      "execution_count": 176,
      "outputs": [
        {
          "output_type": "execute_result",
          "data": {
            "text/plain": [
              "count    1349.000000\n",
              "mean     2490.063010\n",
              "std      542.779556 \n",
              "min      2000.000000\n",
              "25%      2126.000000\n",
              "50%      2299.000000\n",
              "75%      2663.000000\n",
              "max      5596.000000\n",
              "Name: frequency, dtype: float64"
            ]
          },
          "metadata": {
            "tags": []
          },
          "execution_count": 176
        }
      ]
    },
    {
      "cell_type": "markdown",
      "metadata": {
        "id": "S2r9Qt9-UHoS"
      },
      "source": [
        "The frequency distribution of frequent patterns is the same whether the review is positive or negative :"
      ]
    },
    {
      "cell_type": "code",
      "metadata": {
        "colab": {
          "base_uri": "https://localhost:8080/",
          "height": 286
        },
        "id": "gGhQRfYGTw13",
        "outputId": "21404459-60c8-42a2-dba4-ae6400d81728"
      },
      "source": [
        "prefixSpan_result_df_middle_len[prefixSpan_result_df_middle_len.isPositive == True].frequency.plot(kind='kde')\r\n",
        "prefixSpan_result_df_middle_len[prefixSpan_result_df_middle_len.isPositive == False].frequency.plot(kind='kde')"
      ],
      "execution_count": 177,
      "outputs": [
        {
          "output_type": "execute_result",
          "data": {
            "text/plain": [
              "<matplotlib.axes._subplots.AxesSubplot at 0x7f2c3fe66b70>"
            ]
          },
          "metadata": {
            "tags": []
          },
          "execution_count": 177
        },
        {
          "output_type": "display_data",
          "data": {
            "image/png": "[encoded data removed]",
            "text/plain": [
              "<Figure size 432x288 with 1 Axes>"
            ]
          },
          "metadata": {
            "tags": []
          }
        }
      ]
    },
    {
      "cell_type": "markdown",
      "metadata": {
        "id": "9p21pZNMUc-c"
      },
      "source": [
        "From all the above tests, we cannot infer any difference between positive and negative reviews by relying solely on prefixSpan output.\r\n",
        "\r\n",
        "In the next section, we will do the same analysis on emergingPatterns."
      ]
    },
    {
      "cell_type": "markdown",
      "metadata": {
        "id": "3GuznZE9UuSQ"
      },
      "source": [
        "## EmergingPatterns on prefixSpan output"
      ]
    },
    {
      "cell_type": "markdown",
      "metadata": {
        "id": "L8Mq5wRaceys"
      },
      "source": [
        "Filter the emerging patterns of the positive reviews as compared to the negative reviews. \n",
        "You can test several minsup values and you can use constraints as a post-processing step, for example (i.e., length constraints, gap constraints...)."
      ]
    },
    {
      "cell_type": "markdown",
      "metadata": {
        "id": "aRpziiCFxZR2"
      },
      "source": [
        "We do the emerging positive and negative patterns at the same time, then analyze positive patterns and answer questions.  \r\n",
        "The negative patterns analysis is in a separate part.  "
      ]
    },
    {
      "cell_type": "code",
      "metadata": {
        "colab": {
          "base_uri": "https://localhost:8080/",
          "height": 158,
          "referenced_widgets": [
            "d4728ea7c59343a6932ac486f970883d",
            "4f9929d6d42d497dabc51eaff91d8625",
            "43047a63c86048c092aea4cc0e18713f",
            "fc5fe729c6c54a88ac8304d7f02a519a",
            "615b8962a2e446598158b44a595c2264",
            "d159562103044ce5ab00cd2b540806b4",
            "29ea6dbe05614f9da5de9e291105ab58",
            "44b61e954d4b417bb21855f18116a2ce"
          ]
        },
        "id": "pbeAAvzPZFhb",
        "outputId": "ab9de892-c70a-4c45-92f5-78e38d63d9c9"
      },
      "source": [
        "#we extract frequent patterns in an array for compatibility with emergingPatterns algorithm\r\n",
        "pos_freq_patterns = list(prefixSpan_result_df_middle_len[prefixSpan_result_df_middle_len.isPositive == True].sequence)\r\n",
        "neg_freq_patterns = list(prefixSpan_result_df_middle_len[prefixSpan_result_df_middle_len.isPositive == False].sequence)\r\n",
        "\r\n",
        "#these two variables are our tokenized dataset\r\n",
        "# whole_review_neg_tokenized_list\r\n",
        "# whole_review_pos_tokenized_list\r\n",
        "\r\n",
        "#we apply emerging patterns of positive and negative reviews on positive then negative datasets - start with a limit at 0\r\n",
        "emerg_pos = emergingPatterns(pos_freq_patterns, whole_review_pos_tokenized_list, whole_review_neg_tokenized_list, 1)\r\n",
        "emerg_pos[:5]"
      ],
      "execution_count": 178,
      "outputs": [
        {
          "output_type": "display_data",
          "data": {
            "application/vnd.jupyter.widget-view+json": {
              "model_id": "d4728ea7c59343a6932ac486f970883d",
              "version_minor": 0,
              "version_major": 2
            },
            "text/plain": [
              "HBox(children=(FloatProgress(value=0.0, max=885.0), HTML(value='')))"
            ]
          },
          "metadata": {
            "tags": []
          }
        },
        {
          "output_type": "stream",
          "text": [
            "\n"
          ],
          "name": "stdout"
        },
        {
          "output_type": "execute_result",
          "data": {
            "text/plain": [
              "[([[(\"'s\", \"'s\", 'PART')], [('I', '-PRON-', 'PRON')]], 1.0220720720720722),\n",
              " ([[(\"'s\", \"'s\", 'PART')], [('is', 'be', 'AUX')]], 1.2215973003374578),\n",
              " ([[(\"'s\", \"'s\", 'PART')], [('it', '-PRON-', 'PRON')]], 1.1537530266343825),\n",
              " ([[(\"'s\", \"'s\", 'PART')], [('to', 'to', 'PART')]], 1.0962936046511629),\n",
              " ([[('/><br', '/><br', 'NUM')], [('is', 'be', 'AUX')]], 1.0291872474180512)]"
            ]
          },
          "metadata": {
            "tags": []
          },
          "execution_count": 178
        }
      ]
    },
    {
      "cell_type": "code",
      "metadata": {
        "id": "6S3zFduhceys",
        "colab": {
          "base_uri": "https://localhost:8080/",
          "height": 176,
          "referenced_widgets": [
            "cb709adb00b04997996380a8adaddea8",
            "ddbde80effbc4dfe8ce212c017216b6b",
            "22ca89cc5b6944c89ba6e992a69c9544",
            "d15131c2026649e0ac3a0451938e1769",
            "a0999a36b61e44fea0683dab429f4a90",
            "ce18fbf67b6547239a9e507eeaf4d94d",
            "69012ea857bb4147b5e6314e4db587ec",
            "513252786d4845d9b0c68b780067ce85"
          ]
        },
        "outputId": "261809db-62e4-472b-eb71-640ba67987fa"
      },
      "source": [
        "emerg_neg = emergingPatterns(neg_freq_patterns, whole_review_neg_tokenized_list, whole_review_pos_tokenized_list, 1)\r\n",
        "emerg_neg[:5]"
      ],
      "execution_count": 179,
      "outputs": [
        {
          "output_type": "display_data",
          "data": {
            "application/vnd.jupyter.widget-view+json": {
              "model_id": "cb709adb00b04997996380a8adaddea8",
              "version_minor": 0,
              "version_major": 2
            },
            "text/plain": [
              "HBox(children=(FloatProgress(value=0.0, max=464.0), HTML(value='')))"
            ]
          },
          "metadata": {
            "tags": []
          }
        },
        {
          "output_type": "stream",
          "text": [
            "\n"
          ],
          "name": "stdout"
        },
        {
          "output_type": "execute_result",
          "data": {
            "text/plain": [
              "[([[(\"'s\", 'be', 'AUX')], [('I', '-PRON-', 'PRON')]], 1.2053973013493253),\n",
              " ([[(\"'s\", 'be', 'AUX')], [('is', 'be', 'AUX')]], 1.0890516576715499),\n",
              " ([[(\"'s\", 'be', 'AUX')], [('it', '-PRON-', 'PRON')]], 1.1101660591332523),\n",
              " ([[(\"'s\", 'be', 'AUX')], [('to', 'to', 'PART')]], 1.1830227743271222),\n",
              " ([[('/><br', '/><br', 'NUM')], [('it', '-PRON-', 'PRON')]],\n",
              "  1.0064070970921635)]"
            ]
          },
          "metadata": {
            "tags": []
          },
          "execution_count": 179
        }
      ]
    },
    {
      "cell_type": "markdown",
      "metadata": {
        "id": "lp_cfkHMadj8"
      },
      "source": [
        "We check the pattern length distribution by forming a dataframe that contains all the patterns as well as their respective threshold, and a column \"isPositive\" with a boolean to indicate the review type :"
      ]
    },
    {
      "cell_type": "code",
      "metadata": {
        "colab": {
          "base_uri": "https://localhost:8080/",
          "height": 198
        },
        "id": "pGNnEf9yaqle",
        "outputId": "10dd4c34-3a30-41d8-a1f0-b346633fa6ea"
      },
      "source": [
        "emerg_df_pos = pd.DataFrame(emerg_pos, columns=['sequence', 'threshold'])\r\n",
        "emerg_df_pos['isPositive'] = True\r\n",
        "\r\n",
        "emerg_df_neg = pd.DataFrame(emerg_neg, columns=['sequence', 'threshold'])\r\n",
        "emerg_df_neg['isPositive'] = False\r\n",
        "\r\n",
        "emerg_df = pd.concat([emerg_df_pos, emerg_df_neg])\r\n",
        "emerg_df.head()"
      ],
      "execution_count": 180,
      "outputs": [
        {
          "output_type": "execute_result",
          "data": {
            "text/html": [
              "<div>\n",
              "<style scoped>\n",
              "    .dataframe tbody tr th:only-of-type {\n",
              "        vertical-align: middle;\n",
              "    }\n",
              "\n",
              "    .dataframe tbody tr th {\n",
              "        vertical-align: top;\n",
              "    }\n",
              "\n",
              "    .dataframe thead th {\n",
              "        text-align: right;\n",
              "    }\n",
              "</style>\n",
              "<table border=\"1\" class=\"dataframe\">\n",
              "  <thead>\n",
              "    <tr style=\"text-align: right;\">\n",
              "      <th></th>\n",
              "      <th>sequence</th>\n",
              "      <th>threshold</th>\n",
              "      <th>isPositive</th>\n",
              "    </tr>\n",
              "  </thead>\n",
              "  <tbody>\n",
              "    <tr>\n",
              "      <th>0</th>\n",
              "      <td>[[('s, 's, PART)], [(I, -PRON-, PRON)]]</td>\n",
              "      <td>1.022072</td>\n",
              "      <td>True</td>\n",
              "    </tr>\n",
              "    <tr>\n",
              "      <th>1</th>\n",
              "      <td>[[('s, 's, PART)], [(is, be, AUX)]]</td>\n",
              "      <td>1.221597</td>\n",
              "      <td>True</td>\n",
              "    </tr>\n",
              "    <tr>\n",
              "      <th>2</th>\n",
              "      <td>[[('s, 's, PART)], [(it, -PRON-, PRON)]]</td>\n",
              "      <td>1.153753</td>\n",
              "      <td>True</td>\n",
              "    </tr>\n",
              "    <tr>\n",
              "      <th>3</th>\n",
              "      <td>[[('s, 's, PART)], [(to, to, PART)]]</td>\n",
              "      <td>1.096294</td>\n",
              "      <td>True</td>\n",
              "    </tr>\n",
              "    <tr>\n",
              "      <th>4</th>\n",
              "      <td>[[(/&gt;&lt;br, /&gt;&lt;br, NUM)], [(is, be, AUX)]]</td>\n",
              "      <td>1.029187</td>\n",
              "      <td>True</td>\n",
              "    </tr>\n",
              "  </tbody>\n",
              "</table>\n",
              "</div>"
            ],
            "text/plain": [
              "                                   sequence  threshold  isPositive\n",
              "0  [[('s, 's, PART)], [(I, -PRON-, PRON)]]   1.022072   True      \n",
              "1  [[('s, 's, PART)], [(is, be, AUX)]]       1.221597   True      \n",
              "2  [[('s, 's, PART)], [(it, -PRON-, PRON)]]  1.153753   True      \n",
              "3  [[('s, 's, PART)], [(to, to, PART)]]      1.096294   True      \n",
              "4  [[(/><br, /><br, NUM)], [(is, be, AUX)]]  1.029187   True      "
            ]
          },
          "metadata": {
            "tags": []
          },
          "execution_count": 180
        }
      ]
    },
    {
      "cell_type": "code",
      "metadata": {
        "colab": {
          "base_uri": "https://localhost:8080/",
          "height": 320
        },
        "id": "gROrzqRsbBoQ",
        "outputId": "463a8195-9647-4a6e-d91e-74952f5cf358"
      },
      "source": [
        "fig, ax = plt.subplots()\r\n",
        "\r\n",
        "emerg_df[emerg_df.isPositive == True].threshold.plot(kind='kde', legend=True, ax=ax)\r\n",
        "emerg_df[emerg_df.isPositive == False].threshold.plot(kind='kde', legend=True, ax=ax)\r\n",
        "plt.xlabel('Threshold value', fontsize=14)\r\n",
        "plt.ylabel('Number of reviews', fontsize=14)\r\n",
        "ax.legend([\"Positive\", \"Negative\"])\r\n",
        "plt.title('Number of reviews per threshold value')"
      ],
      "execution_count": 181,
      "outputs": [
        {
          "output_type": "execute_result",
          "data": {
            "text/plain": [
              "Text(0.5, 1.0, 'Number of reviews per threshold value')"
            ]
          },
          "metadata": {
            "tags": []
          },
          "execution_count": 181
        },
        {
          "output_type": "display_data",
          "data": {
            "image/png": "[encoded data removed]",
            "text/plain": [
              "<Figure size 432x288 with 1 Axes>"
            ]
          },
          "metadata": {
            "tags": []
          }
        }
      ]
    },
    {
      "cell_type": "markdown",
      "metadata": {
        "id": "rKcHcyXbc6fP"
      },
      "source": [
        "This time, for an equal threshold, we can see a difference in the distribution of emergingPatterns between positive and negative reviews.  \r\n",
        "Positive reviews seem to have a low standard deviation (less than 0.1) around growth rate 1.05, whereas negative reviews have a higher std (approx 0.2) around growth rate 1.1.  \r\n",
        "This shift in std and growth rate center can allow the identification of some reviews if they have a very low or very high growth rate. If the review is located somewhere between 1.1 and 1.3, it becomes harder to judge on one element alone. A corpus of reviews is easier to classifiy."
      ]
    },
    {
      "cell_type": "markdown",
      "metadata": {
        "id": "Q5JnqKn4xrAM"
      },
      "source": [
        "## Positive patterns analysis"
      ]
    },
    {
      "cell_type": "markdown",
      "metadata": {
        "id": "baulFU8YeQBn"
      },
      "source": [
        "### How many emerging positive patterns ?"
      ]
    },
    {
      "cell_type": "markdown",
      "metadata": {
        "id": "c4z05UpYceys"
      },
      "source": [
        "How many patterns do you have ? Write here the 10 most occurring positive emerging patterns as well as the ones you find the most interesting. "
      ]
    },
    {
      "cell_type": "code",
      "metadata": {
        "colab": {
          "base_uri": "https://localhost:8080/"
        },
        "id": "qF_6vSEMg97t",
        "outputId": "54c95903-277f-4c43-dfea-9967b3915bec"
      },
      "source": [
        "print('Total number of patterns : ' +str(len(emerg_df)))\r\n",
        "print('Number of positive patterns : ' +str(len(emerg_df[emerg_df.isPositive == True])))"
      ],
      "execution_count": 182,
      "outputs": [
        {
          "output_type": "stream",
          "text": [
            "Total number of patterns : 419\n",
            "Number of positive patterns : 116\n"
          ],
          "name": "stdout"
        }
      ]
    },
    {
      "cell_type": "markdown",
      "metadata": {
        "id": "CE3GE9MwxxD4"
      },
      "source": [
        "### Top 10 positive emerging patterns"
      ]
    },
    {
      "cell_type": "markdown",
      "metadata": {
        "id": "YUQMkjamg83Z"
      },
      "source": [
        "Top 10 patterns by growth rate for positive reviews : "
      ]
    },
    {
      "cell_type": "code",
      "metadata": {
        "id": "VDxaI53_ceyt",
        "colab": {
          "base_uri": "https://localhost:8080/",
          "height": 348
        },
        "outputId": "18b019bf-96fb-4286-d1e9-f82a2b9bed88"
      },
      "source": [
        "emerg_df[emerg_df.isPositive == True].sort_values('threshold', ascending=False, ignore_index=True).head(10)"
      ],
      "execution_count": 183,
      "outputs": [
        {
          "output_type": "execute_result",
          "data": {
            "text/html": [
              "<div>\n",
              "<style scoped>\n",
              "    .dataframe tbody tr th:only-of-type {\n",
              "        vertical-align: middle;\n",
              "    }\n",
              "\n",
              "    .dataframe tbody tr th {\n",
              "        vertical-align: top;\n",
              "    }\n",
              "\n",
              "    .dataframe thead th {\n",
              "        text-align: right;\n",
              "    }\n",
              "</style>\n",
              "<table border=\"1\" class=\"dataframe\">\n",
              "  <thead>\n",
              "    <tr style=\"text-align: right;\">\n",
              "      <th></th>\n",
              "      <th>sequence</th>\n",
              "      <th>threshold</th>\n",
              "      <th>isPositive</th>\n",
              "    </tr>\n",
              "  </thead>\n",
              "  <tbody>\n",
              "    <tr>\n",
              "      <th>0</th>\n",
              "      <td>[[(as, as, SCONJ)], [(as, as, SCONJ)]]</td>\n",
              "      <td>1.234288</td>\n",
              "      <td>True</td>\n",
              "    </tr>\n",
              "    <tr>\n",
              "      <th>1</th>\n",
              "      <td>[[(is, be, AUX)], [(as, as, SCONJ)], [(is, be, AUX)]]</td>\n",
              "      <td>1.233099</td>\n",
              "      <td>True</td>\n",
              "    </tr>\n",
              "    <tr>\n",
              "      <th>2</th>\n",
              "      <td>[[('s, 's, PART)], [(is, be, AUX)]]</td>\n",
              "      <td>1.221597</td>\n",
              "      <td>True</td>\n",
              "    </tr>\n",
              "    <tr>\n",
              "      <th>3</th>\n",
              "      <td>[[(is, be, AUX)], [(is, be, AUX)], [(as, as, SCONJ)]]</td>\n",
              "      <td>1.209130</td>\n",
              "      <td>True</td>\n",
              "    </tr>\n",
              "    <tr>\n",
              "      <th>4</th>\n",
              "      <td>[[(is, be, AUX)], [('s, 's, PART)]]</td>\n",
              "      <td>1.174220</td>\n",
              "      <td>True</td>\n",
              "    </tr>\n",
              "    <tr>\n",
              "      <th>5</th>\n",
              "      <td>[[(is, be, AUX)], [(as, as, SCONJ)], [(it, -PRON-, PRON)]]</td>\n",
              "      <td>1.169532</td>\n",
              "      <td>True</td>\n",
              "    </tr>\n",
              "    <tr>\n",
              "      <th>6</th>\n",
              "      <td>[[(is, be, AUX)], [(as, as, SCONJ)]]</td>\n",
              "      <td>1.158403</td>\n",
              "      <td>True</td>\n",
              "    </tr>\n",
              "    <tr>\n",
              "      <th>7</th>\n",
              "      <td>[[(as, as, SCONJ)], [(is, be, AUX)], [(is, be, AUX)]]</td>\n",
              "      <td>1.155955</td>\n",
              "      <td>True</td>\n",
              "    </tr>\n",
              "    <tr>\n",
              "      <th>8</th>\n",
              "      <td>[[('s, 's, PART)], [(it, -PRON-, PRON)]]</td>\n",
              "      <td>1.153753</td>\n",
              "      <td>True</td>\n",
              "    </tr>\n",
              "    <tr>\n",
              "      <th>9</th>\n",
              "      <td>[[(has, have, AUX)], [(it, -PRON-, PRON)]]</td>\n",
              "      <td>1.151273</td>\n",
              "      <td>True</td>\n",
              "    </tr>\n",
              "  </tbody>\n",
              "</table>\n",
              "</div>"
            ],
            "text/plain": [
              "                                                     sequence  ...  isPositive\n",
              "0  [[(as, as, SCONJ)], [(as, as, SCONJ)]]                      ...  True      \n",
              "1  [[(is, be, AUX)], [(as, as, SCONJ)], [(is, be, AUX)]]       ...  True      \n",
              "2  [[('s, 's, PART)], [(is, be, AUX)]]                         ...  True      \n",
              "3  [[(is, be, AUX)], [(is, be, AUX)], [(as, as, SCONJ)]]       ...  True      \n",
              "4  [[(is, be, AUX)], [('s, 's, PART)]]                         ...  True      \n",
              "5  [[(is, be, AUX)], [(as, as, SCONJ)], [(it, -PRON-, PRON)]]  ...  True      \n",
              "6  [[(is, be, AUX)], [(as, as, SCONJ)]]                        ...  True      \n",
              "7  [[(as, as, SCONJ)], [(is, be, AUX)], [(is, be, AUX)]]       ...  True      \n",
              "8  [[('s, 's, PART)], [(it, -PRON-, PRON)]]                    ...  True      \n",
              "9  [[(has, have, AUX)], [(it, -PRON-, PRON)]]                  ...  True      \n",
              "\n",
              "[10 rows x 3 columns]"
            ]
          },
          "metadata": {
            "tags": []
          },
          "execution_count": 183
        }
      ]
    },
    {
      "cell_type": "markdown",
      "metadata": {
        "id": "3Y0dCWSShcg6"
      },
      "source": [
        "Top 10 \"most interesting\" patterns in positive reviews :"
      ]
    },
    {
      "cell_type": "code",
      "metadata": {
        "colab": {
          "base_uri": "https://localhost:8080/"
        },
        "id": "jVgnHiLbhkEH",
        "outputId": "3b3c06f6-50ab-4427-dce3-81c6cbe527c0"
      },
      "source": [
        "#first we create a specific POS detection function\r\n",
        "def is_pos_in_seq(search_pos, seq):\r\n",
        "\r\n",
        "  for token in seq:\r\n",
        "    if search_pos in token[0]:\r\n",
        "      return True\r\n",
        "\r\n",
        "  return False\r\n",
        "\r\n",
        "#test\r\n",
        "is_pos_in_seq('PART', [[(\"'s\", \"'s\", 'PART')], [(\"'s\", \"'s\", 'PART')]])"
      ],
      "execution_count": 184,
      "outputs": [
        {
          "output_type": "execute_result",
          "data": {
            "text/plain": [
              "True"
            ]
          },
          "metadata": {
            "tags": []
          },
          "execution_count": 184
        }
      ]
    },
    {
      "cell_type": "code",
      "metadata": {
        "colab": {
          "base_uri": "https://localhost:8080/",
          "height": 348
        },
        "id": "45Doq52fsB5z",
        "outputId": "55386ceb-ac8a-4bd5-cb46-2bd974aa59a1"
      },
      "source": [
        "#then we apply it to the result dataframe\r\n",
        "emerg_df['hasNOUN'] = emerg_df.apply(lambda row: is_pos_in_seq('NOUN', row['sequence']), axis=1)\r\n",
        "\r\n",
        "#and we filter by patterns containing a NOUN (and positive reviews), then sort by threshold\r\n",
        "emerg_df[(emerg_df.isPositive == True) & (emerg_df.hasNOUN == True)].sort_values('threshold', ascending=False, ignore_index=True).head(10)"
      ],
      "execution_count": 185,
      "outputs": [
        {
          "output_type": "execute_result",
          "data": {
            "text/html": [
              "<div>\n",
              "<style scoped>\n",
              "    .dataframe tbody tr th:only-of-type {\n",
              "        vertical-align: middle;\n",
              "    }\n",
              "\n",
              "    .dataframe tbody tr th {\n",
              "        vertical-align: top;\n",
              "    }\n",
              "\n",
              "    .dataframe thead th {\n",
              "        text-align: right;\n",
              "    }\n",
              "</style>\n",
              "<table border=\"1\" class=\"dataframe\">\n",
              "  <thead>\n",
              "    <tr style=\"text-align: right;\">\n",
              "      <th></th>\n",
              "      <th>sequence</th>\n",
              "      <th>threshold</th>\n",
              "      <th>isPositive</th>\n",
              "      <th>hasNOUN</th>\n",
              "    </tr>\n",
              "  </thead>\n",
              "  <tbody>\n",
              "    <tr>\n",
              "      <th>0</th>\n",
              "      <td>[[(is, be, AUX)], [(is, be, AUX)], [(film, film, NOUN)]]</td>\n",
              "      <td>1.107498</td>\n",
              "      <td>True</td>\n",
              "      <td>True</td>\n",
              "    </tr>\n",
              "    <tr>\n",
              "      <th>1</th>\n",
              "      <td>[[(is, be, AUX)], [(film, film, NOUN)], [(is, be, AUX)]]</td>\n",
              "      <td>1.102790</td>\n",
              "      <td>True</td>\n",
              "      <td>True</td>\n",
              "    </tr>\n",
              "    <tr>\n",
              "      <th>2</th>\n",
              "      <td>[[(film, film, NOUN)], [(film, film, NOUN)]]</td>\n",
              "      <td>1.099425</td>\n",
              "      <td>True</td>\n",
              "      <td>True</td>\n",
              "    </tr>\n",
              "    <tr>\n",
              "      <th>3</th>\n",
              "      <td>[[(film, film, NOUN)], [(is, be, AUX)], [(is, be, AUX)]]</td>\n",
              "      <td>1.087704</td>\n",
              "      <td>True</td>\n",
              "      <td>True</td>\n",
              "    </tr>\n",
              "    <tr>\n",
              "      <th>4</th>\n",
              "      <td>[[(is, be, AUX)], [(film, film, NOUN)]]</td>\n",
              "      <td>1.079933</td>\n",
              "      <td>True</td>\n",
              "      <td>True</td>\n",
              "    </tr>\n",
              "    <tr>\n",
              "      <th>5</th>\n",
              "      <td>[[(film, film, NOUN)], [(is, be, AUX)]]</td>\n",
              "      <td>1.066860</td>\n",
              "      <td>True</td>\n",
              "      <td>True</td>\n",
              "    </tr>\n",
              "    <tr>\n",
              "      <th>6</th>\n",
              "      <td>[[(film, film, NOUN)], [(is, be, AUX)], [(it, -PRON-, PRON)]]</td>\n",
              "      <td>1.058738</td>\n",
              "      <td>True</td>\n",
              "      <td>True</td>\n",
              "    </tr>\n",
              "    <tr>\n",
              "      <th>7</th>\n",
              "      <td>[[(is, be, AUX)], [(to, to, PART)], [(film, film, NOUN)]]</td>\n",
              "      <td>1.037161</td>\n",
              "      <td>True</td>\n",
              "      <td>True</td>\n",
              "    </tr>\n",
              "    <tr>\n",
              "      <th>8</th>\n",
              "      <td>[[(to, to, PART)], [(is, be, AUX)], [(film, film, NOUN)]]</td>\n",
              "      <td>1.020823</td>\n",
              "      <td>True</td>\n",
              "      <td>True</td>\n",
              "    </tr>\n",
              "    <tr>\n",
              "      <th>9</th>\n",
              "      <td>[[(film, film, NOUN)], [(it, -PRON-, PRON)]]</td>\n",
              "      <td>1.018101</td>\n",
              "      <td>True</td>\n",
              "      <td>True</td>\n",
              "    </tr>\n",
              "  </tbody>\n",
              "</table>\n",
              "</div>"
            ],
            "text/plain": [
              "                                                        sequence  ...  hasNOUN\n",
              "0  [[(is, be, AUX)], [(is, be, AUX)], [(film, film, NOUN)]]       ...  True   \n",
              "1  [[(is, be, AUX)], [(film, film, NOUN)], [(is, be, AUX)]]       ...  True   \n",
              "2  [[(film, film, NOUN)], [(film, film, NOUN)]]                   ...  True   \n",
              "3  [[(film, film, NOUN)], [(is, be, AUX)], [(is, be, AUX)]]       ...  True   \n",
              "4  [[(is, be, AUX)], [(film, film, NOUN)]]                        ...  True   \n",
              "5  [[(film, film, NOUN)], [(is, be, AUX)]]                        ...  True   \n",
              "6  [[(film, film, NOUN)], [(is, be, AUX)], [(it, -PRON-, PRON)]]  ...  True   \n",
              "7  [[(is, be, AUX)], [(to, to, PART)], [(film, film, NOUN)]]      ...  True   \n",
              "8  [[(to, to, PART)], [(is, be, AUX)], [(film, film, NOUN)]]      ...  True   \n",
              "9  [[(film, film, NOUN)], [(it, -PRON-, PRON)]]                   ...  True   \n",
              "\n",
              "[10 rows x 4 columns]"
            ]
          },
          "metadata": {
            "tags": []
          },
          "execution_count": 185
        }
      ]
    },
    {
      "cell_type": "markdown",
      "metadata": {
        "id": "5N5f42OmtA66"
      },
      "source": [
        "We can see that most patterns containing a NOUN POS attribute have either the word \"film\" or \"time\", followed by an AUX like is. This shows that the text content is about the describtion of movies.  \r\n",
        "About the \"time\" (time is, time to, time it) could either refer to the timing of movies (\"the director takes the time to describe...\"), to film sequels or subsequent movies from a same director (\"this time it talks about...\")  \r\n",
        "\r\n",
        "Below are a few counts of the patterns in the original corpus (we filtered a lot of POS types to build these patterns and cannot look for a pattern like \"film\", \"film\", \"film\" because it contains these filtered out words in-between)."
      ]
    },
    {
      "cell_type": "code",
      "metadata": {
        "colab": {
          "base_uri": "https://localhost:8080/"
        },
        "id": "IoFG-nouvCqs",
        "outputId": "30d93b38-7595-496d-ffb1-08bbcaa669ff"
      },
      "source": [
        "#find some patterns about time in the raw corpus :\r\n",
        "def number_of_reviews_containing_filter(filter_search, df):\r\n",
        "  print('Numer of reviews containing : \\\"'+filter_search+'\\\" : '+str(len(df[train_pos_df.content.str.contains(filter_search)])))\r\n",
        "\r\n",
        "number_of_reviews_containing_filter('time is', train_pos_df)\r\n",
        "number_of_reviews_containing_filter('time to', train_pos_df)\r\n",
        "number_of_reviews_containing_filter('time it', train_pos_df)\r\n",
        "\r\n",
        "number_of_reviews_containing_filter('film it', train_pos_df)\r\n",
        "number_of_reviews_containing_filter('\\'s film', train_pos_df)"
      ],
      "execution_count": 186,
      "outputs": [
        {
          "output_type": "stream",
          "text": [
            "Numer of reviews containing : \"time is\" : 36\n",
            "Numer of reviews containing : \"time to\" : 190\n",
            "Numer of reviews containing : \"time it\" : 74\n",
            "Numer of reviews containing : \"film it\" : 81\n",
            "Numer of reviews containing : \"'s film\" : 127\n"
          ],
          "name": "stdout"
        }
      ]
    },
    {
      "cell_type": "markdown",
      "metadata": {
        "id": "zRZPKZfzx4Fd"
      },
      "source": [
        "## Negative Patterns"
      ]
    },
    {
      "cell_type": "markdown",
      "metadata": {
        "id": "p194Dlm8yPEV"
      },
      "source": [
        "### How many emerging negative patterns ?"
      ]
    },
    {
      "cell_type": "markdown",
      "metadata": {
        "id": "3gFGu4C8ceyt"
      },
      "source": [
        "Filter the emerging patterns of the negative reviews as compared to the positive reviews. \n",
        "You can test several minsup values and you can use constraints as a post-processing step, for example (i.e., length constraints, gap constraints...)."
      ]
    },
    {
      "cell_type": "markdown",
      "metadata": {
        "id": "WJHyUtniceyt"
      },
      "source": [
        "How many patterns do you have ? Write here the 10 most occurring negative emerging patterns as well as the ones you find the most interesting. "
      ]
    },
    {
      "cell_type": "code",
      "metadata": {
        "id": "iKaCRh1Zceyt",
        "colab": {
          "base_uri": "https://localhost:8080/"
        },
        "outputId": "040d7be1-1d62-4ac7-bdee-d4b15edc4813"
      },
      "source": [
        "print('Total number of patterns : ' +str(len(emerg_df)))\r\n",
        "print('Number of negative patterns : ' +str(len(emerg_df[emerg_df.isPositive == False])))"
      ],
      "execution_count": 187,
      "outputs": [
        {
          "output_type": "stream",
          "text": [
            "Total number of patterns : 419\n",
            "Number of negative patterns : 303\n"
          ],
          "name": "stdout"
        }
      ]
    },
    {
      "cell_type": "markdown",
      "metadata": {
        "id": "e13utrZzymMR"
      },
      "source": [
        "We sort the emerging patterns of negative reviews. We find that the top patterns already contain a NOUN without the need for additional filtering."
      ]
    },
    {
      "cell_type": "code",
      "metadata": {
        "id": "DSxk63wAceyt",
        "colab": {
          "base_uri": "https://localhost:8080/",
          "height": 348
        },
        "outputId": "3d7709ed-908e-4e79-cfe3-e31ced68fdab"
      },
      "source": [
        "emerg_df[emerg_df.isPositive == False].sort_values('threshold', ascending=False, ignore_index=True).head(10)"
      ],
      "execution_count": 188,
      "outputs": [
        {
          "output_type": "execute_result",
          "data": {
            "text/html": [
              "<div>\n",
              "<style scoped>\n",
              "    .dataframe tbody tr th:only-of-type {\n",
              "        vertical-align: middle;\n",
              "    }\n",
              "\n",
              "    .dataframe tbody tr th {\n",
              "        vertical-align: top;\n",
              "    }\n",
              "\n",
              "    .dataframe thead th {\n",
              "        text-align: right;\n",
              "    }\n",
              "</style>\n",
              "<table border=\"1\" class=\"dataframe\">\n",
              "  <thead>\n",
              "    <tr style=\"text-align: right;\">\n",
              "      <th></th>\n",
              "      <th>sequence</th>\n",
              "      <th>threshold</th>\n",
              "      <th>isPositive</th>\n",
              "      <th>hasNOUN</th>\n",
              "    </tr>\n",
              "  </thead>\n",
              "  <tbody>\n",
              "    <tr>\n",
              "      <th>0</th>\n",
              "      <td>[[(was, be, AUX)], [(n't, not, PART)]]</td>\n",
              "      <td>1.401301</td>\n",
              "      <td>False</td>\n",
              "      <td>False</td>\n",
              "    </tr>\n",
              "    <tr>\n",
              "      <th>1</th>\n",
              "      <td>[[(to, to, PART)], [(n't, not, PART)]]</td>\n",
              "      <td>1.389703</td>\n",
              "      <td>False</td>\n",
              "      <td>False</td>\n",
              "    </tr>\n",
              "    <tr>\n",
              "      <th>2</th>\n",
              "      <td>[[(I, -PRON-, PRON)], [(n't, not, PART)]]</td>\n",
              "      <td>1.385343</td>\n",
              "      <td>False</td>\n",
              "      <td>False</td>\n",
              "    </tr>\n",
              "    <tr>\n",
              "      <th>3</th>\n",
              "      <td>[[(n't, not, PART)], [(to, to, PART)]]</td>\n",
              "      <td>1.382092</td>\n",
              "      <td>False</td>\n",
              "      <td>False</td>\n",
              "    </tr>\n",
              "    <tr>\n",
              "      <th>4</th>\n",
              "      <td>[[(movie, movie, NOUN)], [(to, to, PART)]]</td>\n",
              "      <td>1.354782</td>\n",
              "      <td>False</td>\n",
              "      <td>True</td>\n",
              "    </tr>\n",
              "    <tr>\n",
              "      <th>5</th>\n",
              "      <td>[[(n't, not, PART)], [(I, -PRON-, PRON)]]</td>\n",
              "      <td>1.345525</td>\n",
              "      <td>False</td>\n",
              "      <td>False</td>\n",
              "    </tr>\n",
              "    <tr>\n",
              "      <th>6</th>\n",
              "      <td>[[(it, -PRON-, PRON)], [(n't, not, PART)]]</td>\n",
              "      <td>1.338235</td>\n",
              "      <td>False</td>\n",
              "      <td>False</td>\n",
              "    </tr>\n",
              "    <tr>\n",
              "      <th>7</th>\n",
              "      <td>[[(movie, movie, NOUN)], [(is, be, AUX)], [(to, to, PART)]]</td>\n",
              "      <td>1.324701</td>\n",
              "      <td>False</td>\n",
              "      <td>True</td>\n",
              "    </tr>\n",
              "    <tr>\n",
              "      <th>8</th>\n",
              "      <td>[[(I, -PRON-, PRON)], [(movie, movie, NOUN)]]</td>\n",
              "      <td>1.323984</td>\n",
              "      <td>False</td>\n",
              "      <td>True</td>\n",
              "    </tr>\n",
              "    <tr>\n",
              "      <th>9</th>\n",
              "      <td>[[(to, to, PART)], [(movie, movie, NOUN)]]</td>\n",
              "      <td>1.323824</td>\n",
              "      <td>False</td>\n",
              "      <td>True</td>\n",
              "    </tr>\n",
              "  </tbody>\n",
              "</table>\n",
              "</div>"
            ],
            "text/plain": [
              "                                                      sequence  ...  hasNOUN\n",
              "0  [[(was, be, AUX)], [(n't, not, PART)]]                       ...  False  \n",
              "1  [[(to, to, PART)], [(n't, not, PART)]]                       ...  False  \n",
              "2  [[(I, -PRON-, PRON)], [(n't, not, PART)]]                    ...  False  \n",
              "3  [[(n't, not, PART)], [(to, to, PART)]]                       ...  False  \n",
              "4  [[(movie, movie, NOUN)], [(to, to, PART)]]                   ...  True   \n",
              "5  [[(n't, not, PART)], [(I, -PRON-, PRON)]]                    ...  False  \n",
              "6  [[(it, -PRON-, PRON)], [(n't, not, PART)]]                   ...  False  \n",
              "7  [[(movie, movie, NOUN)], [(is, be, AUX)], [(to, to, PART)]]  ...  True   \n",
              "8  [[(I, -PRON-, PRON)], [(movie, movie, NOUN)]]                ...  True   \n",
              "9  [[(to, to, PART)], [(movie, movie, NOUN)]]                   ...  True   \n",
              "\n",
              "[10 rows x 4 columns]"
            ]
          },
          "metadata": {
            "tags": []
          },
          "execution_count": 188
        }
      ]
    },
    {
      "cell_type": "markdown",
      "metadata": {
        "id": "Fpb46SawyylW"
      },
      "source": [
        "This time, the term \"film\" has been replaced by \"movie\". Cound this mean that most people writing negative reviews refer to the described material as a movie, and most people writing positive reviews refer to the material as \"film\" ?"
      ]
    },
    {
      "cell_type": "code",
      "metadata": {
        "colab": {
          "base_uri": "https://localhost:8080/",
          "height": 581
        },
        "id": "M9oi4UBq0JS9",
        "outputId": "aa080c1c-456b-4fed-cf93-af293fefa268"
      },
      "source": [
        "fig, ax = plt.subplots()\r\n",
        "pd.DataFrame([[train_neg_df.content.str.contains('film').sum(), train_pos_df.content.str.contains('film').sum()]], columns=['negative reviews', 'positive reviews']).plot(kind='bar', ax=ax)\r\n",
        "plt.xlabel('class', fontsize=14)\r\n",
        "plt.ylabel('Word count', fontsize=14)\r\n",
        "plt.title('Number of reviews that contain the word \\\"film\\\" ')\r\n",
        "plt.show()\r\n",
        "\r\n",
        "fig, ax = plt.subplots()\r\n",
        "pd.DataFrame([[train_neg_df.content.str.contains('movie').sum(), train_pos_df.content.str.contains('movie').sum()]], columns=['negative reviews', 'positive reviews']).plot(kind='bar', ax=ax)\r\n",
        "plt.xlabel('class', fontsize=14)\r\n",
        "plt.ylabel('Word count', fontsize=14)\r\n",
        "plt.title('Number of reviews that contain the word \\\"movie\\\" ')\r\n",
        "plt.show()\r\n"
      ],
      "execution_count": 189,
      "outputs": [
        {
          "output_type": "display_data",
          "data": {
            "image/png": "[encoded data removed]",
            "text/plain": [
              "<Figure size 432x288 with 1 Axes>"
            ]
          },
          "metadata": {
            "tags": []
          }
        },
        {
          "output_type": "display_data",
          "data": {
            "image/png": "[encoded data removed]",
            "text/plain": [
              "<Figure size 432x288 with 1 Axes>"
            ]
          },
          "metadata": {
            "tags": []
          }
        }
      ]
    },
    {
      "cell_type": "markdown",
      "metadata": {
        "id": "dfx34V5S5p0F"
      },
      "source": [
        "From the above graphs we can see that the word film is used as often in positive or negative reviews.  \r\n",
        "However, the negative reviews have 20% more \"movie\" usage than the positive ones.  \r\n",
        "I looked online and couldn't find a simple explanation (the word movie is not pejorative, or less respectful than the word movie). \r\n",
        "\r\n",
        "When looking at Google Trends ( https://trends.google.com/trends/explore?date=all&q=movie,film ), it seems to be a regional issue :\r\n",
        "\r\n"
      ]
    },
    {
      "cell_type": "markdown",
      "metadata": {
        "id": "F2JbYyWQ66NU"
      },
      "source": [
        "![image.png](data:image/png;base64,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)"
      ]
    },
    {
      "cell_type": "markdown",
      "metadata": {
        "id": "f-PXR9vj7wZU"
      },
      "source": [
        "## Closed patterns"
      ]
    },
    {
      "cell_type": "markdown",
      "metadata": {
        "id": "0NVNFeZNceyt"
      },
      "source": [
        "Do the same but using closed patterns instead of frequent sequential patterns."
      ]
    },
    {
      "cell_type": "code",
      "metadata": {
        "colab": {
          "base_uri": "https://localhost:8080/",
          "height": 117,
          "referenced_widgets": [
            "cee8b9a34a5f4ecd8181f759dabf7e39",
            "dd5840540ba9421494372566861959d0",
            "88f9418b54904e9eb00961b2d711b416",
            "5cf2632596c84d89bfa3062de69e7cca",
            "d21af19370cf4a2f9b9ed9b9d49cccfe",
            "dbe8e7838e414589bf39be9e54252981",
            "72f3a7ac77f64ea8a942010d709d16ad",
            "b891908620d64bc7b34a5a51cb0f84bc",
            "23a45a6ce5e44815a24db805c02e77f4",
            "b1a33647ead3460c8562b9d2ddd6bf42",
            "068a517cf5ec4bcf85aa19c01eaf2ea8",
            "afff976bb69046639c6bc09d4e74f495",
            "a60ea2f8888f434392719bef4bd2e12c",
            "b5bb27864bab470b998dacc9f3e08c27",
            "9fc8fe6c481646dda1aa925c481cf4e8",
            "9a2960bbe64c42cfb4e934199936e19b"
          ]
        },
        "id": "E1Cw9nkW76a8",
        "outputId": "58d19a35-7a4d-4a11-ea62-673a1c82b23e"
      },
      "source": [
        "whole_review_neg_frequent_patterns_closed = copy.deepcopy(whole_review_neg_frequent_patterns)\r\n",
        "whole_review_pos_frequent_patterns_closed = copy.deepcopy(whole_review_pos_frequent_patterns)\r\n",
        "filterClosed(whole_review_neg_frequent_patterns_closed)\r\n",
        "filterClosed(whole_review_pos_frequent_patterns_closed)"
      ],
      "execution_count": 190,
      "outputs": [
        {
          "output_type": "display_data",
          "data": {
            "application/vnd.jupyter.widget-view+json": {
              "model_id": "cee8b9a34a5f4ecd8181f759dabf7e39",
              "version_minor": 0,
              "version_major": 2
            },
            "text/plain": [
              "HBox(children=(FloatProgress(value=0.0, max=528.0), HTML(value='')))"
            ]
          },
          "metadata": {
            "tags": []
          }
        },
        {
          "output_type": "stream",
          "text": [
            "\n"
          ],
          "name": "stdout"
        },
        {
          "output_type": "display_data",
          "data": {
            "application/vnd.jupyter.widget-view+json": {
              "model_id": "23a45a6ce5e44815a24db805c02e77f4",
              "version_minor": 0,
              "version_major": 2
            },
            "text/plain": [
              "HBox(children=(FloatProgress(value=0.0, max=969.0), HTML(value='')))"
            ]
          },
          "metadata": {
            "tags": []
          }
        },
        {
          "output_type": "stream",
          "text": [
            "\n"
          ],
          "name": "stdout"
        }
      ]
    },
    {
      "cell_type": "markdown",
      "metadata": {
        "id": "bzQjBOeRlXIa"
      },
      "source": [
        "We merge all our data into a unique Dataframe containing the sequences, associated frequency, and a column \"isPositive\" to indicate whether the review is positive or negative :"
      ]
    },
    {
      "cell_type": "code",
      "metadata": {
        "colab": {
          "base_uri": "https://localhost:8080/",
          "height": 198
        },
        "id": "jCRsykJRdXAi",
        "outputId": "82fc2371-1c01-4595-8918-ddf88d1a6e34"
      },
      "source": [
        "whole_review_pos_frequent_patterns_closed_df = pd.DataFrame(whole_review_pos_frequent_patterns_closed, columns=['sequence', 'frequency'])\r\n",
        "whole_review_pos_frequent_patterns_closed_df['isPositive'] = True\r\n",
        "\r\n",
        "whole_review_neg_frequent_patterns_closed_df = pd.DataFrame(whole_review_neg_frequent_patterns_closed, columns=['sequence', 'frequency'])\r\n",
        "whole_review_neg_frequent_patterns_closed_df['isPositive'] = False\r\n",
        "\r\n",
        "patterns_closed_df = pd.concat([whole_review_pos_frequent_patterns_closed_df, whole_review_neg_frequent_patterns_closed_df])\r\n",
        "patterns_closed_df.head()"
      ],
      "execution_count": 191,
      "outputs": [
        {
          "output_type": "execute_result",
          "data": {
            "text/html": [
              "<div>\n",
              "<style scoped>\n",
              "    .dataframe tbody tr th:only-of-type {\n",
              "        vertical-align: middle;\n",
              "    }\n",
              "\n",
              "    .dataframe tbody tr th {\n",
              "        vertical-align: top;\n",
              "    }\n",
              "\n",
              "    .dataframe thead th {\n",
              "        text-align: right;\n",
              "    }\n",
              "</style>\n",
              "<table border=\"1\" class=\"dataframe\">\n",
              "  <thead>\n",
              "    <tr style=\"text-align: right;\">\n",
              "      <th></th>\n",
              "      <th>sequence</th>\n",
              "      <th>frequency</th>\n",
              "      <th>isPositive</th>\n",
              "    </tr>\n",
              "  </thead>\n",
              "  <tbody>\n",
              "    <tr>\n",
              "      <th>0</th>\n",
              "      <td>[[('s, 's, PART)]]</td>\n",
              "      <td>3611</td>\n",
              "      <td>True</td>\n",
              "    </tr>\n",
              "    <tr>\n",
              "      <th>1</th>\n",
              "      <td>[[('s, 's, PART)], [(I, -PRON-, PRON)]]</td>\n",
              "      <td>2220</td>\n",
              "      <td>True</td>\n",
              "    </tr>\n",
              "    <tr>\n",
              "      <th>2</th>\n",
              "      <td>[[('s, 's, PART)], [(is, be, AUX)]]</td>\n",
              "      <td>2667</td>\n",
              "      <td>True</td>\n",
              "    </tr>\n",
              "    <tr>\n",
              "      <th>3</th>\n",
              "      <td>[[('s, 's, PART)], [(it, -PRON-, PRON)]]</td>\n",
              "      <td>2478</td>\n",
              "      <td>True</td>\n",
              "    </tr>\n",
              "    <tr>\n",
              "      <th>4</th>\n",
              "      <td>[[('s, 's, PART)], [(to, to, PART)]]</td>\n",
              "      <td>2752</td>\n",
              "      <td>True</td>\n",
              "    </tr>\n",
              "  </tbody>\n",
              "</table>\n",
              "</div>"
            ],
            "text/plain": [
              "                                   sequence  frequency  isPositive\n",
              "0  [[('s, 's, PART)]]                        3611       True      \n",
              "1  [[('s, 's, PART)], [(I, -PRON-, PRON)]]   2220       True      \n",
              "2  [[('s, 's, PART)], [(is, be, AUX)]]       2667       True      \n",
              "3  [[('s, 's, PART)], [(it, -PRON-, PRON)]]  2478       True      \n",
              "4  [[('s, 's, PART)], [(to, to, PART)]]      2752       True      "
            ]
          },
          "metadata": {
            "tags": []
          },
          "execution_count": 191
        }
      ]
    },
    {
      "cell_type": "markdown",
      "metadata": {
        "id": "FozVMZr-z8Qy"
      },
      "source": [
        "Closed patterns do not have a different frequency repartition contrary to frequent patterns :"
      ]
    },
    {
      "cell_type": "code",
      "metadata": {
        "colab": {
          "base_uri": "https://localhost:8080/",
          "height": 320
        },
        "id": "btj2Zy6Ezgqy",
        "outputId": "b34b864a-8c87-4802-89b1-0f77dcf16130"
      },
      "source": [
        "fig, ax = plt.subplots()\r\n",
        "\r\n",
        "patterns_closed_df[patterns_closed_df.isPositive == True].frequency.plot(kind='kde', legend=True, ax=ax)\r\n",
        "patterns_closed_df[patterns_closed_df.isPositive == False].frequency.plot(kind='kde', legend=True, ax=ax)\r\n",
        "plt.xlabel('Frequency', fontsize=14)\r\n",
        "plt.ylabel('Number of reviews', fontsize=14)\r\n",
        "ax.legend([\"Positive\", \"Negative\"])\r\n",
        "plt.title('Number of reviews per frequency')"
      ],
      "execution_count": 192,
      "outputs": [
        {
          "output_type": "execute_result",
          "data": {
            "text/plain": [
              "Text(0.5, 1.0, 'Number of reviews per frequency')"
            ]
          },
          "metadata": {
            "tags": []
          },
          "execution_count": 192
        },
        {
          "output_type": "display_data",
          "data": {
            "image/png": "[encoded data removed]",
            "text/plain": [
              "<Figure size 432x288 with 1 Axes>"
            ]
          },
          "metadata": {
            "tags": []
          }
        }
      ]
    },
    {
      "cell_type": "markdown",
      "metadata": {
        "id": "A9a_tDQCluYT"
      },
      "source": [
        "### Positive reviews : closed patterns"
      ]
    },
    {
      "cell_type": "markdown",
      "metadata": {
        "id": "zUXoIe4kdeFW"
      },
      "source": [
        "How many patterns do you have ? Write here the 10 most occurring positive emerging patterns as well as the ones you find the most interesting. "
      ]
    },
    {
      "cell_type": "markdown",
      "metadata": {
        "id": "EArBo7wemHzc"
      },
      "source": [
        "Number of positive closed patterns :"
      ]
    },
    {
      "cell_type": "code",
      "metadata": {
        "colab": {
          "base_uri": "https://localhost:8080/"
        },
        "id": "fAh5qhwhlrOD",
        "outputId": "8373c046-42c1-402e-fc1b-4b98b153e307"
      },
      "source": [
        "print('Total number of patterns : ' +str(len(patterns_closed_df)))\r\n",
        "print('Number of positive patterns : ' +str(len(patterns_closed_df[patterns_closed_df.isPositive == True])))"
      ],
      "execution_count": 193,
      "outputs": [
        {
          "output_type": "stream",
          "text": [
            "Total number of patterns : 1497\n",
            "Number of positive patterns : 969\n"
          ],
          "name": "stdout"
        }
      ]
    },
    {
      "cell_type": "markdown",
      "metadata": {
        "id": "4ufMP8J4mG-w"
      },
      "source": [
        "Top 10 positive patterns by frequency :"
      ]
    },
    {
      "cell_type": "code",
      "metadata": {
        "colab": {
          "base_uri": "https://localhost:8080/",
          "height": 348
        },
        "id": "gyiwRgFFmNSN",
        "outputId": "bd90c813-13df-4e21-952c-9f630ecf9870"
      },
      "source": [
        "patterns_closed_df[patterns_closed_df.isPositive == True].sort_values('frequency', ascending=False, ignore_index=True).head(10)"
      ],
      "execution_count": 194,
      "outputs": [
        {
          "output_type": "execute_result",
          "data": {
            "text/html": [
              "<div>\n",
              "<style scoped>\n",
              "    .dataframe tbody tr th:only-of-type {\n",
              "        vertical-align: middle;\n",
              "    }\n",
              "\n",
              "    .dataframe tbody tr th {\n",
              "        vertical-align: top;\n",
              "    }\n",
              "\n",
              "    .dataframe thead th {\n",
              "        text-align: right;\n",
              "    }\n",
              "</style>\n",
              "<table border=\"1\" class=\"dataframe\">\n",
              "  <thead>\n",
              "    <tr style=\"text-align: right;\">\n",
              "      <th></th>\n",
              "      <th>sequence</th>\n",
              "      <th>frequency</th>\n",
              "      <th>isPositive</th>\n",
              "    </tr>\n",
              "  </thead>\n",
              "  <tbody>\n",
              "    <tr>\n",
              "      <th>0</th>\n",
              "      <td>[[(to, to, PART)]]</td>\n",
              "      <td>6823</td>\n",
              "      <td>True</td>\n",
              "    </tr>\n",
              "    <tr>\n",
              "      <th>1</th>\n",
              "      <td>[[(is, be, AUX)]]</td>\n",
              "      <td>6684</td>\n",
              "      <td>True</td>\n",
              "    </tr>\n",
              "    <tr>\n",
              "      <th>2</th>\n",
              "      <td>[[(it, -PRON-, PRON)]]</td>\n",
              "      <td>6368</td>\n",
              "      <td>True</td>\n",
              "    </tr>\n",
              "    <tr>\n",
              "      <th>3</th>\n",
              "      <td>[[(I, -PRON-, PRON)]]</td>\n",
              "      <td>5922</td>\n",
              "      <td>True</td>\n",
              "    </tr>\n",
              "    <tr>\n",
              "      <th>4</th>\n",
              "      <td>[[(to, to, PART)], [(to, to, PART)]]</td>\n",
              "      <td>5416</td>\n",
              "      <td>True</td>\n",
              "    </tr>\n",
              "    <tr>\n",
              "      <th>5</th>\n",
              "      <td>[[(is, be, AUX)], [(is, be, AUX)]]</td>\n",
              "      <td>5393</td>\n",
              "      <td>True</td>\n",
              "    </tr>\n",
              "    <tr>\n",
              "      <th>6</th>\n",
              "      <td>[[(is, be, AUX)], [(to, to, PART)]]</td>\n",
              "      <td>5345</td>\n",
              "      <td>True</td>\n",
              "    </tr>\n",
              "    <tr>\n",
              "      <th>7</th>\n",
              "      <td>[[(to, to, PART)], [(is, be, AUX)]]</td>\n",
              "      <td>5283</td>\n",
              "      <td>True</td>\n",
              "    </tr>\n",
              "    <tr>\n",
              "      <th>8</th>\n",
              "      <td>[[(was, be, AUX)]]</td>\n",
              "      <td>5206</td>\n",
              "      <td>True</td>\n",
              "    </tr>\n",
              "    <tr>\n",
              "      <th>9</th>\n",
              "      <td>[[(to, to, PART)], [(it, -PRON-, PRON)]]</td>\n",
              "      <td>5016</td>\n",
              "      <td>True</td>\n",
              "    </tr>\n",
              "  </tbody>\n",
              "</table>\n",
              "</div>"
            ],
            "text/plain": [
              "                                   sequence  frequency  isPositive\n",
              "0  [[(to, to, PART)]]                        6823       True      \n",
              "1  [[(is, be, AUX)]]                         6684       True      \n",
              "2  [[(it, -PRON-, PRON)]]                    6368       True      \n",
              "3  [[(I, -PRON-, PRON)]]                     5922       True      \n",
              "4  [[(to, to, PART)], [(to, to, PART)]]      5416       True      \n",
              "5  [[(is, be, AUX)], [(is, be, AUX)]]        5393       True      \n",
              "6  [[(is, be, AUX)], [(to, to, PART)]]       5345       True      \n",
              "7  [[(to, to, PART)], [(is, be, AUX)]]       5283       True      \n",
              "8  [[(was, be, AUX)]]                        5206       True      \n",
              "9  [[(to, to, PART)], [(it, -PRON-, PRON)]]  5016       True      "
            ]
          },
          "metadata": {
            "tags": []
          },
          "execution_count": 194
        }
      ]
    },
    {
      "cell_type": "markdown",
      "metadata": {
        "id": "BgsJrD3DmnSW"
      },
      "source": [
        "Interesting patterns :"
      ]
    },
    {
      "cell_type": "code",
      "metadata": {
        "colab": {
          "base_uri": "https://localhost:8080/",
          "height": 348
        },
        "id": "Nn3eiZDMmpUt",
        "outputId": "b357de64-8185-43be-e692-c17fba596321"
      },
      "source": [
        "patterns_closed_df['hasNOUN'] = patterns_closed_df.apply(lambda row: is_pos_in_seq('NOUN', row['sequence']), axis=1)\r\n",
        "patterns_closed_df[(patterns_closed_df.isPositive == True) & (patterns_closed_df.hasNOUN == True)].sort_values('frequency', ascending=False, ignore_index=True).head(10)"
      ],
      "execution_count": 195,
      "outputs": [
        {
          "output_type": "execute_result",
          "data": {
            "text/html": [
              "<div>\n",
              "<style scoped>\n",
              "    .dataframe tbody tr th:only-of-type {\n",
              "        vertical-align: middle;\n",
              "    }\n",
              "\n",
              "    .dataframe tbody tr th {\n",
              "        vertical-align: top;\n",
              "    }\n",
              "\n",
              "    .dataframe thead th {\n",
              "        text-align: right;\n",
              "    }\n",
              "</style>\n",
              "<table border=\"1\" class=\"dataframe\">\n",
              "  <thead>\n",
              "    <tr style=\"text-align: right;\">\n",
              "      <th></th>\n",
              "      <th>sequence</th>\n",
              "      <th>frequency</th>\n",
              "      <th>isPositive</th>\n",
              "      <th>hasNOUN</th>\n",
              "    </tr>\n",
              "  </thead>\n",
              "  <tbody>\n",
              "    <tr>\n",
              "      <th>0</th>\n",
              "      <td>[[(movie, movie, NOUN)]]</td>\n",
              "      <td>4896</td>\n",
              "      <td>True</td>\n",
              "      <td>True</td>\n",
              "    </tr>\n",
              "    <tr>\n",
              "      <th>1</th>\n",
              "      <td>[[(film, film, NOUN)]]</td>\n",
              "      <td>4047</td>\n",
              "      <td>True</td>\n",
              "      <td>True</td>\n",
              "    </tr>\n",
              "    <tr>\n",
              "      <th>2</th>\n",
              "      <td>[[(movie, movie, NOUN)], [(to, to, PART)]]</td>\n",
              "      <td>3853</td>\n",
              "      <td>True</td>\n",
              "      <td>True</td>\n",
              "    </tr>\n",
              "    <tr>\n",
              "      <th>3</th>\n",
              "      <td>[[(movie, movie, NOUN)], [(is, be, AUX)]]</td>\n",
              "      <td>3762</td>\n",
              "      <td>True</td>\n",
              "      <td>True</td>\n",
              "    </tr>\n",
              "    <tr>\n",
              "      <th>4</th>\n",
              "      <td>[[(movie, movie, NOUN)], [(it, -PRON-, PRON)]]</td>\n",
              "      <td>3676</td>\n",
              "      <td>True</td>\n",
              "      <td>True</td>\n",
              "    </tr>\n",
              "    <tr>\n",
              "      <th>5</th>\n",
              "      <td>[[(to, to, PART)], [(movie, movie, NOUN)]]</td>\n",
              "      <td>3573</td>\n",
              "      <td>True</td>\n",
              "      <td>True</td>\n",
              "    </tr>\n",
              "    <tr>\n",
              "      <th>6</th>\n",
              "      <td>[[(is, be, AUX)], [(movie, movie, NOUN)]]</td>\n",
              "      <td>3510</td>\n",
              "      <td>True</td>\n",
              "      <td>True</td>\n",
              "    </tr>\n",
              "    <tr>\n",
              "      <th>7</th>\n",
              "      <td>[[(movie, movie, NOUN)], [(I, -PRON-, PRON)]]</td>\n",
              "      <td>3374</td>\n",
              "      <td>True</td>\n",
              "      <td>True</td>\n",
              "    </tr>\n",
              "    <tr>\n",
              "      <th>8</th>\n",
              "      <td>[[(movie, movie, NOUN)], [(movie, movie, NOUN)]]</td>\n",
              "      <td>3289</td>\n",
              "      <td>True</td>\n",
              "      <td>True</td>\n",
              "    </tr>\n",
              "    <tr>\n",
              "      <th>9</th>\n",
              "      <td>[[(it, -PRON-, PRON)], [(movie, movie, NOUN)]]</td>\n",
              "      <td>3283</td>\n",
              "      <td>True</td>\n",
              "      <td>True</td>\n",
              "    </tr>\n",
              "  </tbody>\n",
              "</table>\n",
              "</div>"
            ],
            "text/plain": [
              "                                           sequence  ...  hasNOUN\n",
              "0  [[(movie, movie, NOUN)]]                          ...  True   \n",
              "1  [[(film, film, NOUN)]]                            ...  True   \n",
              "2  [[(movie, movie, NOUN)], [(to, to, PART)]]        ...  True   \n",
              "3  [[(movie, movie, NOUN)], [(is, be, AUX)]]         ...  True   \n",
              "4  [[(movie, movie, NOUN)], [(it, -PRON-, PRON)]]    ...  True   \n",
              "5  [[(to, to, PART)], [(movie, movie, NOUN)]]        ...  True   \n",
              "6  [[(is, be, AUX)], [(movie, movie, NOUN)]]         ...  True   \n",
              "7  [[(movie, movie, NOUN)], [(I, -PRON-, PRON)]]     ...  True   \n",
              "8  [[(movie, movie, NOUN)], [(movie, movie, NOUN)]]  ...  True   \n",
              "9  [[(it, -PRON-, PRON)], [(movie, movie, NOUN)]]    ...  True   \n",
              "\n",
              "[10 rows x 4 columns]"
            ]
          },
          "metadata": {
            "tags": []
          },
          "execution_count": 195
        }
      ]
    },
    {
      "cell_type": "markdown",
      "metadata": {
        "id": "zjBN9F5Sm2tz"
      },
      "source": [
        "Most top 10 patterns that contain a NOUN POS have the word \"movie\". These are all positive reviews, so our previous analysis (movie = bad review) doesn't hold when looking at closed patterns.  "
      ]
    },
    {
      "cell_type": "markdown",
      "metadata": {
        "id": "a7Pca0Q9l0O9"
      },
      "source": [
        "### Negative reviews : closed patterns"
      ]
    },
    {
      "cell_type": "markdown",
      "metadata": {
        "id": "ryRqc-hZl40u"
      },
      "source": [
        "How many patterns do you have ? Write here the 10 most occurring negative emerging patterns as well as the ones you find the most interesting. "
      ]
    },
    {
      "cell_type": "code",
      "metadata": {
        "colab": {
          "base_uri": "https://localhost:8080/"
        },
        "id": "1kLgXa4alp45",
        "outputId": "5c5eb244-ff12-489b-9c2a-00f3bb25c7c3"
      },
      "source": [
        "print('Total number of patterns : ' +str(len(patterns_closed_df)))\r\n",
        "print('Number of negative patterns : ' +str(len(patterns_closed_df[patterns_closed_df.isPositive == False])))"
      ],
      "execution_count": 196,
      "outputs": [
        {
          "output_type": "stream",
          "text": [
            "Total number of patterns : 1497\n",
            "Number of negative patterns : 528\n"
          ],
          "name": "stdout"
        }
      ]
    },
    {
      "cell_type": "markdown",
      "metadata": {
        "id": "iC1n-HqHmWxa"
      },
      "source": [
        "Top negative closed patterns :"
      ]
    },
    {
      "cell_type": "code",
      "metadata": {
        "colab": {
          "base_uri": "https://localhost:8080/",
          "height": 348
        },
        "id": "OGGmQKwimZJ0",
        "outputId": "53821bf7-d1e5-493c-8bdc-e1a005e2b89e"
      },
      "source": [
        "patterns_closed_df[patterns_closed_df.isPositive == False].sort_values('frequency', ascending=False, ignore_index=True).head(10)"
      ],
      "execution_count": 197,
      "outputs": [
        {
          "output_type": "execute_result",
          "data": {
            "text/html": [
              "<div>\n",
              "<style scoped>\n",
              "    .dataframe tbody tr th:only-of-type {\n",
              "        vertical-align: middle;\n",
              "    }\n",
              "\n",
              "    .dataframe tbody tr th {\n",
              "        vertical-align: top;\n",
              "    }\n",
              "\n",
              "    .dataframe thead th {\n",
              "        text-align: right;\n",
              "    }\n",
              "</style>\n",
              "<table border=\"1\" class=\"dataframe\">\n",
              "  <thead>\n",
              "    <tr style=\"text-align: right;\">\n",
              "      <th></th>\n",
              "      <th>sequence</th>\n",
              "      <th>frequency</th>\n",
              "      <th>isPositive</th>\n",
              "      <th>hasNOUN</th>\n",
              "    </tr>\n",
              "  </thead>\n",
              "  <tbody>\n",
              "    <tr>\n",
              "      <th>0</th>\n",
              "      <td>[[(is, be, AUX)]]</td>\n",
              "      <td>6844</td>\n",
              "      <td>False</td>\n",
              "      <td>False</td>\n",
              "    </tr>\n",
              "    <tr>\n",
              "      <th>1</th>\n",
              "      <td>[[(to, to, PART)]]</td>\n",
              "      <td>6426</td>\n",
              "      <td>False</td>\n",
              "      <td>False</td>\n",
              "    </tr>\n",
              "    <tr>\n",
              "      <th>2</th>\n",
              "      <td>[[(it, -PRON-, PRON)]]</td>\n",
              "      <td>6250</td>\n",
              "      <td>False</td>\n",
              "      <td>False</td>\n",
              "    </tr>\n",
              "    <tr>\n",
              "      <th>3</th>\n",
              "      <td>[[(is, be, AUX)], [(is, be, AUX)]]</td>\n",
              "      <td>5596</td>\n",
              "      <td>False</td>\n",
              "      <td>False</td>\n",
              "    </tr>\n",
              "    <tr>\n",
              "      <th>4</th>\n",
              "      <td>[[(I, -PRON-, PRON)]]</td>\n",
              "      <td>5464</td>\n",
              "      <td>False</td>\n",
              "      <td>False</td>\n",
              "    </tr>\n",
              "    <tr>\n",
              "      <th>5</th>\n",
              "      <td>[[(is, be, AUX)], [(to, to, PART)]]</td>\n",
              "      <td>5095</td>\n",
              "      <td>False</td>\n",
              "      <td>False</td>\n",
              "    </tr>\n",
              "    <tr>\n",
              "      <th>6</th>\n",
              "      <td>[[(is, be, AUX)], [(it, -PRON-, PRON)]]</td>\n",
              "      <td>5043</td>\n",
              "      <td>False</td>\n",
              "      <td>False</td>\n",
              "    </tr>\n",
              "    <tr>\n",
              "      <th>7</th>\n",
              "      <td>[[(to, to, PART)], [(is, be, AUX)]]</td>\n",
              "      <td>5025</td>\n",
              "      <td>False</td>\n",
              "      <td>False</td>\n",
              "    </tr>\n",
              "    <tr>\n",
              "      <th>8</th>\n",
              "      <td>[[(it, -PRON-, PRON)], [(is, be, AUX)]]</td>\n",
              "      <td>4761</td>\n",
              "      <td>False</td>\n",
              "      <td>False</td>\n",
              "    </tr>\n",
              "    <tr>\n",
              "      <th>9</th>\n",
              "      <td>[[(as, as, SCONJ)]]</td>\n",
              "      <td>4750</td>\n",
              "      <td>False</td>\n",
              "      <td>False</td>\n",
              "    </tr>\n",
              "  </tbody>\n",
              "</table>\n",
              "</div>"
            ],
            "text/plain": [
              "                                  sequence  frequency  isPositive  hasNOUN\n",
              "0  [[(is, be, AUX)]]                        6844       False       False  \n",
              "1  [[(to, to, PART)]]                       6426       False       False  \n",
              "2  [[(it, -PRON-, PRON)]]                   6250       False       False  \n",
              "3  [[(is, be, AUX)], [(is, be, AUX)]]       5596       False       False  \n",
              "4  [[(I, -PRON-, PRON)]]                    5464       False       False  \n",
              "5  [[(is, be, AUX)], [(to, to, PART)]]      5095       False       False  \n",
              "6  [[(is, be, AUX)], [(it, -PRON-, PRON)]]  5043       False       False  \n",
              "7  [[(to, to, PART)], [(is, be, AUX)]]      5025       False       False  \n",
              "8  [[(it, -PRON-, PRON)], [(is, be, AUX)]]  4761       False       False  \n",
              "9  [[(as, as, SCONJ)]]                      4750       False       False  "
            ]
          },
          "metadata": {
            "tags": []
          },
          "execution_count": 197
        }
      ]
    },
    {
      "cell_type": "markdown",
      "metadata": {
        "id": "P48zHD5mm6QM"
      },
      "source": [
        "Interesting patterns :"
      ]
    },
    {
      "cell_type": "code",
      "metadata": {
        "colab": {
          "base_uri": "https://localhost:8080/",
          "height": 348
        },
        "id": "PxFNsWKQnCcF",
        "outputId": "9a5bf30d-5b86-487b-f83d-5856ccebb7fb"
      },
      "source": [
        "patterns_closed_df['hasNOUN'] = patterns_closed_df.apply(lambda row: is_pos_in_seq('NOUN', row['sequence']), axis=1)\r\n",
        "patterns_closed_df[(patterns_closed_df.isPositive == False) & (patterns_closed_df.hasNOUN == True)].sort_values('frequency', ascending=False, ignore_index=True).head(10)"
      ],
      "execution_count": 198,
      "outputs": [
        {
          "output_type": "execute_result",
          "data": {
            "text/html": [
              "<div>\n",
              "<style scoped>\n",
              "    .dataframe tbody tr th:only-of-type {\n",
              "        vertical-align: middle;\n",
              "    }\n",
              "\n",
              "    .dataframe tbody tr th {\n",
              "        vertical-align: top;\n",
              "    }\n",
              "\n",
              "    .dataframe thead th {\n",
              "        text-align: right;\n",
              "    }\n",
              "</style>\n",
              "<table border=\"1\" class=\"dataframe\">\n",
              "  <thead>\n",
              "    <tr style=\"text-align: right;\">\n",
              "      <th></th>\n",
              "      <th>sequence</th>\n",
              "      <th>frequency</th>\n",
              "      <th>isPositive</th>\n",
              "      <th>hasNOUN</th>\n",
              "    </tr>\n",
              "  </thead>\n",
              "  <tbody>\n",
              "    <tr>\n",
              "      <th>0</th>\n",
              "      <td>[[(film, film, NOUN)]]</td>\n",
              "      <td>4179</td>\n",
              "      <td>False</td>\n",
              "      <td>True</td>\n",
              "    </tr>\n",
              "    <tr>\n",
              "      <th>1</th>\n",
              "      <td>[[(movie, movie, NOUN)]]</td>\n",
              "      <td>4072</td>\n",
              "      <td>False</td>\n",
              "      <td>True</td>\n",
              "    </tr>\n",
              "    <tr>\n",
              "      <th>2</th>\n",
              "      <td>[[(film, film, NOUN)], [(is, be, AUX)]]</td>\n",
              "      <td>3303</td>\n",
              "      <td>False</td>\n",
              "      <td>True</td>\n",
              "    </tr>\n",
              "    <tr>\n",
              "      <th>3</th>\n",
              "      <td>[[(is, be, AUX)], [(film, film, NOUN)]]</td>\n",
              "      <td>3229</td>\n",
              "      <td>False</td>\n",
              "      <td>True</td>\n",
              "    </tr>\n",
              "    <tr>\n",
              "      <th>4</th>\n",
              "      <td>[[(movie, movie, NOUN)], [(is, be, AUX)]]</td>\n",
              "      <td>3118</td>\n",
              "      <td>False</td>\n",
              "      <td>True</td>\n",
              "    </tr>\n",
              "    <tr>\n",
              "      <th>5</th>\n",
              "      <td>[[(film, film, NOUN)], [(to, to, PART)]]</td>\n",
              "      <td>3006</td>\n",
              "      <td>False</td>\n",
              "      <td>True</td>\n",
              "    </tr>\n",
              "    <tr>\n",
              "      <th>6</th>\n",
              "      <td>[[(is, be, AUX)], [(movie, movie, NOUN)]]</td>\n",
              "      <td>2989</td>\n",
              "      <td>False</td>\n",
              "      <td>True</td>\n",
              "    </tr>\n",
              "    <tr>\n",
              "      <th>7</th>\n",
              "      <td>[[(film, film, NOUN)], [(it, -PRON-, PRON)]]</td>\n",
              "      <td>2981</td>\n",
              "      <td>False</td>\n",
              "      <td>True</td>\n",
              "    </tr>\n",
              "    <tr>\n",
              "      <th>8</th>\n",
              "      <td>[[(to, to, PART)], [(film, film, NOUN)]]</td>\n",
              "      <td>2949</td>\n",
              "      <td>False</td>\n",
              "      <td>True</td>\n",
              "    </tr>\n",
              "    <tr>\n",
              "      <th>9</th>\n",
              "      <td>[[(movie, movie, NOUN)], [(it, -PRON-, PRON)]]</td>\n",
              "      <td>2942</td>\n",
              "      <td>False</td>\n",
              "      <td>True</td>\n",
              "    </tr>\n",
              "  </tbody>\n",
              "</table>\n",
              "</div>"
            ],
            "text/plain": [
              "                                         sequence  ...  hasNOUN\n",
              "0  [[(film, film, NOUN)]]                          ...  True   \n",
              "1  [[(movie, movie, NOUN)]]                        ...  True   \n",
              "2  [[(film, film, NOUN)], [(is, be, AUX)]]         ...  True   \n",
              "3  [[(is, be, AUX)], [(film, film, NOUN)]]         ...  True   \n",
              "4  [[(movie, movie, NOUN)], [(is, be, AUX)]]       ...  True   \n",
              "5  [[(film, film, NOUN)], [(to, to, PART)]]        ...  True   \n",
              "6  [[(is, be, AUX)], [(movie, movie, NOUN)]]       ...  True   \n",
              "7  [[(film, film, NOUN)], [(it, -PRON-, PRON)]]    ...  True   \n",
              "8  [[(to, to, PART)], [(film, film, NOUN)]]        ...  True   \n",
              "9  [[(movie, movie, NOUN)], [(it, -PRON-, PRON)]]  ...  True   \n",
              "\n",
              "[10 rows x 4 columns]"
            ]
          },
          "metadata": {
            "tags": []
          },
          "execution_count": 198
        }
      ]
    },
    {
      "cell_type": "markdown",
      "metadata": {
        "id": "pixOTH8Fn4q5"
      },
      "source": [
        "We cannot infer much about these rules either : the top 2 words are yet again \"movie\" and \"film\".  "
      ]
    },
    {
      "cell_type": "markdown",
      "metadata": {
        "id": "tknyBmgq7-XL"
      },
      "source": [
        "## Maximal patterns"
      ]
    },
    {
      "cell_type": "markdown",
      "metadata": {
        "id": "aPYaY29Vceyt"
      },
      "source": [
        "Do the same but using maximal patterns instead of frequent sequential patterns."
      ]
    },
    {
      "cell_type": "code",
      "metadata": {
        "colab": {
          "base_uri": "https://localhost:8080/",
          "height": 117,
          "referenced_widgets": [
            "3179f255ac8c4124beb9957880ada58a",
            "e4eaeb3f9958422c90dc06ff5901c953",
            "3d9ef25a3fae4e2fbe03e42ab6ac5bf9",
            "19ee3478f9644f86a5d445dc4495bc4c",
            "5a1e699129c8495bba817e02c34bfae0",
            "231be9b976d141e8bee1230397684dfb",
            "58b915e5016a45ccbd633f9f7a6a758b",
            "d45a23e386b5440ba990dc457948e086",
            "2be2f04290594584ba618a7f1be51bcd",
            "960c2f234ab8411d96c710d869d2dc73",
            "567aecb0a1cd49429fb9dd3ffac7e431",
            "0374702e93544b109c3920a1695551da",
            "9de924fde9bb4c5882e102a1caf4b60e",
            "1d6d6eed778e48919b250820e44c5489",
            "3de8c5c50f13457f91f37816be133357",
            "111755e9bd32482aa7d5d1519286897e"
          ]
        },
        "id": "F0m9llVZ8AVO",
        "outputId": "fc39a031-5352-42bb-90db-cd32df67a0b9"
      },
      "source": [
        "whole_review_neg_frequent_patterns_max = copy.deepcopy(whole_review_neg_frequent_patterns)\r\n",
        "whole_review_pos_frequent_patterns_max = copy.deepcopy(whole_review_pos_frequent_patterns)\r\n",
        "filterMaximal(whole_review_neg_frequent_patterns_max)\r\n",
        "filterMaximal(whole_review_pos_frequent_patterns_max)"
      ],
      "execution_count": 199,
      "outputs": [
        {
          "output_type": "display_data",
          "data": {
            "application/vnd.jupyter.widget-view+json": {
              "model_id": "3179f255ac8c4124beb9957880ada58a",
              "version_minor": 0,
              "version_major": 2
            },
            "text/plain": [
              "HBox(children=(FloatProgress(value=0.0, max=528.0), HTML(value='')))"
            ]
          },
          "metadata": {
            "tags": []
          }
        },
        {
          "output_type": "stream",
          "text": [
            "\n"
          ],
          "name": "stdout"
        },
        {
          "output_type": "display_data",
          "data": {
            "application/vnd.jupyter.widget-view+json": {
              "model_id": "2be2f04290594584ba618a7f1be51bcd",
              "version_minor": 0,
              "version_major": 2
            },
            "text/plain": [
              "HBox(children=(FloatProgress(value=0.0, max=969.0), HTML(value='')))"
            ]
          },
          "metadata": {
            "tags": []
          }
        },
        {
          "output_type": "stream",
          "text": [
            "\n"
          ],
          "name": "stdout"
        }
      ]
    },
    {
      "cell_type": "markdown",
      "metadata": {
        "id": "JGsZlke-lLD0"
      },
      "source": [
        "Once again we merge all our data into a unique Dataframe containing the sequences, associated frequency, and a column \"isPositive\" to indicate whether the review is positive or negative :"
      ]
    },
    {
      "cell_type": "code",
      "metadata": {
        "colab": {
          "base_uri": "https://localhost:8080/",
          "height": 198
        },
        "id": "6u8Pf1xSk1PB",
        "outputId": "d7e7c658-efb1-4ead-cb3d-6984141cea30"
      },
      "source": [
        "whole_review_pos_frequent_patterns_max_df = pd.DataFrame(whole_review_pos_frequent_patterns_max, columns=['sequence', 'frequency'])\r\n",
        "whole_review_pos_frequent_patterns_max_df['isPositive'] = True\r\n",
        "\r\n",
        "whole_review_neg_frequent_patterns_max_df = pd.DataFrame(whole_review_neg_frequent_patterns_max, columns=['sequence', 'frequency'])\r\n",
        "whole_review_neg_frequent_patterns_max_df['isPositive'] = False\r\n",
        "\r\n",
        "patterns_max_df = pd.concat([whole_review_neg_frequent_patterns_max_df, whole_review_pos_frequent_patterns_max_df])\r\n",
        "patterns_max_df.head()"
      ],
      "execution_count": 200,
      "outputs": [
        {
          "output_type": "execute_result",
          "data": {
            "text/html": [
              "<div>\n",
              "<style scoped>\n",
              "    .dataframe tbody tr th:only-of-type {\n",
              "        vertical-align: middle;\n",
              "    }\n",
              "\n",
              "    .dataframe tbody tr th {\n",
              "        vertical-align: top;\n",
              "    }\n",
              "\n",
              "    .dataframe thead th {\n",
              "        text-align: right;\n",
              "    }\n",
              "</style>\n",
              "<table border=\"1\" class=\"dataframe\">\n",
              "  <thead>\n",
              "    <tr style=\"text-align: right;\">\n",
              "      <th></th>\n",
              "      <th>sequence</th>\n",
              "      <th>frequency</th>\n",
              "      <th>isPositive</th>\n",
              "    </tr>\n",
              "  </thead>\n",
              "  <tbody>\n",
              "    <tr>\n",
              "      <th>0</th>\n",
              "      <td>[[('s, 's, PART), (is, be, AUX)]]</td>\n",
              "      <td>2213</td>\n",
              "      <td>False</td>\n",
              "    </tr>\n",
              "    <tr>\n",
              "      <th>1</th>\n",
              "      <td>[[('s, 's, PART)], [('s, 's, PART)]]</td>\n",
              "      <td>2187</td>\n",
              "      <td>False</td>\n",
              "    </tr>\n",
              "    <tr>\n",
              "      <th>2</th>\n",
              "      <td>[[('s, 's, PART)], [(I, -PRON-, PRON)]]</td>\n",
              "      <td>2269</td>\n",
              "      <td>False</td>\n",
              "    </tr>\n",
              "    <tr>\n",
              "      <th>3</th>\n",
              "      <td>[[('s, 's, PART)], [(as, as, SCONJ)]]</td>\n",
              "      <td>2270</td>\n",
              "      <td>False</td>\n",
              "    </tr>\n",
              "    <tr>\n",
              "      <th>4</th>\n",
              "      <td>[[('s, 's, PART)], [(is, be, AUX)], [(is, be, AUX)]]</td>\n",
              "      <td>2398</td>\n",
              "      <td>False</td>\n",
              "    </tr>\n",
              "  </tbody>\n",
              "</table>\n",
              "</div>"
            ],
            "text/plain": [
              "                                               sequence  frequency  isPositive\n",
              "0  [[('s, 's, PART), (is, be, AUX)]]                     2213       False     \n",
              "1  [[('s, 's, PART)], [('s, 's, PART)]]                  2187       False     \n",
              "2  [[('s, 's, PART)], [(I, -PRON-, PRON)]]               2269       False     \n",
              "3  [[('s, 's, PART)], [(as, as, SCONJ)]]                 2270       False     \n",
              "4  [[('s, 's, PART)], [(is, be, AUX)], [(is, be, AUX)]]  2398       False     "
            ]
          },
          "metadata": {
            "tags": []
          },
          "execution_count": 200
        }
      ]
    },
    {
      "cell_type": "markdown",
      "metadata": {
        "id": "c1gNqCxW0dlu"
      },
      "source": [
        "For maximal patterns, we cannot see any frequency repartition difference :"
      ]
    },
    {
      "cell_type": "code",
      "metadata": {
        "colab": {
          "base_uri": "https://localhost:8080/",
          "height": 320
        },
        "id": "1YAnIMVp0WSc",
        "outputId": "ac35aa82-ea1c-4a67-8886-e40193e6f8c2"
      },
      "source": [
        "fig, ax = plt.subplots()\r\n",
        "\r\n",
        "patterns_max_df[patterns_max_df.isPositive == True].frequency.plot(kind='kde', legend=True, ax=ax)\r\n",
        "patterns_max_df[patterns_max_df.isPositive == False].frequency.plot(kind='kde', legend=True, ax=ax)\r\n",
        "plt.xlabel('Frequency', fontsize=14)\r\n",
        "plt.ylabel('Number of reviews', fontsize=14)\r\n",
        "ax.legend([\"Positive\", \"Negative\"])\r\n",
        "plt.title('Number of reviews per frequency')"
      ],
      "execution_count": 201,
      "outputs": [
        {
          "output_type": "execute_result",
          "data": {
            "text/plain": [
              "Text(0.5, 1.0, 'Number of reviews per frequency')"
            ]
          },
          "metadata": {
            "tags": []
          },
          "execution_count": 201
        },
        {
          "output_type": "display_data",
          "data": {
            "image/png": "[encoded data removed]",
            "text/plain": [
              "<Figure size 432x288 with 1 Axes>"
            ]
          },
          "metadata": {
            "tags": []
          }
        }
      ]
    },
    {
      "cell_type": "markdown",
      "metadata": {
        "id": "0dzc3q4ToIaP"
      },
      "source": [
        "### Positive reviews : maximal patterns"
      ]
    },
    {
      "cell_type": "markdown",
      "metadata": {
        "id": "uYrqh3qToXvl"
      },
      "source": [
        "How many patterns do you have ? Write here the 10 most occurring negative emerging patterns as well as the ones you find the most interesting. "
      ]
    },
    {
      "cell_type": "code",
      "metadata": {
        "colab": {
          "base_uri": "https://localhost:8080/"
        },
        "id": "gxUTguIhoXvl",
        "outputId": "da5bc1ee-cd35-4a5f-865f-4ab8cdbda56c"
      },
      "source": [
        "print('Total number of patterns : ' +str(len(patterns_max_df)))\r\n",
        "print('Number of positive patterns : ' +str(len(patterns_max_df[patterns_max_df.isPositive == True])))"
      ],
      "execution_count": 202,
      "outputs": [
        {
          "output_type": "stream",
          "text": [
            "Total number of patterns : 1159\n",
            "Number of positive patterns : 769\n"
          ],
          "name": "stdout"
        }
      ]
    },
    {
      "cell_type": "markdown",
      "metadata": {
        "id": "Ekplb8A5oXvm"
      },
      "source": [
        "Top negative closed patterns :"
      ]
    },
    {
      "cell_type": "code",
      "metadata": {
        "colab": {
          "base_uri": "https://localhost:8080/",
          "height": 348
        },
        "id": "u_rdT0kZoXvm",
        "outputId": "0af740c7-434a-43d4-8429-902cce42b067"
      },
      "source": [
        "patterns_max_df[patterns_max_df.isPositive == True].sort_values('frequency', ascending=False, ignore_index=True).head(10)"
      ],
      "execution_count": 203,
      "outputs": [
        {
          "output_type": "execute_result",
          "data": {
            "text/html": [
              "<div>\n",
              "<style scoped>\n",
              "    .dataframe tbody tr th:only-of-type {\n",
              "        vertical-align: middle;\n",
              "    }\n",
              "\n",
              "    .dataframe tbody tr th {\n",
              "        vertical-align: top;\n",
              "    }\n",
              "\n",
              "    .dataframe thead th {\n",
              "        text-align: right;\n",
              "    }\n",
              "</style>\n",
              "<table border=\"1\" class=\"dataframe\">\n",
              "  <thead>\n",
              "    <tr style=\"text-align: right;\">\n",
              "      <th></th>\n",
              "      <th>sequence</th>\n",
              "      <th>frequency</th>\n",
              "      <th>isPositive</th>\n",
              "    </tr>\n",
              "  </thead>\n",
              "  <tbody>\n",
              "    <tr>\n",
              "      <th>0</th>\n",
              "      <td>[[(to, to, PART)], [(it, -PRON-, PRON)], [(I, -PRON-, PRON)]]</td>\n",
              "      <td>2966</td>\n",
              "      <td>True</td>\n",
              "    </tr>\n",
              "    <tr>\n",
              "      <th>1</th>\n",
              "      <td>[[(is, be, AUX)], [(it, -PRON-, PRON)], [(I, -PRON-, PRON)]]</td>\n",
              "      <td>2939</td>\n",
              "      <td>True</td>\n",
              "    </tr>\n",
              "    <tr>\n",
              "      <th>2</th>\n",
              "      <td>[[(to, to, PART)], [(I, -PRON-, PRON)], [(it, -PRON-, PRON)]]</td>\n",
              "      <td>2903</td>\n",
              "      <td>True</td>\n",
              "    </tr>\n",
              "    <tr>\n",
              "      <th>3</th>\n",
              "      <td>[[(it, -PRON-, PRON)], [(is, be, AUX)], [(I, -PRON-, PRON)]]</td>\n",
              "      <td>2881</td>\n",
              "      <td>True</td>\n",
              "    </tr>\n",
              "    <tr>\n",
              "      <th>4</th>\n",
              "      <td>[[(it, -PRON-, PRON)], [(it, -PRON-, PRON)], [(I, -PRON-, PRON)]]</td>\n",
              "      <td>2879</td>\n",
              "      <td>True</td>\n",
              "    </tr>\n",
              "    <tr>\n",
              "      <th>5</th>\n",
              "      <td>[[(to, to, PART)], [(I, -PRON-, PRON)], [(is, be, AUX)]]</td>\n",
              "      <td>2878</td>\n",
              "      <td>True</td>\n",
              "    </tr>\n",
              "    <tr>\n",
              "      <th>6</th>\n",
              "      <td>[[(was, be, AUX)], [(to, to, PART)], [(to, to, PART)]]</td>\n",
              "      <td>2871</td>\n",
              "      <td>True</td>\n",
              "    </tr>\n",
              "    <tr>\n",
              "      <th>7</th>\n",
              "      <td>[[(is, be, AUX)], [(I, -PRON-, PRON)], [(is, be, AUX)]]</td>\n",
              "      <td>2859</td>\n",
              "      <td>True</td>\n",
              "    </tr>\n",
              "    <tr>\n",
              "      <th>8</th>\n",
              "      <td>[[(it, -PRON-, PRON)], [(I, -PRON-, PRON)], [(to, to, PART)]]</td>\n",
              "      <td>2859</td>\n",
              "      <td>True</td>\n",
              "    </tr>\n",
              "    <tr>\n",
              "      <th>9</th>\n",
              "      <td>[[(is, be, AUX)], [(I, -PRON-, PRON)], [(I, -PRON-, PRON)]]</td>\n",
              "      <td>2857</td>\n",
              "      <td>True</td>\n",
              "    </tr>\n",
              "  </tbody>\n",
              "</table>\n",
              "</div>"
            ],
            "text/plain": [
              "                                                            sequence  ...  isPositive\n",
              "0  [[(to, to, PART)], [(it, -PRON-, PRON)], [(I, -PRON-, PRON)]]      ...  True      \n",
              "1  [[(is, be, AUX)], [(it, -PRON-, PRON)], [(I, -PRON-, PRON)]]       ...  True      \n",
              "2  [[(to, to, PART)], [(I, -PRON-, PRON)], [(it, -PRON-, PRON)]]      ...  True      \n",
              "3  [[(it, -PRON-, PRON)], [(is, be, AUX)], [(I, -PRON-, PRON)]]       ...  True      \n",
              "4  [[(it, -PRON-, PRON)], [(it, -PRON-, PRON)], [(I, -PRON-, PRON)]]  ...  True      \n",
              "5  [[(to, to, PART)], [(I, -PRON-, PRON)], [(is, be, AUX)]]           ...  True      \n",
              "6  [[(was, be, AUX)], [(to, to, PART)], [(to, to, PART)]]             ...  True      \n",
              "7  [[(is, be, AUX)], [(I, -PRON-, PRON)], [(is, be, AUX)]]            ...  True      \n",
              "8  [[(it, -PRON-, PRON)], [(I, -PRON-, PRON)], [(to, to, PART)]]      ...  True      \n",
              "9  [[(is, be, AUX)], [(I, -PRON-, PRON)], [(I, -PRON-, PRON)]]        ...  True      \n",
              "\n",
              "[10 rows x 3 columns]"
            ]
          },
          "metadata": {
            "tags": []
          },
          "execution_count": 203
        }
      ]
    },
    {
      "cell_type": "markdown",
      "metadata": {
        "id": "lIbfFGqCoXvm"
      },
      "source": [
        "Interesting patterns :"
      ]
    },
    {
      "cell_type": "code",
      "metadata": {
        "colab": {
          "base_uri": "https://localhost:8080/",
          "height": 348
        },
        "id": "3Gf8KzKmoXvm",
        "outputId": "ab9fdaea-a8d3-4181-ad1b-841b352afa8b"
      },
      "source": [
        "patterns_max_df['hasNOUN'] = patterns_max_df.apply(lambda row: is_pos_in_seq('NOUN', row['sequence']), axis=1)\r\n",
        "patterns_max_df[(patterns_max_df.isPositive == True) & (patterns_max_df.hasNOUN == True)].sort_values('frequency', ascending=False, ignore_index=True).head(10)"
      ],
      "execution_count": 204,
      "outputs": [
        {
          "output_type": "execute_result",
          "data": {
            "text/html": [
              "<div>\n",
              "<style scoped>\n",
              "    .dataframe tbody tr th:only-of-type {\n",
              "        vertical-align: middle;\n",
              "    }\n",
              "\n",
              "    .dataframe tbody tr th {\n",
              "        vertical-align: top;\n",
              "    }\n",
              "\n",
              "    .dataframe thead th {\n",
              "        text-align: right;\n",
              "    }\n",
              "</style>\n",
              "<table border=\"1\" class=\"dataframe\">\n",
              "  <thead>\n",
              "    <tr style=\"text-align: right;\">\n",
              "      <th></th>\n",
              "      <th>sequence</th>\n",
              "      <th>frequency</th>\n",
              "      <th>isPositive</th>\n",
              "      <th>hasNOUN</th>\n",
              "    </tr>\n",
              "  </thead>\n",
              "  <tbody>\n",
              "    <tr>\n",
              "      <th>0</th>\n",
              "      <td>[[(was, be, AUX)], [(movie, movie, NOUN)]]</td>\n",
              "      <td>2801</td>\n",
              "      <td>True</td>\n",
              "      <td>True</td>\n",
              "    </tr>\n",
              "    <tr>\n",
              "      <th>1</th>\n",
              "      <td>[[(it, -PRON-, PRON)], [(film, film, NOUN)]]</td>\n",
              "      <td>2724</td>\n",
              "      <td>True</td>\n",
              "      <td>True</td>\n",
              "    </tr>\n",
              "    <tr>\n",
              "      <th>2</th>\n",
              "      <td>[[(movie, movie, NOUN)], [(is, be, AUX)], [(is, be, AUX)]]</td>\n",
              "      <td>2693</td>\n",
              "      <td>True</td>\n",
              "      <td>True</td>\n",
              "    </tr>\n",
              "    <tr>\n",
              "      <th>3</th>\n",
              "      <td>[[(movie, movie, NOUN)], [(to, to, PART)], [(to, to, PART)]]</td>\n",
              "      <td>2689</td>\n",
              "      <td>True</td>\n",
              "      <td>True</td>\n",
              "    </tr>\n",
              "    <tr>\n",
              "      <th>4</th>\n",
              "      <td>[[(movie, movie, NOUN)], [(is, be, AUX)], [(to, to, PART)]]</td>\n",
              "      <td>2660</td>\n",
              "      <td>True</td>\n",
              "      <td>True</td>\n",
              "    </tr>\n",
              "    <tr>\n",
              "      <th>5</th>\n",
              "      <td>[[(movie, movie, NOUN)], [(to, to, PART)], [(is, be, AUX)]]</td>\n",
              "      <td>2601</td>\n",
              "      <td>True</td>\n",
              "      <td>True</td>\n",
              "    </tr>\n",
              "    <tr>\n",
              "      <th>6</th>\n",
              "      <td>[[(I, -PRON-, PRON)], [(film, film, NOUN)]]</td>\n",
              "      <td>2587</td>\n",
              "      <td>True</td>\n",
              "      <td>True</td>\n",
              "    </tr>\n",
              "    <tr>\n",
              "      <th>7</th>\n",
              "      <td>[[(movie, movie, NOUN)], [(to, to, PART)], [(it, -PRON-, PRON)]]</td>\n",
              "      <td>2565</td>\n",
              "      <td>True</td>\n",
              "      <td>True</td>\n",
              "    </tr>\n",
              "    <tr>\n",
              "      <th>8</th>\n",
              "      <td>[[(film, film, NOUN)], [(I, -PRON-, PRON)]]</td>\n",
              "      <td>2560</td>\n",
              "      <td>True</td>\n",
              "      <td>True</td>\n",
              "    </tr>\n",
              "    <tr>\n",
              "      <th>9</th>\n",
              "      <td>[[(time, time, NOUN)]]</td>\n",
              "      <td>2533</td>\n",
              "      <td>True</td>\n",
              "      <td>True</td>\n",
              "    </tr>\n",
              "  </tbody>\n",
              "</table>\n",
              "</div>"
            ],
            "text/plain": [
              "                                                           sequence  ...  hasNOUN\n",
              "0  [[(was, be, AUX)], [(movie, movie, NOUN)]]                        ...  True   \n",
              "1  [[(it, -PRON-, PRON)], [(film, film, NOUN)]]                      ...  True   \n",
              "2  [[(movie, movie, NOUN)], [(is, be, AUX)], [(is, be, AUX)]]        ...  True   \n",
              "3  [[(movie, movie, NOUN)], [(to, to, PART)], [(to, to, PART)]]      ...  True   \n",
              "4  [[(movie, movie, NOUN)], [(is, be, AUX)], [(to, to, PART)]]       ...  True   \n",
              "5  [[(movie, movie, NOUN)], [(to, to, PART)], [(is, be, AUX)]]       ...  True   \n",
              "6  [[(I, -PRON-, PRON)], [(film, film, NOUN)]]                       ...  True   \n",
              "7  [[(movie, movie, NOUN)], [(to, to, PART)], [(it, -PRON-, PRON)]]  ...  True   \n",
              "8  [[(film, film, NOUN)], [(I, -PRON-, PRON)]]                       ...  True   \n",
              "9  [[(time, time, NOUN)]]                                            ...  True   \n",
              "\n",
              "[10 rows x 4 columns]"
            ]
          },
          "metadata": {
            "tags": []
          },
          "execution_count": 204
        }
      ]
    },
    {
      "cell_type": "markdown",
      "metadata": {
        "id": "U-SFspzBoXvm"
      },
      "source": [
        "We observe longuer sequences (length is never below 3) with lower frequencies and a low fred std (range is under 10%).  \r\n",
        "The obtained NOUNs are yet again \"movie\" and \"film\", which are the most common nouns amongst the review corpus."
      ]
    },
    {
      "cell_type": "markdown",
      "metadata": {
        "id": "bTVV7tipoMUy"
      },
      "source": [
        "### Negative reviews : maximal patterns"
      ]
    },
    {
      "cell_type": "markdown",
      "metadata": {
        "id": "Pw1DMmZDoVHI"
      },
      "source": [
        "How many patterns do you have ? Write here the 10 most occurring negative emerging patterns as well as the ones you find the most interesting. "
      ]
    },
    {
      "cell_type": "code",
      "metadata": {
        "colab": {
          "base_uri": "https://localhost:8080/"
        },
        "id": "kI2fgyhHoVHI",
        "outputId": "eb1a6745-3cdd-44e2-94c8-c2fe37bdde16"
      },
      "source": [
        "print('Total number of patterns : ' +str(len(patterns_max_df)))\r\n",
        "print('Number of negative patterns : ' +str(len(patterns_max_df[patterns_max_df.isPositive == False])))"
      ],
      "execution_count": 205,
      "outputs": [
        {
          "output_type": "stream",
          "text": [
            "Total number of patterns : 1159\n",
            "Number of negative patterns : 390\n"
          ],
          "name": "stdout"
        }
      ]
    },
    {
      "cell_type": "markdown",
      "metadata": {
        "id": "soaj9M_zoVHK"
      },
      "source": [
        "Top negative closed patterns :"
      ]
    },
    {
      "cell_type": "code",
      "metadata": {
        "colab": {
          "base_uri": "https://localhost:8080/",
          "height": 348
        },
        "id": "iKIt4mUPoVHK",
        "outputId": "80d2af9e-9695-47a1-d414-66e80efa6079"
      },
      "source": [
        "patterns_max_df[patterns_max_df.isPositive == False].sort_values('frequency', ascending=False, ignore_index=True).head(10)"
      ],
      "execution_count": 206,
      "outputs": [
        {
          "output_type": "execute_result",
          "data": {
            "text/html": [
              "<div>\n",
              "<style scoped>\n",
              "    .dataframe tbody tr th:only-of-type {\n",
              "        vertical-align: middle;\n",
              "    }\n",
              "\n",
              "    .dataframe tbody tr th {\n",
              "        vertical-align: top;\n",
              "    }\n",
              "\n",
              "    .dataframe thead th {\n",
              "        text-align: right;\n",
              "    }\n",
              "</style>\n",
              "<table border=\"1\" class=\"dataframe\">\n",
              "  <thead>\n",
              "    <tr style=\"text-align: right;\">\n",
              "      <th></th>\n",
              "      <th>sequence</th>\n",
              "      <th>frequency</th>\n",
              "      <th>isPositive</th>\n",
              "      <th>hasNOUN</th>\n",
              "    </tr>\n",
              "  </thead>\n",
              "  <tbody>\n",
              "    <tr>\n",
              "      <th>0</th>\n",
              "      <td>[[(it, -PRON-, PRON)], [(to, to, PART)], [(to, to, PART)]]</td>\n",
              "      <td>2900</td>\n",
              "      <td>False</td>\n",
              "      <td>False</td>\n",
              "    </tr>\n",
              "    <tr>\n",
              "      <th>1</th>\n",
              "      <td>[[(to, to, PART)], [(it, -PRON-, PRON)], [(to, to, PART)]]</td>\n",
              "      <td>2827</td>\n",
              "      <td>False</td>\n",
              "      <td>False</td>\n",
              "    </tr>\n",
              "    <tr>\n",
              "      <th>2</th>\n",
              "      <td>[[(it, -PRON-, PRON)], [(it, -PRON-, PRON)], [(to, to, PART)]]</td>\n",
              "      <td>2826</td>\n",
              "      <td>False</td>\n",
              "      <td>False</td>\n",
              "    </tr>\n",
              "    <tr>\n",
              "      <th>3</th>\n",
              "      <td>[[(was, be, AUX)], [(was, be, AUX)]]</td>\n",
              "      <td>2825</td>\n",
              "      <td>False</td>\n",
              "      <td>False</td>\n",
              "    </tr>\n",
              "    <tr>\n",
              "      <th>4</th>\n",
              "      <td>[[(to, to, PART)], [(have, have, AUX)]]</td>\n",
              "      <td>2803</td>\n",
              "      <td>False</td>\n",
              "      <td>False</td>\n",
              "    </tr>\n",
              "    <tr>\n",
              "      <th>5</th>\n",
              "      <td>[[(I, -PRON-, PRON)], [(it, -PRON-, PRON)], [(it, -PRON-, PRON)]]</td>\n",
              "      <td>2802</td>\n",
              "      <td>False</td>\n",
              "      <td>False</td>\n",
              "    </tr>\n",
              "    <tr>\n",
              "      <th>6</th>\n",
              "      <td>[[(to, to, PART)], [(n't, not, PART)]]</td>\n",
              "      <td>2797</td>\n",
              "      <td>False</td>\n",
              "      <td>False</td>\n",
              "    </tr>\n",
              "    <tr>\n",
              "      <th>7</th>\n",
              "      <td>[[(I, -PRON-, PRON)], [(I, -PRON-, PRON)], [(I, -PRON-, PRON)]]</td>\n",
              "      <td>2783</td>\n",
              "      <td>False</td>\n",
              "      <td>False</td>\n",
              "    </tr>\n",
              "    <tr>\n",
              "      <th>8</th>\n",
              "      <td>[[(is, be, AUX)], [(is, be, AUX)], [(is, be, AUX)], [(it, -PRON-, PRON)]]</td>\n",
              "      <td>2771</td>\n",
              "      <td>False</td>\n",
              "      <td>False</td>\n",
              "    </tr>\n",
              "    <tr>\n",
              "      <th>9</th>\n",
              "      <td>[[(I, -PRON-, PRON)], [(as, as, SCONJ)]]</td>\n",
              "      <td>2770</td>\n",
              "      <td>False</td>\n",
              "      <td>False</td>\n",
              "    </tr>\n",
              "  </tbody>\n",
              "</table>\n",
              "</div>"
            ],
            "text/plain": [
              "                                                                    sequence  ...  hasNOUN\n",
              "0  [[(it, -PRON-, PRON)], [(to, to, PART)], [(to, to, PART)]]                 ...  False  \n",
              "1  [[(to, to, PART)], [(it, -PRON-, PRON)], [(to, to, PART)]]                 ...  False  \n",
              "2  [[(it, -PRON-, PRON)], [(it, -PRON-, PRON)], [(to, to, PART)]]             ...  False  \n",
              "3  [[(was, be, AUX)], [(was, be, AUX)]]                                       ...  False  \n",
              "4  [[(to, to, PART)], [(have, have, AUX)]]                                    ...  False  \n",
              "5  [[(I, -PRON-, PRON)], [(it, -PRON-, PRON)], [(it, -PRON-, PRON)]]          ...  False  \n",
              "6  [[(to, to, PART)], [(n't, not, PART)]]                                     ...  False  \n",
              "7  [[(I, -PRON-, PRON)], [(I, -PRON-, PRON)], [(I, -PRON-, PRON)]]            ...  False  \n",
              "8  [[(is, be, AUX)], [(is, be, AUX)], [(is, be, AUX)], [(it, -PRON-, PRON)]]  ...  False  \n",
              "9  [[(I, -PRON-, PRON)], [(as, as, SCONJ)]]                                   ...  False  \n",
              "\n",
              "[10 rows x 4 columns]"
            ]
          },
          "metadata": {
            "tags": []
          },
          "execution_count": 206
        }
      ]
    },
    {
      "cell_type": "markdown",
      "metadata": {
        "id": "D64dcy8CoVHL"
      },
      "source": [
        "Interesting patterns :"
      ]
    },
    {
      "cell_type": "code",
      "metadata": {
        "colab": {
          "base_uri": "https://localhost:8080/",
          "height": 348
        },
        "id": "dh22kJovoVHL",
        "outputId": "9c0d1dbd-3898-4715-99db-086a59161684"
      },
      "source": [
        "patterns_max_df['hasNOUN'] = patterns_max_df.apply(lambda row: is_pos_in_seq('NOUN', row['sequence']), axis=1)\r\n",
        "patterns_max_df[(patterns_max_df.isPositive == False) & (patterns_max_df.hasNOUN == True)].sort_values('frequency', ascending=False, ignore_index=True).head(10)"
      ],
      "execution_count": 207,
      "outputs": [
        {
          "output_type": "execute_result",
          "data": {
            "text/html": [
              "<div>\n",
              "<style scoped>\n",
              "    .dataframe tbody tr th:only-of-type {\n",
              "        vertical-align: middle;\n",
              "    }\n",
              "\n",
              "    .dataframe tbody tr th {\n",
              "        vertical-align: top;\n",
              "    }\n",
              "\n",
              "    .dataframe thead th {\n",
              "        text-align: right;\n",
              "    }\n",
              "</style>\n",
              "<table border=\"1\" class=\"dataframe\">\n",
              "  <thead>\n",
              "    <tr style=\"text-align: right;\">\n",
              "      <th></th>\n",
              "      <th>sequence</th>\n",
              "      <th>frequency</th>\n",
              "      <th>isPositive</th>\n",
              "      <th>hasNOUN</th>\n",
              "    </tr>\n",
              "  </thead>\n",
              "  <tbody>\n",
              "    <tr>\n",
              "      <th>0</th>\n",
              "      <td>[[(to, to, PART)], [(movie, movie, NOUN)]]</td>\n",
              "      <td>2699</td>\n",
              "      <td>False</td>\n",
              "      <td>True</td>\n",
              "    </tr>\n",
              "    <tr>\n",
              "      <th>1</th>\n",
              "      <td>[[(it, -PRON-, PRON)], [(movie, movie, NOUN)]]</td>\n",
              "      <td>2614</td>\n",
              "      <td>False</td>\n",
              "      <td>True</td>\n",
              "    </tr>\n",
              "    <tr>\n",
              "      <th>2</th>\n",
              "      <td>[[(movie, movie, NOUN)], [(I, -PRON-, PRON)]]</td>\n",
              "      <td>2566</td>\n",
              "      <td>False</td>\n",
              "      <td>True</td>\n",
              "    </tr>\n",
              "    <tr>\n",
              "      <th>3</th>\n",
              "      <td>[[(time, time, NOUN)]]</td>\n",
              "      <td>2550</td>\n",
              "      <td>False</td>\n",
              "      <td>True</td>\n",
              "    </tr>\n",
              "    <tr>\n",
              "      <th>4</th>\n",
              "      <td>[[(movie, movie, NOUN)], [(movie, movie, NOUN)]]</td>\n",
              "      <td>2505</td>\n",
              "      <td>False</td>\n",
              "      <td>True</td>\n",
              "    </tr>\n",
              "    <tr>\n",
              "      <th>5</th>\n",
              "      <td>[[(film, film, NOUN)], [(is, be, AUX)], [(is, be, AUX)]]</td>\n",
              "      <td>2468</td>\n",
              "      <td>False</td>\n",
              "      <td>True</td>\n",
              "    </tr>\n",
              "    <tr>\n",
              "      <th>6</th>\n",
              "      <td>[[(I, -PRON-, PRON)], [(movie, movie, NOUN)]]</td>\n",
              "      <td>2460</td>\n",
              "      <td>False</td>\n",
              "      <td>True</td>\n",
              "    </tr>\n",
              "    <tr>\n",
              "      <th>7</th>\n",
              "      <td>[[(is, be, AUX)], [(is, be, AUX)], [(film, film, NOUN)]]</td>\n",
              "      <td>2452</td>\n",
              "      <td>False</td>\n",
              "      <td>True</td>\n",
              "    </tr>\n",
              "    <tr>\n",
              "      <th>8</th>\n",
              "      <td>[[(story, story, NOUN)]]</td>\n",
              "      <td>2426</td>\n",
              "      <td>False</td>\n",
              "      <td>True</td>\n",
              "    </tr>\n",
              "    <tr>\n",
              "      <th>9</th>\n",
              "      <td>[[(film, film, NOUN)], [(I, -PRON-, PRON)]]</td>\n",
              "      <td>2425</td>\n",
              "      <td>False</td>\n",
              "      <td>True</td>\n",
              "    </tr>\n",
              "  </tbody>\n",
              "</table>\n",
              "</div>"
            ],
            "text/plain": [
              "                                                   sequence  ...  hasNOUN\n",
              "0  [[(to, to, PART)], [(movie, movie, NOUN)]]                ...  True   \n",
              "1  [[(it, -PRON-, PRON)], [(movie, movie, NOUN)]]            ...  True   \n",
              "2  [[(movie, movie, NOUN)], [(I, -PRON-, PRON)]]             ...  True   \n",
              "3  [[(time, time, NOUN)]]                                    ...  True   \n",
              "4  [[(movie, movie, NOUN)], [(movie, movie, NOUN)]]          ...  True   \n",
              "5  [[(film, film, NOUN)], [(is, be, AUX)], [(is, be, AUX)]]  ...  True   \n",
              "6  [[(I, -PRON-, PRON)], [(movie, movie, NOUN)]]             ...  True   \n",
              "7  [[(is, be, AUX)], [(is, be, AUX)], [(film, film, NOUN)]]  ...  True   \n",
              "8  [[(story, story, NOUN)]]                                  ...  True   \n",
              "9  [[(film, film, NOUN)], [(I, -PRON-, PRON)]]               ...  True   \n",
              "\n",
              "[10 rows x 4 columns]"
            ]
          },
          "metadata": {
            "tags": []
          },
          "execution_count": 207
        }
      ]
    },
    {
      "cell_type": "markdown",
      "metadata": {
        "id": "BBYLmjicoVHL"
      },
      "source": [
        "The conclusion is the same as the maximal patterns on positive reviews : low std of frequency, high sequence length, the only nouns are \"movie\" and \"film\"."
      ]
    }
  ]
}