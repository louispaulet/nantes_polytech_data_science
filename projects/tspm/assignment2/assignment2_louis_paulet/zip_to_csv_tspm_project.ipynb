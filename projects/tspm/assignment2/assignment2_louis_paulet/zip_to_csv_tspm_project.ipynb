{
  "nbformat": 4,
  "nbformat_minor": 0,
  "metadata": {
    "colab": {
      "name": "zip to csv tspm project.ipynb",
      "provenance": []
    },
    "kernelspec": {
      "name": "python3",
      "display_name": "Python 3"
    }
  },
  "cells": [
    {
      "cell_type": "markdown",
      "metadata": {
        "id": "sOSEWh-30nTg"
      },
      "source": [
        "# Text to csv converter"
      ]
    },
    {
      "cell_type": "markdown",
      "metadata": {
        "id": "-kS4SSXe0Phf"
      },
      "source": [
        "This google colab transforms the text files from the paths neg or pos folders to one csv with one column for the filename (without the extension) and one column with the text content (one line per text file).\r\n",
        "\r\n",
        "This is done to quickly load all the pos or neg corpus into a dataframe when executing the main colab of the assignment #2."
      ]
    },
    {
      "cell_type": "code",
      "metadata": {
        "id": "1wOWckYLwILF"
      },
      "source": [
        "from os import listdir\r\n",
        "import pandas as pd\r\n",
        "import numpy as np"
      ],
      "execution_count": null,
      "outputs": []
    },
    {
      "cell_type": "code",
      "metadata": {
        "id": "wgHQsYkIrd-o"
      },
      "source": [
        "path_neg = '/content/drive/MyDrive/nantes/tspm/assignment2/neg.zip'\r\n",
        "path_neg_target = '/content/drive/MyDrive/nantes/tspm/assignment2/neg/'\r\n",
        "\r\n",
        "\r\n",
        "path_pos = '/content/drive/MyDrive/nantes/tspm/assignment2/pos.zip'\r\n",
        "path_pos_target = '/content/drive/MyDrive/nantes/tspm/assignment2/pos/'"
      ],
      "execution_count": null,
      "outputs": []
    },
    {
      "cell_type": "code",
      "metadata": {
        "id": "OCpcIZlVqNz6"
      },
      "source": [
        "import zipfile\r\n",
        "with zipfile.ZipFile(path_neg,\"r\") as zip_ref:\r\n",
        "    zip_ref.extractall(path_neg_target)"
      ],
      "execution_count": null,
      "outputs": []
    },
    {
      "cell_type": "code",
      "metadata": {
        "id": "5lnz-Erjr5CI"
      },
      "source": [
        "import zipfile\r\n",
        "with zipfile.ZipFile(path_pos,\"r\") as zip_ref:\r\n",
        "    zip_ref.extractall(path_pos_target)"
      ],
      "execution_count": null,
      "outputs": []
    },
    {
      "cell_type": "code",
      "metadata": {
        "colab": {
          "base_uri": "https://localhost:8080/",
          "height": 516
        },
        "id": "5usxDeOcuThm",
        "outputId": "c6eefd24-0b54-4638-c1a4-6c314dcf4f32"
      },
      "source": [
        "def to_csv_file(path_pos_target):\r\n",
        "  text_list = []\r\n",
        "  for filename in listdir(path_pos_target):\r\n",
        "    test_target = path_pos_target + filename\r\n",
        "    index_name = filename.split('.txt')[0]\r\n",
        "\r\n",
        "    text_list.append([index_name, np.loadtxt(test_target, delimiter='\\n', dtype='str')])\r\n",
        "\r\n",
        "  text_df = pd.DataFrame(text_list, columns=['filename', 'content'])\r\n",
        "\r\n",
        "  text_df.to_csv(path_pos_target+'export.csv')\r\n",
        "\r\n",
        "  return text_df\r\n",
        "\r\n",
        "path_pos_target_2 = path_pos_target+'pos/'\r\n",
        "path_neg_target_2 = path_neg_target+'neg/'\r\n",
        "\r\n",
        "to_csv_file(path_pos_target_2)\r\n",
        "to_csv_file(path_neg_target_2)"
      ],
      "execution_count": null,
      "outputs": [
        {
          "output_type": "stream",
          "text": [
            "/usr/local/lib/python3.6/dist-packages/ipykernel_launcher.py:7: UserWarning: loadtxt: Empty input file: \"/content/drive/MyDrive/nantes/tspm/assignment2/pos/pos/5122_9.txt\"\n",
            "  import sys\n",
            "/usr/local/lib/python3.6/dist-packages/ipykernel_launcher.py:7: UserWarning: loadtxt: Empty input file: \"/content/drive/MyDrive/nantes/tspm/assignment2/neg/neg/2425_4.txt\"\n",
            "  import sys\n",
            "/usr/local/lib/python3.6/dist-packages/ipykernel_launcher.py:7: UserWarning: loadtxt: Empty input file: \"/content/drive/MyDrive/nantes/tspm/assignment2/neg/neg/4179_4.txt\"\n",
            "  import sys\n"
          ],
          "name": "stderr"
        },
        {
          "output_type": "execute_result",
          "data": {
            "text/html": [
              "<div>\n",
              "<style scoped>\n",
              "    .dataframe tbody tr th:only-of-type {\n",
              "        vertical-align: middle;\n",
              "    }\n",
              "\n",
              "    .dataframe tbody tr th {\n",
              "        vertical-align: top;\n",
              "    }\n",
              "\n",
              "    .dataframe thead th {\n",
              "        text-align: right;\n",
              "    }\n",
              "</style>\n",
              "<table border=\"1\" class=\"dataframe\">\n",
              "  <thead>\n",
              "    <tr style=\"text-align: right;\">\n",
              "      <th></th>\n",
              "      <th>filename</th>\n",
              "      <th>content</th>\n",
              "    </tr>\n",
              "  </thead>\n",
              "  <tbody>\n",
              "    <tr>\n",
              "      <th>0</th>\n",
              "      <td>2400_3</td>\n",
              "      <td>No, this wasn't one of the ten worst films of ...</td>\n",
              "    </tr>\n",
              "    <tr>\n",
              "      <th>1</th>\n",
              "      <td>2401_3</td>\n",
              "      <td>I've seen better teenage werewolf movies in my...</td>\n",
              "    </tr>\n",
              "    <tr>\n",
              "      <th>2</th>\n",
              "      <td>2402_3</td>\n",
              "      <td>A surprising misfire from the usually reliable...</td>\n",
              "    </tr>\n",
              "    <tr>\n",
              "      <th>3</th>\n",
              "      <td>2403_1</td>\n",
              "      <td>Whack!!! I got this movie because Elizabeth Ha...</td>\n",
              "    </tr>\n",
              "    <tr>\n",
              "      <th>4</th>\n",
              "      <td>2404_3</td>\n",
              "      <td>Man, was I disappointed.&lt;br /&gt;&lt;br /&gt;1) Adam Ar...</td>\n",
              "    </tr>\n",
              "    <tr>\n",
              "      <th>...</th>\n",
              "      <td>...</td>\n",
              "      <td>...</td>\n",
              "    </tr>\n",
              "    <tr>\n",
              "      <th>7497</th>\n",
              "      <td>9897_4</td>\n",
              "      <td>I found this a good movie to pass your time, b...</td>\n",
              "    </tr>\n",
              "    <tr>\n",
              "      <th>7498</th>\n",
              "      <td>9898_1</td>\n",
              "      <td>This version of \"Moby Dick\" insults the audien...</td>\n",
              "    </tr>\n",
              "    <tr>\n",
              "      <th>7499</th>\n",
              "      <td>9899_4</td>\n",
              "      <td>Necessarily ridiculous film version the litera...</td>\n",
              "    </tr>\n",
              "    <tr>\n",
              "      <th>7500</th>\n",
              "      <td>9900_4</td>\n",
              "      <td>I suppose that any novel that's as much of a d...</td>\n",
              "    </tr>\n",
              "    <tr>\n",
              "      <th>7501</th>\n",
              "      <td>.csv</td>\n",
              "      <td>[,filename,content, 0,2400_3,\"No, this wasn't ...</td>\n",
              "    </tr>\n",
              "  </tbody>\n",
              "</table>\n",
              "<p>7502 rows × 2 columns</p>\n",
              "</div>"
            ],
            "text/plain": [
              "     filename                                            content\n",
              "0      2400_3  No, this wasn't one of the ten worst films of ...\n",
              "1      2401_3  I've seen better teenage werewolf movies in my...\n",
              "2      2402_3  A surprising misfire from the usually reliable...\n",
              "3      2403_1  Whack!!! I got this movie because Elizabeth Ha...\n",
              "4      2404_3  Man, was I disappointed.<br /><br />1) Adam Ar...\n",
              "...       ...                                                ...\n",
              "7497   9897_4  I found this a good movie to pass your time, b...\n",
              "7498   9898_1  This version of \"Moby Dick\" insults the audien...\n",
              "7499   9899_4  Necessarily ridiculous film version the litera...\n",
              "7500   9900_4  I suppose that any novel that's as much of a d...\n",
              "7501     .csv  [,filename,content, 0,2400_3,\"No, this wasn't ...\n",
              "\n",
              "[7502 rows x 2 columns]"
            ]
          },
          "metadata": {
            "tags": []
          },
          "execution_count": 45
        }
      ]
    }
  ]
}